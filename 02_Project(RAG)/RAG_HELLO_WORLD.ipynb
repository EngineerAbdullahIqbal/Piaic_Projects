{
  "nbformat": 4,
  "nbformat_minor": 0,
  "metadata": {
    "colab": {
      "provenance": []
    },
    "kernelspec": {
      "name": "python3",
      "display_name": "Python 3"
    },
    "language_info": {
      "name": "python"
    },
    "widgets": {
      "application/vnd.jupyter.widget-state+json": {
        "a9c8f79c71c84fc0923dadb4844fa5b4": {
          "model_module": "@jupyter-widgets/controls",
          "model_name": "HBoxModel",
          "model_module_version": "1.5.0",
          "state": {
            "_dom_classes": [],
            "_model_module": "@jupyter-widgets/controls",
            "_model_module_version": "1.5.0",
            "_model_name": "HBoxModel",
            "_view_count": null,
            "_view_module": "@jupyter-widgets/controls",
            "_view_module_version": "1.5.0",
            "_view_name": "HBoxView",
            "box_style": "",
            "children": [
              "IPY_MODEL_d8ef7bf50a7344ae9cca6fc0e6fd269a",
              "IPY_MODEL_89f25d0db4c34dd3a456c56fbf27357c",
              "IPY_MODEL_3ca01d9c012644e1a16a61bfb9c00683"
            ],
            "layout": "IPY_MODEL_0a801f011f1e4b91a842879b3a019571"
          }
        },
        "d8ef7bf50a7344ae9cca6fc0e6fd269a": {
          "model_module": "@jupyter-widgets/controls",
          "model_name": "HTMLModel",
          "model_module_version": "1.5.0",
          "state": {
            "_dom_classes": [],
            "_model_module": "@jupyter-widgets/controls",
            "_model_module_version": "1.5.0",
            "_model_name": "HTMLModel",
            "_view_count": null,
            "_view_module": "@jupyter-widgets/controls",
            "_view_module_version": "1.5.0",
            "_view_name": "HTMLView",
            "description": "",
            "description_tooltip": null,
            "layout": "IPY_MODEL_535a8c015383495b87f4168fa4eef701",
            "placeholder": "​",
            "style": "IPY_MODEL_d278a6d0876241918f6f652d4dbccf1c",
            "value": "100%"
          }
        },
        "89f25d0db4c34dd3a456c56fbf27357c": {
          "model_module": "@jupyter-widgets/controls",
          "model_name": "FloatProgressModel",
          "model_module_version": "1.5.0",
          "state": {
            "_dom_classes": [],
            "_model_module": "@jupyter-widgets/controls",
            "_model_module_version": "1.5.0",
            "_model_name": "FloatProgressModel",
            "_view_count": null,
            "_view_module": "@jupyter-widgets/controls",
            "_view_module_version": "1.5.0",
            "_view_name": "ProgressView",
            "bar_style": "success",
            "description": "",
            "description_tooltip": null,
            "layout": "IPY_MODEL_24e29112051843f2b5e86fade47da10f",
            "max": 111898327,
            "min": 0,
            "orientation": "horizontal",
            "style": "IPY_MODEL_a581852a54544290ba33b2a96332f672",
            "value": 111898327
          }
        },
        "3ca01d9c012644e1a16a61bfb9c00683": {
          "model_module": "@jupyter-widgets/controls",
          "model_name": "HTMLModel",
          "model_module_version": "1.5.0",
          "state": {
            "_dom_classes": [],
            "_model_module": "@jupyter-widgets/controls",
            "_model_module_version": "1.5.0",
            "_model_name": "HTMLModel",
            "_view_count": null,
            "_view_module": "@jupyter-widgets/controls",
            "_view_module_version": "1.5.0",
            "_view_name": "HTMLView",
            "description": "",
            "description_tooltip": null,
            "layout": "IPY_MODEL_642e6414d4c344dc808c900c6ec36199",
            "placeholder": "​",
            "style": "IPY_MODEL_8d419bb2c24f4964ba90725eed6d7b79",
            "value": " 107M/107M [00:00&lt;00:00, 240MB/s]"
          }
        },
        "0a801f011f1e4b91a842879b3a019571": {
          "model_module": "@jupyter-widgets/base",
          "model_name": "LayoutModel",
          "model_module_version": "1.2.0",
          "state": {
            "_model_module": "@jupyter-widgets/base",
            "_model_module_version": "1.2.0",
            "_model_name": "LayoutModel",
            "_view_count": null,
            "_view_module": "@jupyter-widgets/base",
            "_view_module_version": "1.2.0",
            "_view_name": "LayoutView",
            "align_content": null,
            "align_items": null,
            "align_self": null,
            "border": null,
            "bottom": null,
            "display": null,
            "flex": null,
            "flex_flow": null,
            "grid_area": null,
            "grid_auto_columns": null,
            "grid_auto_flow": null,
            "grid_auto_rows": null,
            "grid_column": null,
            "grid_gap": null,
            "grid_row": null,
            "grid_template_areas": null,
            "grid_template_columns": null,
            "grid_template_rows": null,
            "height": null,
            "justify_content": null,
            "justify_items": null,
            "left": null,
            "margin": null,
            "max_height": null,
            "max_width": null,
            "min_height": null,
            "min_width": null,
            "object_fit": null,
            "object_position": null,
            "order": null,
            "overflow": null,
            "overflow_x": null,
            "overflow_y": null,
            "padding": null,
            "right": null,
            "top": null,
            "visibility": null,
            "width": null
          }
        },
        "535a8c015383495b87f4168fa4eef701": {
          "model_module": "@jupyter-widgets/base",
          "model_name": "LayoutModel",
          "model_module_version": "1.2.0",
          "state": {
            "_model_module": "@jupyter-widgets/base",
            "_model_module_version": "1.2.0",
            "_model_name": "LayoutModel",
            "_view_count": null,
            "_view_module": "@jupyter-widgets/base",
            "_view_module_version": "1.2.0",
            "_view_name": "LayoutView",
            "align_content": null,
            "align_items": null,
            "align_self": null,
            "border": null,
            "bottom": null,
            "display": null,
            "flex": null,
            "flex_flow": null,
            "grid_area": null,
            "grid_auto_columns": null,
            "grid_auto_flow": null,
            "grid_auto_rows": null,
            "grid_column": null,
            "grid_gap": null,
            "grid_row": null,
            "grid_template_areas": null,
            "grid_template_columns": null,
            "grid_template_rows": null,
            "height": null,
            "justify_content": null,
            "justify_items": null,
            "left": null,
            "margin": null,
            "max_height": null,
            "max_width": null,
            "min_height": null,
            "min_width": null,
            "object_fit": null,
            "object_position": null,
            "order": null,
            "overflow": null,
            "overflow_x": null,
            "overflow_y": null,
            "padding": null,
            "right": null,
            "top": null,
            "visibility": null,
            "width": null
          }
        },
        "d278a6d0876241918f6f652d4dbccf1c": {
          "model_module": "@jupyter-widgets/controls",
          "model_name": "DescriptionStyleModel",
          "model_module_version": "1.5.0",
          "state": {
            "_model_module": "@jupyter-widgets/controls",
            "_model_module_version": "1.5.0",
            "_model_name": "DescriptionStyleModel",
            "_view_count": null,
            "_view_module": "@jupyter-widgets/base",
            "_view_module_version": "1.2.0",
            "_view_name": "StyleView",
            "description_width": ""
          }
        },
        "24e29112051843f2b5e86fade47da10f": {
          "model_module": "@jupyter-widgets/base",
          "model_name": "LayoutModel",
          "model_module_version": "1.2.0",
          "state": {
            "_model_module": "@jupyter-widgets/base",
            "_model_module_version": "1.2.0",
            "_model_name": "LayoutModel",
            "_view_count": null,
            "_view_module": "@jupyter-widgets/base",
            "_view_module_version": "1.2.0",
            "_view_name": "LayoutView",
            "align_content": null,
            "align_items": null,
            "align_self": null,
            "border": null,
            "bottom": null,
            "display": null,
            "flex": null,
            "flex_flow": null,
            "grid_area": null,
            "grid_auto_columns": null,
            "grid_auto_flow": null,
            "grid_auto_rows": null,
            "grid_column": null,
            "grid_gap": null,
            "grid_row": null,
            "grid_template_areas": null,
            "grid_template_columns": null,
            "grid_template_rows": null,
            "height": null,
            "justify_content": null,
            "justify_items": null,
            "left": null,
            "margin": null,
            "max_height": null,
            "max_width": null,
            "min_height": null,
            "min_width": null,
            "object_fit": null,
            "object_position": null,
            "order": null,
            "overflow": null,
            "overflow_x": null,
            "overflow_y": null,
            "padding": null,
            "right": null,
            "top": null,
            "visibility": null,
            "width": null
          }
        },
        "a581852a54544290ba33b2a96332f672": {
          "model_module": "@jupyter-widgets/controls",
          "model_name": "ProgressStyleModel",
          "model_module_version": "1.5.0",
          "state": {
            "_model_module": "@jupyter-widgets/controls",
            "_model_module_version": "1.5.0",
            "_model_name": "ProgressStyleModel",
            "_view_count": null,
            "_view_module": "@jupyter-widgets/base",
            "_view_module_version": "1.2.0",
            "_view_name": "StyleView",
            "bar_color": null,
            "description_width": ""
          }
        },
        "642e6414d4c344dc808c900c6ec36199": {
          "model_module": "@jupyter-widgets/base",
          "model_name": "LayoutModel",
          "model_module_version": "1.2.0",
          "state": {
            "_model_module": "@jupyter-widgets/base",
            "_model_module_version": "1.2.0",
            "_model_name": "LayoutModel",
            "_view_count": null,
            "_view_module": "@jupyter-widgets/base",
            "_view_module_version": "1.2.0",
            "_view_name": "LayoutView",
            "align_content": null,
            "align_items": null,
            "align_self": null,
            "border": null,
            "bottom": null,
            "display": null,
            "flex": null,
            "flex_flow": null,
            "grid_area": null,
            "grid_auto_columns": null,
            "grid_auto_flow": null,
            "grid_auto_rows": null,
            "grid_column": null,
            "grid_gap": null,
            "grid_row": null,
            "grid_template_areas": null,
            "grid_template_columns": null,
            "grid_template_rows": null,
            "height": null,
            "justify_content": null,
            "justify_items": null,
            "left": null,
            "margin": null,
            "max_height": null,
            "max_width": null,
            "min_height": null,
            "min_width": null,
            "object_fit": null,
            "object_position": null,
            "order": null,
            "overflow": null,
            "overflow_x": null,
            "overflow_y": null,
            "padding": null,
            "right": null,
            "top": null,
            "visibility": null,
            "width": null
          }
        },
        "8d419bb2c24f4964ba90725eed6d7b79": {
          "model_module": "@jupyter-widgets/controls",
          "model_name": "DescriptionStyleModel",
          "model_module_version": "1.5.0",
          "state": {
            "_model_module": "@jupyter-widgets/controls",
            "_model_module_version": "1.5.0",
            "_model_name": "DescriptionStyleModel",
            "_view_count": null,
            "_view_module": "@jupyter-widgets/base",
            "_view_module_version": "1.2.0",
            "_view_name": "StyleView",
            "description_width": ""
          }
        }
      }
    }
  },
  "cells": [
    {
      "cell_type": "markdown",
      "source": [
        "# Project2 : RAG Hello World\n",
        "### created by: Engineer Abdullah Iqbal\n",
        "### ![178655456-removebg-preview.png](data:image/png;base64,iVBORw0KGgoAAAANSUhEUgAAAcwAAAHMCAYAAABY25iGAAAAAXNSR0IArs4c6QAAIABJREFUeF7svQeQZel5HXZufDl2TtOT82zAAou0SCTSYpcAFgwQg0zSEkGW6aKrXJLtUlk2y6qySZdo2iVKKrFYJMuUKZIKEEWKhAgsiLjYgN3ZSTs5dfd0fjndfO3z3fdml7QkNimCmu75b1VXd7++777/nnv7nXe+cD4tjuMYalMIKAQUAgoBhYBC4D+KgKYIU90hCgGFgEJAIaAQ+LMRUIT5Z2Ok9lAIKAQUAgoBhQAUYaqbQCGgEFAIKAQUAjtAQBHmDkBSuygEFAIKAYWAQkARproHFAIKAYWAQkAhsAMEFGHuACS1i0JAIaAQUAgoBBRhqntAIaAQUAgoBBQCO0BAEeYOQFK7KAQUAgoBhYBCQBGmugcUAgoBhYBCQCGwAwQUYe4AJLWLQkAhoBBQCCgEFGGqe0AhoBBQCCgEFAI7QEAR5g5AUrsoBBQCCgGFgEJAEaa6BxQCCgGFgEJAIbADBBRh7gAktYtCQCGgEFAIKAQUYap7QCGgEFAIKAQUAjtAQBHmDkBSuygEFAIKAYWAQkARproHFAIKAYWAQkAhsAMEFGHuACS1i0JAIaAQUAgoBBRhqntAIaAQUAgoBBQCO0BAEeYOQFK7KAQUAgoBhYBCQBGmugcUAgoBhYBCQCGwAwQUYe4AJLWLQkAhoBBQCCgEFGGqe0AhoBBQCCgEFAI7QEAR5g5AUrsoBBQCCgGFgEJAEaa6BxQCCgGFgEJAIbADBBRh7gAktYtCQCGgEFAIKAQUYap7QCGgEFAIKAQUAjtAQBHmDkBSuygEFAIKAYWAQkARproHFAIKAYWAQkAhsAMEFGHuACS1i0JAIaAQUAgoBBRhqntAIaAQUAgoBBQCO0BAEeYOQFK7KAQUAgoBhYBCQBGmugcUAgoBhYBCQCGwAwQUYe4AJLWLQkAhoBBQCCgEFGGqe0AhoBBQCCgEFAI7QEAR5g5AUrsoBBQCCgGFgEJAEaa6BxQCCgGFgEJAIbADBBRh7gAktYtCQCGgEFAIKAQUYap7QCGgEFAIKAQUAjtAQBHmDkBSuygEFAIKAYWAQkARproHFAIKAYWAQkAhsAMEFGHuACS1i0JAIaAQUAgoBBRhqntAIaAQUAgoBBQCO0BAEeYOQFK7KAQUAgoBhYBCQBGmugcUAgoBhYBCQCGwAwQUYe4AJLWLQkAhoBBQCCgEFGGqe0AhoBBQCCgEFAI7QEAR5g5AUrsoBBQCCgGFgEJAEaa6BxQCCgGFgEJAIbADBBRh7gAktYtCQCGgEFAIKAQUYap7QCGgEFAIKAQUAjtAQBHmDkBSuygEFAIKAYWAQkARproHFAIKAYWAQkAhsAMEFGHuACS1i0JAIaAQUAgoBBRhqntAIaAQUAgoBBQCO0BAEeYOQFK7KAQUAgoBhYBCQBGmugcUAgoBhYBCQCGwAwQUYe4AJLWLQkAhoBBQCCgEFGGqe0AhoBBQCCgEFAI7QEAR5g5AUrsoBBQCCgGFgEJAEaa6BxQCCgGFgEJAIbADBBRh7gAktYtCQCGgEFAIKAQUYap7QCGgEFAIKAQUAjtAQBHmDkBSuygEfN9DEAQIQ35FiOMY0ABN08Af5Bu3GDAMPXk8lj9B1w3o/H20j6bxGcPnxtA0HbrO5+gKaIWAQuABRkAR5gN8cdTS/vMgEIYhAt9DGIVwXVeIstZooN5soNPro+86GDguXN9HoVgQlkxbFkh3WgzkMmnkM1kh0V63i4nJSdiWhSAMoOk6DNMQciSxkogN3YBlWkKsqVRKfk9IluevQdM1GLoJ3eBjOllajq0I9j/P/aFe9eFFQBHmw3vt1ZkPEYiiEEHgw/dceL6HXq+DdruNZruF9a0ttEmSAw+1Vht2Ko0wBtrdHpqdJnKFPEzTQDlfhGVocHsD6HGIlGXB0GLkMlmk0ykEYYiB70A3EuHpRyEMXYdpWOi2OkAcolAoYqxcRqVSRSGbl793Oy0hW9Mwkc7kkM/lhEzjKIJpJSRKXqXiJRmbpo1UKiOKNVHDoahbwzRh2SnYdlpdd4WAQuAviIAizL8gcOppuxeBIPDukwmJ0vUcdNpN1Brb2NrexPrmFhrtnqhJy86h1RvAzmThhxFK5Spi3UC700Gj0QAMhlOBfDoDhAE6zRa0OMRYqYRCLotOp4NSuYAcic7U0HV6aLRbMAwDExNTiCMDzWYbvjMQYgwDT1SmZegwNCBwHERRAK8/QBj4QpgkaN/zUSjkUCjm0W41RYHOzMxjdnYOk1NzQqDbW5t449I5BJ6HTDaLhX37MTe/D/lCCdlsTgiYxKo2hYBCYGcIKMLcGU5qrz2AQBj66Pd7aHdaaDZrqDfrcH0PTuBiY3MT3cEAvh+i0xvAcQHTziCdzSGGiVQmC9NOMSEJx/PheR46nRay+Rx830U2lZawbL/Xw6DdRuwHIDGPj48jX8jCtm3EOhBGEZqdBur1OhwvwMGDJwHdgm3qcsxet4N2owktjpDLppHPpjFWqaBSKsEd9LGysoLVe8soF4p49JEzyObTcAYDCemmUxl02j3cW13HxuoaattbWFpaRsoy4YcecpkUUikb+w8s4h1vfyeOHD0qajZDFZzJDXOqe+BCq1NQCHyHEFCE+R0CVh32wUGAast1B2i3m1hdv4ebd+6g0WhCty3c21yDG4WoVKvoMpyq2whCYOCGsKwUpmdmYVgpeF4A3bCgmwZM05TCn62tTczMzGB7e1PCnuPVCvLZLLQggOe6GPR66Ha7mJmbRiaTQafXhhcGiDUIyQaRjnY3hG6mkEkxh6nDMgzUtrcRuA4s28B4qYJiMY9sJo3A87G9uY6NjQ1k0jYWFxdx9Y1Lkmc1NBODgYvr12/i5o1bcAcOLMtCtVwWNV2tFCXU7DHs7AwwMVHFWLWAU8cO4oknnsChw8dRqZLcSxK6VZtCQCHw/0dAEaa6K/Y0AlSVvV4XG5vruHn3LtY2tlFvd2Gm0iiPj+HqzWuYmZ9Bvd6E6/mYmVnAoO/CSmWFMA2SpMGwaQutThsTExOYnJxEbbuBs6+/ilptG/dWltDv91EullAtlTExXsXc9Awq5aI8vn//ojyPRUPfPvsaLr5xAdlsFkeOn0J5bBaeHwu5pdNppFMWBt0eotCHrmvwBw5arQYC30U+n4c36OPWrVuiZPl6++bn0Kg3RbFub9exub4lKjljc+2GkCuVazadknUHoSfhXpJsHAyQMZhvjTE7M4XjJ47iox9/BkeOnUSlMiHnrTaFgELgTQQUYaq7YU8iQFVFVUmFt7a5jis3bmJtq4Faow09lcbs3AIKpSIiLcDAdUT56aLSPGQzecSxhmKxDGfgivLb3N4Sojp69DgeeeQ0arUavv71r+PihfPwPAfFXF5IsNNqo9NqSB6ykMvj1OkT2NzclBzmsePH0Rl08Udf/CLu3LmDqbkFfPaHfhRLy2tSZMR9SJh6DAycHga9vhQiOb0ufN9HsZCETUmgLPUpFgqYGBuXc6zVGhKGbbU6sK00TN1Er9eT55EwnX5PSJLE7Dh9qebNZlIoZ9OIAx86fFhWjEMHZvG+9z+Fj33ik5ienUcuX9qT94c6KYXAXwQBRZh/EdTUcx5YBILAhesM0Gq3UG/UcWdpFW3Hw9pWHX3HQ6kyjiCOsLa5gfmFOQzcvoRLqQBXlldx9eo1nDnzKE6dPIO7d5exsb4plaanTp3C+sYaXn7pFZw8dQLHjx/HvXvL+PVf/TW43gCWbghhGuypNCDHm5maRqFQEGW6unoPpm3h5MmTWN1Yx/Xr1/GNF1/Ehz/6LN73gQ+i227hwoULcBwHY5UqKtUSnP4AvU4LM1OTgvd73vVOVCoV3L17F2k7hbW1NfzOb/8zyWeOjU0gm87AcVwh6NV766I64yAWZSph5MiX7yTNZrOJjdVNTJamoMUxioUsqpUcUlYITXNwYHEG7/vAU3j6k9+P6tjUA3u91cIUAn+VCCjC/KtEW73WdwwBVpA6Tg+12ibu3VvBrTsrWN2oozwxjQCmtIO0+l1EsYZcLoPN+hbqjQYW981L2DKKIMTJ8CbVWrVUxb6F/VLlSpVG9cdtdXUVhqlhenpainpIUq1WC6+//rq0d5w4cUyqZ9m7+cEPflBU3dTUFJrtJu7duwcrZQuhbW1t4ey587i9vIL3vOcpHDy4XwiXRT3Xrl1DIZdBtcycaEZeN/BcOR7Xce78WWTY3hKGQpaX37iI118/L8fMZ/LIF4vQIk3Il+qSodlery8hXhL/sWPHsLy0hK/+8QvImlUEDAmbGvI5E7oWIPLbGK+mMT8/jqPHDuCHf/QnMTE1g3yh8h27furACoHdgIAizN1wldQa/4MIjAp6Go0tySWub27D84G+GyI2MtjabqDP3OTcHLzARb1Zg25oCOIAtdoWjhw8hOXle+h3B1LA0+328MU/eh6Ajs985jNCkMz9bW9uiVIbDAZ47ey3USqVcOTIoSTvmE4LaTJMSmXJn6nu+PO+A/uF2GqNunyPogi379xBtVpNVO3KihAlK3dJ3FevXhVCJVEy/8kQLUmXYVeGgtnfefnyZXmOqev45LPPJsev1YRor125Ji0v1UpF1k2ylx5NGKIwqSwZqi0VipieXETg5eA5GgKvD2ghUjZgG3Qy6iGbDoDYwemTh/GRj38C3/3RT6E6PqPuRoXAQ4uAIsyH9tLv/hOn4cBg0JOCnmvXrmB5ZRXdQYwgMgDNhJHKSuXr8uo9TEyNI5NJIYp93Fm6Ka0eR44cxt3by1JhauiWEMuNGzfx4osvo5At4IPf9V1S6fqOd7wD58+fF5JiSPRrX/uK/PzYY48Ike3bt096KvkYSe7ytavY3t4WQjx48KCYBjCMSiMEhkT5Ovwb85wstnEHAyHmm7eu46WXXhKynZ2alqpWEmq5VECvN0A6bUs4lc+vFEtCsr7rSdi3WCwOlWRPXpsESmI8ceKE/I15WD5O4ufPbHeplKfhe1lEoSE5zoHTh6lHSKd0REEfvd42xspp9Ht1VMrj+Mmf+lF87BPfh4mpOTFPUJtC4GFDQBHmw3bF98j5Sk9lr43t2raENdfWaTaQGA14fiRtIQy/6paFi29cRLO5DTtl4OSpo3j5pRcQBA4+9rGncfHCZRSyJeRyBSwvL+Pbr7yKTqeH8eoE7HQKj555DE8++SSef/55aQU5fPgwLl++JOFOEtE73/0uUXKtTk8Ii4T4pS8/L+T06c88J+qTj127egPNTlt+JrGSsNhKYmrA2W+/Iupydm5GwrlXrlxBFITodts4ffo0ZqcnxdxgefmuKNxyuYyUZQuZ8nXiKBAi5eP8oordqm3L3zqtFtLZLAqFpCiJr8+/u64Hz41QKc0incqJSiX5J8YJtihLZ9BFygyRSWsYq6RhmzaeffZpPPPJH8DM3CLyqiBoj/w3qdPYKQKKMHeKlNrvgUHA9xx0Ow1sba7j2xcvYqvVQxBqyGYKyBWqMK0U7HQemWxOSOW1s6/g3LmzaDQ28MwzH8PZ117E0tIdPHL6DIqlSbgOrfEiLC+t4Ob1W8hkckIua2sbQpYs8Dn3+nk0Ww2MjY1J3yWVpB8GeOc734mxiSkhUBb30HGn0+uKuiuUSxK6HRsfl1YPqkpu9KIl2c5MjMNrt6TNgxsrYC9fuYRz587BHBqxF4uJS1Cn3caNGzdEOZKYGWqVsO8YjQcy8kXlyNxpELElhTZ5puQ1udZcPoPZ2Vl5nfX1dTgDKtOS9G7mcwVpoRHfXJ+We3yujjgKYesx4tABogHSVtL+srjvEP7m534cT77z/RibUCHaB+YfQy3kO46AIszvOMTqBf4yESBZthpbWFm+jY2tbVxeWsbSeg2dbh+5bBHZfBmFYgW5XAlpmgV0Ojj72su4dv0Kbt64jA994Clcu3oBta0N5PNF7D9wAoGvY2trW1QeCUPXTUBLDNKZt6RLD3OaAJWZi8GgL+QmBMXw6uSkkBHbU1zXx7ETJ2BYJr7+wjdRrY7j2WefTZRfHEtoVfopPQ/1zQ2ULBOHFhdFTZIM2V4iVa6rq6I0WQ1LktL0WNQniZiESUXI0CyfQ8XINZZKBQkZc3+GVzvdLsqVoihHqk0+h+tkwRKPQ8WashPDd9OyoWkGojCZnGJZNiyaxMcRbly5hInxIg7tnwdiF+1WDflMFf/1z3wOn/iez6JQrP5lXmJ1LIXAA4uAIswH9tKohf1pBEiWjfo6lu7exsrKPTR7LvowsF5vioIrV8agaSZMw5Y+ShILWz9e/fbL8Jwert+4jAMLC7h16xoyaVOMyKemDmB8claOR+VVKU+IWoxiXcKhPO4bb7yBUrGCfKkoiq3ZrAvhUM1Vx8fAsSKZdE7UZLFSFvVIyzwS1/ziPslxLi0tCRnyiyHcifEpFLMZtDbWkLVt3L17W1QjyYo9miQ4hl8btboQWiabEsLkYyRHEi43Hm/UKsLXs6wkLGxYnHiSKM5RpS9VKI8lo8kAmBbgDNqIQYN2U4zbYzA3ScchW8K+DH3TG9fQY/mgMjszgWqlhH6njUMHZ/G3/vbfwYFDp/5kv2YcI4ojMYg3+CJqUwjsEQQUYe6RC7nXT4NON1ubK3j97Mu49MZV1Nsu5g8eR9sNMTk7i/W1TQmjsvq0Ua9LvrHbauPmrRu4ffOGWMrRYMDtsxo0gsFK2SBCtTqND3/kaXz9698QYqmOT0u17JWrN/D+978ftUYLV69eFzVK1UlFx6/61iYyxaIUEtm2iVKpgpMnj0v4lEru0OEDchySHKtmt7Y2hOyoLsfHx5BiW0jgo13fQrvVEBVIEhSSbDRk7SQ7kiiJkLZ43EQ9DgZiakDipHE89+EXPyCkMrbgwL9RBZMcuR6GZflFUhypZpKh5/ZknxHpsh1FXtMwJcybkLMjHxBiRBgbq6BaLcs+UdDBx777ffj0pz+Lo8ceEWcgGi3wvNhjE/oeUhmaxVtCnKLc1aYQ2MUIKMLcxRfvYVm67w1Q317HSy88j69+8wU4oQXTLqPrhVg8cgKZXAmdLhv8pzE1OS6esb12Byv3lnH+tVclX9lqNEVJeY5DB3TppfS9UNokTp15BHdu3xWlyH7MRx9/Qojl0ccex2uvvY6NrRrCMEZ1bAJ37tzF6+cuJMQ3NQ7HGaA6VkbKZNFNUo1KQh6vjsmUERJNFIdSzUqHHZLiKJyqI0KrWZcQLwloRHDcJ/KD+7+zcAgjVWiaQnz0iqVaZC+o5C2DQIiPE1H4OIkuIcHEF5aqWdYS4X4rjKbFMhGFIV2DI8AMQ4qN+PqmDjkOz5PH5ms6nodcPotCsSjrHQzqOLQwhrmZSXz4w8/gscefhGkYokQ565MmEXQKymTz4k9LwjQMRZoPy//tXjxPRZh78aruoXPynC62N+7i5vWL+PJXnsdr567DTJcwOXMQ+cokDp44iRAa4pBqkU34LtbW7qG+tY0bN69jdeku1tdX4TluQpKuKwTBohrfDxDGBqZn55Iq00pV3H3OPPo4pqdnUR0bFwcd9nbSGGB6Zk7U4pUrVyXMyhxhq93E4uKCjPjiMcaqVUxOjkvOkqrylZdfhm0nPrEkN+ZJV9dW4PYHsj/t7jhEmiRKwiSZ3yc/XceABTsyAzPJLY7CsVSYfD5VIjd+5/Nk/uVwPzl+sSjESTVNFUvS5N+pHrkmzvCM41Cs8oTsoygJDUOT42dpnKBrkrvt9HvyWlkZMcZq2wEQNBF6XRw/chQ/8AM/gv37D2Nz/Z4o+MPHHpFxaLlCWdYtQ7F1Q4qy1KYQ2I0IKMLcjVftIVkzWxzWV67i7o3zQnq37q5ibauPRp8TsfI4dvoxVCenpFqVvYgkAI6+YtGM2+9hbfUerrxxMSmMCXyZ/kGlR59Z2+AbPns2dVQqY5JzJLmsLN/DoSNHMT42iUy+gInxSczMzWPp7go6/QEuXrwo47Pe+973CvHeuHENC4vzQlbMMx46cBALC3NCcmvrqwj94L6ybHeaYolHC7zaJlWYhnKpKMqQxxKlKEo0CbPycQ6RJrlxo+IjEXPrtjtCwNyX5JVwXXRfwZL8qBhZBERcqO5ImK16Ax5HfaVz0os6Ilyx9GNl7XA+JgmTKpEkLqPJ4hjtbkcqfLmOXD6PdFpDfWsJCPuYGZ/EBz7wQXzgAx8RomW+uToxienZRWSzeRl2TXXJQdgkTEWaD8k/8R47TUWYe+yC7pXTCaQadg23r7yGVnMTuUIFzU6A2/fq6HsWvNBEZNo4dOywqCYSFFXQ1saaEI/nDrC5uYFXXvqW5ATjMJB2CfqzUoVxmgcJItaS/kWalodxBNtKYfHAQZRLVcztWxRnnIX5fRKi9YNI2lRInMxPUmHSkH1ufkaOSWVJ2zkOdo7EfWcbF14/h63tDSErchEJjg5Dge8LEa6sLEsLB4mKpDTKWzIsStI0qcjoA+sHco7z8/NCgGwpYc6Vipc5VJIYz4ekmeQXA/mZHwJGxT58bRYR9Z0e0nYG+TwJMxTno1HVLz1xmb8kUY+IPJNLC/mKou52ZF8et1DMoLF9D4g9aJ6HQ4cO4lOf/D5R6DwuSZL9mgxNp1MppDlTdBgmZhidVchqUwjsJgQUYe6mq/WQrDVgznJzCSu338DtaxdQb3YxObMfXUfH9aVNwCwgV5yAmU5jdn4WrW5LlBWNBwa9jhDL+to9Ibet9XVQ2SUhR6DX6cqIK3quChHFmpgIrK9vCvFOTk1L0QxzlnPz+6SStjvoY6w6LpNKkhFZsVS9Xrl+TUhq8cA++T49PSmENuCQ6nZbnHqcfl9UKCtfOT2FZNZutYQ46e3KcCgVmW2+mdsjUfF8+AGAuUoem8qY53XgwAHJK0rhUb2eTC5hsQ8JiSFWCdOG4h7E1+DvuUxWzomvRZLtdNuwdBOpbHoYKuWNxenWAUzdEiWOiEVRNDFICeESq96gj2arBTfw5XiFXAqGGcF3emjV6kjbBt777vfgyXe9BzPTc8gW8qAbUypto1wqS8ib4WnbzqBcnVYq8yH5f95Lp6kIcy9dzT1wLgwRNrfu4tr5b+Hct19As9nD5Wu34cUZpIuTsLNj0NNF2OkSJqan0Om1ROlQ9bDhn7lKKsblu7eFVFhQ0+21RTWReDh+i1WfDBOSTKg0qZZ6jiuFLdlMDn2HY8H6QkBsJ8nk8jKseWFxvxAHh0lTvdGgYGJqCseOHxGyZfUqCXFZBlQ34AeuVLeyZYSTRejlKj2UXlKowzWzv5KPcZPim6FbEBUlj0fiJGmRMPmdhEzCbDeaon4d35Hj8lh8vJSnctPkgwHJkcfkOTL8yudzgHSn00IUxDBtI8mPkh9DfrGtxUTKMoEQMoWF2FipZLamI8/tCD4JSVuYnZ2G6/TQbbbgDDqoFAp47PG34V3vegpTs7NYWrqJI0eOY25+XhyJQr+PcnUCk9MHkMrk98Adq07hYUJAEebDdLV3wbl2WxtYunYW517+CrY3anjt3GXAzCO2Cqh1fMwsHMbjb38vWl0H5y9dRBg5eOSxUzLZ4ytf+Yr0ScrUj6U7crbtdkuIJyVVozrazZYot5EaYzUqFRkMzsIcwPeSatN0Npk9efLEaVFYfhjJdyuVluKiyclpcfzZf/AATj1yRmZRvvHGJVG59ITlsUxdE/Lerm1K6FSLaIowdOMJAqmmHREniY2vK/nBXE4UMRVivVZDJpuV6lU+lwqX58cqYH4Q0C1diJ7nIJW7lXFRjcxxklB9x4WdMiXHW8jlEMUBep22YKAZuhyL31k0xbXwgwXXwOIfvj57S6Wv0zDgBUnVL5Wm5FctXYqfWG0LhqC3NtBrNfHoY4/hU5/+XjF02NhYw7vf+z7ML+xHvbaG1aXrmJiYxuy+oxJmV5tCYDchoAhzN12tPb5W5rrqG7fx+gtfwNmXXoJl55HKVWGkK1her+PV81dQqs7g2ee+H5lMGX/05T/C1WsX8eSTb0M2nYy7opq7dOmSvPnLZI5OV0hLrOqKeVy7cgW5QkFykHTTIUEk0zwSKzndNOR3qkiqxfe8+ykhsEaLMy1XhZQ403LfwiIM28KRI0cwNTOFrc1NfOMb38DZs2fve77ms0mIlEosKYRxJVRLw3huJHCqVGkDMZNQqpAWK3aLJVF3DOXycYZ2+TgJk99HJGnYemJM4LjS25nPFhJSdoftJn4yNJrbzPQUGPlt1LbkwwDVq50dmhlEkZA8J64kk1CM+yFdEqp8wEin5LFGs5m0ntiWKG+SamN7S4iYipp9mh/+8EdQqlQlDP7M9zwnhL10+wpStgWn38Kx0++UdiC1KQR2EwKKMHfT1drja2XusrZxB9/4o3+BXIpqKI1Iz+IPv/Q13Fxax8y+Qzh45DQq41Ow0xl4YYArb5zF+EQVN2/eFHXJvCFDsUno1JNQJhUXK2dJQHTzSWdSSNlpmXJSKVclbImISc5Ro3+cKChWmZbH5PlUliPTdCpMPp/7nH7sjJAYj//qq6/I8ZmrbDUaEvokwbBbxDLpLJSEhfl3EicLgUjmtNFjlSrXQXLk6xZyiVk6Q7tijN5uy3eSE/9OhcgqW8M2RWkGTkK0aTst+cjQ88VpR3Kk/FCACDOTE+Luw95ProP4WJm0mMwzRDuQgh4D+WzuzdeABs00ksKhTFpet9FuJQVJbKOZmJQPBN1OS1pRDH740DSZ0sK/Hzl6DJ/9az8Iw9TRJx79BrbX7uJt7/4IxqbYjqOmnuzxf+s9dXqKMPfU5dzdJ+M5HdQ27uLSK1+X8VqdXoznv/IiNut9tHouYGVQmZjGoWPHsG/xAAzbAEm2WinIAGcqS5ImK1dlPqWYlIeiEFkgw+IeKk2+wRuGJaHEdrsrbSlSFGQmdnK2lZZ9+bW5uZ30bZqJ881oIgiraUlg8wtzUuxDNXvh4rnh62pilLC6dm9I3I7kVqmgpdeSA6Hp4hO49wtfRhWpozzmyENSHwdFAAAgAElEQVS2XEzaTkiwiVNPoogZok1nU9BtTZRh5A3znzp7LgPEAVUzJCzMnCQLeCbGq8ikDHQ4NcUicbsw0xmYbBsJIikG0mINhWzSZ5lU24b3Q7fpXBae78vUFSFM2xJTAm6u05dh2mkWUoWhqN0g8PGxpz+Bjz/9NDrtBg4dOoLQd3D3+jkcPvE4puYPwk5ld/dNq1b/UCGgCPOhutwP9sm6gxbWlq5g0NzGi994BbWmh83tPjpOgEi34cPAVqMJPwxx9NgxPPb4ozK1ZG4uCa9y5iTJg2rz3r17QnC0tXuTKFPi0Tpy1WH+rdFqwrTTKOULSGUzosyoClOpjKi5p59+WvKSDI1SEU5NTWH//v0Y9B28cfmSkCUVLo/J16dZgfRU+h76/W5S2KPFEqoctYHEgSvON1yfZljSzjIaLj1q7xj1RZYKBQnZck0kzGRgtittJtlsGmZKhxu4UqTDmZ6IaEnnS5Urw6r2sGXF8x2MV4rIpG04bk/UrhTvpNKwUhl5DvOeNE7gB4yURRehJCzNDxFUu+lsoupb7WEO1DYlvyqVubTu43QTMzFpYM8l1/zJT38aH3/6E7hz6yrOPPIY+u06Vu9cxrHTb8fM4hEVln2w/yXV6v4UAoow1S3xwCAw6DWwfOsiurVNPP/Fb2B1vY1jJ57ArZV19N0AxeoYWv0u7txdRmWsiieffDumxsck7MjRV1evXpU3abaTXL9+U1SS6ycDlmmDxzdyKky++XM7dOQwLrxxCbNzCzh+7Bhm5+YkjElSbTUTL9cnnnhCnsewLFUkQ6Qc8UUS9l0Hv/u7n5cZkolpgCOkKMrNSEZk8Vj0m2WOlSpvFIol4bGTI1csIohCKbqRXKoQbKJCuWlRfH8ANNfD0LHY1JHU0zZMm3Z+kYRSSZhREAn56SBZWmJxZ7Fgx+mjUmaYNyVuSHZKR5euP3ZGQrJcD9fGYh+GZFNWkhOWgihNEwwkJBv48iHDGbiIdU0MHypjFdi6ifr2pqxvamJCPggQ60888yyefuYZXHvjPNK2juUb5+E7XXz0Uz+EE4+9F3Y698Dcf2ohCoE/CwFFmH8WQurvf2UIdNtbuHPtPP7d7/9rTI7vx/JqC6XKNIqVSQzCEI1OVwpPiqUSYMTyJu8O+uh1Otiu10VZktBIWhsbW6KU8sWChGNr2w0hFhINx1txv2y+gKnZGczMzknxzsLCgoRcxYdV53gvTfa7ffu2kNSowpWFP8yH0vj8xW9+A3fv3JLcqVScahocdyDOQpIbRaIeEQXDsVkMBWuiQBnedGkwgFiIhoQ5+hqBHvuBnC/XxBAz85FU0VS7zAsaFm1mWUFrJ7nKAEm4FPSRtWAzJGuacAY9FEtZ5LIpRJGHlGWg1W0j1k3Y2ZyEXokjv4uatDPygUHs8mj6btuidPkBZLvBaS19hPSipTnBzBTKpRI219bhDxyZ+xlrhuRI2Tf63qfeg9rGKrx+HVrQw+z0BD7wse/F8cefQjpb/Cu7v9QLKQT+UxFQhPmfiqB6/l8aAq36Gl7++hfwh//m93Dy5JNwwzRS2Qrm9x+Elc6g1etLGwXfpAduX8Kc/NpYWxOioe0c85jMX9IwnYQxMTUp4do40kRp5gp5fOhDHxJFxmKWlXursNPZ+/2PVI8M1c5MTQlBMCdKOzyqVh6Hr0ECZOEP3YMq5SyW7twWByGqMBqtkyiZryTJToxVkkkh3aQnkqpQCIl2dYaBeqslxUYsmOFxSXbivjP0duXv0isJTRQzf+ZjJEwa5cQa22BCGFpito4wmTaiR5xpaSFrW0PC7KBYyKCQSyOGL7Mut5sNBLEG5ib5ejxm6EfJtJNh1S6Jmuu27HQSGvZcbNVryb5xBM3UUCjlMTUxKRNW3F5/qOCTWaIkzcWFOUyMlWBqLo4dOYSFfYvYf/gkDp96B/LlZKi22hQCuwEBRZi74So9FGuMUd9awW/88i/A1DK4fmMVk3OHoJk5LB44jEKZqlKXPBoJpd3tSuXn9samFPxQCZHcNjY2hVS6/cSPleHOtdUNeRNnUQ8f+8jHP4ZcLmm/8DnhQ0vybQOnJ8qRrRLjFQ5F5tDmJlZX76Feb0gekyo2GdE1jnariaU7N6Rx3zZssHKI5EiSYX6RoVmGQkeTQxiSpXNPrAGZVBqZXFYMzU0OatbYn8n8qZvkA6Vgx0gqdJkjHI7v4vr44YAqk5FbL3SGIVlN1kBRK6PA4lj8chleZSh00O+iWMiKHZ4W00BBF+JzvVA+RJCQGUJNcqPMSyaTUNLpbEKYKVuKoUiYVJgM31IZp+mKFPlSKaxFIZzBQNZObPcv7JOKYH5oOLh/H/xBE6eOn5S2k/kDR3Hqye9SOcyH4n9775ykIsy9cy139ZmQBNaWbuD3/vn/gyCI8dq5qyhVZ2GkMnjvU++XitCkkKeQuPHIXMsYr194HRcunJNqTYZeq9VxdDpUPxr6fQebW1syq5Jv+IsHD+DmzeuS/zxz5gwcL5BqznQmCT/6AYcyJw386ZSFiYkxzM0tiEFBbbMmLSMM0SaDmlPSd3j+7LdFPTIhyeIeGc019HPttlpI53L3BzYnSlBDrLEghz62GmxTkykqGgyx7PPcQHxmpa1FVKWVjO0aTQ9JDytYHU4P6SDSAuQKiUcrJ5hw7VSH0kvq9FEuFRDHkeQyWcWay2UkdOu4/aS6NmYrjYa0bQnBMyxLUuX8z263jWKxjG6/L6Ft/txotrG+tSnEHjDUDB25YkHytCRhVv5yjFkhl8H87CzSloZiJoWZyTEMWnV85OPPwuk2cfLt78OJJz4o6l5tCoHdgoAizN1ypfb4Ojl0eG35Nn7zV39ZhjcvrWwhWxpHvljBpz/zHKZnJ6Wwxzay0p7gOR5u3r6Jl7/9Lbzw0gsIY4gCIjmSMDmSqz9wMT4+ieMnT0j49fCRI2g0a3B9X/KV/OoNnGSKR6slqpCjujh1hMQhuUDTlL9R4ZEMG/Wk8Ic50pXlu4h9XwhzVCBDIh95u5K8SEJJiDYp6hmpL+7D9KBJazxTu2+cTnXI12HVa6IyE49Ztr1IiDWVVKVyn/6gC80ESpWi9GSyKInjwPh3Awl5l4oFIXJ61bKdhr6ySR/nAE7fFbJkTjVtJyq72yYOWVHpPBd+uBDvWHrvpm00Gi3Um224w3VqWlIVa6aSPlMWMrleDxnLxMR4CWPFvFQ9nzhyBE+++wNSZYzQx+LRM1g88YQizD3+f73XTk8R5l67orv0fEiYK3du4lf+wS/g3IXL6PZ9eLGJQmkcJ0+fwtFjB4QItMgSEiRx1Jo1fP7ffB4vv/oyOr0+5uf2SUgS0HDrzhI03ZR9+fx6q4lHHn1UQqm1ZkNU0PTsDHq9xK9VJprEoQygLpUKYhJO0qBKu3z5sszJJLEOeoNkDJcfoU8FVsjD6ffuh0mT48TSMpJUryZVrKMvro6ENSJMQ0uGWY8ch0atHOyj5HOoLOWMhgOeM6mM4MD9WFxEEpyamhBipwJu1rflZ9tKws8FhlftpGI2MTZgD2pSkEOFScJM/Gv1pHWFxuzcL03fWQ9zc3OINA0pOwMn8FCrNTBgW0sM9LocfB3L65EwczlW0nKqy0AMDErFLGYnxuC0ajh1/AR+8Md/GstXz2Jm/iAWjz+GyYVDMEx7l96xatkPIwKKMB/Gq/4AnjOrRpduXsX/+XN/D9tbTWh2Fhv1DoLIgG5qOHzkAGZnZ+E7MSrFivzMtgYS5u2l26jXm9Iewqkj45NTuHlrKTEbD0K8531PwfU8TM5MS+6NQ5yZf+M4Lu7P/Wj6TpU2Mz0thuIzM9NSTctxYa+88or0c5JQgqHXLEOooe8iIHmEvuQaSXAMC5NoRk46JM63Vr+OWkaS6tMIlkEb24Qw/8R4Lj+prmW7yajVhH+Xylfbln5LhpBJdPPzs8ks0NVVbG+uD80XDCHVXDqdtIQMXYYsIzlGQIVKD9o4GRTN5ZBAnWHvqGWZbzr2sJjIMNBssRq5RocHCcWyvSTwY7EItCy6AaXBVC4/QLBKuJS3MT85gZyt45GTp3Ds5BncPP8ynvns38Dhx55CrjT2J1poHsDbUi1JIfAnEFCEqW6IBwIBDhy+fe0N/OL/+vfQaHSQK4+j1fPQaHagmyampsdFAfbaDvYvHsS++QVsbG3i0rU3UG+3xJFncmpGCPDk6TM4+/pFUY2VsXEZCN1st5DJ58Q2L1/MS8Usi4So4Egc7XYTU2x3eOp9OH36JOwUvV19XDx/AefPn5cqWZmzOUiGNns0OBj0US4WEIdJJau0XbjufUVIAkqKc5Kw54gsRwTKSlp6q0poVoZAJwObR9WyiWNPYrrOx0d2fdJioplipE4HIYaWmTOkPV9tazMxcbeMxJA9m01M481kviWNDPj8UaUtNSz7MGk6QBx8N5kXalumEO3ho4ekKCpEjHqjiXqzBTNlS851u96AaVjS6kNFzuknLABqt+oIPRelfBpjhTzGS1lMVgqoFnJYXDyE737ux7D/5BNqWskD8Z+nFvHnQUAR5p8HLbXvdwwBDny+e/0Kfu0f/xJu3bqLVL6KTKGMIARWN9ZgWZo0/9drbejQxZlnwBaHRh1dp49GvYW5fQuIYeLJd70bX/vGN3H+wiVUJyZx4OAhtHtdVCoVacJ//PHHsbBvXqpeZ6amZV7lyy+/jF6nhePHj+LQ4YOS9yMxsi+RVnskI5lP2XeFvFgsFEchQvZTOknechQqTYqCkiIaKto/TZhv5jQTYuJrkRRHoVoSm1T4DgmTChSxnozxgiEhVstMyXFbzSYmxqpCjOw/bTeTflMSI6t8K6Uy0hlbcqA8JpUg9xVz+uHaZBqL74u65OMMj5NUy+WitNjQOpDjvzg8ut3pio8vQ7lbtZqEZlkpm81nkJVB05p8kGDFbLWUg9dtodfcxljWxmOnT+MzP/YzOPLIO6W31lIFP9+x/yd14O8MAoowvzO4qqP+ORFga8bS9Sv417/9m1hf38baZgvViWlMzczhWy+9iG6vLuTW7Tq4e/MudE3D5NQU6p0WWr0ufD/AzOw8jFQWp848gm+/dhZXr91ArBv4ic99DtWJCSGxpeVlUU40B5+emcLC3DyW7tzCF77wBXz1j78sRUHM37EAiO0j7qA3HPZsChENeo4QW6LSXDDEyaHVo6IekuQobCrFO6Qter8Oi37e6ubDthCNweE4FPKTXOBwkHQ8dNlJzNiTSla2eTBHS9KjdR/XQc9amSRimDK/klNLhDAt5iUNVEtlGe9F4mfeliq4mC9IRS6LhGTAdDoj5M7B10LmfjJ7k4qbfamdXk/Gm7l+CMf1pD2H69iuNyV3TC/aTC6NSpUTVvLyQUKPI1GYkTNAfWMFJcvAx55+Ft/zwz+FiZlF5EpVseRTm0JgNyGgCHM3Xa09vFan38Htyxfwh5//VzDsDL72zZdh2VkcZd7r1nWsrt1BLMU2mpgEiPUbC1PiEO1OT/KZmWwOze4A4xNTuLOyKo+feexR/MTnfgrOsI+x0+3iypUr0k/JCtIf/es/jFajjhdffBFf+eqXsbR0F6HnSM6OYU6GbhPjdRYAuWg22/I7SYrWeIHnSMUpHyPpiS2eVKQmRTPSQzk0JBDFOJyCkpCjMbTVC+TKjlQqW06SqtvExGBUEEQ/2DCIRWHy+DLmq5f0YdLSj/szhCshWRoWpCxUZJ6lLlNbOFZMhmKXSgiDAK16HZl0WkK23sARtyKWGJGY+RgLfviduUoviMRgwQtiUek0ta+12kKYIS39DKBcKYoqpUINXEdaSh49cRLry7cwUczhuz/6NE49+iQOnHwbqpPzSmHu4f/nvXpqijD36pXdZefV6zRw4cVv4sqF8whDDZ2Bj7sr66g3OtLbF4Q9+d5ru6KqQi9MiCufQ7PXQ61eh2GnMDk9J8OgV9Y2sb69jWe+51N48l3vRLvbF5ceFuWwTYS5Rf78Ez/+Y6IQOcuSSu/atasYG6+IkXqOo69YYKNFEgplWJNKb2SULjlIi92SiYKUIh32THLiychwQHoVadFKr1kvMU4fjvAiQWZTtqg9sc+jBZ2VVLTybyRgVubqfGFwRjOHXbMICEgPj19rNJMcpYSAORXFkZwo20fYHpPPZIXQSZi00qNhwojESfalTE4mmpDM+VoMzVKR8pgjOz72agY8Sw0IIg2+tMv4UlDVdVxp06FVEFtGqHIZFh6rlIHYx8zYGEoZC9VCGiePn8SHPv4ZHDr1hCjMdLYg5Ks2hcBuQUAR5m65Unt8nd3WNl792h/j0rlzYG9fKlfCwA3hBxGa7Qba3S1RdN4gQrvZRH07sWejtPGiGL1BH24YQec8SJNjp4ooVqt4z/s/IEU/zEfeW9vA0tKS5C4ZjmRF6WS1Iv2DJDM67fANnwYALALixjFY5CsSZrIl3qo0RSeR0h6PFnVvzVOOcpFvzUmO8pbi/jMM1VL5sWBoVNST8GIEcxjyJXm6/YE0YbJalgpSRo0NCZmEVm82xSpQioX8ADHCZGi1aYhTkGlxBBrzoZ6YsKfTiXOQ9IQGIfL0iLWY44wkJzwaYE0FK6PEoMmEEi+gq1AEPwglNOsFfhKmDWIEnLYSh6Iu6RbU63dRLRcpVSWPWc1nsH92Ch/80Efw7g89jXyhJIRZGpuCbiR9pmpTCOwGBBRh7oar9BCssd3YxIvPfxGvvvSiKMyxiVkp+mGriON20eluo9Nuor7ZxvrqGjbX16WghgqLhEGz7xAaBn6Enu+hMjaFA0eO4sTp0zLlhIqJ7jUkShImXYNYAXvrxjXoiKWFhG/0Bw/ux8rSshBXs1VPDMgTgTckxUT5sUqVxTqu1xeTAJIeCYZkNArP8jkkHh5jNLaLZCkWdGGikHvdtuwjTf9UkcPXYzg1nUpBpyE7QslBMmdKUhwRJnsfHZfmA4nCpR0e20GSKto4Cev6nkwgESKm1V4qaUuRIqMIKErLiQ1L1+D4VLrJ4GyDZCnWexE8P0DPDeB6AdyQZBmJugzCGDGVsGmIBSFzv91+TwiaLkmh62Df7Azmpsawnyb3U+M4fPQ4Fg4eQWViBsXKOLKFMiw1E/Mh+A/fG6eoCHNvXMddfxbdVg3nvvVNfP3LX0K93kY2X0GxVMH03Lw42dhWhM31VVy+dA13b92W2Y0kCRl15SVqx8rloFlpDPwA+coYFg8dxqlHHkV3MJD9cvmi5AOT8V46zp19FefOviZ9mVRxDNG+7bFH0WjURD3SCIC5PW73XXqQDJnW9YQwORB5NBhaDAOGodJRCwkfGxEmyXTUzkGlKY47TuLMQ8JkIRNzkKCFHlWmYSCfy4iKjdjS4gzEcYjH5uuwlSMpInqzqMg0kr5KhpdJvhGN2DU6CSWtK1SeoypeSzdQKeSRtmza9MokEuZI5RfNEOU4cAI4QYC+F8LxqTRjUfJBEMHn3E8k5u1RnBgYUOlz7TPTkxj0ehgrFVEtZDBRzqGST2NudhpHTzyC+YNHUKyMoViZQHFsWgZpR2GgFOeu/0/e2yegCHNvX99dc3bdVh3nX/wmfv9f/gvcvHUXkWahWKoiXypjbm4K1UoG29tbuH3tNtbX1sTEnNuoKIUFPhyGnC2WYWQymF7Yj6MnT2Jsalb8UtkWslmryUQNjp+i5+zlSxcTI4O1ddxbXZEQ7/TEODSd5uY9UYLMT761ypWySypaqTB1BixDCXdSzfHxERmNcpCjkWCjKljuR/ImYQrZSQ2NJscigZH8JKvnh1JtWi7khUA52FnmbgYsAtJFldK1h/nPlOQ8kzxkJLlQKl6Gkcn7IQxpWUkcffgaQtApUz48jJVKkjdlERXbR9gmIiFe3YQfxegOkhFkVJh9LxAFzw8kHnOYXBM0ZLhGPanyHbhO0jc7MSE2exwvFrhdIc3HTp3E4vw0Ar+HYj6PxYMHMbv/KManFyQEz5xmplARI3q1KQQeRAQUYT6IV+UhXFO7sY0XvvgF/Oav/5p4ycJIYXxyEsVyVaZb5HMGIhbHeJGE/Dr1ppgQ0Kg8ZEENw5I6w7IGQsPA2MychGSn5/ZJDnMwcHHu/HmcP39Bql1pNMCwrKFRLerY3NpIjBE6LSGUTqeVVKKaSe7yvluPWO+xxoWMxPYNThnxRDmOWkZG7SGj3srR5RwRL0lzlMscVcBqQ1VJhcgQMCuC2d6RT6cSwtMw/NLF95VG6jSI5z65bEZUIouiRt61LOShUKRiJQnzGDofExs8Kk1LHIayYjqQzNqETlclE6lMVn4OYh0dVs+6PlpdB83+AJ2Bh57jJ6o+iGBnslJ4JS5E6RQcx0MQBygXyqjVtkTRuv0WSpkUThzZh31zUzI1pZDLw9QDHD52AikOsA4DTMwfwsHTT6l2k4fw/3+3nLIizN1ypfb4OjvNbXyThPlrv4rbd1aQyZcxPTsrNmyptAnbZJM/+wrHpNJza3Udt27eQLNWRyqbkVwaFVE/jNH1XCHcUnUCH/zwR3HkxHFpBzl37hzOn7+IzfUNIUOSXKfdFfLkIGqqsnYnKfbhJJJsLvOmLd0wj0ndJuQZUXuGsEwq0KQ6dlTYMyLKkZUdCYp/G7kA8Xe+NhVskgvl9BISIi0ZEv9YerGyOpaESVJNm0mI1iKhWSZyGRKmAXru5NIpyUOyKChpXQklz8lCHipOTithLS9V7GhtyYBsDt2Mkz7OIXHaqYwYE/CDhxOG6PQ9IcqtehfbzTZafRcDn2TJrGgSjuUAahIup5ZwikmPYWbTxvbmhjgMIXCR1jUUswb2LUzhU899L46efBSrty7BiFwpzmpt30OuXMHJJ59GaWIeBidjq00h8IAhoAjzAbsgD+tyWo0tfOtLX8Bv/d+/js3tBvKlCUzNzEpRTzrNQppQCKNargpZbNxbw81r12EaupBRs9tFn60TqTRgpxBquuQzH3v7O3Dw0GE0212xwqOFHvswt7e3pXK2XEjmSzoDFuLQCceS49HYnBurYUcFO4n/a0KYiRFBBF2jdV0y/5GPv7W1hI8lBT22EBkJkvlE5lCljaPVhhayNSUpxBETA98T0kzTAN0yUSkw76rL9A+pnmWFrMkey5Q8lqZKFC9XEkwSzhXnoJhtKMmHjGStSduKwWHVojaTsKcXuDKXk249VJZWKi35ROaE+26Adt9Fvd3D+lYTG42mEKYbQ9Q8w7Zs4eFwafrJVqpjkgel4xA35oDHq1XJ05qRi5QVYW56XFp9Hnv7k2jXNhD0ath35BRaWyto1VZw8Mx7MXPgjHxgUqHZh/Xd4ME9b0WYD+61eahWRsL8g3/5G/jiv/0DNDsDGRzNnsqVjXuYX5iD6/bQb7eQzxYQcBYkC4PoUOMNkl5Fw8DGdg3ZXEEGHNuZDHquh0cfp2dpWlyAmp0uXMfDpctvwGM+btATJddq1kFDg1HRDomPhMaNhTPsFbzf+qElVbKy0aGHZS9s+6Dq1JJ+S4aIR84+UpwzNC9g3pVKL8eio1hH0O8jdgbIpdi3aUoIlTm/lG0gY+miOhdm5mCbhlS0RmxBgSHOPNlMJingoUIUkwJa5cWiKPnaSUtL0jOatLwk1a9UniPC5DxOPkYj+lQmh0whB8NKQTNMMSTY3Gpg5d46nCBGu0el6aDthuhHIboca+a6MvZLt2wZyF2ujMGwbLQ6bflg0mo1kM1mkMumgXCAKBhgrFLC/n3zOHXmNJ77/r+Oy6/+MSwEqIxNol1fxfj0PuQrE1g4/k5VPftQvQPsjpNVhLk7rtOeX2W7uYU//Pw/xb/6rd+E65todDxMzs4jNhn6i7C2uoL61iaK2Rzy6TwsJGFJCiVx10nZYkiQzuSwVa9B03X0BgPMzC2gWC6J8lxZvYdB3wULQVN2WlSkEQdotxroUv1JcUwyOms0CFobEeR90hxVySYDo0Of5uqJCiXxsFp0NBuTJJqM2rKkj5JVrgy6kvAMDm52B0jHHjK2IaRnGrGoymI+g0I2g5StY7I6JiRnSNtnnFT5prPIsE+S5IfEBo+E+9ZRYsRF8pLDdhidudG3+NWOPgBYdgp+FIpKtDJpIctI4+guF9u1Jm7euAsvAjr9AI3BAC3XR5eGBQwpux4CjjCDgVS2gDxdkTgGzHHQbHdkADUrX6enJ5FJaei0G9ARSA7z+Ilj+C//xk9BDz0Ebg+h04UeOhifOygfPhbPvBeZfGXP3/fqBHcXAoowd9f12rOrJWF+4Xd/E//0V38Fll3C7eVNjE3NYHJuBq1OE81mA5xokjFt5FJpaAGkUpbVliQ4gzZx/b74nFJhcsBxp9fFsROn4DCnqZuojo+h0WwPw7GeFBMxpErCZLWs5P9IQWyXGNrYBTQoGG7Sf6kPXXhoDKDpEsqVitSh6iRpJgbm9H2NxP5ORndFsdjo6bEhxTq2bgCeg0raQt5mIU9SuUp3ofFyURr/s5kU0qY5LPbRJLdJkwHOApVeTxYHcbSY+MYmE01GylbWKobwiSK+T5ZmYvI+Ikz+TOcejdNSbEvaSWLThDMIUKs30Gx2xZyAk2M2Gy1stDqodXuoDxwpCAoj9onq0MwUUsyFDnsqiTk/yDQadczOTKGYT6NR34I7aCGbsTFWLeMHfuCz+NT3/gjslI07F16E221gev9RdOurmDr4KCYWjqk2kz37H787T0wR5u68bntu1d12HV/6/d/Cr/zSPxCFud0aYHphEW4UoNvvSEN+Jm0j9gJRl1pIx5+WeL1KY77OatVAwqIy19HzpcVhYd9+9F1HClQOHTmC1fUNmRvJClkaiy/MT0tFLNWpTCeRPOCbhDJwE+Ib9WGOSFO3knFcdOIh97Fgh68t/Y9+IO0eoxYQ5iBldojvc+XIkDBNC2YUYiqXQT6lS9iS8yRLhZzYylVImOmU9GAyNKvFSaVs2kqMBmTcl/jGhpLbZPh1NAJspCqTVpaESP9DhBJ3yTwAACAASURBVMnz8tjbOSRM5iVNm/63GlqdPnwvFoXZ6gywvF3DykYNa40GttodIcwAuuSLCQI/TJipNAwzyQPTDahZr8sUk2zGQr/bQhQOkGFLi6njiTMn8d/9Tz+Phf3HcPW1r6LfWMPE7CJa2yuozBzAzKHH1QiwPfefvrtPSBHm7r5+e2b1vW4Tz//+7+DX/tE/RKs9AMwCCtVxrNe20OlzJqYuSs13XeRTGcxOzqCQy2GLw6CjSKaVkBRCVoRSNbGhUNeE/CamJmU0FV1o1tbWMDk5iVqjISQ5NzOBIPTFD/XN1hAGOoeh1WDoE8uKU+Ynqae00exKQ3Kh4vLDIiPmMsWVxxeFyZlYJLkUhzazLYROPLqBjG1JpW/WiIUwy7mMEGUul5EvmsIX89kkd8njsro1JukyxGvDNkwhcK535Cr0Zo41ya9Kj6jM0BzlMBPFOVKXbDERo4SYfaQ0DLAg06zZp5lmdXBi7N6otxFqJjoDF/dqDSHM9WYD290uen4g7SaxYckHElYOa6YFixW7cSyYitkC54VmbWkL0mIf7NShMl6YKuNHfui/wNPf+6NYv3MF7c27KI9NiaNRrljF3DHmnwt75h5XJ7L7EVCEufuv4Z44A4ZbX33hefzjv/+/YWuzjUxhAsH/N5rr3tYG3MAV9Sa5PE1DLpPDwYUD2L9vEXdv3xQXnHa7I8TV7nak4rTveMNKUB2FYlGqN/v9rlRwcmwXfVMHDkd3DZDK2DIui89PlFEgarMvRubJY3TAIRmPSDMp+mFlLN/9h5Wnok45OcQTwwCdIVn2auoa0pYuxJnSdWTSKelDLKUszOTTqJAkSyUpkGEYlmYM7LUkAVOJkvz4WlTSI6U4qsjlXMz7ecq3FPTIc9gvOvQAGBHqqOBnVLfEddKwgIQZsUgohkyB0TVi6KLbGSDWLHQdD8ub27hzbx0r2zXU+j30/RCN3gAaXXpiDQ4NZ0m4dlqOI2bzniMEOF4tsikUntsDZK5nhAMz43jk2CF87r/5u8jm8theuYlcPo98qQp6C+87+S6kssU9cX+rk9gbCCjC3BvXcU+cxd0bl/ALP/vfY+nuGqxMWd6Qr9y6Bd1KFB8HH1eKZakEzdlZLC7sk+HNfPNvNltClLXthrRY0DOWm/Ra9nsoFosolQqiuuglG0YBMtks/MhDJs+exuz9iSP0RSVh9gZDn1aZRvJmn+WoCjYC/V9NIUwhJ6pPKlwthEEjAhlnHSJtsPXDQG7YCsLeynKpgEoui6lMShQmQ8s0RidR8jySuZgjgkzaWRjiTUgwqXTl5BQSHb/fr4JlaJU9mEPCTNpNklaTt4Zqk58TJyASpsb2HLryRIBtp8T6b+B4iCOehSHtJbfX1nH97jKWNjfR6HXRCyK03MTwniYGxItKM8XB0LqRDKX2HHA4+NhYBVHgwBl0pbKYWO2bLmP/ZBk/+COfw+Pv/jB6rS1EvovK1DzuvPESTr77GWkvUZtC4EFBQBHmg3Il1Dqwvb6Mf/jzP4uttU3UmwPcvreBru+AMbxutyMGA/Mzcxj0+xh0Bpifm0OzXkMmZUvDfLVaRbPRlj5HugCN5lOy/aNSqcgxOPKK/YEyoSTwYdHNJ0Vy0iX3SSUqqhK6EAnf9Fk1KkYFw/5LEqoQaEydZAthajQa4KxLLRSSNLUYKY2GAREyOlBI2yhkbAnH5rMZVEpFTDBfmbbFAD1fyN4nSpLcqMLVMHSxquOaEuu7pPI2sd4T23chTDFXHw6gHoVpGR6+3wIj9xdHg/3JcVrsy6QXrgyF1pNB1RwIbRg2XMdHs9WDplNh+ljeWMf15XtYq9XQGgwwiIGNZp+SVELirV4fUWxIa49uJtXGsRaLGUSpkIfn98V7l9W/vudiPJ/CeCbGxz76NJ79/r+ZtN94Dqb2HcbVV7+EM+//DNJKYap3hgcIAUWYD9DFeNiX0m5s4Uu/98/x+d/6Ldy+uwoPBtw4RnNIlhxQ7Ds+tFhDKVeSYpdmYxszM1Myn5GbqRn3HXQYEqRqo0FAFIfI59n/GKLZrCPwPVGYjW5bWlAMIyEhDqKWKtkwCcGy8paEGYWcBcmhzuFb8pgGHHfo+sNwKXOWcQBbhxgKpHSglLVQLeZhaxFShobJakkKeor5AiZKBeQRyX4MrUrPJp19rMSIYBQO5uv/6U04UhRmSswDRuPFknmcSUuJ9FgOJ5WMiPI+YWqRmBvQ+GEoPRGbQ0MDwYNGCsRyANcL4YYQojx/7TpWNrbRCwO0PR8tJ0Kgm/KBpcvwrJFCOpeXkCyx0wwNjttHMZ9DEDqS32VlMsO0M9Uc9lXzSMHFBz70CTz34/8t+s0NmKaFdmMdR9/+EVh25mH/t1Dn/wAhoAjzAboYD/tS3EEP5175Ov7JL/7vuHz5BgYB0GPhSJQoROYe2arAitGcnRPy6naa0udHr1jpe9QM2YdFNexbpEIMg6T1Ip9PSxEOc5ksyqFyo5G4jK1yk1mQJCdxwdF0+VkUJgcoR0lxjMuCHtrNyY6cNhIlZEeiDX2AcycRImubyFkGJsp5FDM2TCpNS8f8zCTGqxXks0nu0vS5fzJJxLJSYPWtKEjdkjCpqDQWL0lREcOorEhN2liYMWV+MZmc8iarJi0lSZHPaBuFZEdhWfrgkjBZVMT+FKpLvp4mLSf8Yj2vIVNJSJjEaXljC69fuow7G+vo+wHavo9BaCSEOfDEyICWhJlcXj5w0PyA48QGbh+FXBZ+MEDAFh8E0iI0Uc7i0FQFTnMd73jb2/HDP/130dpcRnlsEuWJOUztP/Ww/0uo83/AEFCE+YBdkId9ObeunsfP/89/C9eu3MDKeg0wbVjZNIqlkhBJ4IXI2Blk03lRK412TRSm5yQKEyGkp5L9itROvVYnMSvPWMiwuIeVoCw+8RwJv8Ysbhm4okpJhiQNyR9qRhKKpRFBFMsQZZInWzD4nf2ZFG/OwEfazoi/qxb5MgOS7SKlbAqldArVQhr5NNcSoJhN48DCLCYnxiQkXEixtSSANTSAJ0lSLSaEzZCrnlTuSkWryYeEyEZWfGKQHunJ34Y5y5EB/JvVsKM76s1w7FtVpnjMkmxJlsx9moZgIMfkC0aaEKbj+ri9uo5XL17A7fUNIcx+EGIQmaCZn3zoCAJYNu31MjIKrN3tCWESa6p7z3cQeAPoeiR5TU4wOTBVgtvYEOX9v/zS77CwGYXyGMoTC8qE/WF/M3gAz18R5gN4UR7mJW2u3hXCPHf2HNa2aog0E/liAXYmLVWXJMRysYJyoQrD1LGxtY6FhTlx0iGZsC9ybXUVkR/J8OTI85FJm9L7Z1uatKLks7aECRutFlwPQghybBrPWYmyo4okSRqmfV9d0l+Vec23Ks3QjcUQ3RwW0JhhhJSloZxJo5C2kDZilHJpZCwD5UIW+/fNolopS28lSZYuPzQk0LWRg5B9nyyZR5V1if/riChHxMk8Kwtn3yTM0UQV3j//PsJ8U20OSXK4n7StGBY0MykiSoqKEsIMfSpMH64X4fbqKr594aIoTCcI0Q8jdPwYfqTJQOko1oXkdDsjBUOdXk/8dukkxIIr1+shDj0xUyBhVvI2xjIaZifHoLlt/J2f+1XMLB5BNl9COld6mP8N1Lk/oAgownxAL8zDuqz69hp+45f/D/y7f/v7WFpZRRAbMs1CZi0OBtAiQ/xki7mivPHW2nXMzE0DUQxTt+A5DlaWlhF6nCFJ9QYxbTf0CJm0Jebfk5NVMQTYrjcQRiZcJ5A2EypGqizmB6XC0/fQ6ztCnOLeQz9XqZiN5LHIp6mAKUYFCPhzhLxto5SlqrSQtQzJaU5VyigX2F+ZxczkZOKtOrS0oxMQW2VImAnJ2eJKRHXJgh7fD6WcNbHoY28l86xvVrxKwc/Qvi8pSko8cEftJwy9vpVIR7nOkZ3fKFeqGRYMix8Y7PtVuHwt3+HQ6ACOF+Hu2hpeu3AJt9ZW0fd8dKkyfYixAftedcNOzO/Zw+l6Mrg78eSNhTAdtyth61TKFMIsZC38teeewzuefBe+9gf/DM9834/h1BPvR7E6qYzXH9Y3gAf8vBVhPuAX6GFbHt1gvvrF38X/9fd/ToY+cxZjqVxN3GdoTsA2DnZXRJo0yDvhAGOTY/BdDykrhTiIUd/YEtXHxv/AcWCw1UOPUC3ncPjAAhb3zYkDTr/vIAhsdHqOhHHpJ0uCGoVfaRnXaLWlAZ/hWyolksh9v1iGIJm79HwJD1MtVnI5VApZ5FMWLC1CIZXC7OQ4KsUsctmUVMdatiFkbqYsMTqQoiPmIg1LSJ8VphrPU0tyiPeDqv+e4p8RWXKfEWEmhT/D1hOWKNEYfvg1IsyRnZ9tp6VZk/lcYjxyMJIB2azxDTi5hUOkQ6xsbOG1ixdx494Kmt0emr0BvNgUwiS56yZzsLaMBktyw0n4moU/xWIe/UEbge8ilWIFbh+5tIaf+a9+Gu956rvwtT/8bXzXx5/DwZNPIKPU5cP2b79rzlcR5q65VA/HQqMoxLU3zuLnfvZv4+rVq2j3Bsjmk/5J5vhsMw2n5yAY+NI/6Wk+SpUi3IEnhT4s+mlu1ySHSd9Zt9dDFLpiHDA5UcKhA/swPzeVqLxYR7tJC71AJp60Ox30en10B30MHEdymiz4ocWetJwMf2duUwqE/ETBMhxLci5k0ihnsxKCzbGfUo8xVi5jaqwsitMWY/W05CAZQrYzNrzIl5CrqdtvEibDo5qJeESYNC1IimKHFn1vkuhbC35G8zhHlbKjKlsh0phzMhP3n8QqL1GhoixFXZqwUrYMkGaLCaeiiDctP0C4gcwaXduu4/yVK7i+soztZgvbrQ68iHlUDTGt8UxbXH/CSIcbJq5I3V5f/HRL5QJ6vY4QJse1MSSesWO845GTOHnsKCK3gx/+yf8Bk7P7kckps4KH4799952lIszdd832/IrXVm7hF3/+f8QrL70o1my6yT4/zqpMIZ/JYtDjqKgA1YkxDNwuipWyvKkXsiRWHRtrm1IhSyKj2w4HGGdTOmYmy5ifmcLkeElIzbazrF1FGCc9gzQM73b7aLZaojh7zgCOS4egPrq9jjj/xJwFOTRnjzhL0koKitgmUmJ+NJ2S+ZT8Spk6JsYqqBYLMKVwJ0Ihlxm2e1BhJoQZa8mUlMTY3ZaCGxb0UOFJSDbpoPx/2XvTIMnS6zrsvP3lyz0ra++qrt67Z1+AAQbAABiAIAGQICiuBiDStEmQNm3ZEXJQpqUIWabksExJQTKCliMseiHNxZZNmCQIkISJjdhmn+npbXrv6q59yapcX+Zb7XO/l9UDklLoZ1VXJlCTXVVZmd/7XmaePPeeew6Fu3/twlLunvE7HYmo4M0MD2jXN8zClPGSPcBUUV8EaoIymS1Ls0OGOex/0iyBBg5hEMvjbzdbuHL9Om4tLWGjsY31RhPdMEEIZalnmC4S3ZRw6ZBVY0PHdmNXGDVVzn6vJTZ5Bc9Bv99DMWdgspyDZ6U499Aj+Lu//C9RqtTFi3Z0Ge3AftyBEWDux7NyyNfU2t3CF//4d/F//c5v4fbte/C8Kvp9Nc7B0l4YBhj0OzLsnwxCccmh9ylHGaBbothkjiXBlVZsSd+HmYaYGSvg7Ik5nJifQYksJ4hgejW4+YrY0ZE5cjyF9nk0QOA1DRDE9afdFBbKUiJNz6VHKAwyD8vSJJ+S66gWSigW8yjmaERgIs3s7EwaoUuPUo1yyFgI2anryLwnK68EY1rS0S+WbI3ziMNcTvERykKgKaRRIMpmpTJdGP6OHxR4kSBpBlxLqTaRZBPxC8rYpYyTUGWb9WzleMgyKXqiUlZ8ZlW/lqVq4i2Z9+27i/JFA/ulzW10YKITJnC9AvwwRsoqgJuX3i8FQI3dHeRyDgz6/MaBzKpGQU/Af6Kcx3uffhJTkxM489jjeO6jP4by2NQhf/aPDn8/78AIMPfz2Tmka+Ob9LXLr+Gf/5NfwovfehlevqbEMJqGnEdA7EmgdKlYwKDdRd71ZLyC5VPT5bxfIkYGnL0k+Go0KTBizE9U8eTZEzh74gjGiwUBKW9sBk6hgkKhJKXIOIylHMsxEzLL1eU1hAMfvW4HvU5bzN/ZryT/I2M0zRB046HpAEGXGZ3KC9bZc94h+NB0fdhXJHioOUog1jmVyJYm+4xK3CPm7ozvylJThv1JhYTDcixvDzFG30tSoeWsOA6RDxJRY3EgIlgSSNUIZ5ZcQlGRoSE1DMQye0rjBk3NgpqaMmsQA4dYytEcbSHLX15dxtLSkqS93FpZxWaQ7gFmdxAhZpfZ9tDz+7BznpS56Y8r4zmh6idzrIeiq6Jr4n1PP4F6vYJ3vO95PPfxTyFfGmVgHtKX/YE47BFgHojTdPgWub66iP/hX/wyvvSFPwM0G66Tlzd16DHa7Rb8flvivqyUxua2ONFAM4XpkGkS7GhiE/Q6QNhHToswUy/h0VMLOHtiHhOlopQj3fIEnEIJ+XxRRkqYCkJxD40M+LW1vokoCoVZ8itiVBjNyglCiGRUxdRViVPCom1bOfWwtKrrcF03Y3VvA8xs9pGgRLCKmXIi1nvqS4zWFeTBNOzvOvl65glLmU2q0Sxd3U4BpbqmYZ9gq+Rlxsq0PbsXAiaBUWY9mUvGDwmSwGJIIgxZLUU6/Bnvi2InMYvIXIM2t7fEWvDW7Tt46/YitsIE3SiFkyOrDDCIUxiOB78/gOPlZSyGbkvRIBAfWdukqxE/mARwtBCn52Zw5uxxvO8jnxDAHAl+Dt9r/SAd8QgwD9LZOkRr7bR28Cef+x38zv/8m9jebEouIsGIs/Rdsj2/JYBIYU/OoYk63XhSmLYjHqgETNNIxUUnCbqw0wHGS3mcXZjFueNzqFeLUvocnz0BO1eC63oyf7nnF8veXDQQE3cKdChWiYOBWOohIUMii4ugpZGMewzHOPb8XKl2FYu5YYDz/YxN6Tky6URLJCFEpvUl+YScUzHGNFHfk2UK+GVOPkPAVN+qsq4CR0KiGiERoCSAZmHWwjClf6lEP7IuoZusCSuDBplBZck4C5eWeDOke366ZLwsHXM/NrY2ce3qdbz+1lU0Q6ATJ3BzBbS6AwzCBCYBMwyVRV4cw7XoBNSD323LPCzHe8jatbCHpx47i3c88y4899EfxkNPvV9K0aPLaAf26w6MAHO/nplDvi4mklx/6zz+6X/9S7j4xiXp1ZVKFeTyZGwQMGNZz7EsFPIl1WPr0Tw9kpxLv9uTN2ed1nKRL4A5QcA8fgSPnD6O2alxAcnx6eNSxuV4BeFqqDTlOAf9Ttm/pP9sHBMkQ2V/J/8mYCag8IfXQyD67sF/2uUNQeq+36sCPx10pY21WJiimrNkfifTR1JoSaaM5eNkYPnX/GDlXjiHSYBVlHLINIdPH7HWYyZmxkL3epj8iVjh3Qdm9i5ZlhZ1LME2SWQuk6A3BEyWqndbTVy/dgMvXbiIe41ddIIUtuOh1fMRxTostwA/CsWEnX9LRttlOdvvoFjIIc+xEr8NEyGe/+Bz+PiP/m08+s73o1wb9S8P+ct+3x/+CDD3/Sk6vAtcW76D3/iVf4Sv/cVX0O0GMl6Sy3uwLFP4DwFtbnYexWJZgIkiHeZhbm9uod/rCZNJKNIJBwKYY6UcTh89gkfPnMDC3AzyxRJy+XE4LoU7ztus8JTalGBDZikimyQSU4CUxgDyRXhNxUNW5DcyusGfKaCTeU1+xzIrFaTCBjMxjcI4FVKtJ8I0jcyKjoxSQG1Ylh2KeP5KysjwWSEq4Owy7GUOS7S8ljW/bQ6TPdD75gWKbQ7HTdQ8pr0HmAyB1gy64NKh0BKGyRIrjQzu3FnEqxcu4I2rt9Bi9qjpoN1lvJcF28vDDyIpjyvVbox+r400GqDKGDNbR6/bQrng4Mc/9Rl84lOfRX36qHjYji6jHdjPOzACzP18dg752na21/F7v/nr+JP/5w+xtbULy80JKMn8oKkhDkOcPHEahUJRmCHFKUF/gGZrF/1OW6znYr+LJOzBTAKUPRsn56bx8NlTOD4/h1KxgmJlUgCT5V7lHavUoRS7yKjJoAfOhgpQxpGwTTI26TJyLRmro6gmShkePewpqrlJzjOSEst1BggqjYs9SAAWh0AIrApoh/OPArHyd/dnSQT43mZeIMrXRClgCb7fBZR7t1Nl2iFzHt5OgWYKQ/6MoJ05DZFlSrwZ+6PZ49Ff13LEIpD3w34m+5ivXbyEb73yJnbbPZm/ZLwX+80MfabhBJNXZC8ZJN1n/1LDWLkkEWgRzdfHK/js3/kv8Oz3/BDyxVHu5SF/uR+Iwx8B5oE4TYdzkRzl+MPf/1f43O//DtbWNsXYm44zVLc4niPg5FouPC+fgUIsDj8B+2WdtrxB95oNaHEAIwkksPnEwgwee+gcTh9fQLU6Bt3ISzlxCJgkbAyIJlgq39hA5hpZ/mU5VpPRDopoFCLRsGDYM1SANUwSUUAXZyVZMTJ/24VrT5gYQuCn20+Wt8leJMFMnHbeBphDsBTwywwMJG2EEV8ZWA5/LhAobFeZEwiT5QcAAnr2c/7OEKSlkjYbNzGVcEm8dCXrM5URE/Y1yTzpeETApJCJ4p/zl67g699+CdvNjpgVNLtU09pw8kW0/QAmRVSahsHARzjoophzUKsUAJrUxwMsLBzFf/73/zucffLZ0ezl4XyJH7ijHgHmgTtlh2fB7GO+9uJX8V/+wi+g09kB6CKTapiYmsRmY1OEMgSiSqWKWrks6tS+30av1RRLvDQJ4Fk6dJZTAx9TY1U89dijOHniKMqFggBtqViH5XhiHEArPBoFiD0r+3haVoIM+uLqQ7N3anRYYkwI3AKkKqR5z+w8E+nslUH3wiwVEA6/BFwp+snGRDJ7WIFhUeBmjJMqWYKUsD2OZpABZxFkZLd6rH6uDAoE2uUJMnxYgv8ewxwKhBhKTRCkYYJ8CFC9W5ZcBWQZNebYMGxLTAtEHETjhSygmkyT4p9Gs4kv/+V3cGtxCfeW1hCmGnLFCiyO+aSGqI0d08LS8l2MV8so5B04Js3oc5Ji8tS73oNP/8d/D2OTRw7Pk3p0pAd6B0aAeaBP34O/+KU7V/F3f+6zWF66ijTVhQ0WKmVsbG/B8zxYZk5cZOrVGhxbF/Vlt7WLzu4O+p2mWOKVvBzyro2ZqQk8evYsZmemZNTBsVwYpgfbysnQvpgCJYmUI6WUmCbSA6Twh2MRIp7RqUJVQh4zU8EOS6FDprk3+ZHlXCrzAKVeHd5WASYxX6RG2ZiKAktehoC5V+IVAOcvVMi1lHk5VhIowHs7WMpICBmrGDH4e2VciovkvhnfRf0tS7JI6VqrQJbMmuVnAV51O2aQ8n6kbKxzxlK58PB+W90uXn3jPK7fXMTVG7fR7g1g5fIw3TyiVJcEE86j3lu6g1qJLkg2auUcLEuXSsAPfuqn8b0//FMoVuoP/hN5dIQPxA6MAPOBOI0P7kFsbyzj1//bv4c/+5MvIogClCt1VOp1sa2bOTKHZqMlDju0nKMUKOUbftgXltlp7oif69zsNGanpjA7PYljx46hwhlMhk3TTcegC42jbOJYhhQGqakILxquBzEGosglo8xMzLNEEBnNeNtFAEXTYYpNHMuqKiaMTFD6jQS2t81ICkiJk/wQJNnDVD3JPXDNxj/YY5RQa93IAEw9djSIBDgFgDNgVkBP4E/R9wd7bFOYIqGSxuxkuzSlj0Mp6Q7FP3uioOzDAJmoALTMfQKmpfJCef+DMMb1Gzdx9dotvPbmRSyvbwGmA8crSiwbE2B4zAzsrpQ8DLpNVEs55GwTk1Mz+Llf+sc499T7YDu5B/cJPDqyB2oHRoD5QJ3OB+9guu1dfOWLv49f/e//Ge7evY3xiQkcP31GEj3qE+Pwu315U6apQK/dhs68RfobRDEGfleMz0+fOon5+SOo18ZQr9fhOE427mDBMl2kqaFEPhS0iGWdgSCM0Rv0EQRUxw7HRmhSE0sQMl1vBKQSpTQVsDQ02IYp1xzOpzJWXIHI5BgSLcCp7mtoj0dv1eFFCYnumw4oQFXlUK6JJgcJDdlppRdLzkk2tnK/P8q1DjM7WY6l2cMQQPm9OAllYMh1MsDaeFtJl49I71fbcaTEPQj8rNysWLd4HdCgnb3RJMHm9g6uXb+BF155HVeu30QYG8iXq0gNWxyT+oxk02IUcjZi+v7SS1dPcOrsw/hP/+GvYe7UI3tjMw/es3d0RA/aDowA80E7ow/Y8fBN+cr5b+N/+rVfxje/+Q3Uxqbw9LvejXyprJIwdENCo3e3trC9tYG434VrG/D4pq7FeNc73oFTJ49jampKgNLzCjB0jkqkMkpCwOPMpT8IwIBo2tJp9HCNU0kpCQNmZYbidkMBEEuz6t80LNBg2I6AB2O+xOGH/zaYrEILghh5xxHjdaaayLxmBohixi6go07YkFkKRJIqZr1N2vzRnJ3MkoDJgLNQvGc5xqJLDqV4yYpxA0dtQhn9kJiyKJLHCCL+LJQeLS8EPB67beiolzxZqzj/CEIzf3M4Owo4jCmzKQYyMjOERBm3ZyYJ7P0yt/SFl1/Fi6+8gUarB69Uhm676Pm0FOxKnJdrpcg7Bhza8SHGe5//Pnzm7/wj1Eb9ywfsFftgH84IMB/s8/tAHN3m6iL+4Hd/A//H7/wWxsbH8aM/8RlMTM/gpZdeweKt2zJKwhJst7OLeNBHzjKkZ8aZvw9/6INYWFiQsi0Vq6Zlw7AcBXaWLcKhKIrR63O+kJzNQGqaiMIY/SDEVmMXOztNbG5uypyn9DOjSHp/BFZNNwQocy6TVFwU8jnpmeYcClyAvMOYLz0DzAiauKwnClRZ7iTjE5u9IbPMEDQDTIZWsxTKRww19lV1hCzkJrp40PqDVIKtCZSDQaBYHaPJBNQTNJq7Kgx7oICULJGPS6MGx4AIf0ac8wAAIABJREFUoQpeDuVyWczs6crDPq2oaZMEOc8RJTBLsZxHFWDPRmlYbua+Mtnlldcv4stf/yZu31uGSVcmJy9lc+5VvVaCnoRwbU1lhtaq+PAPfhof/ORPIV+qPRDP0dFBHI4dGAHm4TjPB/ooaZN3+fVv4H/5l7+Cu8sr+IFP/gje9Z5ncfnyW/jal78mgBn1u4iDHkLfB/OZj0xNYP7IDN759DswN3sETs6F3w9gEshcT3m26iwtshybSrQXQTMMU/SjCL1uIIkbi/fuYWtrC2urGwKYUTZaIYAiQhxdANNzbJRLBdTHapiolVGvlGWMwkgjYXKuSRaaiKrV0DU4VjbCMbS+y5glASmjensinyBlHxUYxAxyTtFPOfKiCXh2Alr4xSpRpetLogptARlFRpbJtRPY+G8C5155mXOXGlAvFVAt5TExMYGJiTpqlSryhRwcx4BlUJzDnqUqJw8Bk849otiNQ1iGGn+5fO02vvClv8CFK9dg2C5styA9YP6uWMwhCfsqYm18DHPHTuAjP/qzeOSZD4mV4egy2oGDsgMjwDwoZ+oQr5MRWXdvXcT/9j/+U3zpS3+K9z73PD76A5/A0tIK1pbX0GlxlGQHfmcXrcYW0qiPY3NHcO70cZw6cRKzs7OwLU/KrvQ8pVF4zDnITLjCN3/JwhTA6aHZ6WJnt4ndVkceY6e5i51GUwBHEkJiZc7OXiGBgaBAUGTEV7VcwuRYFRO1KsqFHHKWLkrdvGPBNQ0BcwKR59oy+zlU5AxLtaowmsV30QIwSSW4ujsI0O0P0On30QtC9KNYxjj6sQ4/jNDr+cL0Wu2ugKaUk7PyLKus3EMZHYlDsfVjKZhRW1VmeHpKaTw2VsX4WB318RrGKmV4eRelQiHrvfLYE1VqNtWIDO+LBgS5fBE3F5fwxT//f/Ha+Su0BYJbKAvDDYK+7I1lJCgXbNSqVZx74in88M/8IqYWzh7iZ/Xo0A/iDowA8yCetUO45k5rGxde/ip+9Z/9Q8zMHcXM3HE0Wz3EYYpqqYjtjVX02g0s376OmakxnJyfxrPPPIPZCY6QuCLuSSjD0V1Ydh5JaggQsS9JoNnZ2cHubgMbG1tYXV9Bs9kWERDzMNnb7PkDEQGxX8hB/m6/j3ari5xXklJoHJJJ0ljcQcFzUS7kpUTrmIz2SqVMzNDqWrWEqfoY6rUK8jmuy5TeKhNX2EakIpXAxvIpQZxm5G2/j6XVNdy5t4SdZktKsL0wFGedQAOCJEU/jFQ5Nghl3RRFsS8ZBSF8vysqX5ZWyRh5BywB25oFB2TBEPDmPvE6n89hemoCk5PjOHfmtORZOrYpfVqXPVnTQDgI0PGbKBRcKRkvLq/htQtX8IU/+4r0L3XNhe+r8GnmoVQKDianaijXinjuYz+E93/ib6M0yr48hK/kg33II8A82Ofv0KyekVqLN87jX/36L0M3dJx75An0ghi3bi4K47t57RJ6zW2E3V088eg5nDuxgIfOnMKpY8dhmQ40mIg4mwgbtlOAptuSh3n7zk20200BzW63jW67jU6nLaBlWQa2d5tSfuwPAjQ7bey02mh3fdXLjDU0Gk0VE2a5yDm2zGYSTNhLTeJAjMY55mJqEWrVIhaOzGDuyAzq1Qpcx8Lpk6fg2hZMg/3QzCVI2FuMMI6xvrmBTq+PewTMxXvYbjQFHBnqvNvtot0fSKYl+7G6ZTI/RcQ9FAqJhaC4BaUSXu2YBnKWCdsy4dkWXDuHieoEogEt7xSzFUcgKo11Q2ZVH3v0EWHoBE+qfQd+XwRJBS8P17OZZwLNMrG62cAbFy7h//7jP0WcGEBqSWqMbVnS76UtoWknePQdT+Bjn/4sTj/xPtiud2iev6MDfTB2YASYD8Z5PBRH0Wqs4f/8zV/B8r1b+J7v/RjeunZTQLPV2sXNq2+h3dwSz9jHHzmHh06fwMmFBYzVarAtjkjkAI1JIJYAp9+PpMRJMQ/VnAMR86joLpoVsM/I3iQH9Fl+JXvzA8VGt5nQ0ekgjIBWr49er48+o60CHzH7oEEfoDBIS2HS/o6ONwZQLnmYmRzDkZkJTNTrIhA6Nn9UGCYjymiTNwQ58bENIkkGYT9ydX0Td+8tY317V9TB7KeydNwPabag+qlU7MaaLiMyBFAyRpo7FPMeinQ2cmwRJLEsWi4WkLMdES7x+AKGPydKDcz75hfLqbPTUyKaOn58AZWyml+lb67y8+V0Zgin4GGn2cXFt67hX3/uj9DxaVJvSknW1gwxwTdTH+NTdbz/+z6Gj/z4Z1GfWTgUz9nRQT5YOzACzAfrfD7QRxMOejj/7T/FS1/9Ih5++BxWNrZwY3kJW41ttBsNJGEg6SQzk3U89djjePyRhzFer6tAZg4QMqNSs9GPEimnMg6ssdOUN3a6+NgW1aNkiWRlSs1K0NnZ3RVGaTosmxoCJgRNioKu3VhErz+QODF62HKMwqeatteFlgRIwxDlPB1uiigVWKp1MTFeEyAaHx8Xz1gBtWJRgJOCGrK8fj8QsBY2GwzQ2GlhfWsb280W2p0eOp2u6rn2QrkmuEoZlszRy6M6NoaxsTpqtRoqxRIKeU8AspT3MFapwsvRGJ3qYB9hosRAwjGTRI6VHwj6A19EQ5xdnZ2dlvWW8gUZS+GFHriDyIeby6HV6+HarUX8wR99Hu1OH1Giy2QMVcHVsodCzkRtsoYf/Mxn8cyHPgnXKz7Qz9XRwT2YOzACzAfzvD6gR5WisXYHb3zjT1AyIvhxgG+8+gouX7sm3rEl2rIZGkpeHh9873N477PvwWCgWFMQRtAtG7blqnGMXl8YJg3d2WcLBj7SKFRD9FSl9gmAfXheToArjhPxVuWcZtdXDE9GNRIdvk/A7CDsDyQoOeh1EQ960DgX6XeRcwwU8y7yOUvs4eipSoZHoMzni5LLyfIne6BDxx0l2InQ6vREXNTzA7S6PQFpqnnJOvn43X6M7iCS29LgQOMxukrEU67UBOxYFmWJlWYJLMnSro5m8gMGa9t0/rkfUM0eqlLAMq0lEM9Yl9aCngJ02uWJyMm2YbkOXNeEZpsC4hwp+dwffx47uy1RGzORhXtx9uQxuA5w5NgCPv0L/wBzJx97QJ+fo8N60HdgBJgP+hl+wI4vCnw0Vm5g9fJ30PcbOH/9LfzlCy+IeUG5UESlVBXAfP79H8JTTz2NbqsNiBgnj3yRvqg6dppNSdtotzto7nbFKICerHTwoTOPuP3QMSdUc4uWZcs1mRxVqMrlR5ecS7GAY9nW9xHRCi5JxLDAMXQ4lo56pYig35UsyIJnKxPyokfLIDFFmJiYkdnPJGUyCm0JtD0nHT6m3xuIiIcGBkxqIUj6BGqWbGNgbbcNw3HhODkwvDphvqU45WW5nJTc0J4PmpoNNSxQ96O8ZCn+6YlyV6lelY+sSGElaYXuR7Hcb6FQQrU+hmKpLHOcNFYnGy2Wi+LDS7Z+Z2kZ//oPPifRX/ygQoDmPhyZrqM+VsYHP/pJvOsjPzoKin7AXpOH6XBGgHmYzvYDcqydxio2b72Bq298Da9ceBnX797FWKUmIpZCrgDTcPHuZ96N6alZ1Cpj0Dl4bzsioiFQLi7dw+bWFsIgwI1LVzBRU6XL4XwhS46OZSmLPA77Q8Nus4vVjU0BLuZvmrYrilT+nheOilAd67GkqwGWlsDWgd2tdURhX8qzOddEneMbtZJ43+ocv3ALcv9MP5H7SmJxL9Lo7pMk6HX7otIdxLS84/hLIIpdlmADXcPtzW14tap8IKAFHmcyeU3W2+7yA0Fb5lQd00GJ4c0UB2kpKpUK5sZr0PwG8pk/7NDUQBmsa+iHAba2t8XQgWsdq0+gWq/DyyuQJHCyTJ0vFARkl9fW8du/+ztYXFyUDxVUCVMtPFbM4eixo/jAx38CT733Y7Dd/APyTBwdxmHbgRFgHrYz/gAcbxz2sbNyEy/82f+O85degOW5eO65D8A1c0gSHWGQ4vFHH4dj53H3LkcxdrF4bwlXr1/DpbcuY2V1FaZtYKJawfc8+14RB83NzQnLajQa2Gm1ROFJoKJXKvuH12/fxfrGNqpj4zh28oww1fX1dRUy3etKSZegWc57mKhVMDVexVi5iGjQE6ZJpxu/10HPV8HWU9MTGK9PwrQ8MYEnG5M+ooy6RGKqzlKy6xUEsAjOZJhdfyBsjjOlBMzS/Cw0L4dux8fdpXtYWV9Du9XB9k5D+o80LGBP0jYdYeASXB1DlK+PnjyKhbKNimtIeZgl13w+DzevjB04y0nV7ebWNm4vLuPGnUWsrK7JsR+ZX8CxE8dx8uRJ1CcnUCyVsLG1if/1t38LN29el2cZ2XStVBSrwhOnzuAHP/Of4MRD75QPA6PLaAcO4g6MAPMgnrVDv+YU/u4Gtpau4A9//9fw3ueeQT5fQn1sSsZHms0u8l4JF968gj/848/jwpsXpd9G5xmvmMdTTz+NRx57GI+ePokxW4cdx+j4voBls9WR3iaFK82Oj7X1bTz65NPY2u3izr0VtHsBxiansLSyIf298bEy1teW0Wu28f0f/yjWlhYRDvq4cfUypsdrmJuZlHJktczg5BjVahnN1g663Q6+8Y1vIu9V4fcCMQ9g/7K5vSPMrZjPC9Dl8gVYtiuiJZ29R8PAiZOnMT49g5v37uH21hoaPY7CdCQdhD1L/r7ZbOKb3/ymCH9YWvXcvJStWT6+8/+Lcx599FFMFF0cL1mYLCtrPAJmqVwUcY+b82TsJlcqCaONNQNrmzu4dWcRL776Ot68cEmiv/h3rW4H5x4+i/d/4AN4/c3zeOGFb2N8rIZmYxsF10KtUsH3/8hP4gPf/2lUxqYP/bN3tAEHdwdGgHlwz92hXnnUb2N7+QY+/7v/HI89dgonT5yGVyyh3ezD90OYlourb13Hl770FVy6fEVMB1qdNmbmZvGzP/uzmJ2bQTXnwO7uQhv4MmO5tb2DVquDZreL7UYHWzstLJw8g/c89yEMUgPnL17Fq2+8CdPJY21jG42dbbzz6cdx7/ZNmb38xMe/V+zm6Db0wre+juZOA1PjNTzx+MOYnpgQoKT9HI0BCIZ/8Id/hG9+4yJq1RxmJ1VGpwlNgIuGA5ub2xJ9Reu+zZ0dBGmKH/mJfw+1iUnpp16+cQ1vXr2I1ICAV6lUwvjUpLBHGjG88sorWFpaQqVSw+zUtCSVkGHSFejDH/4wTs9N4a3vfBl+Y10ek9FnU1MT0EwDXq6Aylgdqa6jH6ViAdjxA/G0Xby7jD/6whdx48YNKb2SmZ86ewo/+e//FLyCh6999ctYWVrG+uo95G0Ljz7+NP7WT/5nOPP4s7BGUV6H+nV70A9+BJgH/QwewvWnSYTIb6O3u4Ev/t6/QL+7henZOQwGMeIowaOPPYWJqSNo7O7i1s27WFpZlfLphUuXRN353/zjX5Y3+UGrAau7I2YHZItkl+z9tXo+NjZ2sdFoCrt857ufg1eu4+biMr7+7RfhuHk02z42NtfgWBp67SYm6jU88tA5Ef3cvHoZly+dR2NjQ6LG3vPuZ7CwcBQ9v4O5hTlMT08Li/z8H38Bd+8u44nH34H56Vn0Bz0EXSpyqdLtq8F/1xEbvKs3b4rbzz/45X+CRrOFF195WQDL7zTFaEDM5A1lNsD+ZJxEIr65evUqqpWaqGYZ9WXqluzBBz7wAcxPjOGFr/wRVu5el79/6KGHcPzoUTFAyOcLmJiZFXabGiYS3US3H6I2PiMOQ7/1u7+HP//zL0lw96nTJ3H0+FH84Cc/iYUTC3jxO9/Ct7/5LVx441WkYYyP/9Cn8NEf/yymjp6RedHRZbQDB3UHRoB5UM/cYVp3ymDoSEwFOA5Bo3X5am/ixa99Dl//yp9LyXJ5ZQ31+jh+5rM/j1OnH5KAY4o+ydAajV18/etfx6Urb+EXf/EXxYAAQR9mtwG/1ZASJvt9FAhRXLPb7IjQpzsIUZuYRq6gMh6vXL2BfLkmwEoQXlu9Jw46zNx0bB2DbgfXLl9U640jUcPOzc9ibm5W+oRzR+dhOiZKpQouXbwihgenTpyWsY/N9Q2Z46TzEHuYxQrLtx24uTwarRaWNzfxqZ/+D3FnZQnfeeEl9P0uTkxPQYsj8Xkl0LKX2g98YbzDGDICKUuxatRSF8BcmJtHFHbR3b6LJOwI2BJUpyenMD5ZR7lchZVzUR+fgpXz5Ni3m204hSo6/QB/8oU/xYsvvoh3P/MuPPHkY8jlXUxMTWJqalIMDy69eQG/+9u/BU60/vBnfh7P/cBnUB1FeR2mV+0DeawjwHwgT+uDcVAEnTTwgWgAjdeBD41uPBHTSXqI+y0s3buJL3/1LyTf8tqNm6jUqvjp/+BnpJfX8fuSTMIyIIHz4sXLeOE7L+HHfuwnZPCfM5GD7XV029vSA2QPkaBGhx/OZkq81/YOmu0eklRDZWwCt+/cA0xL1Ksc+uca6dU6MzWBwPeRdx1sri6hUi4hGHSF7VF9W64URU06Nl6Xnt/4xBR2d1uwNQdJlKC5sytZmeViSUZhuL5StYJ7SytwC3mUamOIdB31I3Pi8PPmlSsoex6SZhN5QyWKkCUmcYh+0FdjJF6W1WlZ8oGAv+eYimlaKOQ8NHbWoSdtjI2pGct+vyfAzb1jeTdhmsn4tPRODdfDTruHSLOw2/Hx+hvnpez75BNPIJdzsdNsiKqWDPfJJx+HY5j4jV/7VbTbAT79C/8VnvzAx5Evjz0YT8zRURzaHRgB5qE99fv4wNMUyaCD1O8AnQaMQVexNc4/RqGaE9RpMBCgvbuN67dvQrd0XLh0EYMwxPMf/pD09AhyhXJFRkFYimy3erh69Toef+wpcdJhxFansYlet4Vw4Mv8I/1dOdYxTAwhIyObJFsrl6q4vbioZiGDgbjzpNDFoJ1/53faKHiOiF1yto5WqymMjSMYds6Wof9CqSKm7/PHFuB3eli9t46gO4ChaZioj4shO8VHtNsrlksY0Lyg18PEkSOITRPbnQ52uh1cuHwFlXweWrONskNg5Law/2mJqRGvCda0+SMAxmGIXD6PrfUtscPLuzn4/Ta01EepoJJTet2OGDLwbzzHhem48AQ4dTheGSEjwZycCJ+YTsIPFowx297eRGN3W/qZK+srOHn8GJ58/Am8+vJruHVrCT/6H/19zJ17QomXsmoBKwVkxVTMcs6ToMzRldFltAP7eQdGgLmfz84hXVvU20Ha2oS5u4Gk2ULU7sqMom2a0tPTxJotlf8FWoSW34Y/6OGNC2/IKMTDjz2Caq0mGZgs0XYpAtJMpImOtdUtFAplWIYt9zkY+AiCgTBFzk/S9zUkm6VVnqmj2+7IOEav04VlG9jdaUnZlsDiFQsIEk3YKZkZx0ZCv4Od7W3xkSVjq4+NwfUcAasIHPSvItJSUbL2Oj5uvnUdruFgemoKtXJFmCb/nmzQchwUKlWsbGxgav4o1ps7CHQdt5aWcPHyFUyPj6O7toGpahWu68gHgELBExMEPrZh6CiVCxgbG5NZTLLbzfUtWLYNx3LA8RzPpa44Bt0baC3YpbVfvysMlfuXy5fFGcl2Swh1A4VSDbFpYW2zIbaBOg0YBj66/Z6s+eVXX8Li7Tt45NxDqFWnsLy8ge/5iZ9DdXoeaTiAFoeyR/3mFmydLDgPzfag54uwy2OwCjWYoznNQ/rK3/+HPQLM/X+ODtUKE7LJ3VUkS1dhdtu4c4UzfToM3ZH5QLr18I2cb85BEsLM20i0BBtb67h8/S2J3lo4uSDD9bR5ozNNmhhwnLz007a3mwgGMaYmpsWjNQhDRGkES9Mk8iqkH2yrKUkjzK/sdzuYmZ7E1sYmoiiUNJJCuYDlu/dUj1Q3pfSr0/88TaSvOPB7KvkjCqQvSIDKFfLQLAOu54mhwPzCcbGzW727KgblM9PTYiqwsbaOKAiEvXV6PYxNTYiH7Nyx43j10iVMzh3Bt15+GVeu38C5Uydh+AOUc544DRH8x2oVlEoFmhvB81xhzSzXkgVz1pTh0uyfst/ZbTdR9FwgCcThKOGAJi0LtFSOhwYIxXIFqWaKsXur25f+rVeqSG+VZdyg50tySavThGGbOP/m6/j8H/4RbNPCiWMnUCxU8eSz3yPg3d9ak3zQvMlEl47kZBYtBkhrMCpFpLVp5I89BnfiKOziqHx7qF74B+RgR4B5QE7UoVhmmiLaWYG5dgPJzYvYuruI7Z1dOBSdwJRSbL5Qhuk6SGQuUUc/9FGpldHt++gFfWw1Gjh26jQsx5WwZXrF0mwgpQF7qqPRaEl6SbU6JoYGlmOKN7shXusRQpqR+z0Mej2J6KJShmAShgNhbhpLihR6JqnEPNMkgWKaofcqx0GCLGeTRgRkd37QQ6FUkpnFy29dwZmHzqE+Po6VlTUkkYZ6tY5SoShhzGS0QZ+sN5Cv6lhNvGR5vHfX1uCHIdo+fVuXcGxuHhY9cqMYaUSWmAg4so+Yy+VgOwRLVV5OySLlo4emIr8k+iuFRWQlQGbf83ecPtGpZqVFYJqKSxJdj+I0gWN7cLycZHL2ewE8K49+tw/LtUCU3dxcx5e+9Of4zje+g/mpcZw9cVKUtGOVCipMTMlZYnLPDwSWBuTjBP1eCx2CdaGA3ORROGfejfzRh2HmK4fiaT86yIOzAyPAPDjn6oFfacJ4rJXrsK6/hvbNK9hcXxegcPIFmSGkT2rOK0i/iw40fMdN0kD8TP3+ACES7Ha6OH76jAhz2r2+vNEXSzWANm6Gi3a7K0xTAWYDlkOGmsJM6R8bSVmSQEkjdQFK5lpGKiA6jsMMeFIBEgqJGJQcR6kCuLAvfTwCCy/8L4GoUMpLD5TM9PXXX8d7n3ufgBbDqouFGirlGvKeK3627CMG/Z48Lh1/uD7ORTJIutFqYrfTg1vMS1rKdH0CzY0N6KHyoRVrO51h0CqUmuBJ0FTlawJmIoDJfqcAI0FR+rWKVarvs9/p6vtYvHQttf/MCLUdAWN+SOj3QnhmCX0/QK7A8GkT27vb+NY3vo43X38Vx2dnMTtWR8nzMF4pC/NlGZeKXPagjTRBurMjodbNsI/dbhOFyjic+TPIP/V9yM2chJat74F/8o8O8EDswAgwD8RpOhyLjHtNpEuXgYsvYufOTTSbbQHHXLEAw7AQs6/HuUCd5t8pUpMEMEC+7CEIY2iWhe4gwPFTpwVomVXJ0AyyTPY9Hbcg6tfBIMDY2LiMb1CIQ8DkmzdN2CkuShkTFsfQ4lhSSDjnSDCTvEyNUWAKMBOSOjgIQ2VjNxj0lYE5wcAwJN+SoDO3cBQrKyvwCjmcP38eH3z+ebGtI3hP1meVHZ1jyWP4tNmjApjALbmWFAy5IO1TzHIZswvz8PsBcqaNfrPJuRkpFyuT9URUuSzF8ppKWQKmHBvN1gUoFRjugSZvkf1Obku1LbO5+PMMMAmsBEyycwJmTF/bXoiCW0bYT+B4NgzbwM7WJl568du4e+s6TszPYbZWF+VwLZ+Hl1clYoIwTd25v3qvD8vQ0IkC7HR2xbjBYmn2mY+hdPYZmLnC4Xjyj47yQOzACDAPxGk6HIuMOtvQ7ryJ3st/iebKkgQjEzBZzmRZkIVFvnFzrpLD/CwdBqEvzCXWdZkbbPV9HFk4gdS0JPeSgEmnGsPkwD7ZjYVWs4PZ2SMymxjGTB5hPVbFUREwdV6zRJgk8LtdAa+QoyxRIOHJzIFkaZaZj3GkIaJxeqjisITlmTpMKj+z0uPMkWmsr2+Kf+3q6iqOnTyGzbVNYWmT9WlZF2PJyG77XBPDrMMBYvZWLUv6nzzmXhDizcuXcPzkSUA3hQXnTEMyJ6NYASZBTad2V9dFeES1rAClyphWIJmxRx73MNtSJZwokCRocqRESrksyVJkpavUEwImWSLX3usGKOUqkidKlTIBem1lCW+8+jLaOw2cnJ/DkXodOcOAZ1uwLMaXGXIegwwwc/TQjQL00kR6sAzgjk0b5aeeR+Wd3wurVD8cT/7RUR6IHRgB5oE4TYdjkUFzHcnlb2P9G3+B1sa69C6pEi1VKpLxSFbCamc/jOCHkbxBMzqrUi1ICdbi2ESzifEj8zByOWi2C2aJ0JWHpT2GWbmOJyYGp06cVGXUKJQgZcZ5cdSBzbkhYBIUgz7LrANVamVJlrcjy4wTGVsJIvb5OOLCWqZicGSWpsExEsXQbLJHgloaC/h0/LYYFrBsOlmfoqRJEkQI1sFggH7fF7bJ+yMAeoUCYopwkOL6zRuoT02iWKlIXqfFIiv7qey1cn9SsslYAeMeACYCnvdZpbQtVc/TUoCqLgog7wOmWj/XzEQVAqaVASZ9Ztm79NySMG3DJKvWsHzvDq5cPI+cpglg1jxP2LvOdUmv1ISm60gMxXDNkHuWohuGMs+qhSFMw4Rx5BQK7/0k8kdOiShodBntwH7YgRFg7oezMFqD7ECws4Loza9i7VtfR4ezjYUySpUyymN1YTWS4sH0jWAgDJO9L44qsNTJN2CnUMR6q4X69AzMYgmWV0CoadhutqAbtoyCMNdxY30Ljzz8cBbdRXiIJV6LIEjxDEGR4c9knVSs8nHJMAkYAk4EmDghz0S/n0DLgp+F1bEUyzFRgkL2Pt/1O6IkpXiHs5t37tyWjE2WYscrE/LYZLdkfkkYidI2GhDqU1GqMsCZlzBNsNtqinp2amZGgVuYKVuz8ilnGyWRhKvjfRLABSzTPdDkfQlgkolmoiB5gLcBp1q7AmKWhal0GgImgZ5uSDIrmquIQEju39Bw5+Y1XL9yEROlCk7PH4HBPYtUb5jr4uPpnHWlOtbQkQbZh4i+jwGdl0TEFCGtTsF99uOonHvnaD5z9P6wb3ZgBJj75lSMFhLurCB848tovvESOpx3tB2Jt+L84BAwyfRoXB7FVGxaMkPIN+teFCFXqWDX76M+dwSGV4CR95CYNnbaHdiOh9XQHGUFAAAgAElEQVSNdZQLZSwvL+OJxx6Xkqywp6wcSxUsAZMARqCQ8msSieBHMUyWYlW/j2CapDr8gAyJ+ZVD5el9UQ2JJw0Buv2uGAEQhNjrbHeaYm6esx1UCmUEA5EwwaQZAzMwexT+DPaUrYZFENYlCzOX9/Dq669h7uhRAVwhhACMjIVxNETYL5lwQhZuwMhKtAo4FYpzbISgynEPMsthCXYInMPbRcIqLWHRDI0mcyZgsofZ7fZQKlZg6ZZSECPG1Utv4uaVyzg2PY0TR2agDfpI+6GUXYX9EjB53mxH+rKcAqV3LfuztPgz2A9ut2FWx5F/7/ej9Mh7YNDwYHQZ7cA+2IERYO6DkzBagtqBsLkG/7UvoXfhVbS2mxjEQLlWE6caCk0i9hIzj1T29/KODUdXILTb7cIbq6GbAhMLC9BcF3Bz0F1PzNSprr27vIxSvoB79+7hiceeRKfTkhLjsHQpYp4oFmAU8Y4AD3uTEZKIKlmyTjYC6W1LzNQAk71VTWYwCToEIjWioVgXBUC8iGDGNiVcmbZzPB4CTT5XUGySpVvbFhbmd9sY+H0pFfPDAUu7BKlBFODo0aP44p/9KU6ePoWx8XEEgUoLGQIc66PSy8xAn71YKX1m/UsZF8lKr1wrS6miopV1qtIs1y38MisJi1AnK8kOAZN9S6ae5L2y6nEmEXQtwZXzr+MOR2eOzuHEkVkk3Q4QqP2T+zYMaLaJlCAMHVGiiVcu7QLTOIQbp4j8LlCoIveej6H8yLMwHG/0EhntwL7YgRFg7ovTMFoEd4Cin/DyN+Ffehmrd+4CmoXaxISwqoKTg4YUg05PUj0IJnSK6exsCwD6UYza3AzGjsyjPD2N/MQk4OUx4Bu1qdgMI77au00pxeZzeZRLRRjsl2XbT1Dj7QUgKZ5h3zD7txorIRgRTO6zyljjHCMFNroobjm2kdU7Vf/StsVqjgyVjJaPTUAlYNKejv1Lk5ZzDFXWWAJWDJr9yaHQyLJovOCIiIh/3+t3lSLWNFCq1BQQDZW7ZJbCmFWplutX/UwFhOR0e71MmivEIZe/N4eptiJRAis6/HD9PKRsl4Yzp3HWNzUMpZqNggE8U8fl869gc+keHj91EoPmLuwwRs4yYei6rIvAS4YJhyVZE6lmi9kE3Y92G9vQ+wNgECBXn4L9jucx/s4PjwBz9Pawb3ZgBJj75lSMFkIzdf/qi4iuvIydpRV0egNMHZmTN2SqLOPBAJ3dHbR2d8SOzUhTdHe2sbGxAT+OUZqexuSJE5g6fhyl2SNAvoCYYhjdQKrpEpfFlBIqUR3LFgNyASJdly++oYeJSv2Q8qGmCdARPDlrOQRP9i+FXbIUKqVF9ff3mSUBSgHOkK0OhUPSEzQMOBQpWRYMzYKZAa7cPuKISgaYfGyWiVOWRQ04rk1kwyDwBVTDKBJjAyXUUaVVohtvP7yo32VGBBkYyvdZKZd94L0xk2wGk91ZXkQMpSvzAoqa1DiNpgRG/FGqwbRywpxp+OBoqQDmxp07OD41gd2VZdhRinLeQ9kryHiMGLnncoCtIsM03RbHpMhI0Ou0YQwCpP0BnMlZeO/6CGqPvU/8a0eX0Q7shx0YAeZ+OAujNag36DiEv/gmkrdeRHfpHjYau5LqwQQRz7GBIEB7exPN7S2ZV6QRe0gRTKeDTpzAKpcwfuwEjpw+jcqRI8IwYXF+k9OJmmJnna58aby9Zcl9q5lJ1YeMaWBAYMiYGBmlzFwSizIwVWxT/Vw3zD3GJqCZ/d2QZVLEI2KlYQ8vy61k65CszdJtUY4OwZb3zXgs5mFytpJ9VBoiENS8/HAGMpRyMt2N6B4kVWIyQI0jJcrZZ1iiHTLFIXAqIMzmMgn4VK7KuA57r1kfNkPTvSETHj8/Aohxuvp7AjQf17ByUpJl3BrCAa6+/go2FxdRz7tYvXYNTgQxaJ8anxABF4VZVDMnliUetY6dl8DuASJxOop9H5HfQ272GOof/jFUzzwtoqrRZbQD+2EHRoC5H87CaA17OxBs3UF85Vvo3b2N7UYT+WJJFKYFmq4P+mhtbaCxvopOcxfpYACdht6Gji4BLOehfvQYJk+eQG58HMh5MD1PXIH4hs++HnuDvU5L5v34xp/L5UV0wjd9MTHIgEDQQGf5kuMoFNUYwqiG/UHOXoqwZqi6yY5AjWtkPUACExWrqbqt0LLsQqAi6Fim+12AyTUS2NmrpWECsWsQ9KSsm8s5cHOO3J8yjQ+EIcs4C4utegqdJvOybsWAeZ2R4ft9zrc934KeMlqXcnJWmiVwvr2nKaVUVnl5DNmdcV9Y5mZJ2rFN+fDSb+/g6uuvobW2gqqh4+5bV2CFCSYqFUzWx1GujcGlepkpK44tH2Q4g9rqdBDoqTKI8H0ZGPVOPIaJD/0I8tPHRq+O0Q7smx0YAea+ORWjhXAHotYGoluvwL9zDZ1mU/Is8zkPeTLFbgc7K3exfvceGtvrCLtd2Ekixgap7UIv5lE/fgLVuXkY5Qr0fEEAMxCgYsmSPuMD+N2emIbT+o4lVQImxT9kmUPAJMNk787QLTU2QkAi+BA9sxKt8pYl46IiNVOmChtVClvpBUZUoqouKRk0QU7Ksizj0kzBygvIkWHyQkBmGTjiF52FUvZN+Ti8HwKiKpUSHC1dlUfFfUhT4ywCZBlgppomozTK8i7rXbIM+jaXH9VHHbr6DEuxQ9WsYpMCmAL8ah/l/jRDOS6lGjzHgZWmaKwv4a3XX0HS3EXVMrB05Qq0XoBqIY9qZQyFUhFuqQS3XIaZ96AZFhzTkRzNgZag229j0O3CqtRQfddHUX/i/bCL1dELY7QD+2YHRoC5b07FaCECGP02wuXLiBYvo7+zI71D+qwWzLcD5iIamxuIem2k/gD1iXEY+QLcel0Ak2AZuTm41RrsAiO41Bu9mAOEsVjPRb2+gA3ZJ4f3CZycNyRgxuJ0o8zHKWpRs4wEGh1aqiuQkj4mS5QUCKnZzaHTjgLMbLaSClUBw0RYo4zERFGWImLDzZWEHf6bAJNKXU1nnifBi0BK5tmHa5lwc7aMvLydSYqtnTBL9m2BYrl8HzDJIilSMhToUQDkszzN8Zk4VgwvVj1bmizsufwor/nsch8wmZPJPiSFQVYSY23xNu5cfBO5OEJZS7F4+TL6jR1UcjkZP8kVisiVy/BqVbmmT66ZGkgNHT0EaLR2ZJwmv3AKU8//GIpHz8mHitFltAP7ZQdGgLlfzsRoHYqFJTGCzTtI715AsL2O5m4TpVweRYpEOh3srt7D+t1FNLfWwXKiCx21+hgslm6nplA9uoCebqCj6ahMTcOjI07GjqRISYFJ30c6UA4/nf4ABgfpaU9HAY9uCrMcAqZpunsAxE6hJqIa1if57xjBgNmZmZGBWNMpE/SsKiuZmgQ9MT9gqZWpJ4mypGNkmcdEDo3m5up+7zNMGiWE8re6kar7SUMEg570+ojBKuxaiXFk77IkFfYtpeeoAQHdiwRRDSm7KraZXUNHgTOO2dxmnKioM8UqFes0qWgVr53h39K+iB8AdOn3ao4rx2omEdYWb2Lrzi1M5j3kgj6uvvIqdpZXUPE8iRRj5JpTKaPA/E7aHTqulMYZ19ZBgFavBT1XQu3p96P65AdhVyZGr4rRDuyrHRgB5r46HaPFcAei9iaS5QtIt+6hubmFgptHjkP/zRY2F+9g+c4tNNZWEHY6mKyPCWA6dAWanUX16DyaYYwOgIn5o7CKFURDECNNIsMc+EhDjluk2N5pCijwTZugyfIrVbVUvrLM6Tg5AZ5UgJIVUqWQFcEP+4t+RwFkcr+nKR1TslICiaGUtgOfYKnY256iVjdRyFcFzEREI+XX+yVZethyEMMkS7XIDmPEQYD+oCNgSuFQwfOkXCv91WH5lDOh2VSluPTITKVinHvzmizRcg4zEep630eWfVCKf1jZhVq7Wi/HZ9jbVDFpAsopB0SVA5MRhdhaXkR/awML42PQ2x288a3vYP3OIqr5IqqlMrxiCbkiWWZREmhkbWEMM+egHfloBn04R05g6oN/C8W5M9BHhgWjN4R9tgMjwNxnJ2S0HCAJfUQbV6GvXkZvcxV6bMDge3o/RHNtHSu3bmH93j30Wi1MTExg4cRxMV93qxVMnTmLxm4TS40dzJ06jVK9Ds2yZVuVWpV+sZGkkbBH2O8z7Jl4xfgvJm44cs3+HxkU/WyHDG14bgQ4M89V8XxlwgkdgcgIMyBlr1HKo5ECQJ9pJn0avZO1OVLGZH80ny/Jz5IoFfapRlpiGS8JgoGUS3OuLWMlZIJUzNLflrOoXHux4MLzlFKV/VFJOKE5gKHSRYYqWSX+IccemiooQFcOQeyB3jcrUGbtyrDd4pDm8EIBlLBvXURBMb83XOzu7mJuagxXzr+KzsYajk1OoObmcemlV3Hp1fPwbAcT1XHkHAqcdEzPTsl5G9AuDxCXnx5C2LOzqDzzYRTPvRvOyHR99FawD3dgBJj78KSMlgSEjUVoy69B21lF2IuQBLFYrHUau9i4exfLt1Ufk5FRs0fnkS9XMH30KKonTmJleQkr2zs4fuYcqlNTYsfGN3oCF79kvlBMCEL0/QwwNR2macO2GEHlZjmRunieKts4Gb5QbG0YIp3GiAJ6tmal2IzJGhIrmXm4QqV8BATAgRpHobiIj8OxFqZ3DJW3Mr7C+6SXqgh9UuRzrooO85VZgWvbe+DY81tI4gFyng3XchHSiYj900xkFLP/malk75sVDPMvlZkBbfNU/VgJfcT2jxFhWVmZgDksL1M4xIi1mLczqJDVYXklbG5uol7O49rFN2GEfRybmYE5iPHtr/0lNhZXkPiRVAk498p+9PT0JCbGxyQphhaHvbAPq1JAPD2Hsed/BMX5c9CNUe9y9D6w/3ZgBJj775yMVkQ22GsgXrkAa/sOgp0mQj9AMohErNPa2sbG0ooApm4DBsUjjouFM2ewcPYsVrc2BTCn5ucxc/So9O4o5BEGFqhxEqVqjdDPxkuoimX0F4HMtj0Rm7AMySlFcbrJxjTI2IbKUZ4o5muypCnKVUZWZSCkDMk5mqhYpUoTIRlNZT0cpxi6AFEIRCZKlkjlLQFSTxMZGUnIhiVJRVnguTZFSKm4BnU7LUSBD8cxYJvO0LVP7p9rpEH6cL5T+q9vU8uyrPrvBphZVgj7lv8GwNzZ2UHBMfDWm2+gaJniIZt0+3j5G9/G7moDu5s7EkE2ltkcTo3XUSzlZI3tXhcxFb+T46g980EUn/wQ7Mrk6DUw2oF9uQMjwNyXp2W0KJY4g61biBdfR7K5JiKdsDdA6IeI+gPE4nRDM3IbqxurWN3cQnl8HKcefhi662CHOZaGiTPnzgqjGwJmRDNwsieWIRP26MgOlQqUylKWYyU303Jgmsp0PPPKkZQScbqhEw6t4dhhlHgvgopiaRJEzZ5jFsRMdkbzAj6GuigwE5Uqy6ZahF6vJ+VWiQFjaLXflbETmip0WrsCnA4VvFSv0qovKyfT2CCN+oolZsAuJVb2G1WhVT4EKNWsKq3ugaYUYzneMlwXGSZLs+ovhwxTBXuRVv/NgAlDMWDbSPDmKy+hmnMxNzEB+H3cuHwNS9fuorG+JR69MzMzmJ89giIDwU2O30QiSnJKBZjzx1F7/w+gcOwR6NbIbH30DrA/d2AEmPvzvIxWJd6yW+gvvgF9/RYMv49Os4d2oyXAUS6VJDjaqnpobq/j5uIdNJotFKs1TByZkdLhdmsXjz/xhMxZEijIMOl5Sp9VMkAR8oC9PgZBZ3Z3BE2WZjnXaWbqVfEnZ0mW4yMsSaroLPY4Y4pmyN4ywBwCpVzTQCeFZFwSMCQ5RFPAJ8knTA8xU/Tp5JOo3EkCIk0JCJg5z9kT3bCErMrJKawsQkwGSKJQrPQGg0BsAOnZynKmWP1RvEMjA2HIFP283dBAAei/M2AqtJUybCy6H13+TcCk1WA88HH5jdcwOz6GkuOgsbqBtdtL2FrexKDbh6UbmJ2ewezsrBi+9zMzBpoe5GdnMPaejyD38HtGytjRK39f78AIMPf16Tnci5NB/63b0JYuwG430d7axcbGlpRBmdRRnxyDVqEoJ0HY7eDa7ZvY2m6gNjEOp+BhZXUVTzz9lDA3SdwIBmJuzrKnKkhSAONktncsl1Iko0CGRgZkZ2+fAxTtqfxfBUgTgJKYwGRICVWZnCfC+KTcmabiLESGSb9Ym2bjzIlm5qPOsqyFVncbmoQvZyKdSClpmS3Jn+2Vfwmoli5skz8f9FRJlipZmhPQHjBOOa6iwJKCIjLrIcMU44a3GRoM2aYp4yeK/iqGqf4tDJPHQl+E4dPwbwBM1ytLD3Nncx13rr2FM0fnEfBcXLiMxuom6sUxeFZevHuZBVoqFxDGAXy/JyxzbHIcztwJVN7/CeTnWQ1QAq3RZbQD+3EHRoC5H8/KaE17OxB1G0jWr8HeuIOwuYPmro/+IBDLvFKtDKOcU8HHto321iYWl+4hXyjAcG3cunUDZx86B8/NiXF5GoUCmJITKemNhAK+QbNMqinAJEDQNcdQIEvglIokBTkSHM3/8z+ZLV5KB6D7/q2SCkKlrIBOIuBItkiVL00C1lfXsL21JQBaKBdQKLsolj3pZ7K0SSAWBS0TPIRtDmA7ptwHGTK/RIkrs5RqrIQqVQImAZxCIjVvSaZpyPqHaSPDsRIRAmWxYyZLzhki/psBkyAqNkJ/jWE6uSK21jewtryIty5dwMLkFDaWl7B08y4quSLOHD+LybEJMWfodrsClkHItJkEXslFfeEYKk+8B/mH3gNrNHc5euXv8x0YAeY+P0GHfXk0Moiaq9BWLsNsbyPtBxiECWBacLw8tJKHzs4W3FwOuqFht9mEm/cQRANcvPQmjh07Bs9zZaSBoxIsyVLwo1BQlxBoZZunHHwSie/SYZgELZUoct8YQAl8WPpUQh+WXYcmAKo/KL7liUiF5JoATZeesOvj9s1beOk7L+DSxYtIBiFKlSJ+5ud/GvWJMUlkYS+TaygUCqJ0Hfi+fM/w7G6vgxs3buDOrdsyN/rQ2XM4fu4ses0mdppN+J2exH85DhW+2ZyoYUhpWR2qKsdyZSqnk6xYqXmHfcs9lSxjwKi2zUBfqWT/OmDSFYmmC0yAIWC+/uIL8EwTd2/egObHePad78aRyTnMzs4hCCLcvXsXjd1tBEEPds7ExOwkph9/B/KPPw9v5tRo7vKwv9gPwPGPAPMAnKTDvkTOZYYbt5EuX4JNl5tCSQlbdJYxU+y0msK4OCbS63VQqVWl33jlymVhiWfOnFI9yygUb1ayNoKQZEWKR+yQJWamPbFy3CEuvj3+S9Vj2bvk3ymAdAiNJJwc6RiKavgPlX8lvct2axdJP0BrZxcXXz+Pa1evimq0WClh/tg0zj18DkeOHNlT4kopNosM4/2ur68L2KytraHbbsPJ5XB8YQHzCwsY0JqP/VP2Y5lWopmqV7qXwKLCoQXMxWxWpZootx6yYVWqFYkQgZZlWSnF8jbMHDXkWIajNJL8Iubs9JLV4fcjsfy7cuFNNDbWEPV6GLS7ODY1h4XZecxMzYqwamuzgeW1JXT8DvJ5F/XJKsaOn0Lh4WeQO/YEnPLI1eewv84PwvGPAPMgnKXRGsHSbLR2FW5/E2m/D80rArqFwA/RbLcEDAiAHOgfG6tKD/DW7RsyfnH69CkpaUp8cZKKnyuZI0U0VmYXp8qqBD9lnr4X38V+IEuqBKBh0jR5miRipdAimg4ohx6lRs2YnNjnpdJr3FhfR9jrI2fZ0AnGjO2i2jYNRRWUy6uBfoJ7tVqF7brod/vo+D00Gg1ZKxkof8+1k9Hx8cg0LRorZOXVoYMQj13A0VDrJqMc/m7Yxxw+pQiYErDCfizBUlFk6ByRoVMRBU2ZUQOZ6F8FTIqeNtbWceH112ClCWbHJ+FqGmqFCjwa57t5tNtd6bO2u10EsQ8376A0OY78yYdROPce5CcWxIh9dBntwH7fgRFg7vczNFpfVj5NEDRXkW5cgRNzDINhih6C9gDtbk/e8DlmQSccAqbr2lhdW8by8jJOnTqlAC9jWgRRwzBFXeraTCK5n2YyDEhOM+AcmpQP/17RMuWCQ0s6LUgFMKMkVt6qWf9QyqKJJqXg9bU1NBs70sf0bFeiytIoxW5zG8VKUXxhlWpWE2CUcZWYIyEGen01BkMw5wcCvz+QPibB0+b9KEshGOYQHDO2mM2Gsh8q7NLAd+3BHhtO/u2AOQTOYf7lXwXMNDFw9/YdXDz/BsbKRZw6egw5XUfOcJBECQq5gvRXe4O+9C9DhPDKeeTnjiN39lnkZ07DcIujZ/loBw7EDowA80CcptEipcoZ9RHsLMPpLEILfWDA6UobYUCDcmZVKiefQrkI2Ab8nW2cv3gBJ0+eFLBgOgavu74vpgThwEfOMqS3OYz/+quASWUrhh4/GVByflAs9jgqoiqXAnL0a9UsU5Sempi4EwkTDAYhgq6P5m5Dros5TwwIyIY1PRJwpzhn2C/tdLuips2Xitja2lJJImGCMObjKjUuS8qW4wjL5DGZJv1eWXKlcCkWsRHN1Hk7qnY5ymFI5qXKvRwaMWj0g83KtAl7m3tzmKr8rInjkOph8nf02RWnH5bDNQ3dzgBryyu4c/MGxstF1EsVRL6PkluAqRuoFMsIE2X7F6QRTEeDPTkJZ+FxeAuPw61Oj57cox04MDswAswDc6pGCxXQHLQR7NyF629gsNuAo9tIWTjkQGFmeac5BLlE8jQvXrokXrNkZK7nwbAs9PoD6fVF4QAOZyqzZI5hComK51LCGc41ikI2UWbt7PwRmNVMZwgtygRDugaT6laKixgKbdIwQEO315c+Yb/Xw73Fu1hbWpbHy9O0PBigWiuAdV3Ofo6NjaFSrQojW1vbQK/v49q1G9BNBlzbAo625QgIDpW0Y/WaYpu2itmi2bvqtdJeL1am7WJgoFgoMzSHxurSuwVN1VVf828CTM55Dq3xhiVZzmHywwAZdWOjiZXlZWyurGB6YgxFJwe/1UKtUIJjuXD5QcDl6E4MzdaQmxxHPDEP78Q7kBubG5ViRy/rA7UDI8A8UKdrtFjuQOzvImjcg9HZgO73oEkgczYwyP5jSvecDpqdNu4sLuL4SSowLcljtB0qTvtqLjMKYKYx9EywI8IWEcIyfUTNWtAEXUV2qdBm8ceRWK8BggFTSCJouiWqWtPNyRdTNhLdUiblKdBudaUse+vGTSzeuo1Oq43Q76PVbOCpJ89B02JJRZmcnMTU7IyoZa9dvYF7y0syV0oAD7IILtfxUKlUJIzZMkwszB8Bh//pCsQRE3rr5mxLgJPqXJapDcnTJGBCxlkUYNJtyIChu0o5q3Ns5j7DHJZi0zD4LsCk3CnSpBssgLm9vosb169je20Np08soF4qYdDpCXDSkShn5+AVCjBtA3qlBG1qAfaxx5Grz0O3c6Mn9GgHDtQOjADzQJ2u0WKHOxD5LaS9BsKtJWDQQxp0gTgQ/Us/HKDTbqPrd7G6tor5uWlYuRwKpQrsnIdOz5fEEIICY6kMZkAmBEIyM8Us7wOmSgBRXq4CLYjiUOzrWGrtdWLohitASQGO4XqAZSFKdYQp0Gr72N7ewdbGJjbW1kQg0221xR2n3Wyg4AHVsodcvoharYaJiUkpvd68cRu37y4iiJT6NoyUO5BtO8jn88I6ySBPLxwT27xSoYByuYhKuYhSkWIbB7alwaZ5ga4s8P4qYMr4zL8VMOkkpMQ/wu6RyjGFYMA0BDCX7qzi5o0bwiqfePQhAUy/2UTe9hCFIcqFIkzHhlWpIZ04AvfkE3DH56E7+dGTebQDB24HRoB54E7ZaMHDHUjCPqJ+BzFDlTs7iAP2BPken2DQ99FtN7GzdhclVxMGWq6NwfE8EdKwnyl5kGEgYhyVc6mUrWq+UqEEb8MYsDgcyLA9f0dhEYfw/V5Ay1RolgdLAJMMMy99voC+r7GG7cYudndbYi6wtbGFpbv30NikW1GAeNCFkfZQKeXguh6K5TLm5ualtHrr1h1cu34dfelFAv6gjyCIYbs2KpUaXC8na60VCsgRRAuKeVbLJdQqJRSKOTi2jqmJcZg0NyfLpPCHwKnFLMRmrkac25SpUUaXKFjMXH7ETJ6JJ5lKloAZJUDA+DGVmY0337goZgyuaeCdTzwGz7bQ3t5GrVwTBbLrFRA5OWhTR/H/sfdmMZKdZ5bYuXvc2CMjs7Jyq8payariViRFSZRaraW1tLp7GtPw2AP0wMsMPB7AMDCvNuwHe+AnP/hlngwM4AePYaBnsdHT6pZao26R4lYkRRZZZLH2PfclIiPi7otxvv9GVlKjbglqjdRVcaOQyKzMjIh7/3vznnu+73znOMeehnvoaCnyKf+EH9kVKAHzkT105YaPV4DOPVkxY6lAjdZ1qYh6/L0ePvrRdzDfaai5yVpVDAP6w11UOb4xDNCq1hF4Qxkf4cgHBSqNmiss0rFt7O31RZDjOJaMeWxvb8ssZxRnsKsziHPOJFKtaiBME3hRvB/jtb62IWMVyiIvE+a7ubaOvV4feh4hGm6h4Zqo1RpSVm21OrDsCnZ3+1hZW8PQ8wSYQgZfk9bpmqhjWQLmg2pUzopyFEUEO5oyPlhcnMPc/CyOzM/i8Ow0arYGPYtQtdi15OBoJK+R6w6YpyJ2ehILVvjccrSEs600XjDN/bEdETsZOnwvlLW4dvkTeIMhpjttPHP2HJquK6w0TmK0Dh3CbpLDPXoWzuIZOFPzMOwiX7Q8fcsVeARXoATMR/CglZv8861ARiOD/iauX/gB4s1VUZJWG3VJOAkTT4AGCdCqNiVvkupRFEkgNdeRPmjVraDf7yszAMvcB0yqcSP6yNpN9Ic0Pw9FtcrfGQU+gpEnoMmZSYnuYq4kgFFvKOVZzirAgEIAACAASURBVFNWjAxOHsHSlVECtUccK2GvlX65/cEQSUrjAR1hlKA/GsIPI2GwBgVAuoVBX43UULkqM5aGCd3SRXlLIdDnX3oBZ08fx/xMG6aWoGEbqJgsOcdi2pBalcIiUIGmZLGwp8ueLc0eCqbNcvXY/F3GXUYBejtbuPHJVRE7dbuHcOz4SXRaLfT29lBrdWFMHUJl4UnYU3Mw611oDwdZf74DWP5WuQJ/y1agBMy/ZQek3Jxf7gpE/gArV9/D9Te+i4plYGpmGtW6C+i0yYthaQbq1ZoYDJjs97HsmEaoOraoVauuK4CpFQyMYx5buzsy3hHlBvZiHetbPXHgIROjOMgbjiTI2XVsuBUqRS0ZJSGDHfV76O3sSr+05pg43G6Jty0BlNmcfI1ata5CopMUfhgj58xolGCrv4ud3R5C9l0tE7ZVxb27KwiiWMrMBEz2Ue2KigmLkwDLRxfwwrNP48kTR9BuVNCpOqiYGpBEYr+XmY6UZqX8LJmfHEtRIyUES/rYjj1syS7HBgs0IqCH7IP1DRw99RQOn3wGTXrGmg7segum24ReqcGqT0Ev/Hh/uUe2fLVyBX71K1AC5q9+zct3/BWuAMFo+8F1vPvd/xup10e3O4VWpw3bMYQtkl0SMKPAk0QNqkvZs6w6FXGnsS0Lg+FQxjpYdl1b3cDq+pp4o8bQcXtrD7t7I/ijIXS6CHkjZFGI2e40ji0t4VC3Lf29GuPCGPw8GmI0GIrXLGcxu42WRF/xQZDjfCh7mJKEkuXwgwiwDBH97Az66O0NEcaR/D6Z5kcfX8PQCwRIB4GnDNcrjoyVxkmIes3B6ePLOHv6BE6fOILFQ9MCluz30mKPat6xhZHK6VRZnezpcnss2yjAPBAgJZDz51y7jfUNoNbB2S//AaaPPAHLrUE3OFrjQjcdMVQoH+UKPE4rUALm43Q0y335qSsw3FnBxb/4I6zd+AC1GsU1TQGl0WAPU82WKDnJNiuurfqYaboPmDRgJ/ujiXmUZLh+/QZu3LyN0ciHn+e4vbmNUZjICEfLddFwHLSrNRydn8Ox+Xm4tKnLMon/Ikiy18oPMlFmY2ppLvOKkjJCgCk8XtmPpIkCy510D2J0lx9HiMgcaUhPG8Akx/3VLemZbu1s486D+9jY2ha2GUkvNsZUt4Gqa+HE0UX8xsufxVNPnkIS+oi8kdjwhRT1SOyYYpQsS3NbZJQlihBHqtwcRcpxaGxBSH/b3sjH/NnP4fy3/gFq3YUiCq0EyfLP8PFdgRIwH99jW+5ZsQLBaBc3L/4QV978jhK+1Jv7KSCWBnQ7bWFU4oqjKQu6mutiNPSEWdI83LRdDAcefvz+RXz4wUfo7Q0QIsd24CM3TVGrHl9YwJPLx7F8+DA6dPPRNcSDATjLyJlPAqZt0TN2bIYAJB6de+g2VESIMTFFjAZUz5TbRLZJAE3oOKTT8xWI4hR+HAOmg9x0MBgNcfPeHdy8fQerG+vCAHuDvpRUkzDB3GwLv/XV38QXPvsiTE1DHPhotVpiWWdYtoAh95vbxpsJ3jRImdgfCfCKUjhVnrnMslxb30DqNvHlv/9PMXvyPCy3tLcr/+Ae/xUoAfPxP8YTv4cEq837n+DCn/2fGG3eQ3dqWpSr09NTiMIAs9Ndma+k4IZOAwx8rlI564cqgJlpYraLne09vPb6m3jvvQ+wNxghJ/Or6OhMd7EwPYO57gyOH57D4vQMHI6f9PeQRxxbYU+QIppcwIiB1uKaQ5u71JLPeUqDBNU/JHix9Mn5RbGyY3qJniGgV26aFIkiuhgI5LoFs1oVFe3m9hbWtraxsbuNlZUVrK6tYTAcyPGf6tTwuRefx5e++DIOdTtICJSGIWx1HF5NRsn9pRiKvq/s4e4DZRIJ0/S8EUbeAHsDTyK5vv5f/g9oz52Y+HOsXIDJWIESMCfjOE/8Xg57q3jnz/8l7l56A0vzc9ja3MXMTBf+aA+HZqfFNYdB05zhIHDU603pU+q5KVFbjl3F+uYufvTqm/jx++8j8CMJqbYbFk6ePI4jh+dhJTn0OEbbqaLK0q4XoEorO1NFbrEHqtPT1eJrEjGlEVm4CylVKtNUsjwpGGbhE2vz94GBN8DQGyGhJ6ulFLkJTeX5OUlFRcvyLHuZdAm6ffcuVtc20Wg4aDcaOHXyOL748udwfPkokjhCwL6rRds9c59RjnuozBNlD1clt8RiI0iw3Bv0MBj0kekuFs//Jn7j7/13cBvTE39+lQswGStQAuZkHOeJ38soGOLelQv45Ef/FsOtNbhOTQDKdjQ0W1U0anUVpizjHRo9cKRU6pg0OafNm4a79x/g7Qvv4YNLl+H7IapVBydOH8HsoS7ioYfexhY27q4gHniYnz4ERzPgmpXCHN0GnQPYL6RBO8dCRFUbZZKZKT64HOEoPvNnlqN6ixlSJDnN12MktAG0dLHSo90cFbPDwJcYM499RsNEc6oDx63IeMuVK1ewu9sTlvzi8+fw9a99FdPT0wKYDNaOg1D8ZrnPfI1RQIOGHDq3VcuFqdbrVbgVG9euXUXCnmYUQWtM41v/+H/B/OkXoItBffkoV+DxX4ESMB//Y1zuYbECu+s38cYf/wts3bqM6c60GBNUXAP1RgXNal3NIRZuPzpzInMNnWZXlKs0xdvc3MF7Fz/Cxfc/hOcFaDVczM9PYW52GkkQY7jTw9b9dXi9ITrskyYZlo8cg2PX4NbqqHDko6b8Zm1HpZMMervIEmWULuVYZmtmsUpXsQrFKyGTgJkRMJm7qRJLyFLv3r6Otc01rG1sYm80RKVWxdETxzFzeFae8/EnlyXxhP3JF84/h6985SvoTnXEr5ZG7ExMkQgwGPuAyZ6lpK/kzA71RKBE9fD6xgqG/R5gO6gvnMXv/7f/K5ozR8rzq1yBiVmBEjAn5lCXO+oPd3Dlwnfx4Q//P2hhKKDT7tbFsLzOuCzLgsHsSDLNJEcaZ2g3W8LOdM2A50X44OIlvPvu+2AE13S3g8+eP4e5wzOguWocRtjb3MWgN0DNriMMIyzOL8Gyq3DcGuxqFZZTgU4fW8OiYY6Ib9hjpegoI7uUMOoCMGlYTrcdKPaZ0m4vSxHEtMmLxFh9beUudntbIkIiQNY7LSwuLcGt16R8+8nVq7j74K5Y+Z07cxZf+tKXpGdLQQ8FPFHoS89S1MBhiKHPeVClshXxU81Fr7cjJdntnQ0M93aguW188Q/+Gzzztb+PSr1TnljlCkzMCpSAOTGHutxROv9s3L2M7/5f/zvC7Q2xv6vRx5XWdI4rYdK2aYkrD1NKkkiNlzDBhCkhcZzg4sUP8cbrb4m36+LCHL7w0vMCQIzw4jxl6EfwmXlZbUkPtMrZRJ2jIZZkZHJug7mZEhSmKVN0CoKUfy2TN2n0ngnDpFOPAFteCIIEOjWwv0gBThz5CLw9JFGkXH5MA2bFQa1RFdMDMk8C+7Vr14RlHj+xjM999mUsLs2LyTwtAP3hSJS4umULYHJchsrZMWByzIQsk+C+sbmKIAxQnzuBb/7D/wnzp14oZy3LP6uJWoESMCfqcJc7O9xdxfs/+CO89d1/i0bFRrNTF49YAiNjsegd69ClnIP7nM0kgJom2s2OgBpHSi5ceEfKp8vLyzh96gQ6zYawUJfgmmtI4hTTU1PEQeztDeV7KnJTF1bLEi90ZQBAFao46xQR1ipiTIl+yHjJ8igCEus8IiqDm5kWktCUPUS9YoM3AkmaCtDR1MB0TGS5hv6Axu89XLt5QwQ8y8tH8Oyz5zE/f1jSWDx/iN3dXTi2uw+YLDUHcYQ4SYXxsixM958o9PDJlUuway188e/+13jqK/8pGt358oQqV2CiVqAEzIk63OXOxqGH+1ffxb/65/8MDUuDW7UkAcSlmtU2RdziUpQjsScJzFwTezsO+ZN53rx5C5988on0/BYWFnBo7rAYp7NESqZG4wGC28zMDHTdEAZHGz0aI4iTT85A52K4n6kmLMHK2InqGbIkKxZ0mjIQUHZ7SvgjxgaGLkYGYxu7huuIUCjLc+lL7nl7YuOXIsfesI8bN25gfXND+pQnT57EsWPH1Pyl5wnrJKAKwyzmTT0/hB+FkviSZpzLpPOQjuGgh6s3r2HuxFP4vX/yzzB/6jxMu1KeUOUKTNQKlIA5UYe73FmuwO7abbz2b/4P3PjgTWGTjmtLRBZzJSu2hbproWJYCrQ0SKYk8yZZrt3Z6WFtbU0YaK3RglNrwK02pYRJ4OHIB8ul3W4XtmGK+pb9P7LVLIql3Mo0D4Ino7Iyw0HKJLFMxYlxBlQBZjGLWSSFEAQJkjQtIGBKugizP72RlEs5rsLnkWUSPEfBSNx/NjY2MBoNZXtOnDghnwmCNIWnAnZvbwC3xt6qK8BOwBTz+DCS3E8xYkeCza01JLqFl3/3H+Bzv/cP0ZheLE+mcgUmbgVKwJy4Q17ucDjq4+b7r+J7//KfK09Vx5FyqmWyrGqj4dpivm7rOpq1qhiyk31ahi1gOOwPEXH8giMc3VlU6g1lp1erCGhRfctsSoOIRuVrqnIlCYoUFYlPK4ExBcKMtnfKS9Zkf7PwcKU/OhlmLv6tOkyb1nkc3SzyOhlmLaYGQEiruyiSDwmZrjiIohCbO9sSRcY+KBnv0aNHlTkDICXa1dVVcQSq8WagWpWYr5EXYTjyRAUs+7rXR5ZGGOz1sfzMi/jGP/rvsfjECzBKQ/XyD2kCV6AEzAk86JO+y1mWoLd6C2/9v/8C77/1OkZ+gPm5GWhUoUZDHF2YQ7tZRzAaYG5mGo5lSMmWYBcFMaIwgc1SZcVFrJtidk7Wxtcl8zRMTX4uCleCJZTtnZRW03zf0SfLOUdpYGV1AxXHERbKpBP2UVn+bTUaqFcrIv7ha4rTgcacSoqDMmGzuk31Li38lDkCvyZA82uWgamOZYuUGZnM2xzHdfH3hH3u9WE3atBqddxZW0ffD6FrFvZ6I2HZg90eRrvbcCwL3/zH/xRPf+M/Q609O+mnULn/E7oCJWBO6IGf9N32ehu48pf/Bq99/zvii8rxiTjyoKUxjh9bwvRUC0ngY2aqjSrFQW5NGGYSx0ijRJyBnEoVYZ7DcFTKCcU7GmcWdQMm66QUy0SRuPTQGIDSHrG/o08BvVth4MbtVXxy5boETI+GQwSDkZR/u50pLC3O48zJU7Cdwn+W4Z1aAt1Q5dskC6HZOjzfh0UrPUaCBeSJkHIwVb6cqWQuJ8HSMp2H4yRRhN3etgCmWashdR1ce/AAW/0RkkyHvzsSIVTkedDDEBW3iz/8n/83zD/9WRhMIikf5QpM4AqUgDmBB73cZSAc7mLlg1fxxp/+a1y/flNGLIbDPZh6jhMnj6HTrovoZ3qqIyyv3WjCNW3VY4xjAcxKpYqM5VLOb5L10SEHZIDKAOFg6DIkmpkMU0Y2FWDmOq7fWcWFt9/DzvY2hv09+IMR2s0mjiwu4NyZJ3D2iSdg2WSsZJgETJoWKFVtgkh6l0HALE9loxeH7H+aUs6NyYalTJvDZR5nwUDFRD3JxSuWoJmbFgLLwLV7d7Gx05OfhQMf7VoDg70eapaFFz7/ZXz1n/yPaC+eLE+fcgUmdgVKwJzYQz/ZOx57fWxeeROXf/R9XP7oYwmF3tzcFDu4pSMLqNdrwhYX5xdQI2DWawKYtJTLwhgV24brOnDY42SyCAklAKPoLWaidlVsT9JGROmqS3mUIx/MuiTDfPfSJ3jt9QvY3dmREGt/5KFecXBkaQHPP/M0XnjuOTg2QVmDRsCky4+uAJNjJbTHI2BSkUvlbhjS9ICCJVPKsbTFI2DWqg1hmTKOIqpcTcq39+7dR5inGOUJbj14gB7DrwnGXoDpdguD3R0cO3YCn/vGf4Jn/85/jmrn8GSfOOXeT/QKlIA50Yd/cnc+8fvYvfY2tq9dxMeXPsLtO/dw4/Yt+GGEqelpVOuuqF7nDh9Go+qi2ajBtSyAJgFZgqpto9Gso1Kx1eiFWcxYgnOWnPRIhd1JtiSUzR75JxWx/JB5zVzHa++8j1d+9Dp2t7fFKcj3CJgWji0u4vnzz+JzL76Iiq2Ddq1jwGRJVgA4i6QUTIEPAZNAHEXsodoCyL3dPdy+d196ro1WC90pjrro4ktLpszElls372LPH2GQhFjZWkecJvKa3M/D012YeorPfP7LeOq3/hBz516CVW1O7klT7vnEr0AJmBN/CkzmAsReD/0bF6Bt3sXN6zdx7dZtvH/pI2xs7sKkTV61gqluV9haq1nHdLspzE/PYhEHNasu2s0q6rWqjKJwztEyNGVMwPIrBUSSL2kzxVJsCQiUGX9G8CS4QcelKzfxg1dfwcaDVZnZDHwPU80Gnjx5Ap998bwki9jWw5IsC7u6TvCl92wiIPrwfXREMY3THcnL3NraxZVrN+AFIZqNNroz0wKYBHIare/1R7h7dwW9vSGCLML2cBuanqPimKjkGY4uzuHI0hye+/yXsfjS30Vj4TT0Uh07mX8w5V7LCpSAWZ4IE7kC8WgXwxtvA1t3sMvZys0dfPDRx7h65x62CSBJjil6rvohOlNtUcu26y70nCMiCWqOiUbdxdLsNGpVR8Y12NfkgwpXxQAJbqaAJCPChGEKYI4ZpoHLN27iL374Klbv3cfe7g4i35f3Yv/yc595Hoemu1KSlR5mHkPLM+jKT088ZwlwfB/GfaWZjiBKoRsORn6ElbV1XLl6AyM/RK1RR6vTFbBk71KSSUY+Vu9tYUhhjw2M4hEskzcDNjpuBU88sYxzZ0/h+Jnn4Z7+Gmrzp8XgoHyUKzCpK1AC5qQe+Qnf73i0g8HVNxDcvyYernGu4ZMbt/HBlWu4cvMu1rZ2UG+1JWCZcVhLhw+j1WxASyNkcQDH0KV0evrYggBns1aX0iyhTHIt2bekaTvrsyzJsn+p6cjoBCQMM0cOEzfv3sdrP3oDayv30dvdRhIEmD80g7NPPoEXX3hWSr8syVomn5NC1wrHHy0XwKR1HXuShlkR1yA/yJBqBvYGPm7fX8HV67fFjKBar6FRb0pfs7/XgxcEiIMI9++ui6uP27CR5SEqZo5O08Vct4Hzz57FyVNHMHPkSRhHv4j64jnxxC0f5QpM6gqUgDmpR37C9zsebKF/5TVkm3eRcvTDsDEIIly7/QDvfvQxbt5dkWzIOM3RaDSwuLiITqOK0XCAyBsoGz3bxLH5aZw9fUxAVVSyLMkWKliWYznWQZDhbCOZZhJniGhikNOeR8fKgzVcu3YDV69cRuSN0Gk2JeD6yOI8prsttDjykYaisbUs1Sslu6TKiFgcJZGyyrMceEGC4ShCCgObu3u4fuMOrl67CbfWEOMDOvjQO3ZvrycMk31MLbdEDOT5fUTBCEfnp/DCM2fw1KmjmO424bYcGLUuWk99G7XFp0uGOeF/N5O++yVgTvoZMKH7T8AcXH0T9t4qhnu7iCk8tasYRSmu3b6PCz/+EB9fu4ZavS1AQwEQzQxSGpNHISqWjVpFx9mTizhz6oQ46fBhU61auPmQcarGB79nyrgGwZKgmZJhUqm6N8CdO3ewcvcO0jhGl+Xf2RnMdKfQoqEAu5VxJOMkZJPqNVUZlvOdsHJhmDlseGGCwShAmOp4sLqBDy9fxbUbt2E5tpSGA6abBL5Y9Y0NDJpuA3EYAFmEubkuzp85iZNH5zA/3cZUu4ow84F6F61z30Z1iYBZzmBO6J9MudtlD7M8ByZ1BZLhNkbsYW7ehjdUgGk4VViVGjb7A7zz3iW8e/ESEuhYWWXZMkez2ZRwZ6pZa7Uapjt1PHF8Hk+eOoZZMVvX4VoEJ2Vxx7gv+broWZKt0q81pqEAA6MJoCMfWxtr2N3aEiu9bruDTruJmuvAInPUIaVXvg6FReIoVABmxnlMk3FfMbLcghcl2BuFGIUpbt9fxUcfX8Hq2oZ41kaxsrpLkkD1QUlwtRzdVlOM1ZtVBy+/9CK+8OJzmG64sLMYtbqFUTRC3uiifva3USNgWqXh+qT+zZT7XYp+ynNgQleAgBncfhfD2x/A1AlBugAOhTNRCqxv9/BgfQvvf/gRrt+6B19GM5qIk0zKme3uNJbmprEw28bp40dwaEaZrVcrKleTGZpiZpBpYo/HWUiZwaRxQZIgpAMPTRBGPkZ7e/CHA7G/a9EgwXXEAIHPM01jP+qLFnwyXCKG6GSX7F+mCBj2LHFdKbb7Awy8GOtbu7hx6x7WNzYlroujJxmjxPIIoKUe+556hmbThqXlOHL4ML7wmefxwpknYOcZ0tFAckJDPQEaXdTOfQu1I8+WgDmhfy/lbhfFonxcmylXpFyBCVoBBZjvYO/2RVRtMjkTvb0BAp/uOY70NMMkw6tvXMCFdz8QxkaDcoprOMzRaLYxM93GwqE2Th5bxPRUW9JMOK9J43Y91QQwCZQCjAlNB4igyl82imIkIU0QfCmJshxL1keTBJrBZ5ma4+RcJJklfWt1w0IQxRK/RWMCu2IhzmIR+3CcZHOnj3urm+gPI3h+hM2dXdy990DGT2jSbltMOEmRZzEsXYNtZ1icb+LY0hxOHjmC5bk5zDfaMJMUWhiC+p7E1pDV26ie+wZqR5+Dblcn6Cwpd7VcgU+vQNnDLM+IiVyBZLglgOnfvwQti6UPSBCjAw5BkaMfYQps90b4s+//BV5/+z3QptWs1qV0a9iujHqcPjmP5aXD6DRbsExDSpz1mgtDqqUq+ZLAR19X9jYN3ZL+YxhGiAIf0XBPSqNalovLkFOxBTD5iMhECVyOLekg1AoNPB8jLxCjAuZ4slQ74oiIF+L+2iau3ryLwSAUFyGqY5lGQicip2LIfGWW+siSEDXHRqtl4bMvncYzZ05geX4RdpzDpotRpsHKNOi2jlCLkTQ7cM98DdXl8zCc2kSeL+VOlysgcoSSYZYnwiSuQDzcRHjrLYTr1xD5Q2GBkjFZ2NdFSSYjIE6tLWD59vuX8GBjFzvDAEGqQbMqMMwcJ48dxtLcDBr1urC26XZbjA4sjWxOlz4mo8CiMBTAtA1bBDe+F8D3RgiGfVQcJeYhq5RepWOywSh9U4JrShGRZglg+kEML4ykhMzYL74mo7p6Aw8ra5u4eXdVZjA1w0EQKy9Zug3VXBuWmSMKBwzdxCzZ8UIHX/6NczhxZBbTtSbSoQ/Lz+DmOuzMgGZq8M0Uaa0F+8kvoXb8RRiVxiSeLuU+lysgK1ACZnkiTOQKxIMNBLfeQLZzB5HvKbBifzCKEHg+DN1Etd7AKEixttXH3bUtXL55B+9fuobV7V3Y1QbqzRq6U3UszB0S4wL6CXSnpoRlkl0ytcQxTHk9MkWOm9i0yssy8XH1RyPoeSzWewS1JFV5lpphiAKWM6DsqRI4Vdi0jizVpY9KUS/BNQ5D7PR66O152NztYX1jG3HCQGkbYRxJUDQBuVVz4Vo6sthDxQZOHTuKJ59YwjPPzKPbcGDDhBZkcDMDFehSUiZgRnqOpFKBeeILqD/xMsxqeyLPl3KnyxUoAbM8ByZ2BeLBOvybryPZvo8kDJGn7ExmyGmaToN1cemh4YCBKNPgRzkebOzg7YsfioJ2d+DBbdTRmG7BME2Z1Ww229jZ2saJEyeQJYkIeJhJGQfsOWqoMTeTiSHDAUZ7A8RRgEatima9BsMyBUQ5t0nwhG5K/5JsUczSNW4HGWcOy3HFZo8zlbvbPbHB8/wAg8ADmTEfScb9CLG9OcTCbAWdqos8GmGmUcXzT53Fc+fOYGa6inqL06ExrMyEIR/K2o97Pp73zJjGsvwZNM5+FWZ9emLPmXLHyxUoGWZ5DkzkCkR7a4huv4Vw676AWk5RTh4DVJzGkfQU2fsb+7+yDLvVG+DjKzdx8aNPsLKxhTDL4ecZvDRGtVoXJ51+v4+lpaOI/ACuW8P0VFdCpdmnpHVeGodSimVYNEVBtmlIuDPfK4g49qFKwyy/BjFVu3SNpSuQDj8MEAYxDNsRP1qyx73eUEWFUSQ0TiKhwjZLZH6z6hhA5KNmaDg6O42nnziBp08dw9LcHGo1DTCH0JDCymzomQktL+ZINRVWzanPzDCgLT6LxtPfhN2am8jzpdzpcgVKhlmeAxO7AlF/DfHddxDtriAOAmR0+8kS5HGENAkhYVnMl0wzaAxjhoGBF2JlYwfXb97FzbsPsL67g63hEJv9Pmy7gnq9gSBKMDs7J2zRNGwJg+briM9smsH3hhIWLSMotYqUcSnyEVP0hGHPKXVHkjDiBT4smp1rhDQNQ2+E4cCDbpkwDBPeKJASMhWzfI4AZxIhTkJhzWmSoF0zEXkJ5qZMvPzic/jsc09hrjslXriuqyFK95QpQubAYN8yU33RnOMkhOk8gWaZ0GbPofbst+BMLU3sOVPueLkCJcMsz4GJXAEBzDvvIWNpNvCQcU4xjpElAbKYOSJMCDEk7su0izGTKMXAiyRk+d79Fdzb2MLHt29LjiRyQ8Y+6KjT6c4gjpWAh2pbpzAcIGASLMkiHdOCKyMklgCUKGdpQMBhTQBhlCAIAhg2g6FNJe4ZDjEYeTJmUnFUtmXI32G/lD62Wi6l4ND3kMaBqH+zAJjp6nj+qSfw8mfOY3lhFpaWweYIS91ClPkyk0mGqeUm9FwBJjQCJkdQEpiWDv3QGVQJmNPHJvJ8KXe6XIGSYZbnwMSuQNhbRXLvEvLhBsLAQxJ5SAlYEZlZBDNXJVkyRcetqp5iksuoCXuGu3t72OgP8N4nN3D5xg2EQSJzjyylurWWGAyw70iBDlkiX4v9R6pxRdjDFqEOdKZaiNNISq3sX0rKicb5TQZQJ8I+JRBa1wUwmTRCmz46DeUUDw2GUtp1LBuOZUgvNo9D2EaOmmOhXbPx5ImjeO7p0zgyfwhVi7OgkZg1WDbTU2iCoMNKbelh0qlWAJNh1VqCPEvl9fWZE3Cf+zbc2VMTe86UO16uQMkwkXxrQAAAIABJREFUy3NgIlcg2H6AfPUyUm9LjAOSmGbkkZRmKcbRsxSmromrj5RMTQthnCOhz51uCxAOoxgbgwCXb9xGfzDE+xcvYXu3LykkND+IMw0JRTpSVjUEAGmNRxZJcOTIR/dQR9SsZJP8HiU4IrYhx80z6W+qxBMIWI5GA7iVihim0zydkSiMG5PSLg3ZswwWUnTqFUy3a/jmV7+EuUMd+drS2TfNJf0EWgo/8pU3bW5ISZbskqIf2vFlGk0BKYTKpceZt4+g9vzvojr/pLoZKB/lCkzgCpSAOYEHfdJ3Oc8zBFv3ka99Avi7iONQBDJ5GiMNfUShLyBEnKIgiKpVllo53hFnFOBQT6shyDRERhW37q9hOPLx3e9/H3furYuylWMndArKNQO2U5M+aBjGwk7HWZnsWTr1CqIo2C/HsiLLGC8CJiMw2+02h7/A2q4n/c+Rst+r2IjCAFXbElZMgK+aFhw9R8t1sDx/SMqvX//yF1CxKDpKkKcBND2FJZGWqgRsGE4BmBb03BDDBQWYLEtLeqcAd9ZaQO3876C6cA4abYPKR7kCE7gCJWBO4EGf9F3O0hjh5l3k61eRh30kCVWysQAm2WUSsDwbwSA0klDqjNIylagmzREm9IZNEeUGMrOOlZ2+AOG//eM/Ef9WioOqjSn4cYo9L0St3hKnHj+IxNqONU4KgjhrGaSMEFNjLONeJpko35dlXBqxg2VWZOIMlIZBYZ9nIwo86EmEPI5h6xo6dRfTjTqWDk3jmSdO4szpZTRdC6aewrYAy8qQZBQF+XIz4LgVhDHVQmSYBEwdRs6SLMvCLMmydByLwhe1OQFMd+EpaGWI9KT/CU3s/peAObGHfnJ3nIKYcO0awgdX4BhkfJmAEs3JCZhkmZxhZMmTpU4Bs5wxWkUwtLgBZUhgIoSNINWxuraJt959H+9e/BC9oY8YpoAldAuVegsZDLG0o+qW/VAR8tgG+sO+9Cz5UCrXRD4zraTmVlFxLNm2OBjJ/Cb7k/wef05vWCtPBURdy8Cp5aN46emncObkMtq1CrQkQMNl4DPZIkU8CTI9BR0UCIp0E+LgiJ4ZMHILBv8RMPUUuU6qqUzabctEbE3BPvtV1JZfgG65k3vylHs+0StQAuZEH/7J3PmEYcmrV5Dv3oXOUZI8lTguAiaBMonI5GKJ8qL4R5SrhXqVJVYpaGZ04tGQaA4Szcbm9g7euPAu3nznPfSGHky3KaCZsncpvq4RvIhszYRh2WIw4Ice+t6eBECz7CtznxwrYR/S0OFWbByamkLgDcW+j9vKPiVbkGTAWeSj4TpoVG0sHJ7F06dP4dzpE1iaPQTHZKZX+BAsGZNC43UtQ34AMNlvZfnXyMTrR8ZpMj2BxugwLRGlMFW4od6Ac+YrqB1/Cbpd+slO5l9OudclYJbnwGStQJ4j3FtDuvoJtNGWytvKFEixJEvAJAMlYGZ5AiNTIp0xYCoFqXpanJO3mdCtKnr9Ad5851385WtvSSxYZjjyc9NtIGAGZpKJwlbTdOimKYYIfhAgzCJhmFTC8rWVMChSgGmZApj+sI/IG8DWclTMXACzYtJM3cATJ49hpt3GkaUFLC/O41CniYrJ5qvaD6ph2YOk/QHnKsku+X4sybIkrMS67F1aMkpjyAymAkuOlVgG3XU1hFoVLgHz5OehO6Wf7GT90ZR7O16BEjDLc2GiViCNPMQ7d4GtW8iGuwIcWq4Ak71NzmKSvQmDI1Cyf8gyasEwDwJmknP8w4DpuojiDJ9cv4EL713CrbsPsLU3wk5/hNwicGrQzYq49rAsm+uGMMowTcT2ji49AthkswRVPYdjmZIowqzKNBhBT0M4TDPRM7TrVZw8fgQnjy1jeWkejZqDdrMBt+LAyLm9dCqiN64SLlFJOy75sgwrxgTa+LP6mZnT5YeG8TkTyKDpMXItlxItGWaECpzTX0L9yS/BqDQn6pwpd7ZcgRIwy3Ng4lZARD3DTWi7d2AMd+APeiAZoyWeABat5VgSJXDyQ743Zp9kXOMZRSFfgqG0bqVZOkdNhn6A1c1tbPWHWN3uY2V9C5ev3RDgZPIJLAteEBUGB7o49zDceRwITXERGaiha3BMA65tIfVH0LIQbdfCXLeDw90WjhyexpnTJ3Dy+DKSOJCUFIZPs8/K5GpRwsr3dBlX2QdL+YJAWdjf6QTOWIZECJjsYSrBT676mLTGyzXxvw3TCqyTn0Xj7FdguJwzLR/lCkzeCpQMc/KO+UTuMUOTU6+HvH8fptcD/CHCEX1UY+QUxKSZgCWdbcafyfjo+arKtT8NMGnQrsZFVASXgRQGYs1A34uxvr2Lf/en38PHV6+jt+fDqVbEB5aes2R66+vr0EwDqbBLTTkDUUwUh4LEZg5UHcA1gcXpDp5+8gTOnTyGo3Mz6DRrqFZsZGlUjKEodSvZqUalksxyqnlPFl35+g/BUoz/xBJPLPC0TGzxxoDJqjP7mCzf5lEic6RZ7sJYfh6Np78Go9qZyHOo3OlyBUrALM+Bx34FWKLMwj4wXBdmCd9H5AUyMpEmI2jgDKYCTCnNyjCkmpdMQlWalbLsAYapyrUZDF2X6C6aoVPgw2QTsAybmej7Ad5+j8rZS1hb3xChjxeEYjrgVqvo9Xqw3aoYGESRUseqjxSWBth6jsXZGUw36zg2P41TRxawfHgGrboNk2XcNJSUFBEtESCZH6Yrs/aENwjjqDCCJT18aN/H0qukfjJzM0OmU0Gbw6Ql3tgWj0Cpc4Y0Q0aTeMMCcgfm0jnUnv46rNZh8bctH+UKTNoKlIA5aUd8gvaX4yJ54iOP+tCDbWhpCAwHyPwAfn+Emmsh9LaFYR4ETIIWAZMPpo4IiB0AzDGwETDZKyR7M2kgkGsYBhFS3QKYR8mf6zYufvQx7q+s4+79B/jw0seFw8+MvD5FPqOhB48ArgHVioNWq4npThOdRh1H5g/j6PyMmBA0HANZ6IlatmqqoGlJNmEsmTgQkV3qooKlmIffY6amYpdiercPmOOyrABmzuESJe6RxwHAJIgSbFMas3ePoHrmN+FML8F06qWBwQT9LZW7qlagBMzyTHjsVkDKqqJ2HcLRRkAaAHkIBCGy4RDR0EPq082HhgVkmA/ZHSFjHxABybKU0mzBPsVNvXiwsCnRXcW3yOzojRPTEYgCHr5ymkPnGEmcYX1zG1ev3cCVK9dw7/4D7A0GePbcOURxgI3VNek3Hmew86mTmO62xaCgXXfhWDoqlg7b1IR5ircrk0So6DFNKb4qIU/xmSKmAvu43cIux+x4zCKL74kpg7j58LdUGZfa2YzlWg2oVOvwowQDP4HRnkVt8Qz0zhHoTh1uvSUGDey7lo9yBSZhBUrAnISjPAH7yEguMVCniCYcIokGMPMYjYYtLFAGKJg3ORgiHo2QBYFEV2WR9ynARDF3KYyN2p6ih7lfqqU1Xs7BfzWzSFGQAKfK9iDX2+9J8v9MHaEPrWbY8vXOdh93H9zH/fsrEgC9vLAAxzbFs5bjH4vzc5g51BXRDvIEpsHUFE1+xzSVipVgyfcnm1Sx10XCyBg4i20fW/CND/9Y4Tv+LGRSp0+eAn3eOBA0Kfrh93JNhx/H0J2qjJJkTg17mYO1noeNnge32cH5l76Ezswc6o02THrmlo9yBR7jFSgB8zE+uI/rrjFBI6WlXORJ2HMcjbCzdgubK7dlHKPTbqHbnUKzO8VokcIcVTnipMMREs8DogiGMFFPVLJjcGECyHjEQ5hm8tD7Vc1jPgRMYZZFqXa81tL3Y+BzpjIswyiSzwbdfWjimpsYeh62NnfQ39vlFCdajbo8nYRxqt2B7egS0ZXQI1bLYVpKNWuJpJfwqGz0coKqZojYaMwgx0A//jyOC9tnmAeVvvJNS0Eu90VT8KumMzOkmo5KrYadkS8GDXa9jRAm7qxu442338ePL32M5SfO4HNf+AqefOo8jh57Ap3uYZjKrLZ8lCvw2K1ACZiP3SF9/HaIvUgpsaYRotDDaLCNzfW7WF+9gYvv/QgNtyKMrNPu4JmnXsDx48eZsQUkBDf2GTnfmEgZNvU85IEHLU6gUxiTePvGBUod+1D8I0yyAMh9tlb8XwBONQoVWLHtKURTlTKVRIjQlksYNFNKyNhM8WHVhW3GYYThXk9EQHxvzn7ya6pd49CTz2SWDJ82LUOxTpZKOToyFt3odOp5OO5yEDAPlpb/SsAsjNTJbvdLsgXD5HeanS4ebO0gSDVUmlMyUuIlGT746Are+PFFfO+VH6M1PYVut4Mv/sZv4Fvf/gMsLC2jM3UIVYk5Kx/lCjw+K1AC5uNzLB+rPcmyBAmN0OnvGgYI/AE2Vu/g4w/fwRuv/RB3bt3AyNvFf/WP/gt8/jPPY/nMWcCwgTAHCFAhx0V0mI4NCJOMkAYewLDoIIAWc7if6thIAFMAS2Ywi88F0xz3J38SMMfARMNyASOBRn5RmAQUgLY/KpJk0s9MafEjAEdDdx3e0JdAaJZkI98TQwNJC8kSSSRheLMAJi3qilahSjNRIHmQQfJ7D5W26n3G2/mzAJMQr9jlmGGqGwCP6l3Dhl1rIdFt7AUZrEoDuW5hrR/gX333VVy5eRerayvChs+eO42TJ47ht7/9d3D++ZfRak1DNxSol49yBR71FSgB81E/go/R9gsLTEKJu9rrbaG3s4n7t2+AshSaol+/+gnevvAWNrfWcPLkSZw5cwJf+vLLWDqygIrtYjQYQc9MVCpVybCE6yILfEkiSZMAeRQIYGoBvw6hcYYxYzlWjZMolleYFxwAzE+B0AHGqXqZhrDQMadUgMmxDBoE5DIHycxJYZbpmG1yplP1HTnDSZCk4IfjJfw6ZcxYGsN1XQFM9XxDiXy4rQWrJUCN1bvj0+Dgth4Ey58GmMoaj7Y+SvQjJVnB2QJsNQ1+nECza9CdmqSzBLEOvVKFYdcwyhx4ZguXrt3B9vY2tnY2sbpyD0kaYnHhMH7rq1/D5z//m2g2O6jWSnegx+hPdWJ3pQTMiT30fzt2XMqtND2PAvjeQIHkvTtYe7AiILK1sYP5+TlEYYh337mAO3du4cnTJ/Gt3/46nn/+GTQOtUG7nnToI/EjOPUWjVmRj0YCQIbEjVANGygz8nCEPPSRh6EkfxB0yObGgPmTDHPco9wvbxaAOWZ2BMzx7KRidHTagUSDEYjUNpAdsldYWNcWNnjkpZy/5M84y0mzdwImn8PIL5ZnCZJ8vmWZIo8lOFNMxIe8R04LPG2fSf4igElFrCKv7GEeAEyOoTgOotTAKMrEH9etd8Vsvj8I0I80NObPYGsUw65UcPvuXbz97juI2Hs1MhyabuPJ08fw0gsvYWF+CY0m+7Nl0snfjr+8cit+kRUoAfMXWbXyOX/jFaBwh6KdMPTR393B5uYadre3sbO9K4KYJMnRaDQxGo1Qr1axtb2B1dV7Ygn3+7//O+guzcPb3oBmaVLSjP1YhuzJNLMkFdDhnGKexwKY4Axm5EOLAgHMzPORJaGUOf8qwDwo+tkvbx4ATGGYRU6mMjpQOlkyS6pZyToJdtwecdzJlJuPAKhBGzoDSJWvK+cwCZIETM5mku3WGnV5nvy+rWYux9tBdki1bE4GeMAr9hcHTFWOlbEaRTPlf0PPR6UxhUyrSPqKbtUxCBL4YQqrNoOt2Mb6ro/ZhSX86M238J3v/TmmD81gbm4WWR5hquFiqlXFieUFfPalz+Pw4UW02t1SUfs3/gsqX+DXsQIlYP46Vn2C3zMToU0oopadzVVcv3ELfpBhZ7cnQJnSjUY3BSjI4mZnZxD6A2xtrmBxaRa/+9tfQ3d+GqOdDWFVTqUunq5akkHPGPhMBGTwsWKOLDOy7Mr0jjxi/5KCHwJnROd0VeIs7PDGop+xSlbAqVDJ7qtoGQNWMEQpeY4ZpqSB0CFIAY9SshYlU5Zps1wCmveBV77SUXdbiJIYCUOpC/WrVgAjf4OjIwJeLJ9StVt8lp/lGRz2B8WcQMWQjT/GwEmw/aseMrdpKKnPGOAVv1RGCCwcG5YLP0oxCnLU27PwImBrd4iK28AoMbE5StGZP4Ybd+7jz77/A9xZWYddrcOpVKGZGrqdJkK/j7qrY3G2gxeefQZf/a1vYXr6sPyOYTKvs3yUK/BorEAJmI/GcXqkt1KNgQSqj5iGsCwdO9s7eO+9S7h6cxWGVYPGMOYwFjNzAhcZIs3S0yxEvVZBp+3i3NnjOH/+DBwrhTfak5JlFFL4AuicHmF5MqPFG53R6XbD/iQZGFNIGAjtQws9YZhaQtapvGPJDMein4NjJQJUsfKQ3QfJA4Ap3xfUUcrVMViOAVOhI8FbKWoPKljHDjoOS5Q5vV7VDKcAXmFAQOAUhlqUYA+Cpqhy8xQmZzLzh9u3n3pSpKuMWelPO4HGgCngWzBivhi3RbhyDsTCgG2MYg1urYMoM+GFGZxKA5u9AIlTg5+beP+Dy3jlzXewvefDrFShm6745HL76UVUqQCtuoXphovzz57Fl7/8FSwtHYNTYZ/WhslZ1UKx+0if7OXGP9YrUALmY314f307J0KalIHMAbIkQEanHXqW2hU4dh1376/g9dffxfVba6jV23DsKqI0ge9T9BMJs2NihluxUHN1LC3N4Ny5E1g43EKSjsQDluVXZI642BnEtSyFUTBMKmMFxBianEVAEbgswp8o+BRgHizJ/lVzmAdVsgcZ6LiXKb3Lgl0qEU3hPTseMCkAc+zAyjlNMkyTgdJFiZbfkl5qRlN3NkKVMEiNqxCcCzMFSnUKdyFRtv7E6MvBsuxfB5gHGawAprj7PARMLmkYAobjwgtpkdtEnNmSAWrbddzf3EalOY2PbtzGq6+/jU9u3kWqVaDZVWS6DZ3lcYZhWwaadRemkQKph2NH5vD5l17E2dOnMNPpot5ooN5qwqbIyTRhmHaprP31/emW7/zXrEAJmOXp8ctbAbGQ82VUI4l9JDQFQIowiqEbDmA6GPkx4hQYeRE21nfw5oWLMA1HxCCcVez390QAo2YPNVRtA763g3rNxPLyIZw6MY8Tx+ZQb7mIfB9ZrEFLNGi0qEtVfqOESuYsT6okDpaBkSjhTx4GyDlSEsfQ6PRDe7wDKtkxYO4zygMlWWGInOncF+0ogCOjVexRGaePAZNgR1GRANPYUk98asdWcjrSKBXAFKAgG2NiSQGQYz/Y8f/HTFOIq7yfePwoIlsYt3+qXCxmCD/Dto6znSwFFwhMwCS7HJdk89xGqllSknXcJvxIl68rlRo293z04xivvvkOXr/wHnqjEJXaFHKzilx34FQbcoPEnqwaj8mgaynmDs/g/NNn8eTJE8iCBK2Gi06ngfYUP5qoN5qwK64Ap4BnyTx/eX+j5Sv9jVagBMy/0fKVTxbmI/mRNBYIxOxc04oyZm6gtzdCGOeIUmDohQKUbr2Gaq0hfbvv/Mn3EAYJLNOV3mW/NxTAZAYjL+R0St3rbyIK9+C6Oc48sYRvfeM3sXxqGeFgR3qXBEuiMHuYOvuZYpaeiLMrfXdkzpJK2ZjsUoGnAkyOkdArVgHeTzMuONjDHAPmvmJWdj7ZZ3gCmEUvk8xP2eeNvWdV2VXhp/qaj8jnHKgKc7YcW81emhQrcc0S1Qc90Lfkc9LiuaqU+mmF7Kf6r3nhN/vX3TEXQLn/PmPAZNYnNFh2HaMwFpBstA5h4KXY2B6gVm0jgIE3Ln2MH114B5ev3oRuVuFUW0gyC5rpolpvw7QdxDxGjB6j9Z6R4+iRRZw//zSOLy9Dy2z0+7tIohHa7RqWFmcxNzuFWs1FrVZHpVqF7TiSmKLKtqVvbXnV+fWtQAmYv761f6TfWeVGRkg5/J/H0DV+zsTVJghjBGGOONHg+xnijF+nYkpu2LrMFxqmKczjB9//IdbXN6WHWSWD8SLpZZLJhb4Px5YpTGSJD9/bwuGZJr7x9S/hM595FjoiJP5A5ikJmhqNzsnk+CEMU5xdix6lCoUeA6aeEOjU3CeBeb/3d8C4QMqwsTJm32d1B8qf0pckYArDU++lHmMTAMDcB7viQj+mi/IcDXEQIyn8aqn2rdZdUf0Kw0sSGYsZ9y7HJ0xGs73CWSgt6rUHQfzg1wd9Y3/aCTdmlqqHqRSysie5AkzDrErPchSmaLZnBTjXtwaoOE2MMg1/9N3v4b0r17G91UPFbQmz5HE3rKoIsnjMqfzlXCxnS0kWjx8/iudfeA6LS0cxGMSq12ny5oIjMimqjo1uq4F2qyGJMq5ro96ooFavCXha7HmW9nuP9PXjUd34EjAf1SP3a9hu1ZdUICNK18RHZmTQbPadTARBiv6uj9EwghdwbERDrVpHImXMBG61IoAQcZwkIBPVcP3qdVz68BNhlq7bQBKTiVgSZjwYDKR86lZMVCwgjgZoVA08++wTeOHFZzE7XUcWbcNIQ3HoYUlWCBNBTRSjRQoJmSb/T6EPgZIMk+wtTaTHKnZ245JmAZjCNgvA3AdLwUJVrhR2J8BcgJe8xkPAHDv+jI3ZJWJLXughu6TwJ0voaESVbCLlUwILAVM8CoQhKsedh2DMIncq+8mCLO32xCqh2P7xto638WeVZNWzlehHgPknADNOdGGL7GEaVl2MC4YBlccWbqys4//53g9wc3ULcZyi4taRJgayXJc+NcGc+819YvwZt6ler+LcU0/i3LkzqLU6GCSGADMjxorUThgsZROxsxwV04RrAa2mjW7XxVS3gc5UC/V6A06lIsBZlmx/DReDCX3LEjAn9MD/vLutmCTZGYf7+ZEK8KRJjCjPsRt6CJIEUZgShyT9wrZcAT3OUnI8hAyDz6VbHMEvYY8zUU42o5GHv/yLV3Dr1j0YsJBnJqrVOqp2HcPhUHqSLPfKaEjqwdBidKcaOHHyKI4uTeGZMwswUkZ4UV6bwKDYZlySJeAV5VZhkAn3g8IT1htZqk2QSZ/1oXBmbFwg4cuZYnnjSK9PMc0CMFUc2MMe5jhHU1gmL/zFQo+f+ynALF4jjRNZJwWQuqwXhTKikOV2801EiftpuztCnW7S5F2NrKjPKjVF/v8zSrIKLKkqpsyYTFa5FKUsyxYMc+DFaHZYis0xioAopYFCFYNhgNffu4Q//tEFrPeGMAwTFaeKKAFs24FjNxCGynyBLeU0VzOpCwsLePHF57G8vCxh215uI5RDx/NDQ8WyUbEdmDR64M0JBc8JLRJpku/BrQDT3RoOH+pgdnYK01MdKd1afA7dlMpg65/3T7v8vV9gBUrA/AUW7XF/CsdAMgpieKXTNARhgOHIx97QE2EOPWYygkme0d9cmIlEXf1ErBT/z4ufiGAYR1UAyLhMSCDwgxibm9t47Udv4M6te5jqHIKh2wj9CJ1WC1EQSq+Rits08wU4bZOudzZqToY//Htfw2y3CiPPEXoDOAav/Rlin6bq5C5KpEOQJC4wOYR+rmSydPqx9EJFy3GRRHnJKnBVoylZEili+NMYHBliMb4hLI0BzhSbykW7ADcp2VIYNO5lqtdSFdBMzT8eEBLtq26LjEllcKACoJXdnjI/GLPCHBGYkMKDQLZZvJzMo4q5QWHO/vCcVYxy/BgHSRP0k5wsV4NmGVIVYAD2KMpRaXQRpCZWN4dItCrqnVlcuXob//o7f44Pbj1ApFuyTQ8/TOi0DNQMcTKa7h6SfjVL7U8/9Sy++tWvotXqYGV1Q8WGcTiGPduYa0+jJgNurYpKpYKY8WhKyUUbe9DwSNN5rDzoiYfjCy0cnm5jfn4ezXZbbjbY61TznWNN8uP+F1vu369qBUrA/FWt9CPwPmRySjWaIaUgJtew0xuKLdrQT1S2o64UnXK5zzKxdePlW7Gshz1DGbMA+1dqcF4v7vz3e2qiFNXghapnee/uA/z4xxfx4O4aWq02GrUmQi9EvV4XAQ/dejiTScDkZzJWI/fw8vMn8cXPPYu5xTmkw75kYTocJSErTSNVhmU5lgCZa1IuJMgLYLL3mUUyp8kSLkFyDJrCQoXhxOrIEdTGM4+FipQgFtMkgSA2HvPgfhberIJzBWCqNRozxGI2U3qdCgwIFJ8SEwnaERzN/WQSxnh9OtOSzFD1YKXkK2vKkm9R+v1rAbNgl8VrKqVwQgcDsRokYAYEr0odO3shRomN1KwjN+vojWK8ceEi/vTf/xC9REfyqcSUMSCrWjK3q15rYjj00Ki38bWvfR1nzz6FjPOdmSEtZZF25ZqInFL2ok32LV2YFfY9U+Q6xVSqxM5MUPZB48BH5O2iYYZo1y3MdFtYOHwIh2Y66HTaqBR9cqpsy4DrR+Di84hsYgmYj8iB+o+1meN5SYJHylEQlkuzDGGiI0hy9AYx4qKCSQZjFCkbY1WpxYtlRvOApCh/Kscbsi1evi1bea0eTP1QlI3jExr8IBLGRzZy6cPLeOUvXxUB0PzsPHo9mhNU9kvCnMtkmLKuK2DWUx8NJ8FXvvgCnj77BKqOCQMh9CRCGtGIXZWSWapNuRMCegQxxTJViTmQgGnpcfLiXICmKG8L5idsrvBwHZc898GPTLTgMmPhjGCmQlnV5ywA9GGPUyl5lTioECkdBNSxcYGMpTDvcnz0HypEBZbILCkLLnqwBEvkXO/xu5P1jZNCCiAr0lTkJqZgw2LiLsYJLP+yXGCAtwlBnMPtHML99V1EeRVmbQqrW0P8+MMreOudD/HB1Ztw2jNghHZBmdWhldEZtQ1Ut/LYeqMAp0+fwe98+/fQbLbR2x1IBNhgGI59kRAlBMVc5k9p6GA47E/yPOFsKiPSImK5gKak2YRDWHkII43gOgbmDk/jyMIhTE/VUHEMURw3WmSdFQnx/g/Z9n+sv6rydR/XFSgB83E9sn/NfpH1qDEQjjQkyGW0IkYQxxh6kSgik9xCrleQ62bhvsO+lkq1kAt/ke4hfcfClk3BEVmn6lexvMf5u3FBSdBXAAAgAElEQVSm5MEZQSkZMmA5TjEYjCRhxBv5eOed93Ht6g0YMhyvLphxHEpQtACmbcCtOqgUQqDM38V0y8XcTBenTx7B6eVFUEYS7G3D0DJY7P0VPdeHyR7KHUjKkGSi3J9UpZWgAEwyTtVDK+K6/gpRjZRuDzBKhZ7j+cixqbkC330w4c8JVsIEH76+PLUoXY8NC/b9Y7m9BbCND63yPijKlQJQD1nd+J1/FmASLIUJF05DY8AMcg1+AsSw4aUWYDexsj3CK69fxFs/voTNnQFCsnWjgpTbzNCTA9uuurfKeIFl/Harixde+Ayeefp5AS7fC5SKNuFZY0rPlGw9Jf0Xs3kHumWKsIcMk4DJFBv2XQmYUtGIVXleTPTzDLWqjZmpBqa7TUy1K2LH125yLIXjOlUZcRnPdpascwIvfL+EXS4B85ewiI/ESwiokc1FapAfoVTfBnsjeH6MIIiR5jqsShUwXMQceeAFM8tE+EL3HQp1ZC6R4xPsb5JBGhW55gur0JSqkxcxNYivoqPGTE0pT1WvU2d5VF5Bh+eH4vBTqbgYDgK8+upr+OTyFbRaLflQ7jdkg5G8N631Kq4NxzZgJh4GvW3EwQhnTx/HV774OSwvTCMLhtCyEOAHbwhi3hwoGFGgzwt1iriI9xrfAHCeU5im4CB7mGo/x9s9NhOQPiQZWcp5zny/5KxAr2DU49gs4VDFjYZ6tU8FT4/Z9/g8Yq+S63iw16tYoxL+7FvlyfIVYyf74yqqDDo2R/gPVLKfYpiK4ZK18ViIMFUYnYUw1+DFOQaRDqvWRT/I8ZdvXMSffO8VrGz0UWt1YThV7PmBsNJPgSX/T9bJ16RyWTfx3LMv4Nlnz8M0FHhVqzXs9kcwbVf6yizJcvyIp1UmJkcqnYUG9KoFkAtg8mZPlMPUCqcpDLFC5P1OLCV2U88FNBcXDmHuUFvGkaoVA65Dm0ENFbeCaq0uRhmWzZlXBnqXj3IFfr4VKAHz51unR/a3lMpV9SYTqg1ZpiS3Y1KGZqG3O0Qc58L0oJmUXUo4cEIRCftKZGei4gxFAJOyxJmnArYWzQVyWgto8n9J6aBrjVUAJi/mB6KzyOLGvbrxHT57oFbFwfbGtszs1WpNXProMt544y0EfoharQbLJtvkBbRIFhEGpy70aeizoYVRfwfNmoMvfv5FvHT+HLqNipRsw2FPkkp09jJz5m0Qogtz8TxByg/CRSH6yVkWFMBUDDMj4/mU6IfP5lW9cMjhelCVKj3ahyMahWW6AudiDEQ5ARUjKcVrqg7ww/7mGHjIqvYBc990vQBvpYNVgEQ7PYp9WBYXwvlQNctNNDl2wl6mlMAVs1X/57MVYKrRFdW3zHUDie4gyHJ4kQa3cxh7AfDR9RX8yZ+/gtffviROPtVGF0Pfh8FxkQPaGlWOfehkRKY41enipZdexpGlZYxGvoyEtJodbO32YFgV2X7aAYqArBBmkaFyO6v1moh/mAfKkqyonIsRHqkIpMohiTc2w1EP/miIasXCwjwBs4NOuy6OTkkwxHCwgzD0UK05WFyYx9KReTQadbjVmpSOy0e5Aj9rBUrA/Fkr9Cj+fMwmE5YyPelLsu5G0UiSGRgFCUZBjJj2O+Bdd016Ruwnbu3uYjjwYDkV1KoNyaHkWImIXwrLOfb8SB55kRGiSYUkP1GhKobh6mI/BlGVNanY2gGxaAEIOtxqVVSxvb0BdLKbOMWtW7dw685d3L9/H4ZlCaO0K5bKt+QFXuzpUoRDD1PNBpKIIpA+jszN4NypY5KM0a6ZcHkPkIYwM5btUpiaGo4nIKZ5hIRiF/5/X/RTsEpeuYXxKGjaF+TI+AZHTpS4h1d4mfooBv/3GaacN0UplkxTSrIF+BbGA9wRmzcuojB+qF6VcuzYqq6Y7RyPlihw5e8quZCSVvGtlOeszHaKOEl939B5a6G+TzXtWL/78HNeJJZoSgylO8g0A35qYBgBsV7Fx9fv451L13Dxo1tY2diDXmlCN2xs9fpoturFjcLD/uqYXXL/lpaO4OSJ05idnYPr1kQAROEYy7Sm5SCkw5IwRHwKMJWiWZkeUPhVqThKuR2r8SZhmNxg3VG9yTRD4I/geSO5oavRg7hawdzstNgTEmwDf4jQH0HXc9RcG52Og9On5iURR1in7cC2nNJN6FG85v2KtrkEzF/RQv8q3oalVs6sUbzDZJA49qUPmNArJ7MQxAws1hBEqWKQxYV6FIzkAkYHFZaqCHBigh4QLNU8IvkLfUvFN5WlMAIig5oPlOMImGKBxpJkAQ5khso0oLCeO6gmBWTgnQ+Cs+/72N7po9udEfeXjy9fwSuvvKK8TTXVF7Uo7Ckiq2QEIwG6nRaMPEUw2gPlKlVLw/x0E8cWD+HcyWWYeQAzj2GRYZJlsXwnCSohYq2wxktUv3Is/BGcKvqX4xKuYodcCQKhQNf+YR1b4f0kYEoPtJih1Mcq2cIRiCBm7auMD8xZyvjIAWY7LqMWn9nLVMyVDJ7pJqpPPO5bqu1UAPbThvp5dMZOQUKUJeJLR8Lur2bJBw0KRomGv3j9x7hw8Qqu3V5DmNpI9YoYGdAXmBaGzLyU462rvE5d4+dxdqeGz7z4WSnFklnSBerMmbNiSHH//gqWjx1Dz/NEjc2ZURmNlXsM/p+jsurGq9FooFp1FUhGsRKBsTKQ5DC4PQfVw6KmVTdE/J2pVlNu7rhtIu6S8zeTignbEo1aCstOcXL5CBaX5tBptwWcbadSGiL8Ki5aj9h7lID5iB2wn7a5UnIV9x3OKQYi4ImTBGGYIWN5NVGAScsyxjVR0i8XJuRItEjKklIKE5ebYm5Roh0lPkNlOfIKVqhdBThF6JEjYVnMUOBJwKR3qihkpQ/H5pi68HMwPwgo2iis8QwVlCzkqBAQJaliG2QX4joDHZcvX8YbF97C/ZUHmJubQ3dmGgNvID3VVr0FLdOFRdGCztJzOKaGKmf1Eg95NMILzzyJE0cO48hsF3nsY9RbB9II9aoLt2ZhNNjeLxuPHYJEKRsqkwMBn0+FRhMaVUmWe8b+mvQUCzXsGDCpJpZ1GIukCk54cHSEP7M0NYOomKPqAz80Wc/khkcYsIiOCs/bA2klYv4ualoJt9xfz7FSllUFAc1CfMPjQGCScrppIVY7IX6vEfM5OzNIDRcffnQdr154H3/2719FCAIlDdUZ2VVTJftiBpXzsRRhESh5/nBEiMd5Zvowzp17GmfPnlVs0rClFKsCspUVoW4YSPlR9LO5XWr0R24/1Kmuq1Ea2zSkLG+z3q9l0s/kjKdpEDDVDKiUsA9kgvI9WLbne3IdaegvIzx0V4rZFw9ltlPTY7gWgdnC4UMtLC3O4PDsjIy2qD5nWa59DC6Tv5RdKAHzl7KMv/oXkVlJjoKknGMcIoqGqkAnfUUDSaohzXREiZp3S1Jd7siJbyKskJJXjEQLkWjF/GEBmgKUB1zeBDBpEC4+rWMDAjUnmHEAwVS9S0mkEoZJsFS/NwYbshF+GJqhZuxM+6F/6xgwxSS9wGjxNdUwGo3w2htv4d33fiygsbC0iHqzKRdlMpVOfapgNrmAZoWCINEahcjCIaYaDp44voinTh5Du2EjDYaIgz35XccCAn9PcjMVixa/OeV8I0P0mTJOODBDum/AUJgHcASH7EiETAXjFMZV9DR5czG2taOScwyKfAtCwriHefAMIoNUPy1YedHPHN+kMOZLOQzlYhgxBlulViYzU71iAi/FM6EYMkASQKpuHbppIAhCDPwAOwMPncNzqDc6GHghVrZ6uHV/De99eBWXrt3Exs4IUU6AdJAbDjTNkZuwMbtlP3Cvvys3V+32lIDm5uYWji2fwje/+dvK2CHXRdBVrzfVDUaR9kI7RdpCiIxMzsei6s++a67AX8wYin6541iwLQJoLn11dcPFg61AVT6KdRHmXSid+f5j20HHtuVcTZMMMa0R6f6U0+ovElV1vaaj0zAxM13D4dkmZg9No95guVbZ8JWPyV6BEjAfseMvQEnxg9iFBRgGHgIqX3nRloukgZwyQxHj8OLE7xvIi5Io/696iWruLoKPREqMLEcW83gCGqovJuUuGa/IVd9u/D2p+rH/lSFnbJM4vfz/7L3nk2PpcfWZAC68K9/V1d6MIUUjihQpad83tP/0KnY/SCGFYkUpRKehm+HYnmlb3sDjAtj4nXyei1s13WM4Q6MVENGB6iqYa/M8J/PkSZUzvY4Zegkje5yMAPax6p4AZrVcW6o+56lNQ1sHjBWWoTRsYKPvffCh/eRnP1dds1gq28bGhhjo+fm5rbfWArsApPAeLVsNWpGObY6qcgqo1uz+zev25sNbduf6ltVrJYmF0vGFJUyeVip75qKSycxm04mbrs/nViGfl++RDGxPzDjKZgJgxhmYHDwHMpgVfZGxVzO2kKjwm7WWSLkbAr6+i+Oq3kZXKIMJ0UWHv2taSfDJzXvbqoapvk1VVXX8huOJlcq0U1SDYYObHMiDtVJHK21zxq4Nxva7jz62n7/1W/vl2+/bx0/37aQ3svbatk0XiU1mkllZAbAMLj4AMqlNemVhe7DLzY0tu3Xrjt25/UDPx8cnVinXZJHXbLa1H+yT9hchD9ezhlVTQ+VadXbJd8UHr02KtJqUrFoh3esK5tRS1eGj+1FeJMW1yjXOd5H25zqEZZL6R0TE8YHpDsOA8GiO4erx1JrNgnWaBdvdbtv2Ztt2d3es0+1YtVqzcoX3rx7/E4/ACjD/m5x16pMYnpMCm09Jv1KHXNjJaCRPV2KoUpowSsI1qbhCxXsLZZu67J2kBkkrBOKV8WxiC6zGwqpf7RIAbqiCkWqTkTlyTMZMLqhjhvQXoa3iI62iQhZRjgYiR69xLM8mEwMwSQcCmAQshj97Px1pWFb6Dg4ApkA2iFl4PW0WJ6dn9vbbv1Nd8+TkRAG40+nYdDzJrOIEmOWKlZNE9arZdGRV9nJ0Ye1aYg/v7dmbD+7Yta2Ot6TY1Cb9M1XvZKEHE5u6Kburk2gbCbCoYxyCe3asZqrXSUwT1LB+ObkalV8qhZj9f1mnlIWevsLT0vmgH9OL0hUFdquUbE58pGO+MBuNmBIT0uiAUIntgf2XVJes1pp23uvbYDS1SrVprc6aro+TkzPbPzqzD54f2uMXB/bo46f27ODQjs8HYppTK1uhXNd7JvJ69Zq3nIdKboXHYzge2NbWjsByMp7at771HfVbVsoNgSXAzwIJdqn08pz6YXBPonbqa7CMYQKYsEqXWvl1xrUFYDLRpFxyp5/IrEdTWo1c3AQVhdlnKW7Ad5o6w+a8Fkoygq9W6l5/p4UGJksqG2ermd9jZBwAzVIxtUa1YM2a2Ua3ajf2tpSq7arOWdPklJXx+3+TAPo1beYKML+mA/mH+hgUgQh4qFPSU1gsFG06Xtj5xcjO+gOrdbsK96HUaPO5CziiPRoG5j4fMkzrUKoK5HOWKZCN6s3AhORv6uFKAUuMjwZz1fJIzYY0YJFULHDgvZmk22AB6sEseuCCCcAsSQFGKz0CZ73akAuQnFzk4gLL9GcBpupYzjiSak3Sf+zVfvKfP7Mf/8e/22AwsmvXrmlQdQRngjmfXU2qkubMJmOrVxMrMymlWrRu3fvxWrWy7Wyt285mx9pV5qIQnh2wpwhZ8GtbMBGEdKIvBgRiWW9kVLS6gbvLb/IPB1AYIm0dAkxekSlpA6DCFlMqh0uPWAFEKQKF/16+RoiSIpPNCa1YUNDwr+MmcRQgVFSLzmxeEIsEEEbp3E7PB/bs+ZF9/MkTe/bshR2e9+zt9z+xFydn1huQsi1bo7NmhXJNDG/BZ9OLq3Yg32ZS6Sx0ovCq2mypPQQW+cMf/si+/e3v2mg4saOjM6vXGjIgACxRx/IetlP9uKy+qKuGmq3cl5xex2YXHVCupcgwWRCRSqc2TI0YTMX4XxaCHF/KADkhFrJh1aE5u+lMLNjZLfVQhgTUrFqvWSHUSdlH/k7uRQvAIhkCs3TU15zXZr1knXbFbuxt260bO7ax0bV2qylzhRVw/qEi4J/X564A88/rfGRbA5OchjFak4mPwmI1zFQQVvOs+AkQlWbL+DGmslC/kqaaKMWYqgYoQYoUoLSHhICAklBA6Ct5n67hNm4S7OSCu143wxXHQXPZZ4duhL9Ng6EA7LHiDj3BPQYBDfVGJlfwoO+SIEhKVqOsqqSNHSwlSBFw+rYBAO1W104vzhWoW+01e/L4mf3Lv/yr/fJXv9aIsN1r6xmQUa+j1kRjvHjeNCXsW61csna1aLVKwcqFmZUT2g5q1q4n9trd21YtFT0wy2mGXr/USnMsVQO7BCipP6JSDYYHXptLrTifWbEAHy5lIp+ontUeBIODyDzFjMKxFStl1JhsBP18CgiivyvnQdNHfPEhXZFS4UuAwJkJByY2h+HKC2zjDBOAgpghw7vTedH2D0/srd+8Yz/56Vv2wcfPcAu0arMhN590kci/tVxzQc9kupAYiPSr1wIDay4UrJqUrJwET9tiwYaTmRjcrZt37O///v+0mzfu2qNHn9jx0Zldv35D5xGVK6lQXcPRrB7lMPZ7KF61MPJpKzEVG/tM1deLf3HJmaYzd0zrfWEx5rxwseUeXv2MrUBu5k5WhOuQhRbXWLnkbUqkk6npkkkBSDVbgK8ouQ0k1yRHlNQ8mQjGwWHw32nXbHuzbvfubMu/ttlk/mctW0j8mYaV1WZ9xSOwAsyveAC/7reLUZJynU11sw5HpF6LUq/Sn0jNqFgiTVS3Sr0idWMUS5CinUznNkSpOPE+yzg2SsIGmZiTboQZ0XtIra9qBQImYp0ibIpsHqDpk5JcQeu2cXJiIR0ZnH2kXqx6QzkBXTWiOrZ1iEM8yE8nE7WLkK7T6CrGNhUKYh4AZrNZl0sL4gu21Q24EanAlkzs5KI/VNCuVhqaaPHBBx/Zf/3XW/bRR+9bsZgK2KirwbZIQdZrTQU/pVjTiZWloDVrNxJbb9etRXMm48nGfevWa9rmVoP3oaQsWlIsWE0MpGD9i3MBsgZBC9ho4/DjQACtLFIr0dupVgpn5XEWJm0kecDUMc71bMocELvBYN5O4NfUl8B4ZNijtpRgUsC7aYmgPQIziYVZu7NuEwZ0s5gJtcAxC6VxasPJ1H76y9/aO+99aL/81e/s8BQ7uprmVnItnQ/GNlskYqGkcmGTIzk5lawUbOSi0pl2IkALL32Oj5prFgUbzQr2+jf/wu7eve8zKitN1QxZ2GnxUm3oHCL68bS/17tZoKVzrin6YEnLB6uHIPaJvZwcP6lcyy4qywMmi4MJ/abZkO4AdsFAgv/JDYgSAeOpZ2yXL8wAUK7zSpUSQsG9Zgtlb80plM10nZItqfhiU/22sGwWnmR9JtaqFdXru95N7N6dHdvdXde8z2qtqnFnq8f//47ACjD/TM6peijlmTq20XBgk2nB0lkZIzgbg3OhfQBGp+b9Be0BqW5MVvEoI0mdjWGXk1RG1gSI0djnLMo/FrAkaMEyNWIKwESnWVIgIoCQ38wDJkEtE+4AQAp6Id1aWFijVrV0hmUZ4Mksy5pqVqzOeS1gORgMFKSUskU0slgoEAGYnU4rACaBjDqnM0x9T8FsMppad21DANsfjgLbKdqL5wf20aP37J//5R8FZjTb8Zn1WksN8rHNIZ1M1JJQhi0uUmtUStZp1cUYmGhSnM81ggwxiVLU45FN8SyV3d1CIJokBdWsaJ+o1xnwnPi+QGUmfSuHlG0UPnFJxcHMMV2sCmBQzgognQMLhDJGJEYJYIaUNwxs5DVaFgRsH+eW48lxxfv3o8cvbDCZWq/f12xRRrAdnZ3b8emZnfWHdnI+tmK5YotiRaCEelo17sR9VcfTVCYVsFpAVDM0UTDj8jSZBHGW7w/6p7KyD87eZvOFfeO7P7A3vvkt21jbtLOLcxv0hlrUIBLDmGB357rVGnWrJFVlEVjEwN5YCOAiRc4TE36/Rr1+KYYXarcs+riuNCOTSSUBDCPDnDCuLWcbuByj5lQxCoxibyjXvLIl1MvTiVWr7nRU0IKHfiTEcqTfmXKSKBXOuaZaMRoPrFLivPtM14RywmRstQqp47Fd26zJCIGUbYtULYOzV8raP5MI+/Vsxgowv57j+Ht/SqZ6nY2N1OtwOLLRmB4xbtqqzeaseoOKkpUyRUOZZzIdxIFPrQ0wwOnMxtOJ12oIfqyoJ6mYHz+TnuWZ+iGfQ0BUym/qrI7UIEHJ60Zxl7yGKbYoYQ4q3SASUhBNxTLVsF6CEbas222rdhdbP2LdyuuADhz05bFd7VYjE614IJvbBKaJUGiWWk3WaZ5ydgu2paiD4/Lo0SP7h3/4B/v5z39uW1tb9tprb1g1KSv1RlDe2dmR2QLiIFLcMMduu639TCdj9en5GDIXsvTOz+zF/jM7Oz4RmwdIYb88CNytOnMavb1AMzpHF2Klqomp18/re976WJDiVow6iKFcvOJtDtROd7Y3tS18P0DCVJXByBcZw/HYeoOhjuPZRd9OT0/1j7o0r8G4/Oh0Iqbp14inElESR0ELphWAwaJQVk1T51ADQXBNIt05t1a7YeVgRDCc0NDPe6iDk26fSyTDUG/Oz/HhkbIdb775pv3l935gnfVdmyMwmqZ2MejbsH+h67FRoz5Yt631LdnncR5BXOrfSrnT88u1h8AngOSnbyI3vGCBCFBh5B8FUVHYky8PvOwmjAtNfXdeQBXYP8KweE266YIsrEKLirNSf7jh+9WpOyodoFieT61WXli3VbLtzabdvrll169v2frGutXrDaOFZvX4738EVoD5JzyH3KysVMeToc3mgNvUBoy7oq5YrKgVIM44JCEUWwuIL2quZ4KDzNSDwlQm6Z5yilJ6BvB67cjTU2pnKHpPZjoZyU6MGOGCnbKVy86eYnCZB4HPfObtANOJf5dKUSgJC6mVKw4S/Gu3mzJM5zsU6M9OMiFP7CMUYIbv67S8tiWWHEzeAUuMFzwoeqDLz4J0UZDXBy/6I3v27Jn9+Mc/tp/85CcC6m984xu2s70t0OmdncuPltW+4FbDMIIxeDqxs7PTbOallJMzN5onraqFxmRq4/HIz9FsqnparMWRljs/PVJ6zuuvEx887R2UegageaDilNoz12RPoJZaNzDkeJ74rLHM7gGhgXxWASkX3+T7VM1qzYaYo46VWJKrPl00VRDbY1waaV71OsoS0K8lgAjno07LU6ekxmF0HN+xUuQzu757w05OTu2iNxKD73bWVJt8+PB1u3Xngfp8aWUiOzAY9nTMARaYOErm9fV1nWveq/2beeZBAjKS2pxbJbIvD7b229KHerOtVwEznks8cl8KlGHBFwFTpc/lKjD0w5JtCS0/V+a15l+r83llALh/Z679BXGY6tlzq1VpSSlpYsrdO9fs+o0d69KSUnN17urx3/cIrADzT3DuZMuGfd20b9PZVJPtpwRm0qnMbVxUZErNOCIErYQ86BU3sbKxpMOUtkzFmgQgKT1xXgf04O0skMCkOiZqUwGhM0uUq17TwT4v8VaPYHKdX4mnwXycQKca49jrohEwy6V5BpgALinWtbU1bStpw5OTowwwLzHMAJjtZisDW9Vsh25wAEjwGSwA9D6EGXIJDyk1WdvNNO2C1794+szeeust++Uvf2nHx8diugRrWkwiYArwR1jhLY0WysWis9kpSmRqg74AYV+qtbIN+4OsvgqjB3WWwD6ydDLVe9kG9UzK2Wg5sotFg6a4hNmT8XLT4gEzOvm7Ug+MKliP9FG5nM5c1KLXy10p52oDOOKMG93P1eTvYCnXJrW6AEaJlLOynBNALBdfpKlrWiTR8uFGABLJIA9dFJWVYCFXrjTsxo1b9vpr37A7d+6pPQVR0HAEAJtNJmMBJvvLwoDaNMc9Lp7imDHEap7Wl7ImtA9dAb1syosv8jjt5TC4PDJMsUJp1IKJw5X7OBveEsU/V+ucASBJ7WZtKFdGuIlXimkvLRAv/8zxrbjgi2VDsIQENJPC1KqVmVXLM9vdXbMHD2/ZTvCsdXHQinH+CULvV/7KFWB+5UP4JT4AoEvHNp0MND2Be/ZiNJLQgqwfwdEssWLiriLYfqFAjO0EYipqIfEUqkvgnRFg9eVN2q40zSzurKAgBvDCsvg9QZDXxUbwmE5UrUYOQsESTqKJsNafObAMB6R8ARVnmLRpwDClfK1WbW2tI8Bkm/me4+ND305qYwT7sMCODBOxjVKZ5bK2Cc9RbW8ANRTBAvCYUguWbK4MnQswcfwhoBLo3377bfunf/onpWpZAOzu7roaVxZn7kMb/0WjA6zSXHhE8/1Ydcy4zRKNRC/Sglv8DUd9G5wPbDAe2eHxkRTJs9BbyEiz2KOodHmw/4uMKTNBhxnB0AFhnJbU4xos8qLpgxyTgnFCuMzcrdDZtV4PoAYmLmDFiGBuPmUmXSgtGtOWvvCKHrPO3Nl3r8lWxAyjiLUoVljWscU4/c7dh3br5m27du2GWkQms7nMDhDISGw2Geu4cG2QYkb8AmCikI0ZBF/YRaUs4J+8HDCDz5EalgSYWB86IxaYh8WDZnl+QcCMGQnV7sNxjbXkq4CZ//+nWOkltlmy+Sxh+ZGZdbBN6iItTOH3uDgbyY2NjbptbrTs1p1d27l2TccGs/dVjfNLxM8/g5euAPOPdBK8n3KiNCisZCxnlLENSedJgIDvDsBT08QEV+1RPwszEBXJnLnE4C62EABkCZYeZCLokaKTSbba3hw8SZt5+rRtnXYzqwt5ahdza3dP8UDngZVAx+cM+vRUBvFNIVWrBjVMAIkU3MbGmlgF24MTD4AZt0VAlQSmrCHBZalTATT3GPU2GJgpbEgWZgG8Y2tFDHhiTtouBxpnvXMNHeYzAM7f/OY39otf/CJTSrJd1DnZb7Ft0mjyObkMpG4AACAASURBVA2sKta4Ql8oKda4SOGZ9DnbNhwObDQY2XiW2vnF0HqjsQ37fR2XWPOKCcbIJDytzFZTs/NngBLI4JnzGEFQbRbBjELpwFy6MJJJBfXF3BqVcphNCqr7sVW6XdfUTMc2P8tTxgOZq5CDpzfz03uJwtrTy1I0l6v2v/7338sMv9vZkAoZ9ipwFSjDgxHGzG3KNJDRQPsPAFMXBRS4JrQPc0+5z+RjrAKDp4kxxggSKCU5Q9tIvC1Jccc+WDfE8EVXxjTnWgZkjyUXDEuUOBw7eswG8VXG2PM+vi+JBVkbTN7tKWOcDpgllMakuBNv95HSXOc4tWIhlfo8KXKsGFdXsq3trt25c9OuX9/x8WKrGucfKQp/9a9ZAeZXP4af+wmwSsByMqYutVDdx4c2j4zMDEOMAUYF5yIsCINpp2IEOIkKIqMoOCB6QERsEHokw/8lygkg46zOQYcgyurfwW6uYIZTDqKWrG1EoOOU0r1hASUPsAAmYNG7ADC8zYNAUEkWVq0lUsYCRJub63rme3DkATAzhS+spexAl2eYgCX/Zzt5H//o+XTA9hYOn5UY+hqVmvQghUiK+pvqbuOxVeo1pWMB6ydPntg//uM/2tPnz1TnBAj428bWpm2srVuzXrNxf6A2ifg9BGQJcNjnGSloUt5urzYeD7OUrkRC5YqN56YB2GdnZ/rHYgSxUlRlej000OpcatXBYa4eTjoQZWmH20ycQBL2NQEQw0PXQO5qIw1YBvTDaDCZkAdRlKfsHVjyxw2xT2StpF+pq0WXJS1GEl9IXdu5btvb2/ajv/07K9KfmJqNR1OBXDlBRLaQAjsaZgCYiKT4DDxfAUzAMtaOl9epn0cpuErJywFTByektQWYoQcTpln06zIDTc0j/XzAzC9GLr0hUOo8k8z/HBdAeda5fH/BFlO2x4+pQDNvBF+YSVhWCvcIup9KUrBSQsq/YM1GYg/u79n169s65u6xvErVfm5A/RO+YAWYf8CDT3qTNhFuGoByMCKN5ZZ2Mkef0bROSi7WG2OjewQrBxavRS7HRAkApxivu1OPDLdDOtYDpdcu4yM6rBDM+Ts3JmDJsw+HdlWqBwdPnUbAVBI4B5jnZ8wcHGSAiYF5vVHJ6lVbWxv6GSXn4eGhRD9ifmIs5czdZwmYrtiNtSLaSgA+pRTVj+l7oaZ2LRoCnxDrop7pnx1TrihL2T7Uouzfz372M/v444/td7/7nT365GOBOL1/3Vbb1jpd29u5JpCJixDEJWqLgd3CNCekhP0YAwiz1Guq8sOtNezJiwMBIp/JQgKgZt9xu6ElR+AUVKBeV8u3TSA6wdotMMz8c2A0fA/HD2Wpjgcp3DiEGnDSRGhPoatvUHVMP0ZsMwCjBVQ4BzEtrb8vmIXaUt8u72cxAUgyFebm7Tt2bWdX15jUsqqhA5a42iQCT5S68iZWiwns0dPnAGazVc8AQNuTZULCwkee7LSUVH1EXH5QqtsU+3mfu0JZac4ISiGtLn1TGOB99Ta+xMSz3MxyrmmeOX5WCPhshkkbEKPSlmYTzuCjU5MvPNXnqZIwtWw3auaaqlTNGo2SbW407dbepu3urFtHjHMlDvoDhuWv9NErwPxKh+/Vb6bvUSlYpbgKNhybnfdGcl6R3+diYWN8K+kFDH130SKOT42sS3UmAJBAmZvEAAgTzGg/8VSqA18EzBh/+J58upMbGDEMgMnPo8FQ74uilTiWa7nKXgImQBQBk++GYTZqJU2wZ4VM7XJ7e1PMAra1v79vFxdn2j6+S6BWdjCOgNluYjKwTKoBgBoFNhl7PRYRlBzTwvQTOvF0PBxAaY4nQCm9PRxqWguATc2K7aWOCWM9PT8T4/zNO28LPGnPAFzOjk6sTr04iJAADfZDqcyQ0kzKJStrHBlZAbaLVhGv2zJ0u9FuWbPV0vbg0fr06VN7tv9C9T+1eIgZRjHPcroI+0UwlQ1+YJQCh9By4m0YCxmU+yIoVwsWm1mod1dmFGGKTFafDYAD48kDZryu2CZZ55WqVq7WZTP48OFDu3XrlqdRo4CIAdr0JiIaYoGG7klCMHfaIf0tj1vtgy8mAMxG00Vk2cIrpJz1fgH4FwDMkE2JgMl1kq9B0xLEfZafSxrvyAiYMbsR09oxkxCPt5TRubTsy5nkq1SyZtUg3vH1afC/pWFI12uot8Y6dMmv2cxvWRMKWFSl1mqUbHu9ZrdvbNrtvR2J5xjqvswG/IEC1epjv9QRWAHmlzpcX+zFWNAZ/+YLOz3u23BckoWYfDmDs4nfsPLoydJP3PjxhvZAQH3J7cnyQpwIkB54EHm4ajb2O14NvnyOB/mC6otM++D1gBqB363rfIxVteoCHAVUMU4PKOPRTABwdtoTMElNmWAuvrBbt/cUHKkP0oMZ66QvXrywfv8iE90opJTM/V5lXF20VqhxLWumXn8bB7WvUpqa0LFUM3o9kJDtJvMRZMSE4zEMz+yXHmHh0R8NBeSffPKJHR8c2ntvv2tHBwdinkoFT+eett3YsHqtpmMgcVTC9jprU3tIghNQSccCgG00mwrm9CuyX588fWLvvfeenV/0fUGjdhAfBRYfbC8q6bhg8GdfIMQBzwiOAH8/F86m4+tRW6tNRpDlCwmuOf5eCQInMggRZPgMxpXxGezf+uamfetb37dWt6sFFO8b4Mo0mWROTJUafbI+Q9V5Hos9z2jA/lEIe3kAJjjXeQUsaSuJva2+0IvmBFyvrpKF4S5KzPtcqmQjs4wpWZ+ss2z9iIPLs6k4si3MqVgvu+S5OULukR94Hhej/Dl/z/jlEhY4WR/mS+591LC6ztzKUfvJlBWZT3h7jzJEbkLsqeUrPsGFhEks1Dwx0Jhbu1G0nfWa3b25ZXu7O7oWV9NRvljc/WO8agWYX/NR9mkiIw0gHo0Kdn4x02gkebvSkqCby1Nrl2pSeGuGiRiS9wcGRZN8TMnGOkzsWfSUZWCggWVefa0HK+cArmJd003Ie2FguMOo7zEIPQBMV8s6YFLDVH1wNFO6EcAEWNgGHIGa9cRu37khwNzc3FQfJqyDtCSASd0vqmDFEIJrTgRMGtxjgMoHKQAztm9oW2LAjcEx+ofK1m/ZdiGTA/m9+uIjWgN6MHN2c97v2enRsadPz3t2uH9gp8fHakd5/mxfC4lYS11fW3NBU7WWteUsA+TcdjbXBUhiuOORppO0Om0xsItezx4/fuw9ppElhvYgBWsZifuxjgwSs/BllgCwZsHk1wpMl+MWe/nwoT06OtH21cP28TlKr4dsQ7PeCC1EczFHUq6wyHt37tr2zq6NRNAAQv9e2nk4/wA/nry4/6jkKBx3gY4WaGFcXATM2Yx+34WuA2eXvvDKwD2cP9qT/Dp2wLSkugRMfIyxawz1y9iHGVmfPGRxpYoj5OgfDuwt3saRWcb/4y6UvT8sR+L1Eq+75X0VlMfhzV7HjsYFrwJMV6rrOziOMssnyY+9HgBZ8cUdCzupvfOiKxaQiPvcVL5UQgQ2tVbNbL2T2O5W0+7euaHFTa3OgmxV3/yaw/WX/rgVYH7pQ/bqNwCWi+lIvRiD3tQOjsY2Q3Y/w+YOluA3lzGBckHdiNqQjx2ORt3UPWO/H4GZAJSxTgKrUmMe+FU/Ym6j3EachSwBM9zoDNsVSyoLLAE0AgEBHiHLwdFxxl69NcQBM7JY2YMhxhm66pWULKwqAuZ6t2F3791S3YVUL8xCrzs/t+fPnyvYuyGCCyOYUMJrY7quLOeiOE+TQOM1tzi5hBSoA2bwsY0r+cgkXgGYMQhytqK9H/vNNgAKeNwCLO+98547HoU5jQcHRxIIHb7YdwB9vu/bjdOMWJuP63LR8sS2N9bEEHSMpu6chLMNTkY8qOOy7Z/KAPi4bwXCCPK8nvdHRsVx0ZQZaqH0+QVlsTNdP98oWZX+0yQZr7XycPGYZwcAyt3dPbt7967t7e05ayH4FkvWG9AO4upfXgsgc35I0+pYhRo5NnjMWHXHG5NjkC+kvC7ONpJqzANmFLD4uVgyzAiYUjqTss6cftj4MAgg1jDDZBMNLxf79rmrOpeBSbu/7+X7MnLOyByj32wEz4zV63wua5v56yb/80vv+kJqSYH7L7Zh+VgyLYRgmojJ5EtLuw8oz6zSpXG9znfQCKhtpogIbC5z92oys06zaBudkt27c91293Y1T7RSrX+NEWv1UV/2CKwA88sesVe8njTsbNK3BT18s5Kdnqd2dDq0YqkemGUwnjZAEwbJpHds7Xy4lMwqZZ6tIlGWIoI9LG9oF1/4mC0Pjg6YkaEsa2HehM6C1lN1BE0YIJL/yAD5/f7hseA69lFinB7bObyHEBeXqQ36E6VkL84HWVsJNcydra7df3AnE/2QviS9CWDCMAlyETD53Frd208IrKqXBrPyCGaav6nj4owHFaynNOO+BUVr0Iuyko/vjayN/Y5ijbgvkSlE4UgMhocHR6pnwrZhlYwQ42/M1eTz3nnnXWfiF7Bxbx2J/6bjoQ0HZ/KDZVRUZFS8n9QhkT1+z9W0unCfdDjnL859lJ9vnI3pPbeIaVDB6rrIhFxu6kAgvrjoy7MVholna7vdVdodRx6A7/btu6Hlp2XlalWK2Livqu8VvZ2Hh9KpDUZyleVFzHmvVFyBTL0zuk757FUXrVEDd4bFeS5lgBn9dvNZEf3M9e6uBX7dy7bv6k3FeDRnmv5+VojLWaISzQCcBQz5Ey0yXgWY8d6RMX2uThyBMwnDoOP/84vTPDN9JWAql+GLX31XSC9rERCMJWCd+n8QA+VdqyQakrewT7vB2TkpUerATnFu652yNetz21yv2b17t2yDe7iGUG6pnv6aQtjqY77AEVgB5hc4SJ/3koXGZo1tOrqw3sXI+sOFDaeJMVZxOnNGoxtffVneRgBgKlVHShUBhazCvK4J+MY0nKffnIXyzPgurdbDRHkazyNA+M3uYBvfX6k6s6O2SGqH18CcTk9hlgt79uLAyuWKgitimXodIHOhiJsgeDtKvzcWYPYRLsklyEU/e7ub9vC1e1mbCqv/o6MjvZZaIfsTU7JKbTZroWmbhYDycgqMEfRiuhEPB/aD1K4D6JVFQWQlMsnG4m1pGJBnDFF9m2cWkV3wunqzZUcnx1lbyNHBsYuHQs1zrb3m7TQ9B9Tp2AVSDp5Duzg7st7FmfbXezSH+rv8dSpeC+YRp6VFBTIGBwAqI9t8EeTG+PG8qV5JTXHQt7L8fb15n6DKcYQlcs72bt60dnfNtje3bH1zQ6YCsM4YnBnbhaIVByWEVMPBSOfTJ3Ek2icAMp7/co2+TWrWrpxGFORAU9Q1p8HUiM1ygKkruOBeuzKpV/3SDSKWC4bA4uZec6Z2DsbgQ3u5VUZX85JphvsiY4phsLczM6wFK5miVu+8Cr7R2D0sKqOBQbxGSmWfrJN/5MsaV/926YWqYfpiIQPc2MtLClZlg2gXv+yTBe7j55YWJJm95hnBU61N2BaWMP9H+TyyRn1u13c7dvv2jm1v72g+LAsljuPq8cc7AivA/IrHGuHFPB1aYQE76dv+4YVEPvNCzebFio3GsYfSLdASQFMMM0wBmTMdwYULSu2EqSKkuJwlhfqcYcLOVBJfpcf2BBmEhpV4VgdTus5bBah7AYT0RxJkCYKkCemPZBLG46fP1TgtVtLtWqPhqbjY5zkYuFUdCwGZfvcxiXenH1bW9+7s2Wuv3xcz4XsI+Hx+bCuJKdlovUe7Aa8jmLKP+Ub1KE4RWIU0M0DkDHMJmArCcapFKYxheglgKijOHIwzQM4FR44uA4jhCDH1ffDiUCpXwJ6FRafZ0XHU6LBq1WqBkURlMcBH6wyLBJj1xZmDp/e7pvpZ50U1bGZtskZwtqgSXrnuLRuXFg4MjQngmCRi5e2Gt2k06kx46djGhve7Xrt+3UrY+OE7XOK8zW2kdPvcW44MBfFUk0XKjITDHzddBAvCoVVDXZTzx99I72p7g/MQtXf/mYMJG3S1rBTaiIiGA91BHAesBP08+5DpZf0yZEN00Xgdjv5g9l/m6/EezFni+a+wv1sK4eJiQuczWA026M3IPV4FmBEErwImKeF8hiKfEeA9n6dSlegn1jDzDDOoujP2zIIj1t017oU0rVlCVkH+xPSdIBjylC2lCjIw89nQ1tfrVk4mAs619bLdurljt2/f1Ng0xGfUQVePP84RWAHmVzzO83Rg6eRCPpqHJxfWG8xsXqjbvFhTOwkzJL31itDFYKWURJsGD+sm1h1FUcrZ4WI+sTkN7MF8gOAkZZ15rQeG6a49fmNl0xOCRR5AKfFGAExSsqhXAUwAiTYPgvvBwYGdI3g5PtUcQ9K1/GMQbgRMQOH01IN/BMzR0L1qI2C++fo9MUz1JVar6lUEbNwW7ziMUGJGZk2g2u7AYuvadpSVqqUFkUdkX/zNxSVzpXaVEgzGBfmalI5bMDCI6lENaHb64E/BvDumYpdpTR/EfI4V3nwmpxuOz6DnNVqAh/18/OhxNqFFwBBEJqhpqbNKlJMz+saLVn2kY2dybL/OiXpd+R3tP7QTuYH8QKqb6H5UtIoml5QkHkIgtbe762PTqiEL0HCGzjzUpFqRJZ3mSiIyg/3KfQczfR/fBSBgN4iNXeylZLuZCwmAb22sWwOBTs2BI1orcn3JaYrrkoyoRC2hhikT9yVgiuEnpQwwUXbHOmNk6rpewmf4AsYZ11SDuZc3oTPxJeeEP7llX+hFRgUcLno+p564aOzqIwPOnPlFPt3q46vF47Xfy77jpVczr/98wPS0O+WV/EMZ5Yxt+l/8/y720rXE/xhWzpQUap38E98s+7g6mGaFd2A3OLFWk+OGUcfCXn/tlt27e8va7Y4bJ4Sa+VcMZ6u3f84RWAHmV7hEFjPqXWO76A/sxcGBHZ8NbFGqWq3esTQt2XlvmNUa3PPSQbO4SDXZwBmk1+wIFEqnLjAQADipGyH68L5N9cLxCQQqrUIdMLmpPMS4GbuLS9yEAOAloOOnimUdARwWBAOkvnh4eKx5iDAW1JMAKyyUlW1kmMcHR2Ki1Mr6PdKNPkXDp2ZM7Vvfft0ePLyb2dsBrnw2dTIHzFStMYAkny1Hk4an/dieuqzbQsI5GCYIMENKFMWqp2SD+jWqWmQZ560lrNzzU0DygKnjHsQ+Yg/5WlixYHRLADIS9NCQL2efuTM2K9rx8anA/+z03MejTZ11wDhZyPSGPY1uimCDytUXMku/V6Xaw/dGE/Y4UoqxWpHVsN2UvWjPE9tmXGnKsGNvdNcYMHp4OdcANuPHGnUBT3FRck9XgD44O7HAGpLhCHMm3ZQdswuuC1p7KlavmBghCxoCubcYTTMrRQ3iFtsPNUcWMgEs2VdvU/E2FgaaA+wSPbEG5OomWxFGrDiTdl9gLWxKRZ9K85IaZhT/xHOZ1R91Pr2Nhj5UasdK6QfxXP52zhYyIfWf95P1EomXHlh0xeyGr7WW9c7PAkx1XcK6gyr7UiqZa1g1es7+ZcDUd3Dt8r6Jt/mUSpi4O2jCOLnfxTQrZBqmZouJ1ZtFq5RJ1Y+t3anbZrdq33jjvm1ubMlTORrcf4WQtnrrCjD/MNcATLAwHymldNBLpazsD0ZWrdZ8Ev2AwOtjs+JNqB45CXY8x8XPMf47aERhizuzzEn1KIXnKTA+i0Z96lD8H8YGeDp78lQfQZSeS4EakyhqNbtz544EG9yAZ2fnatx/8eJAgNaoNtQkTasBLj2xnsVt7ilGgGIgpgRgatYmCkkcYCy1v/jOG/b66/c9nbeg5jYQe2UeJUyWgMRQacCSwCzfUnowS16jRE0K+EQzg7gqjwGSlGZsL4lCnuw1pDQT5nDiQONWeXlhB8fdW2OWNaP8PEO4mLPZ2HpDCPToLdGJjhkLk6IYGcdjf/9Qx4J9LZVRRHrdOUv5Bmu6aCIRmW68Ci+Po0L5uhxt5UDgPqR6XphVa5WQfgzAL72Muv7Vcyq3HYIvXq1ig0wvQZTjvaveEsLf4vBv8CHR5zKlpFbXrDhXbOvaXNbI1T8Y/8/1GRZpPifTsxiTwVDnQAOeGVWGOToWdiXvOdRCQeAQQWL5LCYZsgueaYmOTiz2/P8y5acEwPXPda7jO9eg7WKpIDbOOeC4vlz4U1RLD6ULne8oypHymtTPUiUbz1G8XuJ19uoIgsuPrpbwEhczRYbMLmh7P7UgWH6ifHIlYgotOIvl+C+VAhL2N7Vimdp1yRLIJ0rzRsXazartXdu0W3sbdn1nyxJaVBiCvXr8wY7AimH+HodWgJcOJNwZFRrWT8tqoQAo4k1OzUo1kHAzRRYR5f+xz9LScDcVovVbDGzLKSWusHTARNChPrt0rj65ONtQYLHwfkrmN5JuI6hRl7x9+3YmEjo5OZcx+YvnXnNrNWpqB7l797ZSsgAv4AeMAFYoSHk+Pz13n9Txch7mopDad//ym/bg9bsaQMw+Ii4hJRsBE7DzqRVuso56Ur2ENJ4t3OCbmzy/wo/pN549PeozKqPS1QOZr9sxW79U+8xN8hAYhukUV4NfPB/OIILIRJM8YnTzFhfYFv1vvB/QhGkDmOzfhMkz02HorXWQK4WAHPchKV6uL10CTEQjJTfVV7Iut18xtYwxvEJyDkTjJUtbCgPDPV0NSNIfSRtN6JO0guZbyqpNDfPOXAEhFlLlCuIxjB28TSYMP8nVyENOJExDCRvibT7qAZ7ZbDLWYiVaEy7t60ILT9bHeDll6UBJTd/PpUaPRftDapsh68BiSr20GiRd0utjRkZzXCvelhQfeRMEfhdT+/HakaFAjkVaMH+PWQ4/1su+3s8LD1pYfcbjs0B3EbZboBnaS9xTOJQTyBBV3GNY+87c2UpZCzXq2kyiabcbdv/Wlt3Z61qjXJaqefX4wx2BFWD+Hsd2Pu1bsTBSurS/aFqhUrejo1O5xxDg8w3bAKduwiheiGOconoyNnJLIRtdQ5bPvNf73KIvpTv/sDgmmBAgImAAmG6wPswcWEjH3rhxI2s0ZzuZ4rH/wpWhnVZDqdiHD+9LRUs6V32HSUnpOVgorzs9PtW+AZhuBgCDmNv3/upbdv+1O4apN9sPkJDypW7GczQ8j4Cp+lylorocaScYcwyyMbg4e/G0WDRViIwtAmAMeljh5etPWa0rnNeous2zzCwFmgu0gKMHyyhW8UAI4MSh26TKBOKDsVSzgxEGDec2JgUejALi3NK4L9Sn8o8svIa2iVJRduvhuz2VG4O2nkOtLavNZmzY2dgItp8xvoWlU/cqRtjDOSJF65mJioKvD3N2X1/6JscTH/jszFJE7FK/JS0QHsDDcQmLEHf6mWl7YZVRFZvVkoM/sDsA5R65Y66WI5UUyKZ4r62rSuPPXqvn3LNhui5D2xHrh5cDZvyuUKoAfHOexNk1pjYTDnAuAxTe+oUBU0YFvz9gst+6FotoGwJIBwAWT0W0R1uYLQETc/wImBVas5KCPXxww968t2MVm1qz5kKg1eMPcwRWgPklj+t8Nrb55FSpkdm0ZMNCU+rDwWim2l10iYlmAZh3R8B0oAvzAHOAGYM/NcfYBJ01r9N4r9YRvzFjmpd6m2zaSj7pQ2YDCxecMH6K2YQEGlKtmGkT+Nmmg4Nj+9WvfmWHB957CMOkfvnaa6+pzsmIJm7UWtUdhmCYpFaPD48FoBKtTDzAIs77/g++Y3cf3MrMtal3xpQsz2yP1y7jGC93q2GFLMacII2PaeUgoJBrkaenXwaYlxEoN1A5W1wsp5oAmHmwjO+NoEk9UEE0pKyXxtkOoLwfgY8zFF+c8MDzlvNyen5qGL6Phz7HE+afB7x5GMB9OYy7u46GDhdRcIW+SqVhlz/r+4OyMp9KjtsOL+2PU58pSW1SaVf3eo1GAVpMVcrqKyWVR62XFKYGJxexIWTxswTMKEJzJbYofFjIhbR2AEwHoakPdpY38LKtJ6anpfLM1ZzzTNA/HMCMPzlIartzDJNj7gzTQePLAmbsv4yq3zxgatGncWuXh0TnATPPPF8aKmTN+GrQ/Oy0Ls5fOCT5CGodt5gVkfeuX5timElRQEn5AU8E7qGkVqZIbPfu37RvvrZn1cXI1hpNq9fc5nD1+PqPwAowv9QxXVgKWBpuPghGGja0siW1ulbnpO+OT09k8k3aTrW6sCJW/TKKCWh1CPUiZORZAMwBZkw5enD28U/OHidWr9HC0fZhvRW3bJP/q8UewZ71Bxf6O/VLjLVJJ/I5+/tH9tZbb9nJ8YUCEZZv6xtde/DggQBzOOxre5qhvQShiwRC+4eZO5B8Z61k5WoiwLx970bmPsT2ISbifQAmrBTA5B/inygAQvjjQhvvE4Utx55JT0F7apoU76WU7JWC0Jx0VvBXzVKFuZFNr2ILWYo8mzUZJ0ws650SXWhOZ9ge9CG5iRmcm9HEx7Sxv/yLqeP5pTmmAOGng6qP9wK88qrQGOgcOGWAEB4ZyIdsBen48+FUumuQMvbm5gO4m0aUrIZylVmksMhQQ6c27jXYCLBe74yesQL+IEpTnTSqPkNKlhpmldFsYeSW/30psorn82VAGfcpD5git0FAI3lc2M98StYZqTvkwDBdHLpMyWYLy+yYOWizmPD9WaZkWcswuozHq1KynwWYbkawrDm+LJR8HnA5YLrRha5Vyroq7aow7ccjXOMCTPkCei9uoZbYoprIy/kbD25bvTCxbsVsrYsW4eXq4S8V7lYv/tQRWAHml7goaCFZpCfqezNr2CxNbIyKsEhaENWeWW80sffff181TW6Aeq3pN2PoI1Rg+xRgeuO6t5kEQ/ZQt4omAtT5SAOenpxJ1cpQX4CrVKa3zlNuVvDRWBcX59brn+vn+/fvi0HSiA4IPX9+YP/1X/9l5yh6sU2r0mhet5u39lTDJCXLDdxuea8kYMUCYP/5vsBAfX6jUAPw9QAAIABJREFUkQJPrVEVYN684wyWv7FogJECHl7LHHj/YKMRnmtim5r9x+SSbJagi3YU/nKAyT4TMOOA6JjyjKdtpqb5OOw61NZwsMn97rMYpouygtAnJw6KgY5tiYzp08Dlczlh3dE9x1n4RG0eHLvISF8FmOrCzWpZHjAV2GPNMgZ+qVQRg9Gj6sbnAOUFC6Gw6OKlGVPRImKhNhjYH9cILMWPr19rDjU5Zif1k0/ckIl4gBh9ZwDMyHjU9jSbWbVccccm1QaXwK80Oa2Fl9ot8sDmyVf6TeN25AGTxUC8FjwlG+qvvwdgKsUfVMtu2O8gqm0L/qzKhAdlknCQFLSmoSx//ynlkpA7Gi/kauF54wUB6tKIYan+9ddnDFNuP+H8A5CySMwM/nxRmCxt9TinSJwXjYpt727bG/fuWTMxaxVGdm2jE4YAfDaYf4nQt3ppvBsWn5tzWB0rX4GmNpucWFKamM0rZuV1m6WuzEvxa9Ukelco0vj+8SePxa6o0UXABCi58T0160pHYqWr7i8DZgzYajSfkY4qS6Tz/NkL1Rr39m66o0yhov43NzN3MLvonavfkp/ffPNNASFMjc95+uSF/eIXv7CL86FuwmazpUC3tb2hWqbm9FWSDDB5DfMknz99Hnr0/DtgzvVmzX7w19+1vZvXg3oWwA6A2Rtk/ZgyB294HyaK3LU1n8XJZ6uWCWvL1ZJiDZNnRDZqcZEJeBD6CAw8EE3DSKnIEmL/agS5qyrZq6Dngp58YLkc1NXWEdpSIqBzPn0yDNZyeO36//VvshyCrQzAFQZyWSSC6MUNLfJMJP9zvD1hHN6PGK8VB8w+NfDAxpTiJdTD2KNBucwRYPAOoJnpfxhGLbmR0n+R3TlgRoMB2boFpiewlKo4TM9JZ66O1XcBsJdT4ax/LoWXS/VLPxOuep15GhbRD+DMNwRiTXpZgBlHxAVVK+8DkH29swTqOEYtnuc4JSYDyLzoJ4CwXztRSObHydXRUcX+csBz83w3YNBCI6iX889itC/5fXx9Jm4KilpSsqpjZ8IfHW0HTJUXSjo+WujVKzaplWxj55q9dvu+NYoFa5emdn09sfX1tlUqK9/Zrxu9VgzzCx7R2bRnpcK5zaillNdtYS0RE24WhK6kPLmBkkpi50yp+OSJHZ2eCCCVVgnMUgRShtpEPvrSwnzHYIvmDNMZBgFK/XEKFmWlOJ88fioAxCMUZkOAoR7I6wqFmTPMHubnpwK2b3/721LBApgEHgCTocoYEcACOp2uGFG327Htnc3MD7TTboo5kNJ79OiRPXvy7FOA2WjV7Yc/+p5dv7EroHSF7lRCod6FM0yYptoOajVrthq2vt7NTNrZP6zyxABDqsz7SL11hZ9hmHnAjOAVQW46B9A8XZgd56CMJcjw3lczzDBF4lPXwNLqjM/W9898zFgUGIkFp/Q0hrAfgWVGat6HWGu0GCuo3CMPmA5wDph+zpfp1+XPQbwSriGAkz5LAITK9qRYsVRDjOlFpIcTVhlSx0yoqZHqhoG7I03s0RWQyb5Nk42z7hfYqraFnsDAjZaA6XNJY+qbaSmMQItDq+M5ELMNoh9d5y8BSj8kvs3+k4NkBEy3X9Bs7K8FMKNK1v1dl/ckGY74/3ia8mn8SzXYl8SKBX2xIZX6svaZ2FbysraaaAgfr1/aSxBNx+tBCwmxY18EFROuFk9Vl8qkY6t2kSxsc/e6Pbj50OqForWSue2tF21noyJTg5V13hcM8F/wZSvA/AIHajGf2jw9lzK2kDBct60VOG5mGhNY4Kae23Ay1iqQwvzpRc8ODg/tySdPs6b+/efPrY3XZymxTz56ZDf3bloK0IYUpIJZGOUURT8EHup/qE8JwEeHx5oycufOvdD+UdJUetpHYJjcTOcXDG9+LmC6d++et7cU3Tf0g/cfSSV7dtoX42s0fHpJuZwYtnXUMTV1pEaqDTVlIqD+6IMPJWiCkUVrvHa3ZX/3dz+yja11MUGCEtsGC0YlSzsKrFi9cvO5dbpte/Dgnu3s7GQLApSbBHRlrQPrZh9YDDjwuPk6YprM4DoYz1NDI6UVVcIRMCOw8XuxkyuPPOvxntJQJ0atGAJ9ZEsONqRefdGTBxyt9mdhUHAAfF4jRW8QWWERKCChb1UWe97WwQ5rJBaTSPIMKYwni/VIFkoRoBT0IR+BjdADnBYqAk7nmdQ8HTApD8D8fFSbe9TCLjleAsDIigJgZoE1NOJH4MzqpmG7MqBTlJ/LkSgzYwhMPJoyLA+7Lwjyxz3+HNuulBoOBunqOw5p8kz1LHerglUKQRUdWnDKtCdJZbucl+qIv0zvOyAvF6Zxn/g9GSA34liyfP7Od8WpPa8KEWL2ISUbuy+vPpMSlwtQcAOKf4dJstLLjBHoJeUcztUIk02sQWVfKjMz1NuFoiqezMawuLBJo2pr29dtd33PWpWatZKibTdntrddsJ1tRtOtWOYXCPFf+CUrwPwCh2o27ZvNzqyENBbbu0KDJImCvO7bIm4xc5lbk6JBlYhN2enFub3//ofyVW3WmsYw33Q8saSY2JRnBEEqWbr3a2wGd7WsGxlEwJRhwHQm5xk+j5QsQMoKGfbjA4A9bQnDPDh4IeBDzBMVnqSIAUz6MKlh+pgtv6EIDtjikZrFRg/PUh64wcAUI2BSq4rWeADm3/7tD21zeyMwQcY9TZSShhkCmGyrB55UoP7wtQe2vb0ZWN9CTiYuDnk5YPI5gGVebOnBN4g5aOoGIILRd0y9Za02V9946XwX1SISFyzOupb1z3j8I2iqdhgyAf4xuN44YHrtb1l/pW/QRUsM28bTNg7k9m3lsomAKYAJjf0RWABMAARrbrEt0r5X6nCITpigCNhEdimWEsCSaxNBjrtAYcWHovayjVuhGFsQfD8yU3+Uo8Hg3wHHr0cHo3CMFmaVUAMU8w+TVpaM3l/3aaBcsu5CrFVigxH27+sAzGhwvqzVvhwwWbzo/mAtEgwQZjazcrFsDHfO/35pkJAzSmDRhI9xmJhy9Rn2zTHn9/FZZkfBIs+PlYOkniUOFN/OFhkIkzhMU76D2rL+X7Ahma1mw7pbu7bV3bF2pWntcmKbjbntdEa2d71tnfbaimV+gRj/RV+yAszPOVLYv83Gp5Yk1KtqNreaLQpVpY/Us6ZUmturwTBZcSZMfCBdNkntw0cfqz8T1eTG2rqdHR3rJuTn509fWB2/T7GNy4AZA78mfDQa7kdbKAgwEdVsbGxJzINaEHcfLOcY6ExwYsIF5uqkbm/evJn1cZIe/fCDj+3dd9+1Xm+kNGmCWaXMsKlnNpSWvXZtW4DJZzHuC4b54fsfqMWEYA/DBFva3Y4Y5tbOthglK/VBf6j9xacWsAQwHMxmqr0CmAAyD/oAkzKr7CUAajE+L2QMU8w1B5jRElDBnBSjADOCbjR/WCo1P+9G8Pmb1MncZF7scO7G9QQwn+PpTCACT1ZXVDtKmCYT6nxXxT3UNCMga6ER1LPxuuG8A5jZiCqlR121KpAic6/VRPi/rrcg/ig4mKp7MdS+BJgsIIKnDTAOAIilApq8PmR+CdO0hLiQKqi1M3Xq0nkngrieBZbBiQgNbXDfyacxYzkhSyuH1y+BMzeqK3yfg2QcLB1/DsdBvTIOvpWCu0KJodGWEhjmVSYcU/ZLj9e4wFpaFrI/AL4WQQzERrFKepvaKGI0Plu2gsF671PPDmB5fx9tFddOkEDJe1glB5dEXX2O1yfnDdCUFb2URr6dMiRRNy6qfDQSblU4mc9twO+7XWut79hWd8s6tZa1kpJ1a2abzaHdvFa2rY0NK69Y5ueFgS/89xVgfs6hmk0HNp+cWbnaNCtWbYYBdejFmypV6HUdDK0HE59xWaxU5ayCbB3Q+OTjx/bR+x/Z5vqWPMuG/YFtrq3bk48/sSaN+4GZwMJiyo/ULDcyLjlyxgkm42dnF7LhazRaahmZjt0OLwKmAxpK2TOlPhkaHVOlML5HHz22Dz/80Pr9sVXKVas1muEIzMUmec/1vW1r1hsCjlarKYYZAZMb2I0LzDprHfvRj/7adnavCTBVPz3v2UcffaQULfvu6WAXUgDwACbMFwBFJKU5xlcAU2nNySKYvg8D83YwjIFwyYTmGbOJp/JlqT8HqE/XCMtJPRwfn8IS1biwJQUrbX+skXrtWdNGQt+mrAUC21XKVe0O3q+pdBu2dCnnyMdlRfWsLxjwMnXAFBgFSz6AUp9JGo/FQmYo760vLMryLE6fRc1bbRJsg4tp+F1ceAFGAKYGkOsweKoZBuqPwJDjoOfI/K6kYh0wly0QAGacHBKBMqYZP93TnxuDlYlagho2B5i+nXGoc+jlfAVgVsrerxgBM5qqx/3JcVlPqec8fjnsYuBBxBXngrJIkuViUG1/VohgPFueYcrukpR5YJT0qRIffISXP8uiL8y0jQszT8vTZuS9uD5oHl8FSi6AcMHmCMwKjA2c23g2txHL5Y1ta3Q3bXt9y7r1pjWZTpSk1qoM7PqG2Y1rW9Zsdb8wIKxe+NlHYAWYn3F8NGpr2rMCjiblps0LYTo8OS8pNDG6dsEKUxeG09QmDH8mKNG0HWoU52c9+9d//ldNJbhxbdf6Fz1ZfA3OLiyZB2+TMMuSAKqJEYFxkmqVSwtMtFAQMD158kwB+/XXX7dZSq1vKBbKfEpvBZnaYNBT/yWAGwGTGuQnHz8VAxwMJvKe7KytB5k9tUCfbLJ3Y8fazVZI9bYdMD94zxlmbuAwDPMHP/grAaacbzBcPzoRYPL/vOsRsQfXoddef6j0MUGO2mahmLruhBSk6nweKHEUouY6HLgvrouA+GNMffJa7I6WKcLYjxkZUb5WlQfMPHCqFq3apPepijOEvlbUpXE2Ju/xBQ0LGQJ0ANGQeo3A5HXfslWYFhIWVjI0HzoYA5o+j9JrZKlESwEw5bnqTjeekmVAOIAZxUnRbScCJryDaRf4kbpYVOPIwxQb9VzSz6rWkYLU3LxDjfpBBcoYKVKAqoJm/ZikbS+nUklH+jG8PC3EmayDXjz+asu41DifZ5Q+fSSCdDRY4AhkKVltr78iq0vHGqZauDAgdJV0hXJwYND5Gnhk0dkCK1uULrMQ2uZQD47j2thut3D0zMvl/bgcLHQsaekJzDEyyzzD5Fy4t6577PJ/DVXIWTj6coVUOgvCKAILHrxJyaZc+6jIk4qlczfUn7DAKFWtsnXdGu1121rfsvVW02rUrekOn1/Ydju1+7e3bW1tU9qD1eOrH4EVYH7GMaR2WZpPzAoVs2JTIh8NvSX1WXA2OV9gtk5B3mw8m2nlN2ZqiIr6vnolo/Tv//YfdrR/YLev31RP5qjX13T10cWFJZLXeaHf2cjYJlNvAwEINZS31tBnTacL9UX2LgYCzFq1KnBU+4l8QREgTWRAAEDlGSaAh0oWhgpgEurWN7cUuL0dIxX7u3lr17rtjhhmp3MZMDFLj4rD7vqa/fCHP7DtazsG88Ws4fDgSAwWtSzAEEGD77hx47oAk9or4IOJwXwxzgGmO87MmboxTmXSwD9qt+y3tjHU1bzmSV/AEjBj3TKvmI2nN6+Uzf+clGraToDRmbMvOqJDkEAgMMAlsAZrwABMESzzop5q2ceFeWvMhQ37Ll6KJgxsFwsG0oA+aDg+SLsR1IPrESpr7Poy6z5nLAqyGB8Up6piRkYplgmYh4/Dpcidcwo2Q1xF4k/FRmeW5SLpxrygKszDDIAZAcMBk7KEp7sjHiaZQ1IUR132YtVg7PCIdfl8BiBO61mmZDXbRYAZXycg/IKAmV0f4QBEM3LxN9WfrwBmEPhw7mO9OWZ1Lm/nKwIFgMkKIcw3vfqs85GUJPTjmfNET2j0mvashC9C5GSsay3NWmWKpUQxZY6aN6nYJDXrj6c+cBobvPVrVm+vKWO11mmYikGTcyulPevWpnbvVteubW9brU772OrxVY/ACjBfdR/ALsfnPp5r0fAG5aLuW5sVJrYoTqkA2dyqNk7NxtOFWGZKeodUGBd0UrR+byTl6Mnhkb3z67dtPpnZendNop8S7kCnZ2oR50aJgKm5iVN3uCHokm7ttLsBqBKJap4+eS4F7Mb6uvX7F15bnLoZAYCJxR2WeDBG/91MDPH5s4NgKDBRqQSGyYraXzNys/Y7e6qxsnKnrinRz4fvSyULYEZFIYD5N3/zQ9UwT07O1E7y4vm+PXr0SWZt5+DlY8Zu3bphr7/xmk9ZmU01vSSdDS8BpvcZOmACuqhkrwKmnzKfWqH6XOhTc1cbdwyKdcMY8PM1Nr07RPxKuaHWF0AN4BQQhVQc2y3mnjNBiFNgYh8doo5oLcfrogoW9SiLBIASpTCMOz4IzsRFrOrYAx9qGlKlWQ0zqCtDZSsyJR+35ZwGDlqxiRULKG016MzTsnyRxCNFGbJLHCRFN6pOsiSYbbjRRpEFi1KAudppmNPq6cKQMr0CmNR1BbhxkHfOsDym4Pl7XFzlrR6vAqZv7rJuCaDku3FeDpie5SElW2B+bFDYZrXM0MgJSPGIJuzLxU24ikLKnXPPdcD+cr/Fe+KzQRP4c+YWU7E850U+/J8BAdRKNSiAnACAOY3mEbBOr5eXYn1Yz1575uaYApiM/ypXbTB1wGTweLWzZYXWhlUaLVvvtqzbqlu1MLPFpGfJfGTt8tSubzLRZMO661vBXOKrQsb/7PevAPMV53+eDs2mAysWqmaFhmb3sciHSU4XIyuUSH2VjfX9YDTXXEk1IZOKJRiVuUHMTs6mdn7WF0j+/Ge/sN/+8rd29+Yt1U7G/Z4VhgMHzCDTp4ZJilX1rjDXEta3sb7pPrLFshjmBx98JFN16oLUCmWkPR6Kqc6Vph3b3t6e/s6DIH1ydmYvnh/YwcGR0qewOVaegALBh9pnp0tt9JZtb24JxBH95FWyGphMECgWrbvete9///sCTIRIsMvnATAVaDSNBMs+B0w+9/U3Hli9XlUgrdUTgXQ+JRtZQGSYLDh8mHMwLsjVDgmDk9AfKUFI1Seh5AEzspoolLnKNAd9t7UDmAnqTIBh+7ydwxvGY6oxpgfjgkGLHAY2R1/gHGDCKABPxE8cm4uznuranHdAl/foWNIKFKTWsek+jtiK/XcO8NExJtb2FlbC+LwwsST44TrLDKnUYL0oD1UAk5SyQJnr2JWWSq8ypi4wTPUFMgYrzB7NA6YyILLqwyzc+a4WCGFxEY9rlpYNaeZYF4wilni7+TELNdkA1lr6sC0ilLH6yCrVa8cao45vbWz1MY6hq4Dz50YAeQUwtSAJQ6gFqtHBR9cyAr2J7iP2o9tqS0Ge9W6+pI/Udy8y/6W5g74788R1V68sxR/mppIZ0TWA5WVwFPLj58DpLDOk6ck68WNSsUVStd50bueTmZVrHWtt7tqi0rFSpW7rnbp1mzUr4008HVq5kFqzatatze3mtabtbG1bpbpqMfmqcL8CzJccQTGGFBcd6A7qD2znmOzrl3GqSZCwSdSxLvmmLiHnHaVgmHRfMgZdnPUn1h+kakmpVMr26MNP7K2f/tyGg57tbW1baTKwtN+zVrcj1jWeDBWovefRFakb3TVrt7uyIYM1EID3n+1bbziwGzdvySdTzKJUsHQyttl0rJuUOZSwUH4GFA5PTu3k9FRer3jeEkzX17d08wISsIZpOpZK9rUHD63Vbui9WP0dHRyKQfIAVPj9zVu37Jt/8YYNGSc2ndk777xrjx8/laH6cAizRjTUsoQJC0lBKdk33nwoZgkbbjTqSj9LfSqDBwZkFwSOsY3m9NRnT8rQQEOTpxnD9XYU722MVmyZTSDnJ5gWJATVuQdFPieOSeM9+0eHzkAwkSAtVmC+JuujcpaKjQKeKA6JPre8T+0BYsUuholG+JGl4pIkVoNZOztJ/j5bIHFtldVfJ8YKkIUZlgKjxNl8JghRfZKGpuB4RPp4MVH9y5lgCNwy+A9pWNLYgf25M00c9eUp1LwIRgAZPY6v3Bd5ZawGVpP0DQYFStW+1HTh8ofk2VqWbo3AENpomMmZ7wTSz8EHFuas4doAdik28zurl1CM2n8aVNMhhb3cgqU3bQRXAVvqiyLuXe4RPnet21W5QNcKegTS5rnzpn0NwM7CSrV384UVXN0nubCw8ClFlEv4PKnFg7CPlCzfX+EaZjHDJJzwT2xzMbcSC7ZZKnHckFp2uWLTWseenvVtUmnY/Te+beOxC7fWO01b6zaV8xoN+lYqzKxVT2yR9uz+jabd2d2wVmtlyr4CzK96BF7y/lk6tsKCeiA3RrBOw/qLGlDohxLTZEI9zgWUMKZeeyTNmpSrtigg6DA7H8zt6LRvqOkq9Yadn5za27/5re0/fWLJIrU66UqbWafblWkBAYEblLSr6mlWUB2y0+rKVaW0KHnqE8Ac9G3z2nVtk1bdbIdqhyOrlEtijvfu3XHAHI7s4PjITo7P7JDns9MAmBu64QFM4gBBh9aSB/fuim2y0tZ0k32GQg80vxIWB8fA4ecvvvUNOz49tsl4Zh988IE9f3ao7xuTpzazZrMuMREGBQDmg4d3rVIpCphhr2o618rfU7FuhTaz8ciVpefng0tgGdlZZDRJEodPu3cpgCljgACYBPUIrAI1Eula6Xt9+cnzZwr2mbIzxxL9dcu/5cVBMeDTrxd/zhsoRHEPI85imlCpxfDgc+FMZDBmc0+ZUm+jIT2OE3MBFwZ4vDJVqrUkmwJ+RyvK3JLF1PsiScjKsthVu1x7fG+0XoMVKtAHFyABYJHXuRo3zmeN2xqno8Ttlc9pZlQfJ5f4YuWrAaYLgKIf7ixO84mDnkPvFmlXCbIKKJCpvfrUDglpSLuSxg8LIp2zK4BJu0+Wro3OW2rncrBnhiw1TAZfI0qrVxwwWax4tsTP3XLMmtd9EdNwzcLcdU459gjIwtQZt5qsWBUv31JBtUsEfbgkscTxzpWizQHeYtnmsr9bWIK7F7FhNoX2I+2ytFyz80LF9oczW3Q27cbt12w+XSjdu9Zp2nq7oaM2GnpquVHD6Wpg2525PbzRtp2NTRk1rB6//xFYMcxPHTsmkvQsKRKwkf5j3QaLLNmCC55xQwRjGsnNbKiRByXdAAAmNR1SH6TBpjOzi6HZ86Mz6w9n1qi7EfvTx4/tvbffsaNnj61dLdhGp2mtRlNjuTqYERTMPnr0gUvT04mtdbpaHbbqDdUQVYt8vm8Xg741mh1LKmWrlgm2ZrMRKszLgAnAAZgvDg8EmEcnx3Z6fqYbvdtdU4CG9UXAXFvv2L07PlCaes5//ud/2uHBgYANM3kBZqFku3vX7M1vPLRHnzxSrRYx0dHhmcAH5yOJlQJzZTrJjRvX7Nbtm1YuF6TAhXEriATA1MisKanh1EZDVwufnbmXLObulwIi5KyA5V7dp56Q7iyTAnYnHdWDCTahjka883YPt0Ljs2AVhyfHWdo1pl/j/EgCXT4dG/1is5SsRD/OLCKz5LPdAP8im2CSMcorqkspVQ2xFi1IDuYFal2w3DCBJVQQrYhnrhpMAoCq188VsrAYN1RbaBEU2aWYVLi+84AZ038vA0yxbVqjco5+en1QBedB8+thmJ8NmBLRsK+vAExcteKC6PcBzCgCohyBmhnAJCsCYLrqNk45Cb29mXo3jnuLgOkpavBdvbxaAHG9ub0k02IAQpmXcF3O0kzNrJoytncYfKhlKKTbAczFzKZkrsp1myZ1ezaY2oVVrbF7y7qbe1acF6xaKlu33VBKlqtgNO4rA9Bgmsl8bLWkb7e2E7t/87q1mtzvq8fvewRWgHnlyM1nE1uk51ZKsICjMbohRZq7a/januAGTk4XCxtOXIUIwySlymqPlCXBaJiSkp3b0UnPTi/GGrlDED4/PbMP3/2dPf7oAxv3Tu36zpo1anW7OD1R+rVWKduLJ4/1fHZ6qpoKNzHqvVq1oWAMYJ73exqAW2vUrVmvKUWWyjN2rBUt7PDu3dt633A8sWf7L+z46FTpWAATcGq1utmAYW5UQAGhz53bN+369WsCzH/7t3+z05MTt8pLqsEhqGE3b9+wGzev2W/fflsqWYQ/F+f9AFJzrdQddArW7jTt1q3rdm13R4BJMCJN6zMTEUD4jMlZymp/aqMhfZGpHR2deDvG2Fs6orDG31vU8ZDYJwxHdsBEGOMAy+tl5TeLqduyAA1FL4w5mnxH0NNwa9p4gngoOgiJrWmwtQfQmKbFAi+KjeJ3RRGR2kkYhZYTxORrqKrKwVDnpZAaJUvgQ55Vx5zh9KSJjUrRyWN0gWDIe/b4P/Z3iJ+i4QPHUWnWzOggTHLJMUwHcDcwgGEKA4LxQmTL0e4uY8Q5wMxAM7DVPyTDzAOmgAQuHRimbkuUp1dSsrpG4li9sAOvYpgAJtcigMl1Uk6Krkwvu5gnnY4d+GLdNAC4ux6xWMIeUe22/vqZM11x/jBYm+uD+1GLuKm3SbnCWSdPWQUAc1GCaboC2VOyqZUXZoPB0Cr1rk2KVXt0MrBZY8PWb71m5XrTkkXJGtWKALNRL1thlmpfEIFVq8wqnVlhdm6dSs++8/otW+9uKdW/evx+R2AFmFeOGybrRTw0ilzgMKlyNsJH3p0A5nxmE9KH84J6LyUTl+ottTozH2GSVrDR1OzwbGKnvZGd9VClOsOZDEd2dHhoJwfP7K2f/4ftbKypjWPUu7Auo7AqZTvZ37cW5srn59aq+wiuRrtljWZbgf75waFd9Hs2Gqc+b7JRl50WgKk5hWHkFylZlK+Ikp6+eG5HhydKxwKYgFANxlipexqz4BZ9pEoBTOqf/P7HP/6xzBa8TWIhAN7Y2LQ79+5YrZbYL3/9VnD2GchqTivt2VzfG51ysNy7fXvPNjbXNWFCwFF0P1WvKQWv1qnPFR0OfFj1ixcHPt5LQ6t9SoMAreK9iAC4QK7qqVjAkpoe8Vo2AAAgAElEQVQPq3gCF0EpAqanaotacADwmiZTX6p+Yc7sm2YNvsTSLUtX5hglgBmb3CMQ8/n8HEUmkWFeTWkCmFxDMIz48JR3PQTxiZiI3BcDYCrHIXbpbR4wzDh4OUtt5+Zbaj9isA8pWf8uX+hdBcy4HVcBM6ZkrzJMT2V/lRrm5zNMHb+XMEx5LjBWL9gi5hlm1oYTao/LPlNnrFEtqzLAjMWVt3HBMMmMAJhK1Y4GYdB5cFcKAqQ40STWjTmXPCaqvwOYvkDjs9SXKz9lMiXuJkUqVulsuRwUbEGdPUHFHAwMOM8zzjXaiNQqta7152V7ejG1ZO26bdx6qL5w+jvb9ZrYZbVSsoUA2a97FMS4edr0zKp2at+8v2l7165brdb+/dBi9S6yOZcG1v2PPiQqyE9OrFxhJV82KzXD2B5vTkZuQRoWZknPJXWiEcV4+usmY6VvGrWKAJNlYn9COrZvZ72pnfcRnPgopRTGNEQoM7Qf/7//bIv5xHY3NjV9vgFrKhatd3RkCaKi/kCCAW66Zrthre6ajScT2z86Vg2z1x8JMBs1amG0wpCGRG7vTOX27ZtqLUFYAmAeHrjgB9AcDSdWKTObshlYDc1uc9UB7965bd/85psClZ/85CdKJXltkt7Mju3sXLO9m3vW653a2797RypTXgtrdX/O6FJUETDCVmG7rTZzNhdKn3pN0G3oYv1S8zaH3k4C6ETA5HPFKGs1nzZPO4FUmuVMHev1SxcAAZiR3WlFX/BULSCMoEoetagUExfKxIkqLEw8petsW+nAK4IWMe3gBhMMWRQEHYjPggLZa6f5+mm81SLLBCgHw5G8h73+WVbK29tuZjYaDGzYZwHnbXmyTyNdqucwzxJVtCz0Qn9fEE8pRRtYT6zDxhqmA7+P1MoDZv7mzwPm1ZRsnmH6z384wJTH7itSshJnATqMLqO3eeqiLu1vYJj83h+vEP2QKZKhxNiVy4mf22ri98+gf+H/r5BSLUgk5N/h51dWEUp9++ePw9AAji3bxgJMWQ8WcWlqEwRyKT7S/j2aWASzJFVA5gWhYQFvW9ykaBHByapii2LTTsdmF7OGNbdvW3PnpqraxIx2q25rrbqVGBAg4J96Nog2lqRg09GJNct929swexNtQnszmGD/jw73v9fOrwAzd9gwKiguzpXmSdOSJZWOgDK6PLIWps8SdjmhVjEnqPoYqgiY1OzqTRrzzQYTsyf7Z/bipG/nvbHRJI+wA9eXdDKV9+vjJx/au+/8VsySf9XZzNZqNUt7fUv7fZtSVwng0Gg2rbO5btM0leK1PxzYRW/o9nnlxMUEE1fVcYNyg+/t7crAgDorApeDfRf8UMfs94ZWrZDqbQdQ8DQpN/i9u3fse9/7nnxkGQcGwwCoptNUtU2murc6TXv67BP7+PEnHuCHeMwuBOBpOhNTI70LYN68uWd3790SGBNnYIgEKgkl4qgsAgrDmPsoFocyLSCFrJpQULdGwGQ7FeAIZlUXIvnCwmtatOQAmDGFiqsRgIRlHypjBmprG+ZTfQZAKSAOQp88C4mAE5liTN+KcU9mYr+wflKxkVnytzjtQtdHcBKK9U8BKWrPcmLlalXbgICEOjWACUshu3Dw/EXOxcd9d6NvLO9XzyJXaRrmSWaGA2EsWGAw0d5PQ5GDlZwbBHi/pzxOc4uDKG6J4BjdfPLpZVD8jwWYrgz2eZ/5lGwmtJrNbZIuVbIuggqCnRxgul/tkmGCT26J6D243DfKYiBUK5etd3Gm67hWDVmHK4CJwQQP1SHnPoCBVLx8epPEWq1QMkjcUnI8wnN5otJNzHgI8FHgy8Of7supLahzsggYpdbpbNlgXLTD3txK7evW3r5txeaGMVosKcxsrd20drOihdRsPHLALJUVN1TySHvWrEyslZzZN+/t2vbWdZWHVo8vfwRWgBmOGXWgdHRo5TotAGajScmqNQATr8glaMIuR0jYUzO4nMZOpQTNoVaESp22mgLMi4nZ0+cn9vHzYzu7GFmtsWb1Sl3pzdFgqIb1Sr1k/8///X8ZFh6bjbpV0pntrq9ZfWE2PD3VSlPKWTMNbF7bWFdby9EpQqKBGKZYUclBopA6Q+TGJzDs7GypX7OYlDPAhGGilMUtqFbtBsB01qGWi0rBHty7bz/80V/LRg/ApK+Q74G50NsJE2L7P/zoA9s/OBBIabB0sRjchWCEBSlt2XqY7p27t1WTk6l5xVtmvK/TxT6oYwHJviad9PUztoKxlYRtYxuUMg3jthxAy4F5Lo0LMH4AvFTHZCWOcnmxkHn9ixcvBHJicpgztOqq1fK5ecODyA4jU4y3V6yj8vvhxVjMGrCUIQGpsFADJZiLdWshsPSpzQC4VFQduFKvuWio4Ayaocy87/T42N5/973Q7ee1SPoe9UzgLxZswlBpgEGTv5xp+vgv2XirFurf521HCu45wJSaVmrwnOuqPt9f++cGmByjIvcNg7+LC7VU5FOyqnMDQLlxa3mG+TLAdNN9T2OSkuXzYJhcmxfnp1pIAZj8fTbxxZuOp9qaQjtPAExarPKAycB0ZSNKtEtNpGBlGysJKdMgKKRNh3RScW6zkpd2AD0tuvupbW3fsrPBzPZPUmvv3rO1nTuWJnXk+KpzrnUb1kHwM6d04Y5SLA6p7XL+kiS1cmFgtcKp3dxM7MGde9ZciX++PFoq07NKyerAzdOB2fzMiuQ4kPovSMvhGuPtIazkGa8zXRRsjCsOgClVp94s1xWfnlC0VrujFoej3sI+fvzC3n30zJKkYUm5Kbk7rRC98wtL56lVmlV7993f2qN337ejJ4/tOw8f2O2tbTt49MhubG/b+fGRlLKENcQ99WbDLCnZYDwSYFLDVKDWsOCK5gVqhRnl7NWy3b9/3xqttgZa/+bXb0tVSxoVlWxSaqrH0/1ovd5C3eMvv/Nd+8Y337Tf/va3mm5CaoxpIwAmQEPtcP/wQFNRxkHIwM3pyliUq36z+nDritKxu9evaXV9CTCTagAUrPBGqoWen10ILAlGgHpsx4hMMA+YLA74TlitK31RKrpAyFkv7Ss11V5pxwEwqd16J8XcyrWyrW90VW8lUEY2G5kUwAWY8t1sH58ZBUGA4KjnDe9qSQiDsnnWNTWfC5yjkCj2CnLLEYTLtap981vfyFKamp3ISLAe02aOdY2c04+bA68l0/MywTCdCCDpz3XzdgfMOKg6qm3d1s5jhLvuuKm7zAwcWS8FEL4zArunRJd/zlhm5hm7bJe5GoU+N7wEOS4eqRJWBevDrAMniGzi+KvIMAWcmipSEnjy3mxRwoJB7TlCfD8XtG7kjQui+bsm4bjoh2smin5gmPwewOR6JyWr7MDc0/eqR06nAialatE3pKnU6BKThf5Lhhm4uGcmFTw1UR7SOlSroW2tYIUERyDqyqlNF64QJ8YwIalcXbOT3sLGi5pt7j205vo1CYAQ7zRqJatVzOpkVgpLUREnO7YotTs1S0cnlg6f2e2dxB7e2rWNdcR3K5b5ZVFzBZjhiM0mZ1ZcnCnNsSiSRmzYQqN7PO01nc+UghVgzgs2nnmDNapOeqtcDjTTDdfutBWcTi7m9ujpvr3/0TOzEt6i9C+WrVap2ag/oF3fCtWyPX/x1I6fP7fH779v5enUXruxZx1Uehh1D/pK99LczzQR2GsRy7V0ovTPcOS1OqR6FW5CiZVmMiaS2KBCHfO2bW7vSCX7/nsfKnX10cePBBylYk2ASbCRw01S0Ht+8P2/sjfeeENgiXEBik1ql9Qmlba0kh0cHcqzls/zVXdgSBI6OAOA/dGLCbuE7RJoCDCRYVJrcmZJDXQssAQ0Sc0SBBERxbSqUmOhhulWgguBPN9BUGP/eeRToNOJ2wtSewUsz04vVC/ld1p9V0tGGw37plRuMEa4xK5yVntiH8FKkLTuk4+fKFAqCAb2y/dHb9rIUiOA852AO2ltvnNti2byYGYwX4SJL2d2cnSimijzUyND4tkB05GPkriOvSzuAhpmLrL+/1LoD/w8wIwp2bjfsYYZt//PETC5xgFL1TFVP3QWr+PEfSDvXH/8voB5fnbi6fqK17VlaRjG1blJgouD1EY2nWaAyfdyvZKNITWKqw9A6j2SC2kdUNOjkCbrUkoWtighIKQOm1qq+aXM5GzaotSy84HZLGnZ+rV7Vml2bVooW6VWtRaaiWrB6mVAObVZAH6S12SViGGNRsUQM87G+7bdntrda227uXfL6o2V+GcFmF/2CMhIhFaSMytVYCWkYGtmJcZb+Y2nNhKUdKF2OQY0mZ83L1ohLYgBMiYWizGUaZ21lgDz+HxmHz15IcAslGpaTRYLFWs3m1KzIiE/x/R7PrPxRc+efvS+vf+bX9nNjQ37yzdft6Nnz63E1BIZsU8FVPVGzZJKxQUG81SAORgNbToeWSkpar6m5kzyjzRfUtTIrvsPX7OPPvlYHrSkYwE7bOEQNwGY3PwAD0BE3eVvfvRDe/jwvoZNy60mxVe2mQEZwHl0fCwWyGgzTwOhCnRQAzCjkcDaWkf9lxsb9IC5eIcgInAi/T2aSOTjqViGTg/0PYDyeDwJDNPrlTBWjTsLDd7tdtPKgWV6OwZ1ZYKO16lImbNvfCZtL+xzgV7ZCguYgtWaVbW8AGIEvquAyWdG1ultAg7KACJgfnzAMfAB3Ow3n8EChuAYnY5iz6cDfENgSSBtt1uqY0fbOFoOSNefnZ/Y+Ym3vQB4PHwyRlDxqAkfM3XaGGZ6joOY4zSXCKo+ASMKc8I8xisMM6Zk86KkyGr/HABTIL5woU1MyWJcQBalGgATQGcBKcBUCjoJpZTLgCnrvVDblKDocxjm6cmRp8lDDVNOXkEZ7Au5OHLNr52LXt8n3BTdpnFza13ACWBybSMi4u2dFkMVGsoEqHWohHCIWaxjm8qdCRvDmpUqXRulZRukiZWbm9bevG7zUlW+wPVW09pkcMrOMGk5ogebBShGB7QsMSCc+5p+zNnk0FpJz25u1+zuzeu23t00zN1Xjy9+BFYMU71W+LleUPG3KYzRqlZIsG2bWVIuCzABBVjlZEZK1mwyQ4kp6axaSmgiBzRrlwAztXc/+MQ+frpvpRJ+rUxLrFi31ZX5OvHv6fGJNdstG1yc27R/Ye/96tc2ODuy777+hs1GfSug/MOIHRchW4hFxYZ6mMVwOpNaFjUlt1xDbQkuY/daW0Hpxm9/9y/tg0cfSSWLSIeWFOqD83nBWs2OwIXWDNjp5uaG/R9/9zeat/mLX/xCaUUYJittt61Duj6zi17PgSkIKVyAQz3RxTOAAUHj2u6WfG0BYgU9GGpxkZkUwCyZo+n9i+7rSk2T7ed7PCUblKxK8XrqmMATAZNjkl/5R8DEso8AhgEC+ztBbFWkxutsen2roxomn8mDoJdPI0aRjmq7XAtpGkC9J4bebrS9fzT0Z8Z6ZXyf2E3IL3IsSO/yD+BU2hq1Ds3pMswf2bB/YYMQdGPKLw+YPvbL62bU4zD8V740gikBPPicOsP8bMCUWOUzUrJiT3/ilKwza19YRKcfPcMwiz4JJJ+SVUo6pGRdf7BkmHnA9BP+2SnZ46MDF5RV3Ew/pqqjmTynVsK14JIVAZN0KdcU6X6VBKZTOz07tv7Fue7fbht1el2AqbmwtHQBltzrgHqxZsWkaWmpZResa0sta23tWr2zYWMORYlMVsuachEqWpUa6JxaOe1YE0tR+TMEu+w2lgWbSC1bmp/aja2y3dlds91ru2orWz2++BH4Hw+YmngxObekPNEFNhozUK5mSakqJSxqb9UuZ6laSGCXw9nCpriziGEWXfE6H+uir1dL1l2nrcTs+HRiv37nfXu+f2K1asf7MAvcLB2bjrgxzA4vBtbqrNnh/lNbbzdteHZmP/33f7VmuWJ71zYFmIt0ZLMRd81M4p7MVQYPzIW5+Of8TKIfGKbSlJUwRaGA7V3d/uoHf622kv0Xh0rHArKnJ+dGnIc58iAVS3C/fn3X/vf/+julUH/605/KWYj5fQQOQMLTjTMbSwARfDRpJg+AiYOPAK3kIHvr9p5mcyowBOaL/R81VDHL/jADzKiOhXlGwHRG4Kngai2vaKXJvCaGybZH8Uc0GHDRhAtyLi6GYpeofAm/tKPAcq/f3BFr1Xi0oGaNgKma2oxUuKtwOTa0jWB6wN8Qbay11wTC0QovPivtHACWn3k/LBawjEx0Pkt1PtPJwPqDnuakMqqNNKz8SzWvUdbqPloOVsnAYuGjjwFLaUHwV/oTzkO5+9/7J13nLX//KzXMCJivSsn+qQEztpXEGuZVhllj8ROGQNNWogVPAEzVs1nMfQXAPDrc9+xB1a8Recu6wa2LgEIbCylfOTz1EKuNpBPgvsLWUupyXKWO9rWw5Z5Y7/p1QAYBW0vVH9OJTaYjZbYKScMKlbb1pmW7GCdWbW3YxrUbVm42tUhKKiVr0HvJPZGU/j/23sRJrvO68ry577VXoRZsBLhTEiVKXiS32x4vY7fDMz1/4Ex0TMzExETMTMf0TI+Xttvy0la725ZkkSJFkCCxA1VAbbkv72XmxO/c78tKFAGCBCVLJpAMBoCqyqyXL9/7znfPPfccKxcyNp0kNhr0NXOdTKgwi5Yr1oJ71NiSQdOmo33bWM7ZhY26nd0+Y/WG5+E+f3y2M/DMA+ZkPLR01LRiAYqrYOMpxumYAPhoOJeSTNZHifUQkZB7OcnakEp0zPxX1sbDRAo17PQqiEiWqnri/vHA3n7vA9s/aFq1sihj8ey0YMsLyzZhkU0n1ht7ksTB/p5trCxapVCw7/3Nf7R7t2/ahZ1Nq0OTQhknI7l4yMyZagcqqpAn3Ml6o4G1m8fWH/Qk+qFn6FZcHq3Fjf7mN96SUOjG9Vt2DwMD7PGOWPjdTJ1FlR4pQHD+wln79V/7jhb4t99+W4BDUDULBH07RC70BDlHStHI+AgFfUmfhcwHSbtXgJdfvGSrq8taXNSvQVyTDgWYGAhEwKTS5HVZeKik+H1UmBEw1T8MgOn9Qmgv5jC9VxvHOKIJN7+v0wYw+07zDqHc3bcWi0H5257fVGXtv8vFQvERq8RIAXMeAEteV+BXX7RuC9Wjj43E6jKOs8TxE/6MpgguTnLqdjoZWxklba9jrdaxNj3Esk1CkLXo0JAwQiGZyqsUnoEcTRf3MLc3xUs29jDDn7OOphx6QtaiPGcfFv3I8jGoZB9Fyf4iAObpChOVLCBJhVnKnIh+OO9DVHgCoLyHIgTAZENB5Xa6wpxI0fd40Q+Aqd58yStGKkw+/6gonwdMidba3BtD7y/W68qXZQMJ1X7/wa4N+z1tmgDMYgGwK7i5vhJMSCga6jOmJURVeTzI2TBTtoWVLVs+syXNA7PDxbLPWHK/s3aVGLMap5YM+zYYpZoZn2QqAkx6mQikAUxo2ZWa2dmNqp3bXLal5VV5Xz9/fLYz8MwDZjJsmU26RqIFNEa+0LCx5VVdxq06iefsXgfpWHZ3VJkjgG6St/w0b+lgBC9rhWxq1UrRVpbwkjU7POrbOz/50PYPW1auLMigPDfJ29rKKs0n9UCTbNn2Dw5Fp6LzQWa0t3vLPrryntl4ZGsLdZkwyxptmlhuQsJBzshbFGBmczZIR1ps252WwqipuipBMRpv7Nfe+IqVa1V798c/sWa7Zbfv3hFFST+PkQvoTTdDN7t0+aL9i+98Wz1IVLIsAFTRAAiABmgAPvkiIqai5OsRMN2azm9mXnN5edFefe0VQ15PZRpTJkhlgXbd3z9WFeh9SyoE6MnE00PmlI0a7AF4yi7wiWKfCJYR1FjA4jgJABZnOgFNfh+CHz5Y3I3Yoa+dWdaxip0LaRfzgBmreV4XwPRer9sDUqUePsC6zwEzjqTwPiQQCSIogD4Kllh0o5MQPW88Yol5a7WPrc/rj4nb4gjciQeoEwWLqTekvNIzqC4zEvugQnFVrB/1TB0bgJNt36cBptHr+xRKVkXrz5GSje/rUSrZCJj0MVGlqleMEYbMcz4dMOPs6WcBTKm95wDThUXRoMONEqgwAcxmy12eULQDjCjLod5RPCPuQ8AHiAKYRIpWS2UZlwB2zF56i4NjL1uCWcEgb1ZatJWts9ZYXbVJNmOlasEq1byqUULoSwU2DeyefPZYST/TvE3xwS7UdZ9SxSaDtiX9+1Yvj21nrWznNhu2trpmpcpz8c9ng8tnfKwEZx/Usfmi94QGo6kVSgs2zuRtmEyCGw2JJBM5ePTS1PpjwJJeJh6SGSsSzxQAM5+bWq1ChYmvq9n+Ud+uvP+RKsxCqS4Hm8wkY5urZ7SwyW+y0rCPr92QG0+7Degd2erKot249pFd/fA9mRkUcN9hTAQop9cIcOBEUigpMQUxkp7bahlZe1jpqYoJkn0W7JdeeslWN9ZFsY6SRMkiqFFxEUEaLwFMGSvAjL380mX79rd/xSbjRIA535dLh6kdt1sCH/ofgD5D0tGWjqqN0Ryf+zNbW1ux119/TcIaRA9gk+YXw3zi7i7io76oWRfXeG+TyjdWN7wnAVDOQqVWcbMGVMFlp2MdMAt6jai4dQ9aKuKe9eS0FHIVs3mrVRs6psaSC294/UcBZvSMjecgjrZI4NHqimHgvSBcQpjlwhzo46IoaKp3NhG4KXG8fN0TWkCi1AatYxv26dv2LA3et7J8wyqQqCgtoK7CBCQnjA2puvSuntTC8xWmY+hst+em6Y6m9DOBYFWS9MymfE4eSP04SvZnDZjR0xa2RnmYp8ZKoJT12c+AH0EbKR/ew8QZi9ESztUgqGTnKVmqSrn8BKYoWuLNaPfQI/e+PF6yHouH+hZanFg7HgCmNkl0A7UhcuYm9jA59giYfD8CJvc1GaUIuXbv3tM1sr66aouNunY5tXJJkV9jWi9UrvSoMwVLMyUbWc1aCWKfZVs7e8GqC4t0ra3eqFi9WrROh6ADKsy8FTFvn3oO7mjIZ4uROz3MuqpdAHMwaFnaO7RiIbGN5aJdOFO1M6tL1lhYlofx88eTz8AzXWGO075lbeDApRW+6EYFU6pNX5BIqRrQa0snyrdkBnM0ydgA9eUosXKmoIsdATs3P/NVi4tQbmbHxwP7+KPrdnRERTaxXLbICL0W0XqlrkUPhSu7fMYDBoyHyNotY0fHh7a3e9vef+cd+/obr9j+vdtWmqZ2ZrFhg1bTajF+qFABgXQTM2fJDUOwMzd3t9sWsDSbRwLMy5cu2bvvvmvNwwONiwzwv7WSrPygAllQMTlYXVm23/9vf9f27t2RcUGcH2RBGPSGchpSILPmDZHcl0UTMTJCaHa5imgKP9eBlLbMXy7Uqj7Hhk5q5FXqsD+w3b197YipXDV6gfpYIypetSKGicDJaA0bAWheFrV8IWP1BnOf/I9EPyPgBSCHA9S1rsClkoZGjuMkLHRLSyu2uNjQccaIsdj7FLiEjE1+N8/le5xLzmtMI+F8QMn6fB+qXKoNtyQrlVwpvLS6GsKA3Wie9wVoAd6wEge7t3X9iAoOfVuBNIs8lCLnI2aUwNwBeNDgSrXg9QSnYa7UgVEU9qkA5RMhk28OIn0SFaNxqZhPJdHrh7wT9T/x/w1mBrHvRQ8uvsa8WErlUzgW/fmItShWv+oVw7ZMMGHw14verJ7E4pDH9Qk4AphOyU6spgxRN28YQUkmMDeSt4dg7pPNg/JWwyym56/6xoHP0Y36p1YpBvaAUZXMRIDZ63V13TEGdNLtm2gMqpB1Op9+sswm0BIkiRyu6F+iiGYTee2jj611fKhMWzZ3WxtnxJZk2AwXchIBInhj/SlVl6w3zdtBJ7FpdckWN7Ztef2Mm8JjDo8bEUbuULh5d4tC9Q1TMOgzC0q7JGf5EvcI7mLeI51McRDqK2S6Us7ZmYWsnduoSL3+PPbryWDpDM5DV/lne9KX4qcQTCRIvAnrctu06E/FEoRlGHKKHoCZmPUBy7HZiH6mbLjwnR1bkZs7HWuMRH3AYt4WFqqy72q3R3b96k07ODjUhQxgIvopl7Cjq4cswakCmLu4jbA4ZXKWEE9N6PB0Yj/8+7+zQfvYlsoFqxNfNU6sAP2LCIcdLv2ObE6iJACTSqW+gEl7TQs7NyuVHfmWL774oseKHTywqx98aD0JJMpWrjc0lsKNv7W+pp7jLwdbvFs3rz/UmwPc1LdRPijnDF/XokZa0mlquULWKqQm5Dl/I7t8+QUllGAOT6+IBQfBU/PoWOAGHc1rxtdVtiChyQEw8ZoV5TX1c0I1Cb2LJ63+vujOP8ViSSMqLGJEjXnFN1UVCJVKoDWXeqwQUQ4vLpJWz0C6D6FHWlUUZBBCxN5kNNKOjkYsjhxPp+lgOj8rCqhGT9psSL3QzTb3mjIKT4Y26jZtQj8X8RRh2MzPAaoBOBCWycJOwhVJTZyqzeQEINFfNt7G0T925kMwZ+wuIIqTKRFQw80cVZ9PAkxs+ebfy+MAU1XenIH9owATQMoBYkwkA5iEGIxDTFnoh8wDJtU0PTswUn9mJ1YFmOnjApjEwGEmIiFOTnOY8+phnSPFn7mbF7+XR3/UnyXbAJjRq5jvHe7v6/rha5rVnQlkAFo8YRlvQZjlc5a0O/hs6/WaqFfGSrh2rl/9UIKxWtG9kM+sbwgwuY34dFlLyIC1TMEm+ar1rWDN0dRKy6tWXzljS6trVitXrFrIWhWHI4ULDGzE7gExkvqQOev2xho1mzKnWSwJTIm+g9AHMCfpQF7OaC2WajnbWpja9kbD6o3FL8Wy/rN+E88sYDJ7OVGMFwsQVms+jI83JL0iCgB6RPjBOmBOVFlKAARFq8DoxHJY4xHDlMeyy70oma8rFqlupgLMvb37WrgxLsgDUKW61esNl6nnst6/SqjO8jZCqDLoS2W3tFi32zeu29/8xZ/ZuTMbtlwt2uD4yFbrZUv7fVuoVnDUc/W8i6QAACAASURBVLGL7PKOpGgVHbSwENJHvPd2buesvfLKS3bz42vyUv3wygfWGQyVeFBpLNgkdVu3taVF+/Z3ftU2V1ft6OjI9nbvagFgcVAKA1Wiyg36acSOMJ5R0Ptn0cjmoXbzlisyOjK2S5cu2tr6qlNPIagY04bD/QOJcY6brdADDEHSYUGjUnMRT+gRTV1UA71JZbikKrpkC4sIllics6rGOM5+z4+XaoPqEnBDycoDwGSnzuLH5wRgIuV/6L2FURA5BQ0GM5B183ZmRnuzqDFo7Qi2nD96UlHYE39+HmC0sOt8DmRjpgBoJbZEIDrxgFVPFJGPxCsngEn15tFgU8tOxp5eMnO08SWD88HDA6VP4GoGrMEsHLrQfzDkPoZ/5zVrqG+EytJ/R/w/LkynATNuNp4WMFGSu8dtOB9zFeajALMiRaxvNiJgqsLk/ZHSEoOoo8culCfU5xxgDhJvB/AohwoQBTUP7AlhQzQKsrj4EGCyyYMLYN2IgKnYvDTVtaUKc21Zr/PxB1d0HzbK1YcAM1d0KndMuABslZWsT8SdFS0tVq2ysm6VxWVbWFwWqwJgluEcRoQTDCxFDS/AxLYyp+pyBpghTtDZVjYSQ5uOiSubWLVStnopY8vlxLbXCra2hvjnufPPkwD32QXMtG82blu2ULRJxgORA/EjKzwcfaA4eiNSEPCPdSpWOZjjqfXpt40SmzKmgMVaMP2OAbTVKjOEZrev79mNG7cV3ExUGIBJfBM9NBluZ4KlF72WfEGVYnvQ0/Ay1SFRX//pL/+jJd2O1XIZK2XNFislm44GHkEUQADAP4bG3T8QaLG7LZSKuhn5f3V5xb7y+ht2/96uPdjfsw+vXLVmt2cpIiF6I+NUIzSMvPyr3/89SwZ9nzdso9x0Fx53NskqK5TzRRWOdZeGn/GIzU5VpJPDVyijQs0Y8WLLK3joMjztvrvstJ3qGkiG7wb2gU4kx1Gg7ICJ64mrRaniEi1cCImICUMNXK0xDgKYugl6wmfVxzjA48F8lASrMXcOin60Dmolyxaczub/CKgyVQ8jJlHkAyUnlfCcKQE/D2BGFx+eh3m6WwP6WM88XRk3DLy2emYjZmvpa58MwEegA/xxlnKVbDAuoMKkXydelG7aRMrpCJhxHtBBzRd8eqDxOOJiME95AowCuTDQHwERIHUQdtu7wLB+AjSjKCf2BmcLTnxC+MKTKszpNKcKE8CUofxnBMwyrZDQq+eeiRXmacCMaSWPqjCHqV/bnAd6lxofkXF51ppHR9o4cq8CgLRufFNAz5vNCqDsJv5spBTMPh7bwkJjVmFy/X105X3dR0s1HydZR2xTLli+xDXUkmMYSnrGQVrdVF6xpaV1Ky0saZSEe7ReK1m1kLHCJDUbYYs5tCm6gwIsT0V0dm/g4euMlOSLLjATYaFA9WGoMDOqMOuVnJXGfdtaNTu7vWHl584/T8LLZ5OSheq0MZmXqU21GBeDWTNzWxgSAIxTgUlvOBYVK9MCFnNcfiQCcr/HzHisMQDPYcxLiMCAfr1OtWp2/27HPvzwI9vb3Rdg5kT/lmReXkasovnBjGY9UeFqVCCbUW8TwGrUq9bc37f//Nd/KSODF7a3fO4qn1EyAQ4f3NyMSXS6Lbu7e9/SSaKbm54bvUGJEIol++pXv2rt46bdv3/fPvjgqjU7bb3HcrU+E1VwI//u7/y27e/teiWVePoCFZvcfPIersyCjF1DlhEcBBjQPtmxALNQ9PlIKsAXLl3QbnsWb9Qf2NHBoe3ve++y22Ox8sBjd1DxCoDF2oHLre2g3dRjqnjPBcBUH5MUiHSocRdX2TpgxhEVAJPPIZoHREqWvqfeR95FHN7DwhYwmGwHwIypIxEAWVgBTa9asSd0o4M4a1kpBRVsyFkkrzDSul7ZOH2o4yHCaYytoW8QBFayNqQf52YIACaV0iTkWsZ/RwDKngJM7nhRoaFCBHi9vjhdZZ5Y5zmgxnlOf/6jAHO+uoyetqc3BTNQDpTs7N+PWooCJYto6VGA6UB+0sN8VIVZQj0+86PFYAQDAF4v5IDOplId6B4FmIBdBEx6o1JGFzxns0NizIMH+rsUryGsmmuRTR5pJ9Dno/FIFSSULJ8tdD/9y5XVJd1HH/7kPa0X60srAkyU8uph5sd21GzaZJyzem3FkknRmu3ErNSwpc0dy1Zqlq0UfU1pUGGSyTaw6cgV22MqSwRmhdIMMIeDscR8bMzzwaGIay1JPVoMG75qxW31bNC1jcXUzp9dssWllefinydA5jNZYTJ7mZn01GeD68dv0eUN0IpZVZBJOlWGJGYFACWAGaladu39oMjLKGlj6GMVgFfOvUIBTDbozYOx/eQnV+zO7d0ZYFKdFQtVycFr1aKa/iyQnd5AqeuVRsOGOIMcH2uuammhYf/hj/+9/GaZzUQlu7zQsFGvbVV+Z5benleTmBOwmNcbDR2HrOvoz40Se/PNNy0ZJHLuuXr1qh0xgI94AsN1KseMKdbr61//uh3tP3AxxNCBQd6uBv3LMLQDJpsHDOVlPBLGSJBoSoxTr1pjoWIXL160epW51IkyQJHXA9gyQ2BD0ndxjgbuA2DGaoVFCkpWApw8Vn/Q3TWBJZQqPUzt9NOhosXUCx164onyNAeJdbseAOwCGU8SYSOh6hKP2Ixb58UFM4JCrDDjuAr3EV+LoyOcYxbCTM5FH7Ltw3i+5JUonL76moGCHQ3maN9gKA4vqITVkNk4D5iKjqM3CoegPl1WGyk+L2ldZUIwsdzYMzIjJTsDqACYbERU5cbe5YyedQCZWe8FwJyvMB18g8+tRG0nlGzsdcaNyHwlPV+SxuP6tAozAiZXWKwwlaLyGQCzCCUdBJ4Ib+YrTE82828KQHm9wGDwdsdT9zWm9x4/W+r2ecDsdTq2u8u9m5GSHRWtMy2qu2WtxzkGMBGHAZj8nqWlRf08Tj9UkFfe/bG+vrm6rk0fjE+xAgU7sma7I8AslZdsPC5ZezCxcn3V1nbO2ZQNXKkgsGzUS1bIjW2S9Gw67EtVnGaKMlphI0s+WH+QWl/RgWglqjL49x0TOgF3EuJeqkHJlkuWG0+smu/Y5vrEtra3rViE2n3+eNwZeCYBc5z0LDt1v8dJDkoW+syHxBHYYygwRBVLIom8UjOWEOml7MCMMZeJx6kqTMMwux8WY4/VYv6qVnPAHHbN3nnnA7t9664qSypMbt5CvqKIn0rJF3JUfgC0MqahOzNehbBrRTJ++/o1u371qg26HSWsM8eVx3A9i8tQohuDm35v754qU25KgAH1G1QlN+2bb35D1RaAee3qR3Z43FIUEguyjBByGfvG19+U92w6BHBQnPqgPpsEr/rYFfPeAJusFUo1nRMWEO/7UIVC7dZtabku43fCrSWQabWVwrF3b1eLC564gyEVeqhqqCRng+ExoNeN0nltfGpP+peVEOJrs7QTVXz0cGKFOWDEZOgUWwDNCJgMk7OAQcdFgJ4fOYgAEGcoee8+euDUHZ89lSZD4RkMFQphtCZ6c4YRlhEzrIhRcO8JtDAAqSpzmip3UVR1BL2wwGvInmuOnwUw8c4VwDs/yjkHMAvTjOXmch8jMEVclKI20qIPAacjaOxBRjVsrFBn4BiCqh9HyZ4+Z7NfFp7wWQGTCWQAE9EPlOznAUy1AnD1CYAZK8x5wPw0SpZtSVTPRq9YsTb5vEK879y5o7eF/y+A6SpurtmcTRIfBeE6mgfM5eUlASYVJtf8+z9+R/f5zgZ2dGUBZqGct8G4p43yZAzz1LBkUrJkUrDGyqatb+9INZ8pkoCEBzWgSCBD28Ypvcisxk8iYLKukF7UZ947T4Xp42Vxs0fPE99r7vM6/dByxUqFsqW9fVttdOzyC9tWey7++dTdwjMImISsti2XR5FasHEWhZtCgzzuSD3KifVHgd4JFC2AiSKV3grfZ2yBzEVuVOzM3CkHz0lCY1HBhoinkdnbb18VYOax3Mv47BZh0srEyxMZNLEizjWVsvWHifog0J2IU3js339gaytL9uN3fmQ/+v73bWVpUQbuC+WCFcd9y0yGei43/YMHe+oRxuF6wqE1crJ/JMBEgQlgXr963Q6bx04Bk7JCoG0xb//iO7/mWYAsFgxiN48cUAI1qHQGqe6ozrNWKFPFnoCadJy5qapidtfnd7YVOzZOUh0X7+XevXuqghkFGY4ABp/NFPWKni+AkgN0iHHSfBzjIFBHC6o2OS6qes1uiipNJPgBMKFiXcjjn4u/tgukOK+8Lgtfq9vS756JZgJ48bVofeY/n9P5UDJMeIgypVeoWcDwGhov8Rgozsug33caVsbDMW3EKWLoRqzxpACmGI3KUgEiLQG/BrXzCoCpBA42VRg7uOvxbIZSID/rm/pBZlB/z493KPryZKxkfs4xvq+HK8mTHmY8R/PU7OMAM76XzwuYVJgprjefscIsQEnD2AfAZNNJZa4RkrkK89MAE5YhAiafmxyaAmAO+327ffu2zhkbyfkKUwbviW/4TgPmysqyAJZ7AJHde2//SNfe2TNb3lZYWlaF2R11rYfFZFKQ2XoyZkysYisbO7a2uWkZnLGKGavVi1at5W0yxuKxqZldmCHLQcli5VnU+gVgwqygzSiVMXh3wPT7A/OOoa5lAWalbqVCzTrNXVuqte3y+SUZGSDie/549Bl45gCTYfzsFHPvkWXLdRuzS4xhs1Q3CH5w9sHujJ3jKJV6jOWuPxir+uTmYyC+N/SsRnZs9ID4e7VSkZqOrGXWpaRvtrt7aD9574qNx8ByQQt8o75sk5TeIn61iGWoVEKFO0Hg4gsmjjTqoWQy1qhV7T/99V/bjWsf26uvvGLHe3etlhvaYr2qoGZu6vv3d9UfZFAZ2rKQJyMyp13s1taOLS4uKbHk7t1du3fvjuY/oTaRy0Mj/fp3fk2RXY16XWCJqEW92XzRKx1tKtjRUwWbVRpLAhJuwlq9JAFLOk5sY23VLl08byvLi+6QMxqpyr17+7b+hCqDbmT+DrpRwp65SikCFi4pqsQ0O+nKw3LFnYnYpGjzoXlNFLGedAJwQtECymwQIl3K4sHPeoUYqsXQ/4pUq1cPDt4ykGfxlJrZAZfvx/QS0ZHBx3QGNrTJoG4TZkoZSA+esDMnHv/JqEEFTCWsCbwiVZIqLEYsZOtGVqJXl04fOoBpM8G2JYLzDAhDDzPkWUb1rVjvmAE5B5gYAOj1wnmIrz1zDgqiH8mO5kZK4o/H4zm9vEQK+LMCJj3MR1WYUcWrO+MRYyWIfnzoxhSJpZEwzVoGW7xgjq65YSjlQMlOmG9lDIoecxhZ8r6yp+7EHuZoMND9pzZHvW6LqM91HbiJf6wwWQu4rklM4TrjXuLn19ZXNMv8wXvvCiipMLkvAcz+qKf+5IP9A5tkUHvXrN3P2vL6lp2/8JLU7hAW1Tr2j6QiMQPdVXuDUTbWplypbjl6lbmiNle9Pn1KvGZdXFhAri8RtAvNiP/iPHAszIOnScYWGmWbDu7YxvLYLr1wVl9//ngOmH6hJ5gVDHVT5UoLRvQynSRdVLoRyBicStjDDUgFRLIFt6SEJQm359TGo7G8WenZaXerhPSJlUulAJhI08zSodn9+0dy/OFCBjD5s15bEmDSk2AtFtUZAFOvrxuaCqrkOXqDgezwbt68bu++845AYB2Xmv6R1YrMPuJ/O5ZSFlUfC4wyIgvu3tPpD2xrc8eWllZngHn37u3Q25pYPpe1zc1N+9Vf+paoJSplxRH1BrK+Y8fqalWvcBTQi/F1papFApUtnqyFbMZq1ZKd29mx82d3JGxA5MPwd7vZVD9IYcu48kgFyviJL2Y8ImhGwFRxlecGLxkxYQt4cALwIbyYc8mxsIEB3KPFHp8V50xOKEV3aYmWdN6fdKFHXgktgSKdqy4VpB3ANYJn3KnPAyaUbOx/RUEP1aTAMoh8BJCPA8y5kY8Q9DXzPGVjwsWhcxEAm2Pl+hBYAppSNJ0kxsxu85gWPXdtR8D08+zn+58LYMpGEEGZUf25hypzmPOA6ZsNMO+zASbMiliEQMlKbDZXYfK5A5hsQDXf/AjAHNO3QZ36KYBJPB6ASYvk3Oa2WjZLC4sKTUhy3voZEuE1zFomX7ets5h9nJXhQKnMtQ+As8nryzpR1yEAmEwtVyBgumy5Ai2ZqQATpT3/ph2Dyw/HB2DK4jLMWyuyrFy1ZJy1hXrFLfMKTfvKq2dtYWHpEz3x5wDqZ+CZqzDTUcfymUQXypi5o1zJaawgwXexBTNd7FZNPTantTLyT2VURGIMxEAYPedcgRgXUZw8PJECgJGZix0eNu3DD65ZMkJWlFM1BGCmo4FlM4nAKod4hEVRikgfi/O+llc2gBg7RBbxH/zgB7Ks++bXXjfr7ls5N7VSARfasfU7bQ8ejvmZKnUzmnnc3jpriytrdu/unt2+e88ATKhYfF2rpZJdvnzZ3vzaV0SdoqaTEjRx0U0Gk2ihVFZCF3a0U2jRLDOrDJzTz53Ilm/zzJqdP3vWVpeXZPvFKAsgTg8TsQ8LE+IhXjvDDlgVZqCwQxSW/E+VBpHK85XeJYYF1RojGz7zyoNzyVP6jKi0MSnoh/ESRA4j7bJZHFxR6/0nLRx4jnJ+g4/sfHXLz8W+J1+PFSd/Vz9SFn5u18dGJ34NoIzUHoDptKsf52nAPFmA5r1jwmZM85cs5051R3u+uKEASAFLVZnB53VGjcaXo8cZgo3nFztAJRyRj9kEYJUBeHioEov/lAyU43+4wow/+0UrzCzUq37Hwz1M2f/JEi8uVK6GPW1cwBxmrDDnAVPJLhIRheeH+4igbZ2rIPqZB8xYYfrolKu0YUaoMCNgLjTcdzVWmPOAyX0XK0x6mAoKX1u269evCzBhni5sn3VRYLWmxKDWsG+l+pJ1+mat/thW1s/buQsvuUlCbmLVEgJBymRU+d4Pl0UiFTnvI5OzUqVqhVJF12QfcRkz1UHNro00PsRB3Y1pCJ8vTBiULc8nrSfpNa1ox/b6iyt2ZmPN8s9p2UfuEZ4pwFSU17CNCttGDAePvULSUDhU7ATFJX0jBDj0LDPqKWYJYqWXqTBiVz9GR5pp3qO/YkIFVWCkO5jZwty50+7Zxx/fVBU0HROcPNYc5gg7uqxTupH2U39QDimelqIbPyzOcgqp1eQD+93vftfOb23YYi61RjmnQWSgmzxFfGUBzEi9sPB02l3b2TlnSysbdvfert25c09iBlS9/X7PVpeWNXZy6YULAjVeQ5WTBD1ZVZg6Ns6F6MqiZTGVHgytQJXGiARZmkvLdvniOc2Z8dqIlPg9VJmcI6/6HCD7OKWQCUgYcADME+Dy+CSo06XlBXnS4qHpuZcn84GjkfeTlXjS7oqK9blI/5zwcOWcAZicD58pxaXHR1emAckkwgmmDBEw+V0Ci9DP5PufAExtgHzESL3XUKXO3kdQwD4WMKOaNVSO2nwIArzqjdeFK4hD7zO+JselUzFXIc8BpnbEQYQUq8sTajaMlQSzt583YEZKdn4OUxuaJ4yVUGH6bAeqV/fdjRWmbzwj0Pv7nQfM0xVmBExtRAJgTtJUqm7aClxHjwNM3IJk95iMPL4rACY9zGvXrtnV93+isZQXzp739aFYsmavY83e0EqNBWv3EPxV7cKl12z1zKZ6841ayYp5FBYhWJprLDGp9ScTzEpc6CT2BNGfTQWYXItKKCn4WuQtCDfhiIBZocIENKsVXd+jXtemybFdPlu2i+c2rFp9npP5KMR8pgATd59p0rYcqs0pDXdoWQZ+lSPrNIestagy6SOZqkrL5C1H+gEglkxCyLB4SaXds6sEDLjh8LpULmQxVDQjegep3bx5Wwt7OsKogFQTT+8oYVSOmTSzX/wv8AhuL9zwqEs7HWVmUqVFE/C//pu/tb3b1+zscsO2VhdtdQXbLrNO69ABM3HqhkqXzQCxQ2fPnrfl1TN2b3fPbt++KzGDfDiTRE5A33jrTe2C+X2Hh/uBgvV+3jxgSuTCriOfs1avExLlkSlNbGdzy157+bItLy7JyebOzRsynUaer0UtdRBgMet0+1aqNXRzzwNCHFXwWbdUfSCyOas1HwWJ/UsWgn4/kXk7dKzMChThRaXnwhavLt1MAAs8KgU2CDxUvRWZlz0BHL7O8SEU8nnTk1GKOGoSK0xpghk/mqs6uZgivRwBbv7Gm2sV6ss+B+z92xg9xSKoY8pwLOH8R0eeMKoiMJTXaxgbmev/6nVDDzMyFBIKzTv+RGu8WV/y81WYMbP6i1aYGSwB5yrM6PQTRT9PqjAfBZhU4FzzpwFTABzGbPgmgMk5nBf9SMQwG5OCIpoIMLknuI7o7fvnymhJ3mKFCWBSYUbARPRDJclmjw0uTj+IhgBMjaDl8tbs9aw7Si2xgvXTrC1tnLUXXvqKXL64xrfPrFhmOrBp2rPJyHuTpCSlad4SK6o6nEwdoEsVdBbYbPZ97CUYMKCeF2COPEidXE5tpEtVeT7XFmr696iXWrd9YGv1oX3t9R1bWSYncz5Z9ZEF1zP3xWcKMBknmaZty5dKNs3WrJNC8xSZhHOxD3QsVKt6XC5tpycCrQNgKlNv6FQfNxwXdkqFxghGUE8i0+cCRGzDgjse+c179w7K0KElqNiGiVXKdet2O1YtQ8X6Is0Czo00r9qkemWRX1xYthYxUK2WFvMrH1y17/3VX9hKKWPnNzds88yqKq9+uykDA1xkJkpUcBqSWa/ts+dsY33b7u3dt5u3btvtm7cErNi5vfbqy6owna5Mpbbl98hRhmQUxENyrwmm1hw0qSMJ9noEbyRyHnrh/AUB5kK9odiqd370j1IJkjgvoBx7xYaAqNsbfCpgRpeZM5trqjBJJgFEVWEifBhDVQ+s1ewqV1NVvszbXZjF75FhdYjUgkbjXCKv12eE01IAzJlKMuPV/slzQiUawqRjNcnPs5yMBvhzeryXU+jRIcfXkgj+cWWZB0zMCDi/EvcIME+AMv58jEODreC5ZGi6UOjEm3aeTp59PYp5sDB81BzmLP7Lf1Oct4zPfxIlGwFT5+0R+cOfVfTDTRYBUyNVc9Z4n4WSxbggVpjeA/YKM6pkqTD9ERx6AmB6WpCLhZQpOjOTCBR0UN7yGaMqj4BZD2HrjwJM5cRyP1WrFgETMR4V5o2PrtrW1pad39pxKj+TtRYtj2nOjvojyxQaduHF123z3AvqYeN4t7O5bNlx39JhR85bsD3MaQ7TnI0mbhgytZGVK3kBJs+TXR6zy/mCq8PD+NQs+D0AZg2FbCVv9cWa97MpIJrHZoM9+9qra3bu7KYVis+t8k7vCJ4pwEz6x5azgYKis6UF68p1BTk30n4AExMCZjA99QBqNlco2hhg1QKTtVHfvURZJbCey1ZKcuURDcKiRp3FYoo5QbEowKTPtbd7XxUQaR9UmKVi1TqdtvoH8qANtCwVpnqGYeEFnDFQ9sgrDBOG+vPouGU/+C/fs4ObH9vO+rL6DtA47ERHSU/J64y9UKGwmAOYO+fOCzB37z8QYN68fkOAubm+YW99400lmty5c0vvg74NO1dmVfG4RXwEYKofEtSIQMZg6tmPtAJXlxbt8sUX7Nz2GYFI82DfPr76odxSeD8AETeuKC/GNJLU8hVPhI8q1AhcXg25IcP6xorcfWAXWdh5n/Sz2DU3j3t2dNQUYDolyqKCc46rXOknRwEPfVnRUon3gvk6CskIbLFfGbMrWXCix+h8/5KvzQCzN9LISKTNY6WsKg+gOmUR9/AN6DmKsV/nwDaZPceVsKGHikqWi5QKcw4wIyDPg5ZvuHzjxiKr93fa6ecxgBkNCWYAf0olO/99jST9jAEzqmTnRT/z5usYF5wGTCrM0z3MeeOCgJIBqE8AU0YT8dzi0yszj4wAM842U2E6uKKwLVhKeLzlZOAunUGaCDChZLn26o2q3bhxQ3PU29vbUsnqns5krYOIcJqz40Giuctzl16x+vK67rd6tWC1csbK+cRGvaalw5EZkV1Wsf4wb8Nx2aY5NpBDK5VzVixzLTtgSixY9FQUNrtSgI9S1yQwchI3ktWiVRoFGX1Uy6uWDvrWfHDDXjxXtFdfuWjV51Z5n6ignyHAnNqwu2+lEnOUZtnSonVY6DASCCG93Hv4USLXBjAR/pTLFfU1dcNNMtbv9dSThPKjb1Bp1K2P9ytG7IplCtZuBLvmS6pUAZsH90k9GAowUXAyVNxut9xPUmN27hIUK8zoXpIMBra8tioaFVVbsVSxg2N6lFO7c+Nj+6/f/TNbX2pIYFMu8RrQTsxidazfZSSEPmBix1Cy58/Z+plt2917YDdu3rZbN2/KAYiq8Fd/5Zfs3Lkdu3LlikAKwKRnQ58SAYHifxBBQF2HsRcW+qHMnLMaednZ3rTLFy5oxgtrvXu3b9mw21P/J/YB+z2fY+R3UNFnSxXvt8yNbUQBCz+HOhbARCGbIcoqACbnB/A9PMAMoSWhktvARS9ap8ahxaJpAYDp1DmiIwdMIqFOqEpX3JJbyaI3D5ixfxnNC9yeCGOKoRbZeMyRjo3AP59WcvrugzbV7G+ofnQcQXU9q1RxA4ICp2KkV8lFyoZAjLNfa14lhToqjJ+gDpZ6OxiRR9DkeYDnnMYnVJjeF2ZjqBETADUzmYmVTo+VPKnC1IbhCfZ4+o34oopCDraI6t074MUNDGDJQ/FeOWZeuU8yhktcZjKSR5fev6pGf65oWc6Z8kT5uUhdR7N5V3sr2u1UhSmmQICJRWD2BDCrJYl14gZLvT96OWykR5h8YMQfKkxyJmvMY1cMleydW7cEmJsbZ7Rp47PpDsY2nORltr6+c9Y2dy5Ytli2haUFW1qsKfC5Uc3ZsNuS8UWW+MFpxXqDjA0nRanULQAmm3faFwTdUzlrJrzifXuta+TE4n6F2UbWmCYQAAAAIABJREFUZ5FlX1nP2f7RoS02NvWe9259ZGsLQ/v2W69KUf+clj21xX1W4r1QcY56961cKliSKahv0IF+NSoohv5jjqC5rdowkTSbyJ1ytWbFQtb6I7PDo6a1Om1366FXqaF4p+Goqvhf4MCCIzWjV2W9Xt+ODtvW6wMYqD8nsqoibQKQLBYKcn3BeAcAzSsXk/GSkU0z7gKERV+SEtSDcraon33v+39nP/gvf2uXL16wfGZiS42ypYOemyxnp9bHVCGXtcOjIzuzvWMb21t249Ytu37jlh0eHluv1bPf/a3fltgHMDraP7Dj5qGqS9IfFpYWtfDofWSpChNRqQCnRwfl1K9cX/Uqd2WhLsP23Vu3rBuijqIoxanDcJ5lKp61fLVq06AE1c4dPAgiJy5VFLIkKWC47kHPOAnxOvRezfZ2D+3ooKUKgKqez4FKkz9jHzIaF0TQi/Sb1M2cfwUB07tOrFwsi07jObwO4xsSB2FiFpJKPF3CgZYNx+m+5Ce2pY/5gqrL4E88318UQIZraha7FWhbYdmp9BGlcpyigmOF6wAeRnbC33xb8ahH/M78n48++Pie5yvq+JPz1e48HfyoV9Iohzx0HTDZPMyzDHp9QHUytVzW7REx/ADIcvQ+p0MXPoVkEv9suYbI2PQNwFSq39CPi3+GmDQA2wVWIaR8Th2skaZM1o6ODzRaArOBQw+/A+BhXejRoknH2pyycQbEsW9cXKhbJSScSPR2dGSNxoK0CLRZ5EObr9hBM7Ukk7WLly6J4WGDyjVeqXroM4EIgKX3zTOam9RoG1aSuYLAsdrwzd1gNLD+oKsNQMxuFZMj72N0FolEULRXYsuBER3CGvCypnxIR23LJQf25otbdm5r5zkte+qifWYqzBSasnffKtWKTfI16yVTaw/GluSKli3SGGcnhi9nduZDWigUrdXpWaVWV+L6cGJ23CTzri0Ak5pS/T3EOtzXDpgyrg55hvOA2Wr2BJgUQtC8SNYZPMftpYTTDuMaAGZuagWp9LBPI9vOXYZGE+a1MjaacFOVlIW4f/ua/dVf/KnA9uVLF2wy7FohAwWDWcBQ/rDcQPf3H9ja5hk7s7UtwPz4xg07ODhCcmd/8Hu/b1ubG1oEuu3mrE9KT01uQ8wkykIwa20q7G5fC5t2saWSbaytqLo8s7YmoL51/Zrt7d5TVcRGRYtmWEUFmLEawOia18fNJ5TUAGZcMLlWa/XKQ4ApdWuWPiVm66nt3z224yMMCzqzKjYuwhEw44hI9IyN1SDUFbQ7TAGbBY4T9SDCJ8KfRbOHBTSm2Q96/ZkiWpXG0GOhnuYxD5jaSUQhT/D1jUCtr4eKNgJh/H0s9vPCpPnjiD1V/9qjIPKRDq+f660wF6ljOvXyJ7mc/jtOf392/AEwNa7EpvMUYOq+kjkD1b8pTQRTAVWXuo6GgXnwzRLFqCjIcagoZ+gdLAIfAkxnBj4BmDL69yNkU4pqfH//vu7z1ZUlXSdsngrlikGYDFI2430b9DuaQ15sVGyp0RB7RPoPlOxgmNjC8pI8XmFoJozRTPO2f5xYub5gL7/8sp07vx2Ae2w1mXNwToIKewTt76I52C98Y6FbOfZyreJsCJ7Ko35Qx/u9yWZKYQE9t3Ik0cQDCLDNdB9r3ISSzNgSw72sb8POrr26uWhvvPTic1r2WQXM0eDYJknTirhYFBp21BvacXdk43zBitWGZUIaO4Cp3dgAkUrBjlsdzTmRLoIitt0Z2nGrJVcNqSwzJh9Reo8+35X6EhIcRQBM1jq8ZzttdoAjV+JC+TJXGZS1pSyzjU41iXIq0PtkcN1pSAb88bVlfR4m0Mq+UBXGA/ubv/wzu3rlffvVX37Lhp1jqxSy6mX2ey0BPbvo3ft7tr6xoSrz2q2bdg3A3D+yWrVq//oP/zurVap2dHRgyOhlLID3KiKkQknzlrmsGw0AmFSY0EFu8bVgW5vrdn7nrJJVHtzftfff/bEdHx3ayuLSzOkmjMN55qiXBDITL1YeBkyAdb7CiIAJJUuFCWACXlBgLAKHe8fWbvXUV460b6TyWBg8XJpRFE8Nif1HfgbAhHaHumLh4PnRgzefcdP6WO1S6cexmPgaWqCZOn/KRwTMmW1bEN/EXngETL2fh1x6Tn4hhOyjAdM3APOK3ac8zE992pMAM/ZYHweYs2o5AOZD/VyJY6LV4KcB5pwAKjBFBFLrfnwsYDqI6zoAdoLg6sRT188dm1KEdgAmnwsOPTxGycDypbJ1B9MZYI6GPW1clxdrDpjBJpM2R7lSs6XVFQ8boJ+cLVqnn1qrl7EzO+cEmMsrC5q1ZGMAYMZzw8YQDcOE/rxEbew6HTAnzKaWPXlnPKG37u5F+aJrIWI1TE4m128m4wpwjNllNFLIe4UJi4VP7Xhg3eZd26pl7FtvvG5LSyuzzezP4vr55/aaz0yFOew9sHxuZNM8FGDVHjQ7dtjumxXKClDOIxGX0wc7skT9McwE2t2hqMdS0QGz1x2KkmWh9Z7lxDArAGCkHIo9mUAt0leheiXAGLBkrpPXp0/KcHsWYwCoSRxp8vFPgqihoCaWyXvGJMCrCjPBrg/TcFKF+d0Tu339Y/vzP/lj29lcszOri2aTkeXSxBKst0KfZu/BfTn5rG9t2/WbN+yja9dFMzEG8gd/8Ac6dsQNxZDGoM0AYxU5r7TABUZtoJ/03qF1KkU7f27TdrbOyLlk0O/a3t07dvf2HYmO6B96bFZ0UgqJJIE6heJV/FCemzsYF4TzpsUOuqlasdXVZVniOWBSPaTW63es2+nb8YOW/GN9MfCZ0fjnPGBGqjYGRUfApKKh/wNgzhJHKhWR3nHYW3Z4Cuz1GbfYN1QfMIhEnubGl9iMSmimaIVaDQt1qAjZHPAAME9Tsb4vm0sQiWWR13SfAphx+6JXfppDnz0nH5DwaSvMCOr0c/V+5vq5fO+zAibPjRWm2KJZiyWWvr5JU282PFy0lLrKW+d3PJv7jKcSwIS9ODh4oJ+h/cDvEWAWKtYepDakwsRhZ9S3SiGv/mMETDZg//j2j2xtdcNWNjbsqEngQUGf+cFx14rlNTt78ZL0A3guczz00Eky4lrjd1JRuuiP68Xp5gwOWdC3KOxLPpIWw769Z+/uT9Gog/ErWiz0L9FlKMmkCDvGfZ4NgJlaMulbr7lnjdzAvvnqZdvc2HpOy87dIc8EYOI2MxocSE2WTIs2mBbswXHX9o9bZsWyLRG1UyxrgcQg1ZMoUJPlNCjMhZfLlmzC2EaPOB4GlF3kQzAYQ8ia2cOijMggLaTei6PXx82ruc50IsBUmsZwoBk+KhReA9CkusT4AEl5HpCkusym2gECmNSuw2QqwExS30EjOcfa6o/+n39nNz7+0L7zK29Zr3VkRQQSWad9yfBjrnL9zIZu3Ksff2RXP76mcQ8iv779nV8VGPBv0TiYgmNMAPjk8tphtzoD7QdQDUfbLYKiv/r6S6KpqEpv37gu8Q282InrTRBdgPoBKJG7qjeVZQaVWUhs6NzwOY5tRHAgS5P+pdLuA2Di0sPoTLvVFWDioKTPbs5kIDrk8H6iJ6znZbrCNQIm70U/mz/pSYvChR4MaTGqTFEfy8w9JItEq7tgIvA0qCPA5PnR5zQ47KgqDMP4EZCV4SprrjlPWNHtHmA862HG580A8xG0a/yZoPx+mmOPz/migDkDrwCYMTg6fv4S9HwqJQslDgsTgTF6Evu/Yx7oCSV90sv0CnM8m8P08+u+X7PXm/rAP4DJdQDFKss8qdeLM8Ac9vryeq2Vira8VLfFel26BPqe//CD78uWcnl93Vqdrnxeh0lqR62+7Zx7zba2z9niEg5CBAUQ5VXVceHp7PF8rthn5MaNTBwwCRCwPB2T4Hssi00oVme7YguCUZfh0JXctFbUqgi+ykU2/aWcAFO5oNOR9TsPrJA07Y0Lm/bixcvKy33+8DPwTADmmODU4ZGVahUbjIvWHZkdtHq2d3Sk8NX19TNqgjOmwIwbFyQVYawORYGEecT+wNNEomNNAWuqUkm9Fe3rQ4UZAZMLXRQjCwLxO0kqlW1vgP/qxCZY78kCzBWy7CyLpKpz8eMblgGYPViYBZacTlyK0tTpluPjPbtwbtt++P1/sL/88z+zt9583ZJu24r0ewo5ScWhZenDUKk1Got25YMP7Pr1G9ZsN+2/+Z3fVgRXTOKIatVKueoAYRlrHret1e2pCqxU6/5/pSZV7huvvmClYk4JJAxoc5NSWbLQd/o4GeW1m3Yq1mnPmXcsgClaltBljwADeGczrbmsQnihY1lEtACOcdTBN7ZlnWbbDvfbs75VrFai9yuLHuAXDQhOAyYbIazzYp4nP6fZTBaRUNHJOD4A5qyyDMDmVOkXWUqyCirn2ppVxlwnAdBU9YSUEzdvdFefGcjouYix5kQ/nwaYs+/NHfMXAE3ee1TbPm2FGYFJHsVy6glBz+EQPytgnryjWEH6n1RmYambvaLfqIiBfIaTjiL7Ef32uBGK3sbKkRwJMPmT+WI3+0+0maTC1Aa7P7DpeGSVctFWlhu2WK1LuMf1+vY779rmzo4tLC6rl1moVgWc40neXnr1TVteWRc1Ckgyt4kynGQR7oNPA0yqw2xhKvo1XrdxJI1rdhDi6MQQkWfLpjzvvU0xOjkMDAqK2QMwh5OR0cnstw8t7e7bpY26ffXVVz1Y+rmJwbMDmCkCmOTYSrUFG04LdtQb23F3aHf2HiBHtTNntiT/xmZNIwIESI9G6n+4Fd5UFCSuGcjID45w00EpO7VSrmTlglN6WrDhTMIMniz0eC12hMwaZvMCTBZ7+oBS8w1Sy+IOg+o2l7Ny0YVEBWK/MihuoYZRsjHgniU4XTeaBrwR4XQOrVouSqX3g3/4L9ZtNW2lXrEs9NJ4ZOPhwOq1qio/eopQRFeufij6dTga2R/84b+SsoHFgE0DNxbH3agvCGShYOnn0r9EBEUvBiEQBs31WsmWGyVLR32NoZD755Ud/U5yAjkTXklqgWLUgf81P+aLvPo1NTcX4CZ3w3fvRwJ2DHs3FmpaRABUejwcK+/n+Lhl7aaDsoOpKy7n00UiCPL909UrgIlikMOEDucYOP5ozq4/g+XdOPF507ggCbsQovwUADNSyPOGFR4PFkKoT1WW8fryO/jkXD5UmZ6uMB8CywgiD1OUTwP9UX36tIApEwvFkjlgxgpTb00bE/fnfbzoR8aWc4f+MMX8yQoz/ihD//wSOpgeByZKds6pSSIkmZikAkw2lYyKcE1pPjebs95wIrOCCJjVSkmAuVCpWS6f1UjVx9euCTDpefL+iuWKqNllZi8vvmJLiytSsnMvAJjQqd2ury8k+rCRZx3RPR8YK7hYADNfmhrZrhEwRUtnLIS+j1yNr4B0H5kqFsoyXNHPTaeaGihUixIPjRgXy6TW7TVt2Ny3jUbOvvn6i7a+dsbyBbeJfNYfz0SFORw0bTLuWLG2jC+GHXVHAsyb9+4JMKFLGnXAAu7UK8J0FEy9+255h1FxrVZSL+/+/qHAhBupXKwIMKkOZQKtoXlfRd2iLSzkObwdi/KTPWq1rdtjlhPARCjEwos7EBVmwcpFxgro3wCWHlYLYGqhnJDJScXGHBYV69Ae7N9Tkvv+/Xv2H/74j+ylF87bNB3asNMRYCLGabeatrxA7FhFZtAADurZ3//D37eDoyPdkPQJY9rH0uKye2j26EFmpAhUJV0saRYU8cPKUsM6zfvK54sq1XxIVyHxhUoT6gmgl0WbsiNDNQWNqFk3ZPh1gTCLEPL7CJj0SM+ePRuCsD3pHrEPO2/OP4YFw36q5BOOMVaA84AZ5y3VdwqUbLzptcHhc8tAq7uIiQXcxT1uMYZ6VZ9j6t680Qhd1dAXBkxdbqL+o2ApLmQAhBbMMGf5EBU7N1ainX+kdGfoHZSpAECkKmeAOQ8uXFC+2Xjax08LMGPhHAEzHvcXAUz1rT9RYZ68Uwd5weWJ6GduAxQBk88AwIT9eBRgcl3Rw8R6s1YtSwhXVzRX1gPT7z+wM1s7PhdKO6JYtONm2y6+8JKtrG3Z8vKq5ZgLLuasXq/aYNDT/eTGGr7RozUESMaRGVGy0LElEk0wSSmfWGpO/FrHsjN6KsvfIe8/p+CEGGBezCtGLGV8xbhXzXr9tvXaB9bIj+2Ni1t28Tz3oJvOP+uPZwMw+4eWySRm5YYNpxU77o/t5t1d2z9uWwVXjtVVW8DBg9ktaFkuJqhPLbD+b6gUDIkXl6t2cNSVFysXciFXtEqxZJVSWRZ3ykEcjyVHZ3FNZJnGrk9NSe+L9QdeZXaGNk2Z33RjBBR2tXLZKiWPLoKOzWfHbp3HELWinooGS5cg/EnGVqmX7cbtG7LcYjDxT//kj9TDPL+9ZYcP9iyHzVY2I1qWGctXXn7R3nvvPVWY33jrLVvbWvcQaWLNRiPrDtwXNwlUIEHXsuwrlEJluWCVel07cUQO3dYDs6n3BXGVOXGWCZFdvOc5wIzVpc4HTj55xlM8fksUc/NQYM7vJLHhwoUL6usAKCxYLCQAKjt3HErUBw4Cj1iVxP6l5hmD5SDg56brkyCQ8IWITYxXoc4QRFClKOZ1GBPyx8NA81kry3mhzqMWGxdxulBJlWacU41jJmEBj68DfR/BRAP5QV3qr32q3A3ByA8fu/f74v+Ynn+hRxDRPK7CnG1OHj34efJeIuP8KZQsG9E4VsL2VK3e8Lm4aOdEGBU3NtEha/57s/frzvXaOOrshXSU+c9Mnq+BzfANslOaPBTUkE7VesCJh1ltABOFa7noCu27u/e0uds+e17gh3fyg8MjW1petTe+8qalk6zAiLlJmCTNhU4SrRtJOgprBtSyJ/Pw+5SqS6WYp+UwsWLJqVZ/z3mpv2O8HdcHMWJoIDynt6b7WzaSxqa2qlzQTDFveRi0yVjvt9dpWn46sO3Fon3ra5gYLM8A+QtdL//Mn/ylB0xoLRSy2ULGMsUl602L1hpM7ObdPbt/eGyVGr6PK9aoNSTAYBBdhWLivQuoDMCEfoCnECxqNnN3974LSMZZq2geEYE9ziqJ+k4ApuimQN1F0GTBHowSpYcg/hmnqOFSLfxc8NViwcrKlaT6Sq2ISjabuKEBgcYZN1NPh3jeTmSK3uo0dYPy265+eMWuX71iU1ITGKdgdKLfs2qpqBEY5i3ffvttAfvXv/mW5Up5GyMpxxKQea2RJ2/4jt9nLaFxoCt5/1SCkZJKBh0b9lqWmTL8TXuNJ7GU0R/y/+VGAuKH1BP+rsUaHWrGk1oqFX9tNhoMibOZYLHhBj97dlt/5wFIRsAE/ABMzbs+BjBjRRhHSmYG+VIUugoWlyG3znNqMDr5/NMCZhwNoXd6kgmqDcApwJwnHJ1+m0MiDfK7Q098RCed+O/Ifjhg+ibhCyllf66AKZnriTVeFGQFtTT3H5TsaTA9AUxPOpHTTxg/ieko8WdQr3M9Qv9zfUbA1LXCaFjifXeoewCzUa3IbIP7kevq2o3r1u727YXLL+rnp7mCtfsD2zizZS+8cMmmmUJI06l6HKDCrBH5QKN631H3u0IfEPsBmLw2ynzMOaZWLLlzFmDJfeVjbIn1+n2N93osYNEaCwuqMKGW5YdNHF+jasl0MgNMcoARNXbbHZumfVut5+ybr56znc0NsUvP+uNLD5jQJKP+gRVJq8g1rDvJWXMwtZt7D+z+wYFSQxgoblQbbqJNb4I+IU1zHF0098TMZCLqAtoSQGGGEV/X4WCsG4OZJgb1JfqBlqWuYgA9KNZ8TMJVboCvlLIDqBaUr6lM3Vn6MDAHMBH+5HNjKxbozTtgSsySLejmxuVmFKo6RB8klGCAwO/9x3/4e/vwyvu2ub5ilXzejg73rV4u2fbGhmY9qTC3z2zYS6++Yq1eX4PUjLlI+BMcbKgEo+dkBEqpR0OVrJ/td2yS9iSQQa3pazt2XblPACa5GnJjmVOEcrQs4EoTqZZ1XlHzAoweGL2kURjNmI3H6m8S4RWFQXJjQlT0EEUZ4shCJJdgX7ma45lMPwqb1BtjEF7GE97T8WgwOkfuJRrnCLMxWPFzrhhPqjAjuM02EaHSiUYGcQzi9EI+E8s8VOq6Tdt8RRmPf0bNzpm2f8638ogfP+mB/nwqzIxNA2XNwUUFM3+PFWb8mgLT5q4TvRlds4lNtCsJVnynNijcbwAmXsVcFzBJ3AcRMLmHfZ1Idd8u1KqqMtlAc92+/8EVKeNfe+MrdtTu2HA0VhvowsVLtry2ZqWcb0LZkLKvxNuYTT735DxgCpyH9LQ50oJ6igB0qTS2Stn7/ThdwRigmeDe8OPybFXEbbK6zGaDn3Ki9w9gInrKKIigYIPp1NrdnrXaXY2lLZSz9sb5FXvt0o6bmDzjjy89YOLwMx4eWqm2aEmmbp1JxpoDszt7+7a3f2AlaNbFRatXqj7jN/Qbazz0AGUa7j5IP9VFDU3I4nB81LJmp+0GBlku4GDXBWwE8Y9MyUJz3e9PF78gpIFW7A2Y6StaH+srUi9w/cnnrVou6CZgFrOYg9AceYWZzVpBAhfmsVBYgs304bKiffj+QqNmH175if3gH/7exsnQVpeWrHX4wBaqFbtw/pw1Dw/swf379tXXXxMgPWi1tPP1iLKRjNUBkeiOg4F0vKFZiKm8cRASYA56ZtORV0XK3PLREcQ9Um8CjkE9HJ1c2AU7UDodxoNeZ7lS0msCmPRwlG6/uKhIJG5ywBSqCMD0eUgHQPqXjwLMKKQRKIYRkbh4PmTnFszuqb5jz1DP+SkB5pPWlxh+HClSV2b7NaRHNEk/tSmI5488z2if5094WGWqPu0swmueF3VgnQfSJx3ro75PT12H+Rinn/icxxkXzOjlp6JkaWecGEfMRn7mKsxZdfkowAznzgEzULLBwzYeN4HvbNSIj5NIhh5+sFJEIIcRgZiLNNGmbxHArJHb6l7FP37vXY2Wvfr6G3Z3b1/q+IWVdXvp5VdkolKrVDyeSzQvkYJh/VGlCdh5hTkPmLBMETDLldSq6mHCwrgoUDFgw9TZopEbGWDjx++ISnT137Nm1XrVjUSY3cznbGhZ6/QH1mz3dB+Ws2aXzpTtl944b0sLC1/4enmaa+wX6TlfesBMBk2bpi0r1ldsOK1ab+qAee/Bod0/OBSludBYsnrVAZPqUpVGfyhQY46RnSW7N1SykZLEvGDvwYFlND/o3p/KwpSnJUwP9lUT+UD64u2zUlRYI/xYu13r9VNLpyXrh8ivSTKaAWa1wngJvrJMX44smwlZm3IXguLMa0RvmskrLcWPUftsS4Z9u/rBFfvh9/9egDkadHQjn9veVj4l9m9fe+N1a/f61uz2bJSkUvqp34PLUJEdskcDIWDwyhIfW6r1nvf5RuxeRyeWbZinA5BUfHOAKQp2rkenczHnewqNCygztM35Pj4+lLAHwEQdu7a25oPiw3QGmIClrAXTdNaPjDfVfH8uLoKxyjp94zlwxv7hyaIpkAn1cgTj0xVmxIcvJJJV19FVnrPKe0bJ+m848Y4NAciznEsob2YIyWs9OXaQa34DAaMR6deHwBFgVh7kF3sHP3/APFGlOziGeK7IMARj9Uf3MPn51CboBcIjQ8aYwDN8YZJRGwAxHK9BhemMh/vJdpU+RNzf2Kq1ii3VPawcEVk2n7cfv/cT0eZQstdu3rFxJm+bO2ft0ksvSXzTqNUEwihX2fgkGkvzEHGJD+V85YCJboGWei5XUt6ueqaVxMraXJdckT/C7nGijT7ASftHzj7lqmsqkpDdK4U4JuwV7XOnRO8xX5rJWW8wtqO26wSmk5GdWy3aL7+6aTsbq7P2yC8SiP1THsuXHjBJKMlnBpYrL9vAKjawrB31Tf3LvSPUs2b1hYas4WT/jKmxZQSYXDCjAcGtqag/iUPKJS3mgNTtu7sCTAg8YKGAgIUoLI3SYSSeGt6jPPIhbooKi4QMBp17hEtPME1mONqH6nluqZS3eoUQagwTGDsZ0h2VeKcYmvtYJoynORuTq9dEvFQWaHaaxwqtbR4d21/8+Z/YkBy9Ud9WGouysLt367ZdOH/Wzm1v2e6DfeuxC00RE3jiA+KeElZbZR/4X1qoq89ISgaD1MN+1zRioap7HKpL3xAAlpYp2ER5l9yFVJ3eL5yJWgSWJ//G0AHALJYK1iOBvolidyzzaVnvrWDNlZ0BJokvUq2G+dZIr54GzPmbKCpN488+/O/YFXxY1ANgzgPPzwQww2L+WQFT51CqWo/votk+zSbSefoiHxd7F0L5I24IQjB57DlGKzgViKeUs59jBYLp0O/+uVWYjwdMPu9IxT4OMDmHnwaY42SidaDb9fs4AqbSjBDJBcAkUYXEHuY0K9WClfIFy+Qz9u67P5FX9frGpl2/fdtWz2zbFrm0mzsCMipM1gxU8DhYjcYe/B5t+7CNFRAiMCJbd4qQrSzAJHmpViEqEBAtCCSHQ7fRY3RcQr6UWWM0FgSoE/jg6xm7a4wPuM9Q6AKW42zWUoVZT+ygPZAF6GQ0srWFjL11eclee2HLas+4icGXGjAl+GnvWqkIR79kg0zVhlhSdc32j5v2oNm2Xndg9YVFASY9SIJ6qRQjYCaDE9s1Fiys3Bim53Hjzl2jJUEOHZUAs5iVUtFK8KcYIKRxoBlH8ZhrCFWJqGhig3RqQyrMZGzDQO0ovaSQtWopJ8BkHvNhwCTVBAGPx5LpNYbMUHp2I71MXEPox77/3tv2wx983zrHB7a2smqXzp+1owf79tKLl6TIPWo1ZbEna0oCl9U/rcpbFbut6ICjZSclfLljyZBdJwYPThkpWDpU0NK5Z4saH0FCr57txBfUCJgkTkiME5xdCOuuk1lZzOv1OX4WN/WEAWws8aBkR+Mg+HG3HU4ifyhMOjwe1afja9EFyO3DXB2i6tnTAAAgAElEQVSrTUwMxI62aKH69ZdzwDxpEQannVNg8qT67FMpzzkV66wyDpRsBGusGueBL9LZro5lkzOQcEWAECKsnJYNT2MESZ+PsxtU+/MimCx+xV8AMFF5/iIApmBfoh+nmWe+wnM+sX5O5zYHRKllo0o2XKeo3bSp8EqdwHexQT2P5KqUqjPjAjc1940uFn5UawAmgc6oeQHMH/3oHSvXG1ZbWLS79/ftK1/7um1sbVuhVHVmBaMSWCoYnAQvV5/35d/qk2rMzRW5ch2TeXrF/a2LDphl0ntIEurTRhq5u1HYsOI/C2AS0ecGBsx/Y23pNpXlAJhUmNwV40zRBuOM7bd6ytxFxFjODO31nbJ9+2uXbDl46X6OPdWX6ke/3IA5xrXinlUreZvmGjbK1GyUy9pBZ6re3eFx2w5bfQ3pQ7ViIVeEes3lRcX2Ol3JxeM4AhcwNCXD9FSbt+7tygGHoX4qSjxlafiXcwV5yqK4xQABqpW/I9xwgYnfkMk0awPy8KS0Q0QzUPWEeEfKt0LWKnKMG1luMrFijgF7AJPX8AUQ0Q6mCqrCEsKR3RmIhRVq9v/6P/8P2719w86sb9gbr7xknXbbXrr0giK4JGZSvJTPeUoNW6uqssM9JI5yUG3xHgYkvxNgTYYkdY12rxUfbeB4qDA1j+rByMonRMQYemhxMB8Ajl9D6Vtr1GXW0Ol1FUcGTUu1zqKBFZl238nEOoyS9IZyH8LogfimCIKPAyanoRwg+cx0NqUQ9H/HgfXY62TD9EnAnKPsfsqAybmc31Dw2yP4CYhm4yUnoycRAC2DQCS1adaDsx0IIyXLRmhquWCbp95xMHjw1w/ONp4U8NSLmiJIZ3mW86IjNk0P/1vOOjNR0slGKr7P6Cf7UE86UJOK94JGJKlExhfMKSP6ORkJ+QQlC8kxN25yGjDl25tHsObvQQHdD5lEZG0QWjMRMKvlmgehj9KHzPjZikDFLgCCuOegaM+a/f33f2ALSysKGThoNu3Xf+O3bWVt3QZpasvLy1YMo098BsNkIF9aHWeGcaycV5URMDXilFUcHfcoVGwdlWze2YUuQkKU96jnM0W/Hw1BUEm0MMcc1bFuoedhA3hlT3NZj/jKFWw4ydphc2APjo51PibDtp1dHttvfeuy7Wyemfk+P/VF88/4iV9qwETwk3QfqC+Yr60qdHVAfNfE7MFR0+7cP7RBisx7pGDXchjDQFHa72CmPNKIyOH+gVRrmkcsF+z8xQtWqZh9dG3X7u8fiA7Bg1Y9jmJZCSAsVPQv5WMLqA77Bq1XKWHkntffk3HGeuOsDWXOnorm1XwU4p8iO8+c1Wtly2XGaE8tM0ksZ6luMlG/OI5MpgqNVQ8zuKaot5fxkZA//qN/L8u8r3/tTds5s27lUkkK2Xt3bwuomt2OAIlgXHa89FLkOZnF8o80djcKGOF9Kxo2lZhIu3lo5hw3nJvPI35S9Twru+izRfyZqzTnQpKhjaB/2aEzzwZVTR+V2Va+3qjW3GQ6HVuLzMFOVypABSrn8rPxl6e9B+McX1z24+s8urL8/MDy0OI/NwIyE+LMGX4//B6CF2rMi2QNPWW0Hs8tv8ODk3HKiSffz72ql/gRMNoz680FcHjCQOnj+r8OkuyJTipgB95gORfHW9g00SOc+7eUwXMxW3HDMP9+4BP1friugziJa5Lxnyja0kzqqWzQ2SYjjNZwXUZRVPws5oEzm8+GUQ4P5XaL45NRFI1ndAcCIs5/qYy5RV4qVDbShAzIXm88FgBCxTK6AQuFSO2HP/iRXbj0gmYvF5aW7etvfUMVZ7XqZh02HUsgBB3roQ6J5dktZ0o2VGu0YAlxoAJzLoLU8oWpVao5a1RKUr+zxkDD4k+t1g4xhRlAu6jMTDa1xBFCK6NVkEgxsCuVak3MEvsYmDJC4keWs8Pjvt07PLZSsWrJqGNLxZ792tfO2MsXt2Xe/qw+vtSAmQxalvb25VKTr67ZiGpukrH+2OzguGV394+tneas1RnZ2uqqEbFVyKA0LVvSS0RrjpPEjg8PJM0GLLiotna2bXV1wY6aPbt27YZ2d8SCIQziIsXMII9lmfoIifxcxwDmxGe1ysyEYnvGaxZqNkgmmtUSYDJ7BT0aRAtYbeErW2QuczrWa+SzU42fAKosWL0h4O6AyUOAl2E0JWd/973/bP/f//vv7NUXL9vO1pbxeoQ9793btcZiXTvLaEOH8IbFRKHIgHLJF1tAM0EJGAEzBDxT4WYBzDxD1D6GEnsv0ez6BGJC5Tbne8oCxO/zSm86GxfRwhRM01mEYpXo4ouOz0/qdzHT6XOfT/eQw2+Ek4de4pOA+fnBcrZ4h1c+TRkrSgp24rThwNyRnB4L+YSoibpLri0BMONrBSCbVeBBTHRiBhQA86GEk0+exU8DTP00CuRHmBI8qad5ctqj8OqE3Ob94PATAZOfheCPHsEzlTNKz7lDfggQA2DOU/aPBUzFgBE6DtD4qFP0sMUAwBXtHkpeLDEvmbXBcKyw5vGIQHgHdtoH5YKraHHvwbXqR++8a8urKxLlbJ7bsYsvXFJbByDj51Cv4zk7TIfW7rYsZTNYrNjUitYfgKdlzV6Kqcky303g+cSq9YzVqyUrs0nF/g6l+2AgkY/OH2sQrRs2s7miZrZ7AkycsdjgFsUEVaswODBDY61tBHknmZztH/dt76BpuULF0lHPqrm+/dJri/bmKztWf4Zdf77UgIngZ6oMzAXLlpdsOM3bMADmUatre0dtO+ybHR53FU9Ff62Yzdn60pJNsdRigHg4tFbreOZjShW0tLJkOzs72hl++MH1QINMNeKQy7BbZBykKPVbmgxtmpBMMjQbjyyfwXkHMY/v0IsLS9YdJNbpdI3MugEgLR9RBxOq0TJznsxlyhx6qD9LRaiZnGFF53OJTjvGKjP2unbv3rP//X/7X+3M6opdPH/e6rWKLTZqdvBg3xYXG1aolmciHJ4PZUMFyUIbQQt5OXRxlO1H+pKh/0y2rOF/bkLNLc7EMt6rnK94/ACjh6xTjLzHOCfJDS+BFfOmAYABTL7P16NpQaymWS7Z7Ucq72lAM8hkPvHUT4p8Hu308yiwmH+xT6swPy9gzqrSuTERelo8ImCetDz9nUWhU7TW+1kApn7/KdD8fIB5QtvHTUYEzNko0CnApLLUtRO3O7HSnHPt8fc/tyWa62HGz0UVpnrirlaGkhdVGzxs6QtyXfYJScAiskgLIjMDTFoVBAjMAyb3zeLisvyV//HtH6tqfOXl1+zlN16zhcUltT2gQRUnBzuVgSUayGiALRwgh190rw91XrQ0ccBEiJ4vkN9q1qjlrVopWmbs1pqkJ7lDl1f5OZyAAEZCDTBeSVIBZgy+53v0OauVhipMFNf4P0PTJpa3g+ZAgJklDnE8tEKma1+9WLFvvb5ty0tEnD3tJvVp7tJfnOd8aQGT5v+gs2eFzMjypbpZYdFG07wNJqb/W92hPWj37M5B3x4ctW2hVhfNxwW8vrpi08RTRKBcep2Wz0SNcc/oipalj7m4sGwHh03b3z+Wcw8KU+a2AB0AE3Dy3iVmCNC7Q8tOU1GsOQkOslaq1dQ7wMe21x9au59o0Jk+BH0pYqdw7KmUqX6pMl0xWyLRpIBZe8WpGPX26OucAJH6Ppmp/Zv/6X+0cr5gL714WWnwCJO67bYtLDQ8RwzxCHZ7qUvkobDkkVstqQKKRgHz1Y4Gw+cAE5qHhWQeMLWQzhY0B0oW0tjLjICpqlY+sS7oiXZ2fJ251wiY7PSjW89JhamO6FPfUY+r7n5RAPNRgDtfqaqzFyrMCFz6fqgwT+jLOGc4+0A+0zmb//2PfEIA758lYKqQnYbAdtm/oWQP5venD+pUIssnx2ZOqaFlR+eAqb6oWBroWZ+/7gcVrHym6TcWys6GDFIbDHuqMDFB52fZ3NGSoS9Yry8owYcKc//wwP7lr/+mvfH1r+larS00JKzT7CXuYin3PKYhgC+Regh0iBIc23jqgOlMTF5gWa5krV7NWaVc0Lw4TBjPxVyFdg4tIipDIvPYUNPuob8pK8kpYjevOvldlSqA6WpibPEkPhJgjmz3qGVmJY3Mlaxn59em9stvbNjm+toza8b+pQVMHH4GCH5KebNi3SxXs+Ekb8OpA2Z3kNpRf2Qf323Z3n5Tc5hUZaVc3tZWlgmwZALYEoFRxxfyHDtJ7KomGi3hpqjWF+3O7T07ODjUcAkVD/NPgC/0J7s/ADMzTjTTZOMBQyuiVbk3oUShjAv5snatZOQxNMw8FX0e0aUld/8p5RDLjCzHTCYuQIoD85SPkXaXZHH6c0SfJqmO4X/5n/+NBrxfe/VlzYnh3wqQkxJCuBH/IZMnUkijLcWc1co1bQzGI3cMcSD1apAFWaBWqNgkUxRwxq9rNjQKVVRhnlrRgjXePH3Mz8ckEe3iC/56vAfMC6LSNQKmKCeB80+jwnz4AJ8IlKcFMnOBxI8ClE/tYbK4P4GSfdzzBSKcg7kKU9VZqOBjJR+P6XEV5pNQ87MCZnydzw2c0ZghCsPYcs37woZeZlS+IoiLLIpXmDPFzqm3ElTNM8r5MZQ696Dmbj00AcDkGoCi5fpD7MN9JX8EvpfDmnIyA8x02BfTRFUHJVsrV925qlKzW7du2fd/+COZgvzu7/yevfrVN6w/GCrODq2ArDCVEESw/EB2eHLryRTkCDQcTC2deCYv7x/1ba2SF2Ai+CkXc9rQ4zJE8pASTUjKpHeZLzpw5jEEGQkwAU5l2gZvaGhi3MvQCNBuSsYjmzAhkCnYQWtkuwc9S9KMVcolK00Htlbr2S+/sWbnzxKH+Gy6/nxpARPBz7B9V8IWy1ZtnK1KkTqimqPKRHWZTu3q7WO7vXcghSu8B/mW64yNDFP1H3Hw4KKcjhPlPlLVIbXWwp4v2db2Bdu9fySrPO+teR8Q1RwCBbn+WCrANOYpee40kREBPYkkHVgN4K00bDzN23FroN7ocDCRMYHAKQcVlA3B0tBGBMFSqWaslC2p78JNTPU1S2dQTFmiAer/+9/+W5kMvPbKS9aoICLywGoUh+kkkfkyYy3dfkcLODdRtezqOW5mvS5gPJfWIcqUPkiWwecQCE3/VPFDJwbfGlmZtySbA0xezzP/vMKMvckYVcTXmcPkwXEAmIB3rHSpwDGe+GlWmP/UgEkqyRd5RMA8mSLxkQqoNQFqeP3HAeYTAfFJB3eqB/qzAMx4CLyvecDkvUXAJPlm/hEry5PN28n3H6rQg3GDtl+Erotq9HsnAiZ063ji59OyBUvHzCSzkewpNBobR1oobO4iYMI2kQ/7V3/zt7Z9dsd+8zd+yy68eEkjVy6ycaDHh1rpOCSLKFosJ0N2AFMKWWM+0zeqdYzd60UrFWGeUNObjYZ9uW9BxXrvMq/WEII4DW9lEe4ByLBW05BHjkbA3YWYuRaDY4moY2aoUyvZYTuxvcO+9YemTXdhPLBarmnffHXRXn/pnNUbC0+6Mr6U3//SAqYEP/37Vmks2tTKlmYqqjAZKKDKpJHen2bs2l7Xbtx+IKBIBkONljCzmOMCVPiku3hMUtRl2OMVtfuEnmWAuL6wbqMhVnco1Aa62LUbFlBAvTKLOLLMeCiT8mxGCXeifPgzSbu6cCvlRcvmyjZIstbpjqzbgaZxkPJqgr7l1N1/CogTeI2Jla1oVZJSQpoHPZdIMWn+cJLaX333u8Z8J/OX5bz7zfI7eQ84f6TTRKrg/qgnyT5GDgAmNzUKQao/JbDM9RY1o1ko2iRXneVbcsNCCfki5eeBRARVPgH8T1OyUa6vRSkoQqMtH8+PKSYxbSSOhIjOZXWO1ntPeXueFvfMKrLT6SRPOXrxqRWmlM8/XcCkOa7qXeHc7qHrlOajKdmfNmB+1krzE0zqHPDqmEJlqWtHlWSYYw6UrGhoAHPOqcjvlYft/uZtA/V9+pOPEDpxLzG66PPBJ4CJslR9VPNNoUY9lHzjgMnG1wHT4+yqpeALm83ZlStX7Ic/esf+5W/+hr344stWW1ywWmPBMtxHMZOS/iPpIQo8oKef0ezlKGH2GaGTV7TQvrR4avWCFfM0EggewAIPl69EvUkAknsSkxXNQWtkjKzb1EYhEQlREa9XKpVDbF7R+5aTUQDMvKWZou23U7t/iAjRx9hyad8Kk2N743zOfunNS1IB01J61h5fWsAc9g4sO2lZoUrlVpGjzghjYuaRPCfaBmZ2+zC1j67f0wgIFQw3zJm1dWOeWyG+6VDjHWnSV3wWKQSibwDDQsnSFLVqLag8Gb9IPfNuCqMLyEItYiGXCCDpXwKaNgXMqDj7uhHzOeyxGpbJ12wwmFq7NbB2p68dZ0ICCgbKxamVMFpGvJqhak2tNM17unux4PFX7Z4qYDYAVMXtZtO+/w//Vb3Mly+9oP4nN1qtXFEPhmOk2c84B+Mp+OXSi4FWYhEgtw+w4ibzVA9fONTDzJVsUmDey80LVCkGBe1pwJzNl5xSyWI5Fim2WMUCmPzPayrZPmRdRlo4Gmtzs8bB+ae9cX+egKm1/ilN3SOQxAoT5ZY+gwCUscL8MgLmSe+be+m0ccVnB8z4Or6hcMBUgAL9y1Bhcn36ji8vYBFgJmgZHDA1Kx3CzTE3LxeiObvZ+++/r8ruv/8f/rX0DYxwYZKi/NVqxS32klTVJYlFgDJWeCjeAUzA08di2CjnrNGoSBmbY3YU+nQ6stGAuUtYIqdaUaxro8Q4D10leqTJeHafCIhJXSlXNEbGMXAKYZoG46Gs+8bZcgDMoSVjTygpjIdWnDbt/HJiv/KN87azval50Gft8SUFzKmhkC0WRpYpNmw8KTpgQo5SXTKgSy8Tt569ke0dtmz//oEqRMQ62F/VCUwu5i3t9wWQKFPVi2SnmxmrD4jQZZTmrFZfkoNKs91RReb9FnqZ3sQnL3IaqFgAS6BJQDRJCcOWdo+ugaWvUZMyDZ/ZVrs/G7LnZRipgzlGBY5DCfRhbphaLQgNADWUpJhF07+EpmIs5s//7E9tY23Jzm9v61hqlbIs7ngvgGw2l7MhkvThUCIbEkKQ5CGL1waAR1S35r33IvUlZgWF0mysQwvQqREP5kRnVQJUYaBkfUSFyKJobu8LnfdXvIfJI1aU/N2FVyepE74wfLE8x89LwZ5ODfmiC8bnkSvNV4OzvzO+5F6DTsGGF6QmEhBEhiIwknGDEH/vE8dGPucbPN2yfhJFe7raA7jmH7RE4vsQw5EL7zNcP7GqnH+v/vdTR3Kqsoy/l/evDRjqbmMci/ua/SyuOJ4qJJZk6g5dACYbO/QGsDPlEiMmPa0Fly9ftlEf8c3I6vWGfe9737Ovv/UtW11fs7W1DQns6FOyqSGQns0pYAdlOhyQg+lABzEUKVY0EKVy4f9n7z1/JMvuK8HzXLzwGekry3VVe0NPNrtpJVKiGVEzwDhJA0nACNpdYAY7u193sfoDBlgMsMDOp52dFTXS0IgiKdGIRiOKnhLZbLpuNsk21b5cVpqwz7/FOffdyMiorKquag7ZzOYDClmZGT7vvednzu8cdNt1tNs8k4x9G4VVspzzoQy4uRVNMMvglRcfhxmmnJAo46dZTrZ5TOWn0bC91jrihOMmEfjGSz/EJAMu9qknW2AYsX3jwyszNJwx1lsj3PfKIzh104a8hF9u16EETJZMJ6MLaIQlnFoXGQULSM8uHZVjWaTi1Ai34rmdAuc3B6KAszyo+UWfnpQh6uyPkblGVqscJFK4BcuqJQICnhuo70jyD5U1BkMjoWVBg5Gosic+I01aQSF1k2FyQ/tUes9G8F2SDNi7IGC0UKs1keWeXEwG/ZHmNVXeJX+JZrGc49S+ydF2PbTDhjY9Nw9lvFjiYSmWWq9U9PnG176Ko0dWsbG6oky5Ua8hmUx0MMgCKCfhx8xvdRcW1DekXZdmHinIXmm/MgS3YElDWj6ABUx7gBsLs73DSqWhGRIQAXMW/NRXoTas3BP43uxQdSWCP+dGcTlg8ui/0dKQkTScvfYLGcgXZv/v5y2iXuSJ8UvA3P8JXD9gHtybvBpgzoL0LGCqasQeIxWCZgBT5V+YwIQZPdV4aLWVZLH6ifSwJOuUPczQNwYNZKx+85vfxH1vegsWFnvo9ZbghTVTaPHcSp3LyDRy79FXsyyMPjRjBLoGiQvhlqjV2L8M0WwEIuSRa5HlRqyERD0CJkux2pOV9ywTAwImH5ckRIoZsPpveRF7gNlAHEdIciMYYgFzc1Bga1BgFHkSQeC5F5YDLNdHeM3tC7jnzpOStHy5XYcSMMWQHZ3XAiv9FpIyRJwGUtRhvsTFxCHdpHQxSICLlya4cGEToyH7AaZXQvEBlkH8khFWLlkulmQpHEDQ86vxCGaSjRZLG3VM2FwfG7YaewWMNE30z+yU/RY28kjWEWSA6o1ePtH3FBNnFMgmfRi2VO7lcb2701fJxjyWBUw280u4ZOtt72Cx01Z5ha9b+paTiYTSKZK+efE8HvrBd3D86DqWuh153JERTOUhKqfw9mP69GW5+oULvUVFvtxgjKTpfMD3oH+SV3PFqpM2qXaqPpmp8Pd0rMSyHyvKvXXNsBqZVkCdP7cgSDA2RriGIWs1YO2mPCjDtMa/N7pxzXF9eR/xWkA5FTC60Seu7veLDphTg+v5Ocy5z+VK86pXcksx1uvG5JsXg1QbrKmSQVIbEWAm4jkw27Sknhm27L6slsQxthh0O0MiIuZwvpJgxgzT7lZlbgQhiqTHrI7EpuIjX0pD3llbXlOF5pmnn8Pjjz+ON731rcrEqOzjBCzrGhsteXFW7HD2GI0xdA15GWiMxJbSRfYLYdix1FemEQJ9eyvfVvpnak+6RvtZhtPcu5X4Oh9X4u0VYLJPSqMEsnhl21cLBfxJFhnADAKMUwebw1IZ5iRmZh3AKRJ4SR9dr4/bjvl4yxvvQG+R85jXs4Jf5GZ5Cdz9UAKmJPGiTQFA4TcR5zWRaZKi0ksEFxQBk/5vDi5tZ7h4cVNeiyxB8hBnGYIlDs4vMiP0qyzRZU9NWSIZdaZvwM1A1hl9LlmqIQmIpRDzWIZkIICTtFXVw2SgiRRBZhizBjgKNf6VZdWMeg5LluytMtsji82ASiWMThBOI7mYEDD5fplhXrhwDhP2V2o+nn7yCTz+6E9wdH1F4gfse64s95DFkel1pAV2t7YlscdGPgereRCRJMCeDTebbLu4Mdj8pwala2bhJIs23TBzItx23IJ9H0XLlcapa5ibluTD6NUeDny/pqdiBNONLu5eyfW/D2AeTLo5LIBpzxgLbPMl2RdL+nmpA+b8fL0FaHvQU69gHjC5V22GyXKp9i/oSmTstbguo8TMZddCMytNwg+Npo8dOYbV1VX8+EePap2/5vWvh6817WnOkduJLFn+jM/L2Wdj28U6MGXwWPI1xBy+Vj4+/S5bLQOYDE81ghVXYyRVxsq2CsdINCBDl0Kx1SG2rQVM7UEGBK6rM4s9VyYGBP40j1FSxMH3ME5hAHMMjCYMIZhh5iijLbSdXWwsZHjnW+/C+pEVzXq+nK5DCZhJ3EeRbqPeaKFwW4jyQIAZMdKq+pecPWSGWXg+tnZzXLq0jUF/qPkqljC4wMkYZXmW0yFTwNSsIzVdoaiUDXhmZHT5YCTGEkgUZZq3imciRfU1q1kvAi4v9gUCatRW/RWxTDmvKZF2U57kwh6MR+jvDgWc3AQScJcEX4nFZojRYFs/Y0mImSUHpnlQrK0s44Fv/j2efeZJLHaaSOIRAsfB8eNH5Wepw7NwsLPT16HAyJh0cR4SUZKJSCQSZwWWBMpp79KSTKpBcZuFyv9yxu/SbNwqG5Bt0V72KOZtNYZj+5dWys0Cpv1+toxrD3mB9rWkdq6xm6+3BLsXT1ugvdFy8PUfMzfSw/xZAaZ9nnmFn2v1NOczTJtZ2sfjOBSv6fqoeunTNTXVst1P9rFAOe3hXsamrZ5hJsNk24PwwP3I52VVRz18edwawGTGNguY9QazxQzdbk8/X19Z11586slncOLECZw8fdrIzaU5+uORAmkaODRJEKrXMRHxDshSmmEHSHM685hPjWcLnZaarQCdNttEnsRUCJY0nBfzlTGrhAoYzFL1ylR7qFPNADyqxkkkAMQTqBIuaDYMYDIxYHk3K2IUVCzyHYwTB5fGBjCHY76/QLaDmGyhgR2sNiO8/b5bcPLkEdTC+vUv5F/gexxKwIzGl+BhBL/eQOF2MckCxARMOpGTNUYHhDJDxnjNC7AzzLG9tYvd/kglmJg0Wmr2UFvWN0QDLhgCnOYpS2acJP/Q1DlDjQocdZZRGygoqE6383GCmOy0ijNjsiwrJM37Gn3MgKDBTFH+dHTg4KgHBZ2NswlBUDOIo4mc0OOIpBdHry30SSSPkcdjLX72HhktPvfcc9javqQI9cLzz2F76yI67Tq2L1H5yMEtN59UuVYbqBqJYSl0dW1dAD2kok6aqTwqMwiWkQiELMU6VVmWrrM6rHiDvbLtPGCaUpABTB7484BJdrAFWJWWqlKVvY8l//wSMPfPs75Q0s+0f3wF0s+LPbvmuTUvRcC8MjGIpd29DJP7k9OL3DezgKk1yEoIATOhDB33NkeoYjSphuVkKnGqpdFm0DqR1dbp06fR6nYlW8g+5TAy0nQULiBgsow7jkZIUzJZHeSpr3Mqz8wMd1BzUA8ptM4eJvuXfCp6WibIYo6SKATXmIoXGDIe61gmo4TGUqgty68cYpO5OOevfR+tZgetVgcuPTPJCC4T5F4pX8xBVmJ7VGI3cjEYU9TAlWVhGW+jWexgIRziza+9CbfdehwUb385XYcOMDl+MRleQFhL4AZNlO4CJrmPKKEzCJvlzDLZactlr+XXatgZ5NjaGYrlOhxwsWdG01GA6RuBADbqSdYh6YdZIQk8Tgtt6nYAACAASURBVAHPSYxxNJVxwpbYdOM4RTQhM419jso5vRrNIFGHJR8x/tiTJB+I84cSVXaVvSbJGEXJOU86qfsiCDDjJZNuOKB7CMvC7GcQ8sZoNWuKVrVhylwuCT/50SP48Y8fRjIe6XWuLC/gwrnn9NrvuP1W9U25YaMBhQMcNFttAS6dFsZU9sk4d0mdSw6nVexWRrL8mSJuI6lnMoS9subegVkJwcu3chYwLZnHlGWZYU5Zt5VwvClHmdLRPgLRASzZA5W/r2sHm9c+bYXNS6tZwtL0MV/c3OTlL+2FZ6g3kmH+rAFzPtOczzDt76eWWhXi7n0K++9hM0xlfio77mfJXt7DNM9gM8y9gGsuA7WthCrDlAryFQDTtCFIGuTcY244BWSdlgkajRrCOkEFlTQepegSZZztVhf0ezVKQYUyuAbt89otia+LtJNSP7lAnPjIM9oKsnZljA+o7NNuUbSkgHwQnBwFgZJReM7iaiCAY5DKxzOscdP3jUn24b/CzHNawORtKbhCsGSQXVIggXPmZSrApCH9sAB2xuZflIVqMwUM6LMh6tkWusEAr7trFa96xS2aK305XYcPMIsMoz49MNnAbqNkSZYuJUkpo2b26nL2C+kWwiUX1tBnvX6nj53+GLv9CSZjajKa0RBrKcRsjhmhzyyTerAi8dBGi2IHBjBtWXYSkfmWI8vN2AQXLr/OskElLee4qDHLS2IBJvsVnNXM0xG7JRojmYxGoqgzgs1yR/OZBE3a/RDI02QXi72OykHsoayuLOHYsQ2cP/s8Hnjgm/iLD30QCwttnDp5FOeff07zZXffeQea9RAL3S6ScSK/PPZAOz0K0Ac6EFSWrkg+miutyApWM1bMiKrErA1T6ZlOM8kKOfkYez8z3oOmF2mIDQpKglCHoRkzMQorViTB9jevmGHO2FlZe6nr+6pHltuMbKfmLjtGcnkpdv8NCbh8bzf+lf6Re/c/6BCaB0wemSY7NySS6ahE1RPn+5qWr6sHnM8Ib5xhvP8VShjB6ALsWbpVFmAHvRcDmBWISSP54GOXc4r8u+wBJkv+e1WLAwGzanEYuy6j3CMQnZvZtN6jU1BVe8RUTay2cUYXoKqyQiJNnBiRcwbDrFKxJLuw0MJ4MBYHgFUZfqYsx+4ORuj3h0jSTEDWaLWwur6G9kJX58Fuvy+AyjKq+jCz9ECtFJ477QZVfeivSfNnM8NNU4RErPYCgRsYOz3OmLH6U/njMiGI2GMll6ISYte5M7WHM2NbBMtOq4ssJrHPjGpl9L2nWEleYmtSYDcC4jzEaJwgcAKEiBAW22j5fdxzUxP3vu5OdLq9lxNesiT+U+bJ/5w/PjJkk/El1Ft1REkJN+wgLjxERY4oLRHn/GfmkfjOGW1NogL9YSyhAErTDYeJPOgog8Xsj9lY4DuSpgslosLSqrHaguTnjDOJhu1JlMksqaXU4DJZcCQLsLzJjJPlTm5eZnMtv6ERkLKIgXIClDE8jxZeqWYtR8O+xls4uhI22spcty71tYh5UWVLqkOuyRhZHtbr9UxZ54//03/Cf/vbz6LXaaPXW8BkNMAr7r4Hd9xxB7IkwvalTWysH8H6+jpqdcP0MwICFFc3riG00TJRtqHWzx48Iu+wc8LPVE4lewtANPzc9Fz3ANEEDuYE4+Oa+bbZx7QqLlJ4qbJMlXNnNUarp5l1QzHZrnGbsEbFzJ6vBqAVVUmG3vSPuWx8b249X36wV4dxBQ7mUeyjvbCvPPSpAWzvZ51H9DnMs1aqQMRm8vp8LiMq7r2Cy9/PbFDA5zSC+C/2uhJgXutxC41Y2RdAHVdr+lxpvOqgN+uDMdpUO7YCQco6cqrIChjs/Z7gvWd5x9dnbLuqpVc95yypzAZlllzG0Y48yVVh0Vy1xjhMb9Os4RLtLtc2+QzUVvbR6XSVWTIYp3D7c2fPwfN9NJstLCwtYmV1XWBlepoRaX9S9NIIWskqlitlHY5+1RsBFjptUKyuKGk1aJi7swElS6wSKRChx/yfpvDkUnCWU1yAghkis1Bj/Uf9WrZ6akGAaDTWfUg4yjkm57oYZTm24wT9OMco4X4KEY1zeEWEjjtCw93FHTcFePNr78RCb+llxZQ9dICZpRGS0UU02YRnyBQ0QLlzOpyPqarBpn3OcoqnmSoeVHQiYFY4inIMhjQqpmJPLhJPFhuWnOcyqqOFV4lAbiMkAhVw0lQiBiQHib3qmzKiZYGaoeGqp1AACV0IaCytPmSA0K9XYggcV4nhO3y+GK6baKMk8VjD1OqR1Ntq5g/6Y817VmbzZg6MpZaARCVHrUWCJl/Xgw98C3/6J+/H8889I5Wi5cVF3HffvTh58iSyNMGwvyVy0NramiJPexhIk7ICOvUVCaBzUliKSin4XAFZlWjuA1UBb9WbVAaZmJlLXTyIHGM6PQ+Y9jFtT3MeLBXnVYxbCwF7BI89BLhWPDhPMrlewJwnDV0LIC7//f5SoTrbM/6W1wJMBmiz17ywwtVITczbxN3+uY0GMCCwZX3zPgga5m9d9Wylr8ogrXK5mUrfFTIOMAGD9bGkz6z5NCzLefZ7Pc709+yn7znnEHjsGuPetWQ1VlpMD9OMP+0DTCdHPYRKstJmrTdVrWEFi5klVbKGo4kyyrW1daytb6hsS8IeWe9b/SFyvy1VHwo0MOgl0ZCi6s2GcRWifqxaGlmKjIo+VuqQ79mVgonAmeeZUa32kOQGMOmByf1J0GTbyCTb7LfW0Ot0FVDH41jz32VJvkeI3HEwyjJsJxH6CfuuPEyaSMYFvCJGyx2h7u7gtqMe3vr627G0uKzq08vlOnSAmcZDpJNLaC4sI8+pddXABMA4STCiAwDLH9JYFM9VYxWMxMh+SzIXo6hUtsk+JhcSGaPKKiqVH4oM+B57Ch5Cln4ofyfSDlmtHsKa6SVwVoqRHXcl+4EEOi5oAiadA9JUXVIJJfDMEyB7BGWOnRA0qRXJzJPRbGqsx+pN+F5dJtPGdoiZa6VQUrnRa56MCkAVYPLrRz78IXz5S3+HZ88/jY2lI3jnO9+JTreFnUuXsLa8gOXFnvqXjLatDJ40KSvdTgEhy36VrucseM27k9Anz/YfdXBxU1f30+xYZgBW4MbeKOlTM4BpAe5agGlekzlUZ3OmWeC1z3u1zfxLwHxpAKZK4hXUzQKm3H7Uz7azwBXiccyBHALNHlpQZUujyiC5JysNXQugs2vDZqIS4tKdKl9Rq0BVBYJWUIMZnHqDVYapPrtboNnwxD0gI588ApZXt3b6uHjxkgCTxgqrR47gxPGbsL5xRL1Dlkp3dnawsztETreh3AA5zxRWqhohSTlNASZ/JmOCxBi429Vu1z7dTSxgklnBc42cRRpKEzC5PwmynBX1+RmWnLeuYaHNuW1UdnlkroconFDSKgTMrXgiwOxHxOQm0olpRzUxRN3bwi0bLt78mluwtrKqEbiXy3XoADOZ7CKPd9HoLiJHgNKtSwJvEKcYx2S3FeonUDYAji8vOfUZM1PKmCSOxM85XsJM1IqZU5e1JGEHGWqeq5moOlmqVAKi3JX86rjg6UHnSYdWWSal+FhGIUnG5ZwV5HtJAo+ZTTQHAQGTJJ5AzNtc/0QyAjdpJF1YZoCNeku358YdU1KLGpTst/K+ivSMzi37qtTAZYR65vHH8JUvfRGf/tQnxOT7tXf8qtb3008+jre/5T6VfdjD5OPaCNYCps0GGTXPl0X1fSWyvsd03csozUFnepjWjYQxBC+VwpQdmbLgLLgdRG45qBzL+0go4SoZ0lUzzAN6Z9eXYTLoebHXyzvD1F+QM8pXAExTSjUZpgDPjjGRuCeRJ0Wz06rGLGBqnU2zSgaRe3+tvWqElRCsfEXnANOuawKmce4xZVEFfW6B3iLl4ajGY2zuOMv9/Nnz2NraEWidOHUKRzaOqaKzsLSsIJmPQflKsd5Luh+ZUmyzTt9bmimEaNVD7VUGwHxe2gyqRUHhgooHwOoVs1XuTVbL2A/dA8wScZHJIpB7j4DJ84nBPQGz0+Q5YrJPPn+R15CjJvnQYZZhN46wG2XYmWRwvRYySuQVieTxmt42bt5wce/dR3Fs4yhq9ZcPU/bQAWY83kKZjxHW28ic0GSY1FhNsilgqhxLmXX20NhrIOstddRnjFJgOMml5cqsMKrEB8jWSzmKUWSyGKqHAZo1Hz4JOzSHLo2+LKPCgKVZDRCzN2FEDMrSMNlQenodzA4Z/cn2kptPYMxyr+lL0vtS5V/P1fwklXkYEdKbjqVfuXfQ546aljKdZIZqNDFZjpIIAFV2KIyAAo88/BD+/EMfxM7WNl79mleqF7SzdQHvfdevot1sKDoWAFlrrsqyi8+jErMVHqiyRQtwNKjdA0vjlGG+r+yQKrUWS3qyfUmTGfCQMhbOs5nlLAQdWIqdIXDYSPtKsHWtkqwA8kCyz/5HvBIp5UpKQdcDo/uz4p99SfZ6XutP87Yms2OmxqrIwRmmNUS3WCdRATXKrZ2VIVtxv5nPsQLAaXZpMk2TQ9p+9uUEILuerfLUdKyJUSyfjeMXc1Z3DFK73ab8ZMkfIHhtbm7i8SeeFOM+CBu4+eZbcOz4Sdx002m0OgsSWWeZlgIj4yRFqtYQrQJdGSLQSqvO+WtmlyEN6Y2i0LwfrUhJOSX5aGhNwISE01mSTWn1l3JmlMGYq7ERZqo8N3i+EDD5XDyzmKXnnNlMyQKmm5OHQZoawExybA+pSd1EHrsIkKFeDtH0d3B6w8Pr71jFiaNHUW+9fJiyhwwwS0TDTXhOKgHz1KGbRijBgklaYJJw2Nd4winjAxvslJMzyh3SmmVZdpJhOE616KTxWPk1yuYqo3tGiQYB0/dRyxO4HK6WviwBM0BICSwSEUrDjmVEyVIkvRtZgmTkqawWjkhIYuwSVDnKQSKP56Cu+c9SdlxFHiNLJqKx05Mz5ACzazYES8gTMuISI/rO+/KQkSIQe6uBj3gyxtnnnsGnP/kJ/PChh9DrdsWQXeq18Y63vUkD0YyQVd6sAJM9HV4WMO2xY8HRfg1q9b3o3kro6eDayxqNCIHpXSqbrkq9LKUykJglucweyLMZ7yygzvYqrci4vd88QF4TMK9g2zWfaV4ZMF/8mMnPDzD5qZlh95/LRTavRkBeOGDa4EaOIijhUVtVzZXLAVMgSNppdVkGrAVPwwczvXB1MtQ7NVUWC5gk8vDi/rWAacu0VPjh8/M86HQW5N5B0+iHH/mRqj+Ly8sqxZ44dRqnT3EEo6NWyk5/oB4mxUE4B86/f+gHaNHvsl4XGYdnCEXXSZu15uo22KTClqnYsCpV11tgrYN7lKDHSQABJt+7Z9xVQp9EIl/nQ7NhSIps9bg+EwUHWRogLTzEhYtBmmMnjjBIcuyOWAFooIhc1NizxRAtzwDmq29fxAmWmbvGs/blcB0qwGTJNBpdlINAXtaRoobU8SW4TmYs+5cGMKkQY7YNJe5svZ9sMJZlR+MUO4MJRhJFNoxLzjOZgWFmk6WyyIbnoc6Mk9qy7EH6nuTnCMIsidpeJgeZKcZMkg/nGI1Oa66IcMLXwwxOgElLLkOhZyToOwVqIhpxY9P5fQzPy9U3CSXkTMD1sTuYaAPydTGzrNG1QCbRwEKnheGgj2gwwN98/rP4m899Rmoht916K+656zbcddtpOSBYGyE7AsINaDVe+Vh8VZIQq5xKxJrlczA4mGXOTkkb5hhmMmDLsXx9coGv7ivJA5aDDmC/8r4WMK8Elnr8mZroQVnq9QLmtYDy8hLsLwHzhg/KqUqUZTXzD7qf9LPX37Y+lpUAhlXLImBWgDe7Dq3P6Ow40CyDluApEauqB26zUAuUdu3bfcHvTWnU+M0ym6QcXVCnAUMmwQ/uj0cffRQ/ePghOfmcuvlm3H7bnThy7Dg2jhyTuAAVuwiYBE5mgpwd4+tu1ELjdzkDmBRap6atSEhVpceaGajNkfNsMObVzFI1okJLB04CMCjnuAgNqfNkCpjMNAmYYVCTmxKpCWwTETCT3N0HmP04wyimBGYL+YRm9blKsi13BzdtuHjVLV2c2FhFe4HemC/ONeiG19DP+I6HCjA5UhIPL6LRbiKhzFRVk6cEHgGTc5EcOFYPkyQcUfHMnCQzKidgtOaKJXtpd6TRjYi0ci469iIT9hP3zJRDRmtOjpAEG9eMnRA0GZRy0JegychXDiITMl8NPV1EGXrVuewXMMilLJaZTdQ5QGYe2YGsAxUpmnUCO216BqApWbsVyL3A9Y2B8+b2QGIFau5LNs+ILSgyThNlmuyLfO6vP40///AHUa/5ePN99+F1r3kF2nVfIG/HPixgykcvy6bgZkdL7ONbBq21/ZpmeCRUWVUflc5sNGxGaXjQWCo/AwWeGcY4d49tO3vwzQqwq3Rt7aqqry8OMC/vQV4fYL54sLSBwd6+/9mVZPmclin7Mz53zNMJMG0Pt4KsOcBk9cV8RiaAsobQHMXn+vEo9iHZyf3jTizNMnG1a00etnM9TJtVTteuXYMzGSZ5A2pJiCHLSo+VrqxpXIQMWMrbSRc2TfHwIz/EQz/8kcY2XvnqV+N1b3gjlpZWRP4hb2FzixKcI2QKHtm/NExd9i67rZbYsSyd0viBz51GxsDajm8ZcLRzqHQMaxiwNFx7kXbEkmUGynPNdaRXqzJvg5mrAUyy+im6TsDkmZglAeLcZJgkR25FY/STQrKiQB1p5KDBypozRMvdxU0bDu451caxtQUsLB+RuMrL4TpUgJmnE3il8ZBMnDomqafs0gubGCcxxpNIoyIineeVOavMVylkYJigdAvh6MnW7hg7uyOVTKUORCCgzBsBgJTtJJHgQC/0EXrQgjSWX2S6sjTrIVRZ1UUyiRCNTZYpkg8Lr9SE5DgyZ59IaZf2Y4lSEllE01wzoI0atSVHcMtIupKey/nLCGHgSmKr9NosTOHi1iUBM0lB3GC07eK8Fdl1G+urOPvss3j4+9/DH/9//y/uvP1W9R5+5W1vQplOVPqdghiJSqLVmwyRm1ngWIkLzPcrOau5v6RYMVcrcg8PG5WymTlX9l38atRIjJrQlfqQtkQ8nznOgua1Mshr/V71rFlpv6qfOhUsmPOTPPhQuHHgNHOis9feZKgCnnla0dwcppEn3LuuZ6zEAubVDrr5v+1P+1C0WrJTcf7pWE31TK4h27QXOvJnPXHimNbOYLBrAlDf01qfktMKI9hPsDGtCQNkeZIKxHb72+j1eobsIm4BvSEbGA77ug9/Ph6ORIIjQLJao3UocqBR2VHrg49PPed6iEkc6TH4Ov/6M58RJ4LPdf+b34wTN53GyZOndNvz5zbV2+RoFQGTlmB2T9QbNbQ5SsIMk9wIjoe5UEVLFZqqbk6CX1Yx56QWlFHwwsxhKsgtXVPB4tw39cw4R+47Op/o71un+4kYs57AkqM5lNhL0xrizMc4ydCPU+xEMQbUxc4CFGUNPloCzCDfQbfWF2DedbKJ9cUGeisb8GuNn/bSeEk+3qECzDQeIEAkhf7UaesPzpKnE9QwiWOMxpFhx7Len1dA4JjMhqCpwXzppzrYHUbY6Y8wiqjZSI1X47ZOsGUJl+MmeRyhhkKaruw5sN/I7LIeOCIEMUr0OHsYR4gnkRr+5oBmFmHMrDM/QMadkZMA4wowmW2yNMv0yyupAjKCU4wRBLQVY0l4YkZQwgaCZlds3+3tXewOBwirhcvNy80+GQ2VYbLJ/7ef/yw+9Zcfxz/5x7+B3kIHx4+uAXmk0q2dsZz2b6qD2maUzGZtKVURfUXu4YE1nyUpW6y0zw4CTFtqJWmBPqIWM2bBzf5/f7Y6AwxW/P0auhvXBkyD7LNZrTLZGQ9P/f6Kjb4bB0s+7i8B05bubZWholHZz7vq14XNugDpDW94nfbr1tYmWp02Lly4oLVoSWuD4a4AlLch4NETVgxWunT4Hgb9nWlwyL4hWfAyLKczSGUtp6pG1YLhHjJjHbMzkKYiw2CF1n5U/2GLhkpbX/jCF9SX7S0v4d773ojTp2/G6vqG9GGfP3sBo9FE5wvPAMpyCtxrnkqxBF2SCTkfydejgIYG0AT3KoMWMIrkx23vo8h9k2FWphLsRyYs1/K8qjJTPh6rSmL2zwAmU/CEgggFZ9Fr0rEl16M/ibFDJm9CR6cQRVGD7zTQpDhK2cdCOMDJI8DtxxpYbXvorR9F2Hh5eGMeKsBMJjuouYkECApvAQMKi3MC2fcFlsPxSIBJWTkCk+3JmUielO0AQb2hevyI9fsxS7NDUbWphiE3c1qCVYCZRjGyNJbOLKO3GiM5AaarzJAASpcTbrbUlnPySq6MrDs+b1BTL9MtfSOOzPlQbihWgstCWSztypyCdlycCaVgwdioDREI24sCzvF4IqktRpvqOdIhW7R6YPvSRZw6cRIf+eB/xcPfexD/4p//M+PvWaZo1ElpN0A0m9GxRM3Ph4eISDozpdTZLLMaz5wBnCpDqgCHwfDUyks9UCPezp9xTpV6mPOAOQtydszFlmwPArcXFYpW0fr0Pc3MmvJxZ/te+n4OODl4/2KulztgcmzCtEYqwQ+WFjWuZBYliStaf5xxDkP8o/e9V+2HH//4ESyuLBsh8RZN12lTZeQhjRKOg62tLc07EhDJFqfrD1skBFL1DRsNdFptjXiwNkquAS8+5ng0UJDUbbendlp8XJHqKss5lrNZaqVeLAsRz587iwcffADtbgdrG0fwqle/FidOnESz3ZWc5fPnzsk8gQEuWzN8PyLn1Th32ZA/pSEMEv1oAL9ng2cBU2VX6siKVcgzgyG7sfMi2ccUp4wfpsiEeT4lIzbqgSpfzDCZfXMxT2hDWLimJJu6GJPoEyfYjRIMBZimJEvAbKkF1UevMcGJ9RKn13wsNx30qF60sPJitsEvzH0PFWBGo03UAyr0UxOxg35SiiGLwNPso6I7liwoYDA2ElNWek3UdM+TWodfC5GWRtZuc3uoCIwljgKG5crSB10LZPMTRfDYr7TjILT7CoAmGaou0Kz78tYrGKEyWkxMWYeAJqsxslNZHoHxzOPjSyaNGS9nzdIEZc5xlggoJsoIi5yMWerPluBYB93cCWjD4QjD0UjsOTuITQ7ksL+LeljDJz72UdZ4cPfttxpDXrL72jSqNoe+BUyBR+V9yYOIBwgff1bpx2aZknXbx46dkdGuMs1Z8hDNawXojIJLI94wq7JiX8c8gM/+/HpKslffiWqg7sswrb6oBe2rAqZDtZkXd1nRo71H2V+SvZbSzy9ySZa4YJWImCWZvzH7cXQTMp8ItZ4JeOOYe7fAO97xK/jGN76Bj/3Vx1Q2pSMIAY/Z5y233IKjR48KCDc21tHtdk3WVic3wfQgWSoliBJ0uQYvXbiI0WCo23GdshLD2xAwufZ/+NDDKKryrcg+8kw3s8YEzEazLdoBM9nHHvsJnn32WawdWceJm07itjvvwNLiClzfl5zluQuXVNmS9it8hA0aJjgCzk6bhs5kyBqNZptZWmk7hW6uPJJUzmWAwblPnhusgAkkmRWTzVtYboApydL1pBXW1LskYFLm02cv1HMwSlORfdKY7H1X43eDiGMlMYZ0RsnZm6yj5jXR4hhNMMZic4Ljyyk2lhysND10ewvoLh/R6zns1+ECzOEF1GsO0qKG1G1jnFaAydJLkmLECJKzlVGC/vZIs5A8cCxQsGnARczeIOdC0rzAbp8l3sKMnXCxO8aBvCyMM8BgxKY8W+0FAqeUq0CTpq8+e5gF2vWaHEJoy5NVxq/cuOypcGGjVkMhkXMaC3EjmpIxN4SIChzF0NcIeRYDdEYvJiDBibRwjpPQsHZxeUmZ7+bmNsYTzmwa9ur2RWrFruGxH/0If/c3n8Vtt5wSgC8vdDWiQs+9WU9CfhbKvCuln9kM0wLmPoCcA0wLZjZzmpZUCysUvtdz48bne5b4QJWRzpJ/uPmuVZKdnqw3uFNN6XXGnszOhM4Aqck0D74EmFeu1179VcnJZf4mP1vAvNbH9t+9h2l7cxWZRaQWDuZXP+8PBwJGjmmyBPubv/kb+Oo3vo6PfewvsLKygvf95j9RQMdSKBmqq2vLUq0igJ45cwanT98kc2crOL6ysix5Oj7mMt15PHq+Fvo992U8mSAeT7C9tanA9rGfPFopBhnHHa4X08OkznJNDkVcxXme4XsPfU9Z6tHjGzh+/LhAs73QE5hd2tyRI5Ln1VAWns4PnjUc6yCgEzBbrYYAk+cJz4c0I+nQlII1M+7XpoDJfcOKl+sSMGlEXUjkneo+PFdmyUG10EebYgjNUFJ+7KJ4NJl2zPkYV4BJ0RZW54YJAXOMYUrrrxocNxRgtn0HvTDCUivC0aUIq50CS3U6qoRY3DiOIKSIw+G+Dg9gsmcxuiimKvwOoqKOqHQwTAu4AWctc2WMbulI9m53uy/glFg6y4OVegep3/VmQxkWAZGq/+MolUA7VYLALNMuVJheJ8tGeTKRIHujBnTqPlphgIZfosk+JkdECAoca9GmjNTMF2D6tOhhz6JyHagEFabLrjTWOhR6p04uM0yWUqn8w+/Ho110Oi1Ftcw2N7f6yjRZXuY5vnnhAm45fQpf+Pzn8c2vfwWvuPsOJOMBjq2vSYiB0aeRytwDNI2OBCazFLnhKiXZyzNM88otiWNaXp0Opu9tKB6MPDgs6ceCpSVwTAOZuTLpbL/xWoB5rQOfqkjCvJnRGL3mFwqYNwqW1ccwMyZY/WQ/YLL6sO/6KZN+rnW8Xevzu9b9r/l7i4xTso/JMLkoGEgxw+QCTVIyOl287Vffhi996UsCTJJ3/s2//Z+VVX784x/H008/jbe9/S0yEmAGee7cOXz2s38twGSwx8zxmWeeFljyYil3bWUNiwsLqhRxvWeJGRu7+eQJAdn5s+cM8c0GdVVVSrrNQWgsXdI6WQAAIABJREFU/VQSTfHd735X5dWV9RWZsa+sraK7sKg5aQImz5HAr1f9xVKelATMsGFGSphh0s6PgTDJejyTjO40U/FAhu6qcJE57LDvyjMjNKREEXRy8StUjp0GYgUImJ16fQqYUj/Ksz3AzKg+5GESA+O4xDCJsRtFyjAzpwHXCRG4DXRqwFI9wXInxnp3gl49RscDFlohVo6fQL2zeM0/9y/6DQ4NYJZFhizahusW8MJFDGIXuetjmJZwfDoH0K0kUUSZUc2nbzJM7lejEWnUNBx6Wzbq2jyStaP6T5xhPKHeLDdxUPUyDYVboBzFiMd9FGmEmlsIMNs1V2Sgds1DrRIioFxeatVCWJqtnFMImIoYrSlz1c8R7b4oDduWihxZpIVOf0vOZ1EBKM9HAr7e0hJ6i8sYRxkmE4KqYQfSneTC2bP41je+jqefeBTHj6yh025ibWkR0WSIVqepspCdr7R9XZalLdvQlmQPJv0Y9RS99uoyIFmNR1jlIJZeZ7JIjQhQPJ3jPZUm7L4equ2BViMqBoT3yqcW5H5egGndOYpfAuaLOwMLM/5h2cBmRIKkMTNjS8DkPCGjP+7Lt/7KW/HAAw/grz/7aZUy/+W/+G2xZz/wgQ/g5ptvxj/+J+/Dl7/8ZTzz7LN4+9vfjj/5L3+sTJTSdL/xG7+BJ554XEYDP/jBD/DUmSdx2y23KRt84rHHFDQxwGTJ9l3veKcA9flnn9H7o6ScvlbCGxQpUdtCSldGvOC73/8eVlaW0Fs22swLiz21eEZRLMBkpaoedkxZFg7a3R58CpFQDq8egkxZFms5HxnFE9M7rTgPDNIJmDQrmAdMaWGT4MgMs7IwtCVuBsMUQLCAGQY0Z2B6mYKCnVFOsRYyjV3w2BilOQZRgl1OFTBBCFoVYNbRqTlYbqRY7kyw0hqiW4vRKHL0WjWs3XQCrd4anDmDhhe3OF569z40gEmfxzzZBsoMQXMV25MChRdqLIQlEwqes2RZC0h/JoBmGnVgv48LczweV2QAE9USJNij4KgHWbdc7ARaASapPCXA+U6n1cHuaIz+zrbMmn0SaQIXzYCDvoy+6uZ7MvDo40e3dpZks0RR4GCUGMeIajzAKuxItorlUThiuLHcKzPdgiIJBJoU6WSIWgBcungWYbOFIxsb6o/wfTJLY2lpZ3sb/+X9f4yzzzzNVq589m656SR6XdoGAfUWWXkmk7SzlSajNJZctCCzv5cvIMvFNJMluYhzppWh797SNuy82dKqsjcxjE2J1YJdyT7Q3AzmfAn2xZZkr5Uh7ZVkzaE3BeZrZJh7vo/G4/NGr4MyTMsr4uPOBiLmxc3Zcc2MlZiXv5+VNOtWss8k+wr+n/Pv41qf342+b60B60hSBVeG7FORfypfTa5Ljm14JMZ02njzm+/Htx78Nj75yU/KfPktb307Tp06iQ984EPK0H7nd34HP/nJT/Ds2edx//33C0gp6kFw/YM/+AOcPfscXvva1wpUv/G1r+G+e9+Ie1//Bjx15owyz6effAo/eeQRvOfd7zZs3M2LGu+iYhCDybDaJ6ZhUsKRUo9xCvrhD3+IkyePo9vrKPvljCb3OLkTFze3pb5Tb7RVkmUplXZfFCCRBnW9rn3OE4aBOzNeBvjaM3Q28qhRHUq5x2Scpn3jUJxFZ1Qhg4koI6N/L7jk/iTztt2sKcMkYDIk4Xw2e54EzChlBS7AICoxSozu9iCKMMl5FjZlEFGjR2cILDVzLLcTLLQmaLkTtMoSi00fK8eW0VmhOAM5EYf3OjSAyeyrTLfh12sY55xtbGKSGhYY+47SbaVoAecpCXgMsqQLYJhk7D1wjtEO61smHDM1AiuBU+YjlWA6PS+j0kPW6IqJS5LAeHeAdDSSDdgCyywUU64RLH00Q8Oipbwdx0xYYtJjxNXgMIlAysZMD1FMOZakWJKjIHvJyNCUCllGlItDyZGWEpsXzmHCXub6miJcbuQoGqu084W//W/4yIf/HDtbmziytq5SLIeWN9bX5erOOTWWbEStr+YkuXnl7ek4KhvxqxVLp2sKwV1auRRs0CY312xmaX920IG7B6YaL59mo/YxZhmxs8IFB21DfiRXkq17IdvWGhnPG0jvJY4G4GeoTC/kYec+k4PvoueWrvEMULO6UIGgsvBKa3fvczQBy/TznR2rmfn/lLQ0g5/T98QMYw4wZ/9O/z1B8qBPwrpU8jVPJeqqt8jXQuDg2+D6fu0bXo8vfeXL+MIXv4jdwQ6OnTou4YDhcCyQuu222/SV65mGzv/xP/5HjEeRyEG///u/j6985Ss4deqUAsEPf+gDeMsb78cb7309fvTwDxHFY/Us+9s7+J/+x/8Bu9s7YphPS/QGiaaVF0rhaWRtMpE4gKy5uOcbhjjE10GhAraCJqxCkSiYk9waaBxFvVXPUUuF2Syfx9rrceSKcpIKLFwTvPJrNd6sTI5A7Zee0bzOCgzZPkoM8UdBKu3C3FKjJJ1GiEbTjLrxjGFATjLjJGaW6WEYediNHAxiDyN59lYCJIW0g9Dwciw0HCwtOFjsOOg0gJaXoZZH6DVKLK220DtyArX64R4vOTSAydGLItuG36hjnBk5p5GywgIlG+3sR6Yc6KWqPz3j6CLChNTI0THrY5ZJJqudMVSGV2lLCjCZOQk0TVM9cVwM/YYyWbLaaMZK0CySRLJ5BMuFVkPSc+xp1mq8XyaWKwWVWY4cjVkS5muJq+Z+pWajcYVSM5Q8RDgGQpNc1/pPElw5Y+YZEfVxMka328Hick9ZH1U86J/3qU/8ldR9GCGQQs9+zcrSsv5xUzVbdUW5ltzDrwRMCT+7rqjuRqHIyOLZz8b2/Hgw7QfMvehWm31emWfOO9OUjva8CGdBk/+/GmC+WLBU9F4dzPuyr308np8tYEoYceYzs6W1KZlqzsB7Oi86U7LeC172gokrVo6n8nSXO3lcV2RwgzeeBUutl2nWaR5wNBljeW3VtBeSGO9617vg1HzNX271t7E93kV/1Mcjjzwiko8s83xfGRoDYfrImlaCZ0qvTzyBu+66C4Ffw8M/+D7+8Xveg2NHj+Ifvv41nD17FqPdHdx66634F//0n+Jb3/qWTNYVnFYVB98zj28AzEW908JOvy+yEANRSlEyU+U/BpvPn7+AKI5lEk1pTvYX3VoN3W5PLF6y69utJuqhYenGlRQeR0Qkh1dJUpKToHGsvUgUnua32T91ZRrB825MT3v6W7rUlXYFmA3OhTeoJmRmPCVXUJpZzSQuMcl8DGIf2xEwiAJlmQnbTwTLkkpmMZo+s0oHy10P3Y6HVsNH3ctRz2P0WgW6XReL68fRaB9uXdnDA5jJCEVuAHOU+iio9MOMkivUp97iHmAaR3KodEkg4VGhUROWSpmRqnRoKNk8SM08lPm+4ojokGePdJei6o0mQj/UyMhwt4/xYCiWG4kCvU5LVO42BY9D2njlyjJZ4qFy0HDEjUEnBLPB7YiHkQ2joLuR/bKASXabypplrgyTvc3RYBvDyRi1WoDOQlulKZpKJ0mMv/70J/Enf/on6LXa2vg1r4bTp04JPLkheotd1OuhAJLgx6+aB5sBTJthzvY57QHOw2P2mpJ8qh/OjqLMAqu5HUvLe8P7s5mlfZxrZZgvJrv8JWDuObX8vDJMW4KdrqEpCcj8RAbZMkiI4fge7r33Xpx59mmJnLs1D41uU0Ei986lS5ckXWnnh5m1/eD7D2s9c8+QCETegjK/zU3th+VuR/Jz/B0z0mg4UAb6q297G86fP49zzz8rlR+S7DR2FpgxFwI7QcetBdje3ZE6EAPNtZUVsXCbDcPMJWAmHD9LKn9KDoI0GpLLk5k03UPqoUyYpVBGBTGNXFXBYmXATsA0lQfD6me2qbJwam4bZ46mAiYEutIEt1QZC/xC8+AETLHiaQ9GM4nCePTyfnHqox+72Jk46E8ojbcHmGwr1d0ErTDDYsvFcjdAt+1pfjt0U9TyCZZaJRqNFItrG2j3jl6m/HWDsdRL8m6HCDCHKPMdeI06homH3Kkjkm5sVcqoFPwJlBYw6RbALgAPC+tGQMA0AGk8HBlZcoFZwCwqjSr2D0rPx07C/koDYVA3ZtFRKk+8UX+AJIrRbtDDMlAvs90kILG0yg2YGMAcU8nHysele4ukivylLeSUMpBmMZmAKTCpANMpYqQsSU1MCZYknoVeZyoJ9vff+Br+w3/4P9FrdfR+3MLBTTfdJLcCHixLywYwWUay2SUPGjtUzZ9bwLSR9WyWyY05D5KzK93edh5UDThWAU1V8Jzte9osyfY8r7R7bOR/o7vrlxnmXk95L3l5EU3Z6/xD2Aza/r1tJmzXVK0eoj/iOIaH9aMbuP322/GJz3wa3/nOd9BZ7OLcpfMIqpYC18p4TEWtVOB34sQJ/PN/9i/VaiFzlqDKUixLqM899xyOrK/C50iJa9bwzvYlPPS97+O2226VwTJFCOp+oH3FPqbpYZqeI1sjZMeP0xj9wQDROBYws9XBMS9KVBLgzp2/KGEDsVdZHXI91BtNLK+tY2mpJ89alnIZJzArljqR/C7ZMuJz+goaTK+UYFd9wCIaURXMmEkQ+NSCyoxRvQXMWmAcjxp1qpEF8s2lHB5LvvQAJuFHGeYE2JmU2I1cjFMHaeqARMrQLVSO7TQKLHY8LBEwWwRfB6GTICyYYZYI/BF6i4tYXKMM4OHtYx46wPQbDQwSll2bRgeWYwtSxyhE744JTiVp6hwTyVFzq1JHNVqSxYZsQzcRbjxnKvFmRMSN/qTpY0jHkqIEBsoQ+CE8ty4q+O7OAINdozpC8YJuu4Fem9RusmbZqzHCCf0hx0MM8ciq2pj+pfXJLKaAqUyTYgYzgFmkYwm0j6IRkjRSlLu4uKAyK10Knnj0MfzRH/3RtNQcujUdJtSs5NxXb7EtwLRZJQGS/+fjWMkxW46dzTBt5ngQIF4/YNoy9/55TJPpX10awP59rvOc3ktoqsBkfs6S2fu+93GDJlhXCyYO6mG+3Eqye4IFFQN6riTLLI6ZJYO1RrslwPzS17+Khx9+GH49QHuxg+fOPqvsklcYNtQbJEuVJU+uY5FxTrBvSXGPofYZwam3sIBAOrEJGqFpQ1D3+Td/830KlB966PsoFUBnAkxxBgiYtPQiYBa5ysQMVuNxrOdaWV/D2uoRuZfwevqZ5wSYZLKKwucHaLZbWFpZVYZJw3kCH82gRTwksUKbnw5JFWCyX1lVcmZL9CwzG21ZkymO40ykHwEmZTrp2+s7UvaxgEld2bygIEEmL84o9tTCMoBZoC/AdCk0pCoVLb2aQY5ew8HyQiDAbDfoxmTspgmm3TCD5wyw0G1geeOWQ93HPESASXmrPrxGEzsxVSwaUrCgtqLKsTGFC9h4L2Wyyjo/s0bfNQvWuhHkiQEkQ/TJ1eM0BKBqXrOy9zEgwsY6gZd+l4BfayMI21rAlMLqD0dTLVdmmd1WgA4dA0JHtl28BiPOW2VIYhpKV07u1olDKViu0gtbDxYwWa41NmCU3RvCLXNEGaPTiQ4W9jJJUee1ef4C/v2///d47IlH4cPHYruHMKxjcaGHdqeFhV4DjUZ9Cpjc9LMlWX5/tZLslBxlA98ZRwj+6OolWSmAXVG04GpgMwWzaVPnxiDTStv9EjB/Pj3MvXnB6u83U5Ll358ZJiXteHV6Czh27Bj+8tOfxI9//GMcPXkMm7uXsLq+gjvvvFNKPysrayqFssf52GOPieTDvuWxoyewsbGhUi77i7xNNBlhY3kZeUpHoIYy0jSK8Kb778f2pU2BajoZS5REfUxy5DmnXfXtnRoFPoz4+jYBu3SwuLKqDDOstZRRPvnMMyrJ8t4UW6coSqvTFVjSH5NZH6+ExCDaAFYmBQRXCRZI1GQ/YKokq142TRzoY+mKyU8dWBpHEDB9zolWgMnxNraD2LJRH7Q0gElnknHiYZx66Cu7LDCM2A91DDlJMwEJWjVgue1ieSHEYsdHg+IHbga3TNB0c/U3a+4Q3Y6P1aO3oNFevrHN+Atwr0MDmGncB4o+gkYbO4mDwm0pgmLAxoXL6K0/NMLsVOqhKwkXMUGIC5CMNBEFErnkTQGSgGkZpPLEo34sm45cTHIUSNTjoEuA49bhBE2UZaDyCPuiZO+hoFV0hsAv0aWoQdNHq2rAM+tldkmTaX6dHaOQJmalZ2oBUwPU7PSLLUsm3UCPLWWQNNaSqzfYkzRjInRJ+chHPoK//fzfYhyPcYRWPF6AE8eOiy3XW2yh0awJJBmBM8q25VmVoKpe5izpZzarnAXMeYIPX8vVST8clakC6iso/VxzD/3UAbMqUU5LX5Vry5RtOp/xXkkDaP/7Ouh9/DLDnB2wryoqU+Uf8x+KiNBUgGuOguYUBGBJljqxr7/vDfit3/1tPPPc0yL9fPvb31Y2KcNk6SuPq2pRpmzzne98pzJRMliZhXI0iiXZ206fFjOWOrS7Ozu63ROPPYrnn38ejYC9QsMZ0BhWzZfeK70w28tLOHHbbQLLx374CKIoxuIye5PLCtSHgzHOXbyo7JJjINxjrW4HnYWuQJuEJL4vFjPsKAnJPtpTtBRkS6gCTI6TkMkgVyW2MyrALAsaRrMPWQkXEOg45kJtaw9yUiI7n8TDoDLDpjh7kuWVlZeHcc6SbIHdSYlRDJOlFiQbZmj4uQQLljs+lhdq6HUo4E7ZzhgoYoROakhBYYJO08HakRNo9zYObR/z8ABmtAunHMBvdPYAU5kkGaiFgGunP1QpFi697ELNLBJ4CEwkAzDCy5O96E3gVQGmhAwqwCRBh4vWd0u4BRV+2ITnKEsNacHBYsJaoEVPNSGOeMTRGG6RaLyk2wnRazc1UExPPz43wVoG1ZmZobSuITWWfm2GyV6mxgwImPJXR5qOUBaJ5O6kUcuNLdF0bmwjnP7tb35Lc2pUPjl+9KR+duvNt2E02sXiUluAaUGSAMmsUsQGx8h22QzTsmUtQ5YH2izp52qAOQsYs71Kkqus8LYqUVcwk74icP4SMPXRaELlKmMlL1WW7GyGOTtWYv/e42iCI8eOaj88d+6s+u+DaKy2wm133Y7PfeHzePzMYxIv4L7hPuIaJmhxnXMmk19J8vmt3/qtqTg7QfPOW29BGScaCfvyF76sgHFleRnvfvev49Ef/wTReGhstqSiwGG0Eg0yykNfJdfjd92F47fcqhns73z9axju9LG0vIZWdwGDYYTzFy9hZ7cv8QGaxxO0OXu5sNDRGEkQ1s3YUAWY45jnCsupJNJRmpMiJb5mL/nVCHxU4vQCzEC9xrSkkTzUJ5WRCe0FAzNCIsB0YTxvA2NVRm/gmKz+zMOoCDBKPQHmICoqwo8xfqdTErPLdlhguR1gpRdioc0Mm4stRplHCNxcWWi3TsEWkgiXsLh2Aq53OP0xDw1gJpNteM4Yhd/AMAuQ+40KuMyc42gUYzAYqjQriy82+gsjpGwAy2R4ZWYl4ljuMLRtkV38KhPlDGViXNBZkkA6UrnU8ThUXEfp1pCxTJJXHnWUq6K6D8E4nRj1nxYB05RCS1rsVIPKbPgz0xXwVWSjGtVEqF1JNR4XAkyjAMQ5zBSOk0rxJ5mMdT8y4ww5x8xKEvCeePxx/Jc/+TNpbZ44cUqHTae9gFroSnw9pIl0JbKuktMMYNpxEztSYg8yC57zYyazYGoBcPbrZf+XUPzlWeb8zw5+DEbnL46gopKsU1w2y8mwZPbSoXngdfUM82oZssgdldKRvR3DoH3Bxcz3In3MjJUoQLFCEFd6ogqRbhQwX1BZ/Cpvcn49zAdFdqzE/nye9EMREfYIBTD1UGvXb4TKNL/9vQfRH+5i9ciqskauXZZh7777bpU8CaJ8/R/96Efx+OOP4/d+7/ek8EOmLffKwz/4AYKywO6lTWV7/NmxjaOa2bxIdms01tB/FtOLNlB5duPIivnMazW86T2/gYXlFexsXcSDX/0yxv2BCDitTk/SdY+feUrcieF4glpQx9LqCnq9LroLbb0fA4K+wMsEy8afs6ppSLDA9w071pgU8FOilGQ1igUPSWr6l5TFk1evStolmjWSDX3UeWZ4ZNsboRE+PgGTc5tR5mNU+BgmLobUkI1zjCKaVxhTCvY/u9TFDnKsdAxgdlu+zOxZ1fLYGioiAWjdidAKU6wudbGwfBy1upEMPGzX4QHM8RY8d4Lcq2OYhcjcusY+uLZYj59MWB4dYRKRtm3Ys1zMXBimJMqSJsdMCIzmIBa5p5rrUiblFNJ4FGAWKVySAZKhXD+YtTLLLN0QJS3EQONVmt+azcB+SZ7EcjbhQu40G6g3aCcW6LH0GiLzOgwgm17qHmB6xpyaB+gMYNIkLEsnoNUY2XwyzaWtWOVQ32615KDwZ3/6AREljh49pj4PS0Ic45oFTB44lilrhQuslqyVxVM2Ux3a8xnnQYfjNYGPZIgDMqODDuoDb1fMaa1ezw61biO/oICpv4WVC3wJA6ZdM7NrYVpJmJWEmBEusLeNuGcqYgx7mOwzfueh74u8E2Uxfu1d78TiyqL6kww42btklslepS29vv/97xdg/uEf/qF6n2984xvxox/9CA9997s4ubGmdgZZtFzrvS4zwAVsXjyvOWfOPpe08KPaluug26wjL3Ks3nQTXvv2dyqb3N68gO9/46vob2+TcoBGe1Gg89jjTwosubcpg7e+vioGe7vdQrvRBJWu8sJXedQCJs8M9ian5B47tmVZsdPPi3UtD5OExEMSkIycIGUFqQTGTLjBURJ+75mZTDJuNYIiGb0Ck8JBP69hmHDeNcMoYUk2Fwkx4Bx5ALSCEq1agZVODau9JtoNI61XgmeNEVqhR6+yzDDFcjfE4toxfQaH8To0gBmPLiFwIyReHbuJpx5m4ZmGujRhU8gzkhkm5fCYdYoF67liqFnALEVCcafzgVSA4bCvSpQuGXUG3AhyZKcW8cgMW2s8haayNZUjuDhpjmxnq9TQTxL1QqgNq7nHmoNGh7c15TQCNlVJJhNDBLoSYPJ18KBkSbbIqRgUi+lHwDTl20oViKzBoCZtzA996EN44IEHRf1eXV1TeYiWRMvLbTFqbVZpe5j8SgCcBcxZAo/NLO3PeNvZ/+/Lkg4ARJtRFCnZh3u3vlpGcxBg0qv0hq8DAbNia04ftBIumPY0ZzJNCcr/bDLMFyJccODn8BLIMGcB0/4NpwL7MyNFJgDYX1qWTGVYU0mV5Uwq+Xz4Y3+hXuTr3vh6vO1X3ipwvHjxonqYZIbzd9xr73vf+zRe9Xd/93fK6N773vfia1/7mpi2zDRpJv2b7/51fPeBb+s+ZNa+6pWvUfb63LPPYnfrkpi0DIxZ0mzVQ5QZ50Fd3Pn6+3DX6+9DvdXGZNjHw9/+Bzzz2KPIcxe1RhfDcYILF7fw3NlzIgYRkI8ePYIuWzFhTQBMUCTPggCWZIYlbyomhtmvz4OAyXVmbfHs58XOauliOAHi3DBfjZSiAUcG5e16oAyaGSaNsOmfSa4F2bTy+81dDIsAA56Nk0TC6+OEkqEl6p6n9lHLz9AOS6x0a1jrNdEI2dtMUai6RZ1uD2U+Qa1M0GsCi01HDODO0rrx7Dxk1yECzE34ToTIqWFrTFGBplHggWGz8sxWtqeSZ6FsLkoz1fW5uSZjaryyJGsAU4uUTLUkr7RUPbU8NbBcVMSfIkUSTVBysVa9NAIls8KA/UNmnAJC+mZWGrKy6jFzUq5XCDBrNUObZ1Y5GhrfTpKA5GXn0u2EIEgqNzujLlyNpfDVGcAsC7J5uYgzzWkyA1Xmoa9mAJplKTIGOYe2tLysKJq/X1s1epYWMC1L1rrP83vNdNETsxJWns0w7UE+W5q90h45EPDiivXzAjbWgfevrNBewN0vvwkB046VTEH7OgBTqL9fuGH+Sa41VmLdWuz95kuy7IPvCz7mWMjXyjDtnOrPqyQ7C5ZmjtCMDh2UYep9VixZ+7lRcJxAQM9LKv5QRP2jn/hLBXLv+kfvVsb45NNn1L8kqK6tr+grwe++++7DBz7wX3Xf97znPSLd0AaMwgUs13Y7LWz0FnD2+WcV7FK8/ebTt6LZaEiHWdkT1bYCX9UdAmeRxeguL+Pue+/HidvuQq3RRJrEePJHD+OHD35T4uiFW8O5830MJzGeeuY5BafsvRIwm3XyJ4yxe0LlMTDDpJxdqllw2eJRoIBBO12OvHBfKdbY/xmyVF546EdGZEDeslobhWY7DWD6COmZ65oZzNLxRBCShRfnxRMg9hvoJywbc4ogFSmSnyV7oFTzaXkFFurAWq+OpYW6yq/8DAiYep0+K3UJakWMxbqDXr3A4lIXvdUN+LX6DW3Ll/KdDg1gRsOLCNwY49LHxUGJqAzVT+TAry/wMqBJYJPRKmeWqOrjOiL7DAcTZXZMHAlF7C9wE2WxkcpTT9A3ouMsRxhSDjNTA2yUxivyTIDGZnud81qe8aQUWUhgTZJOKaIP+w2OkyNoFirN1uUlR1H4VAQlOo5I11ZMXtK49wCToywaMXFYPoklpswdxHkxupmQFGT8EIykHl/DX/7Vx/B3X/qSNiTBkk4KBMLeAkUKrgyYYhPOyoFdoxw7qxhzUGYxDyA01n6h12WAKQsoc7jc0DUFTOOYMXvNipabFXGFHuYvAfMFffSz6+IgwLR/2/kMkw4lo2hiVKiaDZViP/eF/yZAPHbTcQEvAZNBqUaqFtr6/xve8Ab97nOf+6yCwd/5nd/C9773PTz55JNTZx4ZIIwGmIxGaDZbuOeee3D86Andn/tJohxpgi4dfcoM/d0tLPS6OHXX3Th15yuxdOSoFHrohXnh2afw/W98RdrABMEzT1/AJErx5NPPYnl1DbfefFqm1mHAQFn6RvK6JEmQ8+Jk1CvDdIwMpQVM2oEZrWFmmcY3l98xuI4zqvIY0QJX99cDAAAgAElEQVQRFNXjZEZJkwVPcpwtBuMeNWXZL2U2C4xiEnwSDCnUXm9r/nIwnAgwIzo2lZBZRKfpiSG7UHewthCi1w1RcyncHik4J6kik59ohqBIsFBz0PUTLPUaWNrYQNjsvqC18Yt0o0MDmJPBBXhOhNip4UK/wDD1kIKqHDX47M3Z2SnBCECsjFn7l+dchEF/iPE4EUuWWYM1YKb0lNh7TinAVLmT5NqCEneQnRYzVhJ6uLl82nGRzu17ivR8l4awVOOoRNapYUsVoYJHcAynlkgUmaw7z62pLDsaTjAeGz88emgacDRRaeAyktRaFXuPm94YTLNczAjYlH15W7di+DGDJmDSqd71aypP0SWdpeaFblvzWVYaj5mlZczykJPepe9P/9m+5UG6sgf1MOcPSrs57AHJwfB9QDWXQR2UVSqxk3jDSwEwr16WfbEZJscKZj8zQ/jYK1vaUOFK1KeXQoY5HzhZwNT7qHSEp29ybg6TTFGKA7BH2ey0Fdxe6u8oe/RCX+XYM089oZ4kFX0ubV1UgMg+Jf0x4zgSuP7Kr7xNpVk7asI9sL15EUvtBob9vlogr3rVq3DL6Vun+44l29APsLTYhZMnmIx2cerOO3DPvW/B0voGgjqdj0igLbB98RwefuDvsXNpB45fx/Pnt3Fxa4Bz5y5gZW1dgLm6uixt6KBmOAbjODFOIRVgqkztGr1mU2lwENTqAkMSFbX3KJFXCatwXnKc+ohIMKyMG2YBk+YP7dBVskCuPR8zTjl7SQuvDKPMRRa2sBNl6A/GKiMnVAMDxdVDdBseeg1Pouur3ZoIP17JTJhs3hxOrYaJbNgchGWOppOh7cZY7QVY2jiC5sLhm8c8NIA57l+AW46R+k1cHOTYjYC4YIbHBUqLKiNq7VWZowg5ItbkivTGowmiiPOMnA1kxFZpnEpDlv1EDhGzF0Dnc2aHpno0SqgAlCONxiiSCfwsRc3h/BKFjx0ZwmpsAow8PYkasCxCHce8TJA5fYR1D61WR9ZjzACjSYLRyMhkZREZaYUBQLmXGMCkXB6zx5yzWizHlBQx4EyoAUwCO18roz8eIpzFZN+m2+sJMButpkBwqVIFsmxYy5Ll7/h5McM8yP5rVibPHogH9TAPAsx9IFgB5pVGUqz60SxIvDQAkxnnXun+SlHy1ZSK7Bxm5Qmth5gvyR4EmLOf37VKsjZz/nmVZE2wuR/Or1SS1W3n5jC5TuVjS5WeyVigOEoiWXQlRaryarPdkBYsM8mt7U2BIj1iKX9HQKXYAV18SPzZ3rmk9cx1HY2GiHZ3cOzIBrqdBbFjWVViP3Oxu6CglEbvC50mkmiARrOOV93/Fhy/9Q40Ogv7/uTjwS6e/PHDOPPoo4jjEtv9CI+deRa+X1NP7/jxo+h1OxpFI3eBe5c+mUleM4pkKStEe4DJbJCA6fk1M2ZWUgeW2alt87BC5mCYBBJoYc2KjHsCcUB2a4Ml2RpaNIhXTkoGLYN2z/QqsxLj3MPYCbA9STAYjpVh0nuU1axeq47FVoDFlqeS7FKrJoUflqVJMuRZ6Nbr6KeF2loBjSCyCM1yhNVugNWja2gvrcoz9DBdhwYwR7vn4GCMIujgwrDE7sSpzFFLZZhabAIZZolVlEa/t3qoeadkQjZrJl3XnF/ZX+DMpqI5ZpGJskyWVDgALAIQXEwSCrkXSOIx8jiCk8ViptElIOAcY63q/akkQpBkzZ+uKYX6AONkFzVKfDU7CBtNeW3ydTDL5CA0hQdEqDGxuHkPYqcZYg97l5rByynbFws02ZQPfJaGjb/eU0+dwQc/+EE8fuZxHD1yVL6CVpBgeXlRh5El9/AwUbZZsfOYbfJn87fZA0w7hrP31QIoD0ALouaQ5/gG9YlMyVgAUWnzzmYhigiqaxYw94Q09zJMQ8M/uCRLQLqqOLv6l0bk3l57zzwvjXelkuzVM8w9wDRFXuMVsXdZ/1Nbgps9XAiktg++FzCYPuDe650ffzEOLJeVmOdKznsPcHUt2atlyC/kILwWYO57v6oamL+lQNUx/XcO+3MP07mEJJOLlzaxur4uWy+68pB5SjUfVlKoprN+ZFX9QBKECIwbR9cldEAJSJKDONohEC9TlIlR83n8sTNSwGJATQ5Br9PFaNhHt9mQ28ckGuCmW2/GPfe9FYvrR+GyzDRzkT3f376IHzzwTZx7/gJGkwKPPfEM1o4cxcLikkyrG40QBft9vqu9TAYtTSIImDltBpUlVj6XenwzQkLSIs8aVr04o8m/mFpKGb0ra0go/1nm8rslz4F9xi5No5s16ciaMrfR0GZJllJ4UQJMSh87aY4d9jOHEcZRonYRCUIr7ToWOzUsNRwB5mIzQDNkNp0hyyPTpmo0sJtkhq9RZHCTMepljOU2sLq6gN760UPXxzxEgHkeabKN9vIxPLkZYXviYUDwg4dCbC1NX0qSrsbsqyp9jOJIVGtk3Jy0A2Np04itq+dZsVXZnxQAMFf0HWWP7N7HsSMlD2aDooaz/1HwWTk7VSjTI26R5k0FnsAjALO8MwYp83GWKmqs1xpoNAlkLMGgKstGOjQYMdMJhaBGIFS26zCDdEV55/Nww8YJhRcSOBwmJo3cc9DrtPGpT30KX/riF+W+QAYgHej5eqVlSVPZSqzAll75Pa2K+BwkSliSEoMO9mVnNWWpq2kBZ7Ykq1GbSgvW/lysOmbbGosxv+fnzMPdekCyp2zLjvb+9gBlNmUzEH6+oj3x72XZeLZcOTXjNiStKbjYct8UcApJG85C2PW7n1wmqmfed/Wke4DD912xQC0qy2vVsMX4HqZM2Gp0R/wPS7SafR+zJ/WctpwOx+p5XgigWd3iF3LbG7nNfOWAn8eempXZJ9ylZIdyJGLKOuZohSopZv6ws9BRcPud73wbR48fw7ve+x78/Te/gc5CC8try/izP/sA7r/vTfjkJz+NIAixvbWLt7zlrZLL+/jHPy7AWlzsIUnHKo0yi/Rco5XK6k0zbKLdWjCBq1erSHUFijQSUIQND6+47804eccrEFY6sfOfx3iwg2ceewTPPvY4nnjyLJ589hxe+eo3wK83pqQ67l+f5KfCEBDj3JP2NFs/2if8RJhdehwjC+DXQqSywaV6mQa+pWEr4YHUxTBtiPzjlAkCJ0cjKNCtu+jUPdR9ChbYEq6LSe4iKQNV3kj86ccZNjnKBk/Z5WA00hm30GxhfbGFpYYrEk8vJPGHATiBl/OeJXLHReH7SPgdxVJYvRPpMELTy7C22MCxEydRbx4uf8xDA5jj/nnE0RY6K8fx1KUYWxMfOzRnpjgxwYt/1LJAjf+cAkF1GLFmL5VII56DImNphCe5iXIJVNrktPjhXCYzPI9ZqqdyA+eteGhTT5b9R4ksVwc7DyOvME14+ixTUopfNceURiIfjaNUc5tS5wmosENWnGvAOzOi7P3BSACncmlYjcpIOIG9y1RKPwQgLtyMYyZ5at6vhpZdfOQjH8YPvvs9vS72c5g1spS7srqqGbdZwCTD1/YzBZgzbiXzgEkAtIA5ezCajNgcADbDkBrSTOZoD0kqKRnAkC2LuY/+meNomqFVQg5eBRwENpGyeJowjCHQWpAS6O4/ziyZxN7f9PYuB8zrB4VrAWbVc5wByen7Zagx8/713u0LqEB/HjDtw1hgp8bpi7l+loBpg4d9gClTdPbozH4zejrmbyvA9HxxDLh0SPqh0Dp1Y1937xvw6U//Fe6453Z4NQ8f+8jH8Lu//6/xn/+f/yx+wO7WDv7l7/wrLLQX8P4/fT9Wl5bR7DRx9Mg6ag0fZ597BkePriOe7KDVCNGstxE4pIB6cNhW5x7O6QEZwvcTHDl5DPfc/1Ysb9x0xY87TxNsnnsGjzzwD3j88aexuTXC6dvvkeUgSX1u4E4D9TJNDQkwpwA6RQt4CpERzwOiIh36gUqyzDAlxul6yGnnLNH3BJPUQ1Q0jPEDMtTdDK0gR7fmoB16GoWh4AmrWmTSKrMsAmMYPSmUWfazXPOYwzEzTH7ONIgme9gA5nKjRMdP0a7zsQxhUQBO0QXfReHyZ4aNzw/OyVOELrNMF7ecOoV293DNYx4ewBxcQDS+KMB8fjvHZuRja2IGdAmY8r3kIDLLlbTIrA7wKfmEJSDuUGWWbFDuacyqPET/Smq7VoBpSC9U6TBC7YwWjeOIiaDtRcDkrAoZrdJ0DOge4CBUU9IRYLJ8xEyDG4PsXPY9WOYgQYfZ5c5OX+xAZoD1RkMZHh3e6ZxCJQ9ml+pzeo4o3pMJ9WvZ9/Fx6eImPvihDyi7lO1QzVjvcGPwe4fCzJVhtMqxvgFQ28Osz2jJqpc5k2GKCBUw6pUPw1TQYBYw7XPNAuZsD4uRNS9lmHOAycexh6sJCErMAqbGfrK9w9UctI4O2oMAk8/jVlmmslr1pfdnmNcPPpcDpjn4p8hn3t/LHDDtp7GvfylyGv+uDDIPBkwR9iq/VvYyf/zoj1QlufvuO/HFr3wRv/bud+CpZ57EX/z5R/Fv/u2/w//1H/5vuD49G7v43/73/wNf/fJX8NnPfw6333ob3AD49Xe+A2me4MFvfwunTp/Ac88+jpWlHrrtHkrKzMU0TfYMbOeJRMtbbR93vP51uPmuV6NBFZ+rXMPdS3j0+w/iH776DyIVnrj5DmWYtVoIhxUaVUNKuaAQMDkPzpYOAZN735ANCZiG4Q8vQE4evMNWBsdHXAmnk3dB0+gMDd0n9Es0/ALdGtAKgWZgCIoKzkA1IA/jxNHs5SRz0Z9k6E9SjAoPwzjDcDJRa4rjJ8sLbRzhGEnDxVKzRNvLUPeYLOTqg/I8LV0fOXkOlZi7zlHupzyFXxqPzNM3HcHS8qqCnsNyHSLAPI9odEGAeX7o4NLEx+Yok9wTeV8ETM4rutU/r6yyoH2i3xxNJFBWjJ6qZLiXYXKDc4aymqOkSpAAkovesGUtaGoBFSw3WuHmXGbPYUAvOVe9TV+kHDoHGKUP9iX4WIwqKdVF4GIfc3NrC9vbu1pzJEHw57xfGkdoByFizoLmFGqmzF6ESTQCcazVbuDBB76NT33qE7r9+pE1UCjA9iRZbg3qHCkxouuzgMlslldYq11WkrUzmcxgXUkKXQ6YtiRry7EWMO2BKeYfezbWPm0OMDXjdUCGOQt4GvbITWlWD1NlsDZb3bdJK6Ak4Kq0rlSOsngzpt03tKvnpOyqFNFmTLbEeCXAZCVDr6QaOp/PMKeZe/WL+QzTlrZv6KXzI7v+GvR1PdU86WsWMPn5HwSYeoIqw6TXJMegyOqeJBOJE8RppHnMM08+jptvO43+cIDtSzv4d//L/4o//9BHcf4CzaFLvPcfvQ+f/cxnBKivedWrcfb8Wfze7/42siLF33/j69jYWEU07mN5ZQmdsIN4kiBLctSDOkLPRZGN0Wq4CJoB7n3Hr2Pt+Gl4vtkXV7riyQhPPfoI/vYzn0G7vYTu8hr8ekvVITJgCR06Twh4zCzpNKKRNHIS2O7gvKQRPXGDUKV6ZpUUKSBQxdz3WWbk9Bhow5gstGsumnUHncBVCbnOqi57wGLze5iQ4JM4Akv6XRIstyc5JhnQn8RycmLbtN1pYGWhgbVuA4uNUuXYRlW6ZlDMggbP09KroSSgs8pTDaEbG7QINUTo1lOcPNrDxtGjIl0eluvQAOZkcBHj/nPorp/ApbGP7TjAhX6GrTGHbF0N9nJEg6U4DvfzmOPhSe4qM0+zkQ1YKtOshqsN3aay+pJjQTWPqQzTHJaa7RRYkjRktGD5vXEboQaQYbny/yxrkMVGE1qWSyhawOcm0CZyHEk1L0W3Baqc8LUQLC9e2lJZltE2Wa7q9aU5Gq6PlE4nGcs6CdIkEjOWs530u/z4X3wU3/3eg2g16HFZk28fmYXMKvk6273WVQGTPZAr9TDVk6SYQzWbaYhIpu9mD0pbmp2qBHEDz4jL+yxBVRmmjHKrkqzNNjWbVgUfAroq0zTnPCUMDenmRkuyP03ANNUKU5l4oRnmywUw92eWNiy4NmA2mk2t097SAk6ePlXpLGcC0a3dSxgOB/jxY4/iqSfOoLe0iu9++7uYxCnuuPV23P3KV+BvPvs5sWtvOX0SZ54+g9//3X8lpZ7nn3kaN99ySg4/DBzd3MFgd2gAk+NgnLaOdtFqBTh5xy246w1vQndp/ZrnPoPy558+gy9+9q/RbC4gaLTghU21Wnis8OzR+o8jqY5Rc9qMmRn7L4/9U8lsMsOsyflIPHkqAnH2sjBm1ArUmamSpEMVojBQ37IZumh49MI05w5bRGTnq2+ZUnOWdl4Odscmw9wdlxhOIsRZLBOG5V5TAgVLbU9CBMwu6XvJuNgyQSjQSbAsnFBnK2X5FHxKQGUiAZlumGBjJcRNp46j3jw8urKHCDAvCDB7ayexndWwHYU4uzPB5m4kTiYXGMulDkOkgg4EBEz2M/OpKbM2dVWKlaNPZRRtsyHDi53JMKmER3se+mdmJPPQ9SSdgib7U5oUpFKPOjNkuZK2zZ6+ESKgmgZvo0a6HqMq/bKM4VIxKMRwPBKJYXc4QlGWaDSaoAIKswsvd7QJTWbJUmwOP6BsVoIkifEXH/5zbG1tYrHX0+GQTBIRIBiV8vtrASbZsnb2UqQgRsnTn9m+o3V4oUD8waXZWcCUETdL0LmJ5ucBU83X6nE0RC4WsOkNzwMmB8Vthjlfkp2SaGbIQvszVH7qxqrtxq89VqdeZ4UF7PWYq/r9FUqyNsM+zBnmwWCpUHN/hlmwnF5l7JXCEQMhCqxT+/ieV96tERH1AskfSGMFj2TA0ljhwvlNDAYj7O4ORGzj3//MmTNaZ51OQ22MN73pfly4eA6j0UDKO1s729QCQxqlIuIROP9/9t6EydLzvA4791vv3vvMYAYbARAkRBGCSIoUJYuiLEdV+V+uSuIqS67EiSuVqthyyuWU5MSRK4kiK7RIioolkiBEcAEIkFgGg9l7veu3p855vvfer+90Tw8GAMGGdFGoXqb79l2+9z3vc57znEMAYusmnx9h++IGnvvCF/HoM889sIDlYPcWXvzW13F0OEXU68OLOgqXl7CrPkjn89qms6SBeim6VQH0QayYQPLHnt9BVtJX1gcjuRh4P2fYPIGJLRCPKSilVLE92tjFIToRA+rtcM4bA6lZhTL7knOXMxqup8DhNMPRJMf+OJW/Ng+/GxsdbG52NUqy3gPWKHZqcZo9N29qO/LT+0j3SUcjxpi5/ATuOVU2Q+gnGAQpLmx6eOKJSxiub9wzWvTw6+2j/c2PD2Ae3cLk6Bq2Lj2Bo7KDvVmE6/tT3BlRXMOmt1PBynndQJOzQ+wvkmS4R3bfUC1SGSYKsVaDUcGm/wkQtpGzMiXgsSenuczauaOsrfCUY0l6ljQt5d9KRKfBQab7sM3dwNcqFZueYi+T1fF4MsPdvQNJ0dXnpCE1aeWc9xFKnDSdjs02z6tw491r+OnPXsP3vvMdAd7O1rY2DMr2zUe2VLxY3PZOrDBdD5OAuVphNgFTikxWmrWXrPvISrNZefKQoC2yri51MMiLRU/VnBjMj1aJHPyaBhOsuNVDPg6YJtqRc+77omQ/DMB0FSY/SvF4nx7mWYDptgen9l2lZE+dr3zAfeXnQck2aXg7VDgBmJl3L9mdpkrWnimVsbwWuN6sdcBIvAJaV56n9BKOeGh+eT5XCg+vGafk5nXG65xrYzDooz/o4rXXXhUbQ8s8XnfSHbCXXrZUXdJ4xEOG0M/wxCefwtPPfx47V5564E2fatlX/vY7uHn9Oiq/owqT1aMORTmV4QVyjowlqUSJzHzg44/C7hIwfQPNlOYCJStDcwaacV+hPywPr2EL3ShDzFGSOEQ3ojKWB3ErCAjQsgJthaJkWWEyLHqUFNgfJwLMo7GFTrBXe+HCEBc3Y/RjoN8uMOgAbRHCxqwxTkwVb8nYRPrSkir2kdfvZ1XlKPIpAo+AmWFnrYUnn9jG+uZmHVn2gBflL/CPfWwAc3p4A9Oja9i+/CQmZR+78wDX9mbYmxrtIUf/lNQnB2/VnzbAzFMDzGOiFVvQ7Fc60YlRg46SpXsGQ2QrgZ2NVdR0LqvEGjRJ1WZpamMTql7N1caTtyMNmCksGCsuxznnNOcWrcKltV+MeZbh9p1d7O4fqmcgc3f6dxQeeu2ehD/j8ZGS1rN8hr/93kv41l99HbPxRDFiF3cu1DmZkRYb6d2dC1uokL5nwHSbkdGntuktgJIKP6n8DDAdPdsETKOsrcrshmbyrggjJSoQOA08eWNv11GyfC9chXk/wBQ9ex+VbLOH+UECZpOSdRXm3wPm0j92IeBaBIs7JTXXlpsvdRWmvYEU+mxuruu6GE9Hur7ZapBiOwyxt3eAiCzMeKo+PP/nNWNV5qZA9MKFbbxz7arGSXit8uBIm7qf/OR1RHHHRsgKSNDG3qWHFF4xw3Czi08+/zye+qXPoTfcfOBtfD4d4ac/fAk3r12XMboXdbWGVReeAph0FwvCNoKwg5ZiAtvw/LZcefKCCSMVpkkiupkiHoW9RxWGvULqWIp1aOiudKP6JaT6Xi5CoBtQIO/YSdIywDya4ZC+1VNrNw16Pq5cWseFzRjdMEUvzBUIHdP3tp4PbVGLW3KOnGI77jNcp0xbommCnQboM0vHtX5YYLNX4MlH17F5YQdR/PHoY36MAPM6qnQXvc2LmJYDHOUxdufA7YOp6IfxnBJujo+0zJRgnome7UipV/ca3dhDbcjNatCUmkaTasO2fFYbIubYiJdLaxIofofzULyYTDmraqo2M3YAwVXnxjOCgKKXEcKAcTqkPs3/lYva0aDsZabsb+Z0JMqxf3CI3YNDCYSkpkWsERhWu6S4RkeHuPbuW3jppZfw4ot/A6pc19fXsNYfWHRXFKtnw82GkgHa8vHU7szWV8dKAia9O7N4+tnSDL7u3woMGRvaAEf1ausK3DwxLUJtIf4oaQphvVq+JoO2zXlylTvAbI6VOOqW1aheO42TtMwKUGeVesDbEHqhknWA6yoaFxTepGRV3ZxByS6o5IYdnQGj3RwgLndTp0y073Azvl+FSSMH3lys52I0pgb8s0Q/v0gVZlPg4z53ivHjYh9n7WfXBq/bRTAyj66NzE/5N9dexnSyMUWt9bUdK+Nr7Zg9nGVKMtKKlph2Xzyg6lCmsSvG+9U0vOcj0eB9LHUsD9BkguKohXZYIB6E+LXf/j1cevyT8qN+0BsB861XX8Ybr/8UftRHwXEVzpNy7XDMjQfGWaI1zeBnZVi2eDBuI4j68Ly2UkyyzMMsyZGkJWZpJnEg2zRklzST7WXYHNCowAzXaTjA+WkLcqisGkWIrBWKhj2Y5orymhYtHIzmODicYjIlWJrQZ5uWdn1g0Cmtcg0kN7L3g0xOFaDg/6SJC463cM2Z6EeHAcbkseNazdENc6x3Szx2oY9LVy4h7nw8+pgfG8CcHFxDKz9Ad+MRzKqOAPNg3sLtozmO5iXGcyrSAp3W0oTJ7BmqeYY2e4rsjdVVkjCzTvngAltUmbW5uRwe68rJwIEmAqUAU0kC7MMovcQ+EjBt07fREasw65Bnj2MuU0R+oZ6msZLWQJdnbf1zFAVwcJl77+Fogru7exozKUsP/c66AJNfc/5yNh3h+y+/hO9+99s4ONjTHCYFEnQuIaVFgwQCJhcVAbPb4xjJ2YApZw9uXA3AVJ+xNjxxrwkf9zFArXsptmGRJ7Lq0vVqO3RX4TFhhZJ1FaKZ3JeLOVh2fAVUEv9QnHV/wFxQ3E4s1BgreZA5zONORbZlNgFTj+HY7Thgugmj01Syf7cB0w6f9wPMdodCGPbNyT6YyYGcoqyrorVs1xsV5xTccY2RmTEVuoLeeRDVjKtbi7Xhv0cxDddZIKcdrgivzBB4BYYDHxefeAy/8uXfwdrWpQfFSv0cAfPtV1/Gmz97A17QFSUqHTlnF6l3SKlwT9S2oepV9g1eBJ9z2FEfVStCzpnJvFIohICVBh0yTQnN65mznWGBXjBHFBLczM0slGgokJ5illZyAcpbEca10IdmLpOswuFohsPRXCA47MUCywtrEbZ6FXpxgU6QI/IteMIW3HHApH0or32+B7lM45X0oNGTVitBp5VjrV3hke02Lj1yEb3h/cdx3tML/BH+8McHMPevIqimiNcvIEEX45y5mMDuOMXhPMeUF2nJ0xHTSTKMR4nUpRFDpKUAq+3meFJi5SiS1QZydSKtK0xXdQaaleLCzExBpiQB2lB5Vv0oiLrSyVUjIIVRH5IN1RVbwOoUMyUAUDErwQxPaIwVIvDUe7Es0ijh9nxMZxwz2Vc/k5Fkve6mLtyj/T3Mkxn293fxzW9+Ha/85GUM+wPNavb7XQEmx0w67Z4WnAPMnpx+HhwwFVDtFMI1YLIi5MHCVcWqMBs9TAGMKgObUV1U6xV9L0ksLytMVfSNnp/reboeJgGzWWG6HqZRQvdWmE3AdJSuDi2qVPle338OsykcWgVL+/r+gOn+/e8Bcxnp1Xwd3YFr8T5x/TQqTCb/mAOVBaNXzGIkYNYmD2SLtO7MWdkisghBHof+LSnI3d+SKbIqVFV9PSNIdy+ZmRQpWsUM25c28Jkv/jqe/PTziNvvrToSYP7kB1LuwmsLMC231RT4VOIy8J2CnEyPg2wVAbMjSpZVHKNzCZgUMXHPymtaNIwDrV8eejsRSdcx4pqh0qGVDl0U+WQl5mmFhCpcRJhofIQ2eLmM149oVDBJMej2MOhFuLAW4sIw0NxllwDsp2LeVLmbv5kMVgrGjjE4Ql7Ytqbl0EQRY0DgZ0M2RdcvZKKw2QMeuXwJ65sX1HM+77ePBWBSyj07vIYoyBD0t5Gig0kZ44g0xKzEEQFTQ74ETA/jcYqjo4nmrryMl4MBIwV6mheUD6yWtcU6KQmElnf2OWk4s77LEcze5lkAACAASURBVPhU+rFCDBX95SoGG0+hqYBVSA4wC36/Hr2gYtZHgsijGxAHjdmdoGo3r9WmlpLChUD61Q8jnTb3D440ZnJ0yMXEmUwOFTMz8BDf//5L+O6L38bhwa6Akl60nW4sSnYw6MnknSMlTtTT7ZiQwnnJMn+zaVzgRD8LpWxtKWi9xpaMCwg5NGx2P6NqtAZMtznyPWr2sBxoOYGCqzCt3lgO+i8AtqZkm4DJ1/gswFz8/YZoyP3t9zKHebyqbCrE7u/0c5ZK9u96hXkWYPJQSrBk79K1HdiVcwcZrmej/C1owCp6bvRm4bh830wJvVC81xu9rCnJ5DCkgdoCj4e4Ao8//Rg+86XfwuaFR9/zHu8qzGtvXUXRolMPgYZqV4INhWyFKFnOUuYEJLE2zMlsmwK19DBPTBWbppwVJmvD52NB9lFsbZQw4D41RxSQkQrN9MAjiUrlbQvTpBS1Szu8SWaU7P40wdE0kTUee73bm0OsdQNcHMbYGdAKjz3RVHSv6FXNhXIW1NS6Bpi1JqPuO+swyCSniObwbJdkaFO962cS/1y8uIkt+sqGZppynm8fC8AsiwzJ6AbacYVWew1Zq4tJGekiMdAsMMly8fm8GMnbU/LNzMlibpsfreRsXpKLTe+/VXhlYWHM1E5zJKU2iGZFdQwwlYLS0sKzlSlud5FC4ACTd6MLjCdpj5dhhsAvEEkoY18bYNqZzpJRrHrjqZmPcjqbq495cDjB/v5MC2trewM3b17H//1//gdcv34Ng35HlCw3CNrX9bs9rK0NMawB0wFkpx3LEcj1ME8CTAFMDYikZN3nfB5hFKnhv/z3JWVtr+vxypKniMXzqf125SdaGxfwdyiYEdvaqEidBdwqYDKw181hntXDlNhnhZJ9kDnM08DSqZmPbwDHKdm/B8zayakRGn1ihenGuVzLo9YTmEkIRXI0Hrd2BVslug+PzlbLXqZ8ToUvdqht9s7de+h6pep3VnTbycCqTYwDnW48oNP18ctf+AKe/uyvott/71SiA8x3334HaUGNKcUyNkspwExzqWRTjpiw3yi2in3OUGDHAB+OmpCG5Y2h72ynqG/JLM36NaHgMGilxtJ4nJcmYMXgnCRN1mcprUFrZ5+kwME0xf54jsPpHCktAFukTIcYdlvY6YfY6QJrYY6OR6FiptaUJ5W+h4J0Mp216jljFxunClSA6ZtyXx6UNorS9gsMwwIb7I9euoLoY9DH/FgAJvPZsslttGlvEfaRtrqYViGmpCHqmaMxh4Q9DgIHmM1LHI3nojSzea3Qo8daLQBilalZSRZRqirpEGTOPRwD4DWhXmbF/kmmWTKSQgI112OrxRwS/9SNfUbnSMJO0khKGfZNKF9nziWjeagCpRUyR01EgNS9GztBG7JTxg2MxhP1IW7cOlBMEEGPcvmv/fmfIc8zbG4M8O71dwSErJTZK1Rw9GCwyLuUN20jC5OPn4Dpkkm0WGvHnwXdWgfc8ms+hShmUHeDjq0FSw5EmoApwGoKhGrAdObri76lBv+NwmtSsrxPWosJcKU8plHCgwFmcyzFVZgPSsmeXl0uRT1L0Px7wNRl6lyX6ibuyaIfXc4GficCJscnrLqMFCagk6gBZs28kNJUfN5iHKteJvUh8/iolt55oxE52iFbrUKMClsXRTLTaMZwvYcv/s7v4sonnj3T2eekakmA+crLePfqVaQZKzwyWzWdyaQiKsTnTBuhNJfGBFyhrAw5P83/KaqhDZ69jmSESMG2WcGR/qwY2MCDNMMIEiULcdRML1CLWUkRmMs+Tgm6HsZpJTp2fzrDwSjBOM00G9rphLi0NcCwXWC742EjLjH0M8StRHuPbhxZqz1slzOyZOTsIERmjYAvwR7txVTF0+zA7PT6Xob1QYjty1fQ6R+PRDvptftF/97HAjDzdIp8dgftXhtVq4201cG0ijArCJgVDiYJDmeJTnqUbCfMkZsmSOYlJlOq5mwwnoIUVo00RyclK5ceuvUQIHmSdb0vfi06kIKCDJ5STKwSVOXJC71pkaYeRKVwVol/Kjp7mLhI588aMFXdVolOd7zgeII0SqoWNfBvUljEoe2ZUSt39o5wNJ7itddeU5LDnVvX66q0QpLM1DvkzBkXlRP/sAfi/GMJpM5svQmYq3OYS6GTo8DM+5Ven03AdAKLBVFZuygtALQWYFjXyRJdmoCpzawBmE4c5CrMVcBk7+d+FeaCBpaq1sZS3itgNhfxveD5/szX/85TsnVfqwl4utbqBeR6lw4wTSGrOkcHNiZ4OBtC9940e6A8aNrBqwZxgav1NimSq7xc1RsBk4fjC1vruPToZfzyr38Zw42dh9q/5xPrYZKSTRImhFBR6tchD2ZwUiYF5nmG0udQG8/ipDsJeEar6rr2zaBB4zLtyDzHioQRSqaz4LyldBTsHZooh9Uleap50jLatfDVkuKkwMEs1ShJUrbQG65hY2OAjYGPQZxjIwLWwxzDVirANPEORT2xADNjOgmB0bM2EfdI7XdepOfFPaCkKEsz0wRcIPYKdJFi2PX1mvY3ttBaiUV7qBf4I/yljwVgZskY5fwO4n4XRRkh9brKepuXvgBzj9XYOEXB3qPf03jJbF7ImH08obEB/dE5DE3enqQIKVnPDNoZ1cVKkguOpATBkD/Dr7XTs8LkHZgIiN8iGCxvdqLlYZKbPx2HKMPm6VHy91ogStBkFgFjeriEQtGyPMnlmq/iomDVZaMcvmVmThPsjeY4mkzwJ3/yJ3jx29/GpUcuaGHR/YRzlof7+5YT6NGwoI/14ZoqTAea/U53UVE6JawqzDoPk1Wo24CsN3kcML3GiIkemxZUrWSVYMpENVYh1xJ1bYhWJS5eK4142GtCEcEiRog+m8dGejgnZ/fPjc8BpqNjmzFh/BkbM2AUjY0HmSiznhvle7AYK7HxhmVipX0t5XP9faMCl2MQqqTuMZZeAqgqZqpzawq+uc7dGMlpgKnnJzHacVGRq1/d753vsRKuoaVT0gLwGE6s513q2nQVJq8tB5jOfLCo1dfHDjL1oUwVEHt6un5sBEjioBowacLOP09hUcH4PK/Ak08+iqc/+1lc+cQnEbW7D7U1J7Mxrr72I7zzs7c195iXIfLCASaUFKTRKn5stST80WNSSDR7kxGitgnzuE7dyFleZMjmM43GiAWjL3UcWTanmCeKiwJkZYhpAkzmlRx+xvNCQHk0TzGez/WzG5vbuHhxQyrbXpRjGACDoECfgEltBt8DD8hEx7ZQ+gaIXNoKj9ZrzMSmtu1lWgx8nemLy5gv9jAr9MMKvaBQoPRw++K572N+LAAznR0irA6VvFGGQ6ljs1YHaRmiCFrYP8xwZ3+MKWet/C5afoyMzhl5hcPpbGF+zkVDZGPMT8wEANIMqjBZBbHqtHgvVaGqnEqUBEuethTNY3mNi5R7l57BfgkplpyGyZS+82ujHBmIa71Po4B5oRI4bTaUNDErXqtCpbORyKjeRD0P71y/iywv8Pu///t4+82reOqpp3Cwvy8Kh/c/n0z1d8kLd3sdbK2vWUp9Jxb49vvDY3FeBGZVnP5xhx+njHXgeUwp2/CSdWCp9cPXop6zWwJRcw8ihW3PX70PLThbdEWRL/x/m7/h/r79HW4yHG2pFcruflwAMcGXDSHGqWlmjHOvS7Wmi/wSAcwzj/wQWcVbDiM/inlqhky6sMmaP6YQy4Uer+6uAkVS8qKhjXtsvj6G+vXhYjEDvDxwaBOq+3XH79uA3Q5v995nk/5cjAU8wNa/OOg0YtjO+jU3Z3nsfW/8fnMO091XE9xWq3fXn7TrC2JC+D5YX9I50J/cF12EgdeHNj4mO0CR5rQDVllYhekeg1opPMgVOaKowBOffAIvfPm3sLFz+aynfuq/p/Mp3vnZq3j9B68ir3ooyrbMU2y0jPPHGYoyEdOUtFhZsm1jz41zz86AgYdVUq1hfSglQ0XDEa5nMzQBBr22jnMUNOaIUfo9JEWEowlwQBcfOfEEOBpPcPvuXf0+mSYepjf7ETbbOQZhgW4UqCIkQRyUbBNxxtxMHnTpci+knsK3+D2CJivZIuhZ3BeD7Aur0rVfkRnjyF4rxaDjq5plNFr0HhXHD/0mfEi/+LEAzGS6i7g1Itog83vYHeeYFREmaQUv7GKSFBhNmRTOvY1ejZEWDgVot0cH9RtuxulFkqHKCFpmwNwNAvh03CH9WtY2ehTjcPNVFhwrCF4kNcVYc/uuznCbMhlfLhg2+jkrRtCkQ0bJzCH2AAm57Jsq0Jb3ZdSw+pgUB9E30i+k5OMoBKtZLrF9zmllBf7V//yH+PGPX5H7DzeKbtRVVTqdTETJkm5m4jwrTCbU9zqmlB0M1k6sMB0l60wITgPMJoA1qTB3vd5/w5ZXUQ0kKv1QVqwo+b+pagX2DVBw1DAjkGhSz6MKj71O4GFDKcsczYLPvTE7SYq9Sf8x1cL9e3MjvwfYTliAVA8SiBe9nRN+hq/bKuAfez71mJH7GacZW/7Oqs/t8a/9ulfefLxNwHyQ59F8PKufn7XvNGnQxXN4n4Bp77Edthi67g5U9lzq589DEA+ci96nMRmlRoXs1CrArC0nFcDMn63TiKSw5mGlKEGl+ORwD08+dRmf/vwLePSpTyLu9M966qf+OwMQbr79Bl75/g+RJG0URaxhf/lZlwTMRICZtwqkClS3NcCqkeYDFDipspYtpQt58FSVJnT+YcYuq9CYFWagMxdBMUMbWWuove9gWgowGTLNgGrOaSu8IWxhYzjE1uYQG10PQ2+KbpCjSzMEKl3rbip9rqnaL7n+fJtlNVGHnfEE0jR+oHmeviBgptbCEmDajDpdzDb6EdaGbWw/8jjavfPdx/xYAOZ8fBvtYEI9OHKvhztHpB48HMzYo2BiOWNprPEugKLiiwO9oNR6hpT9xTTHbJZgPplZPwM+IqaGUMrdaiFUJBQvikyUbERRTsDTG+cml4HJ5gBrgiADS1tXGlChSboAk5RMrguNlAcXjAos0cG1QTvpwBbNyUmDUknL69WM26muVQg1PGXiETS++Y2/xMsvv4zvffclXNjZMdBnfyRLzI+VOXWBr9lMAma/y4y+aAGYTiXL33GLlY/7wwVM7mvNHqDkUAvAFJXdAEzbOJdjBOYIpPJjQRvzNXRiIX0savP2+o1YBUwGhjuQWCopj88MnrYz8m8rePxelFv8ivpLDQBZ/ZyU4TEAvWdU7WzAXAXFD7LCPK0aXH1NPsgKU70x9uc8T727+wHmQiwkdy6zqTwOmNbDtDEvVpq1hWUd4ceedif2tb4uXN7C577yFSk6rXZ/uBsPabffvYqffP9HODogU0LQpIlChaxkdUndRCp2KtWYmblnRYEnpx43e6o2DEmP0kxL2FohM8bXI4y5ftnv5KHbQ1HFCodOyg4mDJ8Y5wJMtqGYpzubzdDthNhY62Ot10a/18Z6p4V2dYCeb22fNosDjtXUEwJqNzJH2OKBTbku5UalEAiKfZKqfn0pmmTLg+0r7kzqr5IZK7ExCLDeD7F18SJ6azTFP7/zmB8LwJwe3UA3nktxBm+AvXml3sHBJFPjm4BJSlRKNDbTKcFWc5z9Aw4I55hO5zg6GsvknBUgxyeiINbJKabxM2XTrE6yRNQD5wdD7XUmdZfYR5Ss2edpFEWVTk2x1eIDV2XKGo4ekYXRRRYnRuizCy5U1VqiEy0vPFaZVNN6mtcsdQHP0hJR3MXt27fx6quv4l//q/8Fly9fxtHBSBc7K1EZJuTs17QU80XAXBv0RXdxLpMU0Cpguo3e9TUftsI8q8I5ZnqvqoGA6eLWVgHTzXoaBcuNRoxmY9CdFGZz1s759y4qoVMqTFcdO7BdxIrdZ8/UQYfzaQ+wAZwGKAENKZoV9MpesqAhF4/j/hVmEyzdgee9bPurj9NRqmfdxwcFmK7P7QAzil0PfWnYbi9YzRS4CtPZWapPbuo8PibrFZMJqClZVZr2PZ52emGgNctq7bO//nk8/dwvo9MfnvV07/vvXMd3b1zDKy/9LfZ3SaFGKGlaXtA8hQflRL1zGjDwaO75oQFlbNZ2cjYie0EhDX2pq9JcgercTD8MZDXHdcs+LIsAzlrOMiaSRBilPg7GhcSOnO08ODjQwXFrc4DtYQ9RQDcfX0DWqfY0/kHApFsQR1RkykKqmq+fy2tdZGGagJFHWx0+aqEPWSHueSZ+NMGuJTMVGPY8rPdbAuvNC5fhn+N5zI8FYNIWr9cldcCctgEmGZVppCVS7B1MZGBMT0Yq0fygI0cNjiNYcjirxFLZdEwdPxrNMJnOdXFyZfECoEF4j6BC9o9xUzntjFnxWbyOeSjWHrCq+4SUNWA6L1XWns7vkqHRRhGz38A8OSc6Inqqj6lTXoF2ROVtafZ5MlRgULR5bwgwiwpB1FE/69q1a/iDf/rPFIU0GY1RslKuAVMK4BbkJTsY9rC+PlQ0UrdtC4//a4A7YKSYLVptK7Ul3ocFmJrnqje7xXxdPbvJ79PI3gDF+YKahF6AWZusu1gv/eB7BExlSDcA1wGmA9377YwETM6/3Q8wm4BzUo/QVZgL0KzHJdzfPQswvVo95O7bHQzc33VB4Kc9j1VKdfWA82EDpmjVRgWugANdc1Zhhqyi3GH0BEr2eIXJKsgA8573lEfMGjR1qGBaETWlVYU4BDYvbuNXf+u3cPHRxx9qlGT19T24exMv/81f43B3jrSgGQETPqAKUy0HrmOuTe5JNE5nGENIR6P6+bIvSL5FFGylWWvOctMKkjm5FCTROJ57R97yMS98jJMKR3Mfo5TFQonJPNUsJ6P/mJN5YXOAQceDX84x6IS4sB6i7U8QtRKpcTlCFvkUEZljmXWXmEhCkCRL51n7ipkRrCw1JWDrVxqBxjplr1PioJaZuG90Mqz3fexcunyu+5jnHzCrCpP9t9Hrk//0kQcDJFWEDDEOZxkOjmYYT+dSlKY0KQ+YCNBG4LNZzmidUm4WPOXxYhglKfb2D3F7b18Ze912B+0oQi+MRNGGGk0w5ayBJmFXbpCmEFWFaXRsrR1bXEjCUafQK9nPaBlg0mZKZuSpxlsIcqGMCkrEgVG0dM4wgOapTUJuAWZB30iJkjzFFf0P//y/14mSJ1VHxWpmSpVVqRNkv9/H2tpAHwc9E/3wf0e/OsDkxvJ+AfOso7oNBTgRR/3RzYCpNXIcMMkM2ExoYCdw/mxTpFIbcy8Azw25n0LJso91Wv+v2es86XmIkjU7/vs+zdOqLx1IVsVAK4B5b1bn8QpzFTB11TVMAs4CzOYDP+lx/rwBs1lhqtIKl6Kwk3qYJwOmo+jt2Ul57RKDFpQsTSwKhS17XoHnfvVX8Nznv4j++oOnktzvTR8f7OJHL34buzcOkWRuDpP+J5nqSgE79wvUHrAhhXZ2Xes1Z6h0VaJgC4d7BQMd6mqUjjmMPeNepvWPANPMw96EoyMlxkkL43mlQuFwdIR27GNr2MX2sI1OmCOqUqyRIl2L0PWnNvfNqQCat/t04/GkNeP+5MmpyKvBsoVMrSwyO+wB82BvLSoVAxo7sXlQJwzyfAYstLDeTbHRzvHIxQto995fBX/WnvJh/vu5B8yyzDDZexuDNc7j+chbPSlkc49KsRTznCetHJMJK0e6axC0eIKNJa9mD4sUR9DuwIsjJAAOx3PcvLuP/cOReo2kKNpeIDeeuPIQedq2EbLSK1MBmvOjFZVRU6sGOMd7IYIHGi6TGqoYv0O7O0/9iTyd14koTFugVV5l2XysMFu5lLLyn6WCtmVemH4UY5YkSJIMYejj3/3RH+Hbf/032NrYVN/CPHLtWFjy9F6VomLXhn0B5ub6lsCS32sCpiq4Dx0wlwHCdryo+Z/FFU//XRtMZ09JVQNnaVVxMP3BALNZYSqMux5DUfV0BmC6XlUTHJvAcX/AYFahYO/UNepETydVl03AXFSUzuu6PgS4qnv5B44DZkvnhaXStgmW/Jyb4IPeTgLMs3qYJz2vk16/5v2sfn68qjVGxhx+yAg5b9mTKVnrSVpbZPkaLgPNT+pLk2ZUZYsCPDZvbK/h+d/8LYl9HnaUZPU1Zibmmz9+Ge++eR2zOR1ySMnaDHaBTLE7lnJkFZ1Za9q1rhlRBhRoBI30J5uHZFQYARbr/1bA+ecQeSsWmzZOCuyNEoEmk0mmmVWlHEEhFbqz3sWwDfSCFL2IiSQeBjEdlNh3THX/HD1zY1o5E50yyOFHdnhMT2GV3ApQSmxH7QAnCLLa15cWfwTMSFZ/FRkqVtDlDL2oRNebYKeb4BOPXsD6+ha8e8axHvQq/Wh/7twDJl1+ju68iY3tgaylEAzoMaHewCFdfDizmFUYTWY4PBzj8GiK6ZwXCBvtVlVpJCSO4He6aHUiqWcVsDqe4t13b0i4Q+MCjg53/RBtOuT4ESJubvlE1KkIV3L3tXiHwCTnIFGbSxGJW9ZGqgZI8ghJ7knBpuzH3AaGqVJjAz7mxlH3Aig0olybZgm2R5YCTObkMfdvZ2cbX/uPf44/+uP/FRe2d3Cwv4seDwJ8nDIwYBgf44xCDOUr28PFnUsLE4NVwDSKpd64amm7o7pWKVr3/bN6lscvdwNMvT4EvmOxWdYDdvFYlkpCeDsOmDyxN0U/fM2bop8HAcxjP1/T0O75uISZk5cpxRY2tnDarUkNutdzsbHrALD8Xb12KxXmewFMd78PI/q5XxV8vy1q9UCw+hzPGitZpWRt9vV9AqYTgWlu87gK2hlZ8Pt+VWCNQphLO/jCb/8uti49dpyteB97M91+brzxGt76yZuYjApFfJHBYrIH/+Mgt0RNtaWdu04YY2eiQIIdwVISGosGY3QX20lhpLYETd2TMtKsJc0J7h5OsT9OMc1oikDdRiG9wuZaDzvDCN2oQN+nkUAL/YhjSRk6EdtEmboiFiARqG+Z1dZ8ZOUUEi1nWfbrCZhkd2w9cm9y67LyqREJUPm0y+RjBqbjPYRBgig7wEY0wXNPbOGpJ58WnXweb+ceMGlaQOP1XjeAz+QOryt3fsq15+wZiFoApvPMRD2jmWTWicyH6dITotPrI2i35euIMEKrHYLDCLMMePONd6xpnuQYdLqazyxTCoFibAx7yKdH6ERs0kMzSwTKmH0I1j4pm+52+l8M2zc8UguwfxnLxor5lgRMWumpac5+IkGTdGs9XkKZttS5yuG0ytGL2PjPpeylaODrX/sa/vRP/1QJ7BS8dKJYs18cJlbFKDs/hvD20Ot2sbm+oZlNF/klGqzuo2hB1CrP06jZxThHU3jTHOO470yfefe6HqYtoOMV1CJPsqwzNSs3c2kVJhlNjefUPWMX07YwbT9LJXvC41sVzqxWUYtNWH2b+1OyZwGKA8wFYJ1CyS4r4ONjMRwraR5WVivMs+YwzzrgnEXJvpcK9qQN0rEYS7Bf9jBXK0wD4+UsJj9LtV6WKunm3+Bhg0IWtSZq9kJjEvVBsFXOsTns4pnnfwXPPP8F9IYbH9gezkD3O9fexFs/fhX7u1NkdPthpeZxBISCHzu48j+fILTI8rTnwlExHqIJmPSHBQ+sfowg7iGklV/VsjSSKsY4KTGSKQGVsTPZfrJQaPe6WBt0MegG2B7GGHZa6Ad08skQ+ZX+H3QHFreX2XUle5aKrSrOYALTlP3WEFXAqpK+t6SA2cM0sxbm9TJ1hdQxAj6+DgicSVEizROkyRTJ9A5a8118+rEePnWph2efegq9c0rLnnvATKb7mB/dQH/Qg9/bQIk2ElA1Rr6dF6cxehnTxiecR5pgNJ5iPJpjOk3QibsKmyWNkFI0zX7eYA1+XI+dHGa4dfMObt+8rQy7frsPuuPQoq3MUkRVjl7HjJFbpCcYQsu5Si6ALLFYotrQwOBgWW2ycU7AZPYdRUaaA1Vm5rIH49Hxp7aionKWodP8SHpWm4dPWpAqWHpihvjGX3wNf/Zn/48AU56OoY9Kku/6tE0XDt8XQBI0txqAqUHpWvjjNloHiK76tP7hcpNe/blmlbNabdy7G70XwLSREg3s10b3zrCdEne3sbu0+QUtW9pBgTdVMw1vU37PkcAOOJrU7PGK9zi1bnSvDcG/F0r2nipzMYda3/99ANOew7IStyrpZMB0ldTqHOjqe/B+AfMsQH4QBGreR1P043qYDigNGOv3sqbiJZiTlqARUt44sNEbWdqA+p2uuL5qW7ewVWB7ew2/9tXfw86VJ5UG9EHedm+8gzd/+APs3j6QCTvV+jxjqYtZWavHK7g/1DmZWvukOvmYc8xTAn0AP6LuogOQEeMaZZXpBUgrH0kZYPdggtt7h9g7GplzWVWi22fYwgCbG0P0OwHWez6GcYXYyxG16GqUyzeaLJvGbVwCScl9sxBYys6TBQfTSmiwQLastuZs8VDtBTJ55wQCD62cPqCbAivSaZZhns4wneyjysfoelNcWWvh05e7eP6TT2FjnTZ552+85NwD5nR0G/PRXaxvrcOL10THzjgkXHHG0RRdyj4tATKxzIBjxtzhwQTj8RStytcGzFnMjL3HMELYHcCP2zqlUaU3GmW4fv0Gbt68qYGktcFQarJ8PkMnCtBj3A57CqUBphx7zNe/jgkzv9R6117EXEl9VkXIqT6jGXRW6kLlKAo7c/Y7JvqREEhiII601GkqMk4w0Qw3T1aY3/zG1/Cf/vzPBZjcKNgLtSlQM0UmsPJG0GcPc3tjc1FhOrEPq4ZVIHQV5ipgNk/37vP7Ac3xDWlJyS6rzNUK0zYR6zlZpqBijDSDqQavFqv7m03AFPidAJhNAC3vU2EuQLbRI3Tf08cHqDDP6vG9lwrTAWbzMVD0c1KF+fMCzPcLMKvVoXxiFWdXB5Y3RD/NCrNOYdS6dcYf9lrXRhiya6PRhwGmzefWftH1oYRhDc999jN49oUvhZTBcwAAIABJREFUYfCQvrH3e/6z0QHe+MHf4ua1W8gyDzmpTa+FlCkpRarDVivh2nSzogR/A372EFW5cRa83UUQD9BiWhHHTTSK5CnflxTs7uEIe/v7mMzmeji9Xgc7O1vY2FxHr+1rNK0ft9AOSwQVk0hSWb3z7xQFD8lMSXGm9LTxXPZOuR/KYZsFiEzWSbnyMQTaWHng52yomdmz8iTTxvDqDEk2R1nMEAcFtvstDPwZPvVIG89c3sbO1jbCqP1+L5+f+++fa8Dk4hodXEeeTLG+vY1W0MccEWaMx5FZAWXcHGQmzWA5dFlqbyZFQATP8f7YZulkeEeLKXom2mwdaY9efw1Rp6uL4PbtO7h587b6hVHYRqcdaeQkDthn9MzpouIiheY2KdhpMcDWGYxTgFIrGLWh0SXGo+ScpzlWigaYAk7SjEU9z6SUDweaHAam7VRLNnkaFq5nocKohb/8xtfxtf/0H9FtR8gzin5sLoqGBwSKnKfWqkI35gxmDzvb25rN5OcETAvrXWYJumrSAaWjaE8CytVq5d7+1Or1zRw/OxTo1pilcz/peojaXPhE6NnrmXLSAJNyfaNk1W+tD62LviTDv+/j9KN6fgU0V2nN+1GyZnl39kn5tB7hgwLm8jksDwf8XhMw3c+4587X5CzK9P1WmM3D0cPsXqtg71SyDjB5YG0CZdPph8yCErBqpyy7LwMf57BFWzkFwGvciC4ftMe0Q9nm9jpe+OJv4NGnP625xg/6ls4muP7G63jntZ9iOitNMOOzMuQeNDeLu8xcAaT2rUkGgk5RtAyIOLoUdxGGPVGePMSzopvSvUfhCxPMmKuZJTrk9npdbG0MsL21jmG/rZGZ2GebqAW/IkibeTtbMzbmZnPpPISaGxk7rOylWwWpGQCuNT9S9cjgB37NKjYv6dcdSiPCPdHZ9sn5pxbxddo+Bl0f28MAnfIIVzZ8PLIW4uLWNjq9wQf9kn/o93euAbPIE4wPb6gfMNy8gIqxXqWnWC96N9Zxcnpz2R/k/4zN4eZLa7o0KXGwP0GVVxbwLBl3hZQUX+3A4YUxuv0h1jaYhA68/c4ufvbGGwLdYa+PyKPXYwsdzlFFvvUYSQx7pqalcz/TTCwSzAKoCZqiDDWDpkwUAWZKOqR+LCkXC9OHSINI6Un6rU5S8a1y5VymMjTp7yiqlY4/f4FvfPNroonTZCIDhiZgKsaoKGRUQEEQXYGYldkEzNU5TG5EDjCbdKw27JpWubdSqB2PzvAlNcB0VeVyJtN9j/1XAwLbDPU3F5SszbZaTKkpIwmY/OgqrLOcfh4EMG3DPpmS/XkCpr0OSyWxo2Sbj68Jlvz8wwbMs3aoBwHU48yEHXzuB5i6T/oOc1yEB8G6KpONnFgIM713hiKWbsK1xxnIVLoCerZefuwyXvjyV3DhypMfmNin+XpUZYm9W+/iZz94Gfu7IyV/VAHbRSWmyUy5mH4ZqC+w0LtVrBzZP+SeRK/pGAgitII2/LiDIKRXbIm9/QPc3TvCAVky3xSunTjExrCDzbUuNgY9tGNg2Ivl6UqtQEV3ISYm8eBQ8050QuOhkwc37YtssipXM4IXtDGaz+S9zTgwP+ZjYbZnJeEklbhU5iYsQiZjJOlMrzsdiGzGO0IUeljvhVhrl4hbE6yHqarNSxe2MVjbOHe07LkGzGx+iPlsFxCobYJEwzj1MC9aGh9J6hO2+gH1CYisDGkFAiP7/7NpjmSaKkya4gDlVTIFI4wQkDJoKXccvbV1rG9GGM2A1954Bzdu3jbQyzn6EcibdWPYlcGBz9STMkfAPoWAzgwQtL3L5HvpZKPNXQBNgPeQ6GQJJLlFErnxDjsls+9hXrOcxaTwh0pd0q508uHK+8tvfh3f+quvy5Q5SSaIo6iel6qdT0jzFCasaIfRMcB0OZhNwGxWlKt0rNuoV8HSbRpnV5jQYaPe4VYqTQPR44BplJsDbXnJSvJuowVNwFwAByOcVnqY74WSPclc3IDLephnAeYHRckuN+KTK8zma74QPDE8vM4zPQ3Y3m+FedbvnwWY7n0TY1CPh5xEyS4PVbXoqe5hEjBNJV2rp53VYh3jpmB4GoHLmcYAMwhbaHfa+MSzz+KXv/DwMV5nHRb479OjA7z5w5dx7e3ritpqRTGSssBkNtM69MsIVV6/p7JJ9MRm8cBM1ov9yoqAFRhotcK2wqXv7O5rVvzg6EhjYYNOjH47xNawjQtbQ2wOYrTDSsYnTFziSJnEf3X7QsNYPKxr/IN+tTzmcz2ZI1rVijR1UHGsBNR3cDSGfrjAJEkxmkwxmWcYzXmw55wohYUUQwLDfhcbGxsYDrpqTdFVKPZm6AUZ4nKCYVTg4sU1bGzvIIg493l+bucaMJPJLYCTk1EPraCHednCOKPrBVVmTCNxdFxZgyEXj21ypD3nCSO9fEzHc8yniS5gCm8InLyAxLF7BLFSatTexgb8OLQcyv0Do3VHE2RJKmeefifCMOaJrlI8V9wiHcKmfoGAIEz1q/OOXsyO2SQhFXR00+CiSuU5aUHR3JRpSF7lGSoGWcuU3ZIEeDESMGnRV2SJLOW+9Zd/gb/+m29p9oqASSUshQ6KLePioDOIIq9I63qiZFlhsp/ZBExXmTRVsicpYlep2ebGfVJltro02GMyKtZ8QHVbfN0ETDeH1wRMCgxOB0xR0FlypuinOcfp6FgHivcFTIK3KpoHn8NcfU3eCyW7PFgsX0VnXLAKmM7a76MGzLNUts1D12mAefx5LwFTFSbZFY9NleOASUMKWU3KOYj+qEwISlRl+b6H4dYGfumFz+GZ555H+0OkBrNkhptvv4WfvPxjHI0SeHEH8yLDeD4zM7DUQ1Gbc1iUHinXSqNtEvxw/MInaIZioOZpgUmS4+BogtFkLIeyjfUhttf7WO/FAsoLa7EyKOkKVqZz9fF54KY4kG0mhQYoyd0HC1zSrHSckgCIoMhCYl5qNMXz25hShTtL5ZZGk5VEIRIFkhzwGEOmthQ9t4E4ALoMeeh30e+21Z4KmRlcTheAGZQT7OwMceHRS4jeh8n9RwGz5xYwyyJFNr0Fvx2jDPsaDJ6lFSYZqQxP0V1Umc2S+YJOFHUR8PTkY05KYULTgRjpLEWRFeoj8PsUA3HMg72RvKoMOKn+or8s1aWDvv6NtMSt3QPc3d3D+ODAbPSiUAkn/TjCIKLVlAdGrJJ4VfIICVh5Li7FOgRMs50yz9tUdLJ5zKripdFBPRriTswmLKJiNkcUtDTCQlPnv/rW1/Hid/4zNjaHyJK5bPDoIuQAk49Rie8E0QoS/QwEmEMEtXgp4ExqPU6ysOriKd4/rsjkBeuCsx1wPjxg8jdXQfN0wNSYDjeXmpJ1MVcO1J0qmLZgAj/6pIgNPz6W4Uyl1UCqY7yaPUzXGz1pcSqPk4qynyNg8jnQtNuZ1psYyihj97jtejEW42EA0+nT9I7UqmIB20PsUGcB5nF2wt6b5hwmnX6agGnPsWZoSMvSgk3zrE2Te6detreULAZbF0U2R5UnypHceeQiXviNf4BHP/EpMNP1w7wd3r2FH333e7hz61CGKmOC3nxu4xus0HILcAgjrrtQewEFNJxpDMKuFLIUDB1OJ3IhO5xMtU8lWYat7Q1curCJKzvboj57Ea08S/j0mM2mtTWmMWcUNRIQJdiRuQDjkdiuDBHSPSiINGM5Y+D0aIrJJMPtvZEMX44miWhi9lPbvT7anS78IELQ7qHbbWPY7SAOPQQ8iHN+nN60VPTypc0ToJiiw72qNUU5O8DGMMJTn3oCvbUPbpTnw3wP3X2fW8DM0zGS+S7CwRayVtucKApofomnMPLqpDYIeAo+dequliWGzJjiMc9RJjyFcg4KmCcpJuMEU1K0CRMFOJbZFsDwgmYFRvrDUuBbmtkctzzcuLsvMdBsPEXsdzDsDCQGCqsWNvo9xKAFFwNVKQjiaYtKNdIj7K3YELAESgL5EknK0yC7LtZrJS3sKEZm6WkTUl5mgT6ZE45C53NdqH/yf/xvODq4i2Q+wXDA4WA+v3pmkwIgKtyUAmJDqmudniK/+v0BPBovez46va6st7QRMSWFjiuibkjXmIrR9TUXY3GnJHLc7yK2vu5xpxqn+HWijdUKz/1t0tKEVx4sPGaK8oDhhD+cWZPJNsVAZAwSVelif+mQpBO3mdcLop1Bdx0Q3aQRF587RcaxJ1RvzPVox2JRNV6L5ljHScKfRQ/4lBfqmDn9IpqT7ynN548rih3AuWvFgc9poiU2zgRO8lQ2OGTVxp6/u4/mc1JqVv3e83d4M5+l5a152HB//37XAPkV9xppXlIgb5mQZo7RcDFys5QLA32jW3UtstWvfqa9p8q9LH20o7Yi7uQFzZ5/NRdLs3n5An799/5LbF5gMsmHe0umE/z0Rz/Ey9/7EeLuBczKCLf3x0horF7TsdQf0CNWh3YOZnsh4qinYAV4kQDy9t07uHXrhsY1qIRdG/Zw5cq26NjtjXVsrg/QblVI52PkSSKw5I2v6zTNkGa5qFWan8fdnujQiOucM5YlFDxxdHSkj6PJXHsg90rStOxpRp02+oMNzXcGgVX0vA5UpLK6jDx7nSP2P60wcQIgSir9IkErmyAoJthZi/Dkk1tY316Hf45cf84vYCaHyMsR0NlADgIDo5YMCGQ4zLlGmhanZS2DpsLLQ96qZCU3SWZI5xmCKoRX0f6JYyeFqs7pLEOamOmxHDW0kAvNNNKkWBE4jNSJAhxWFQ5mKY4Op5hNSPmQr48Re5Ek7R0mC7SAblDKx5FzUAxVpYBHTkDsFXCzr31TpeSVf6RRJ+y12sZECTgfk/UirLLI0Qv5GDnzaTZ4//5//2PMx4fI0hk63VD5meyGqH/KWbUaMGUIkBFwO9joD9EbDmrjdSYhtMEqkzeGxqrarOcvpaFrioBcr+ghAJP3T4sH3k4U1XDjy4tF8bfaK+XX7C8fA0xaFkooZVT2AjDVt6V/p1Wt6gnLWo/AYxtms7fpqsZFhfQRA6Y7mKxu7auguRA71aCyKtJyv++AjfPEqk51ndRKagYa86ppVJeOSfDZ+qo3yiZgLnuQVpW6+z9rTvNewDRBGv+/BzCd2Kdx/2RsKiX4VCh981d2ZuFVxZShHubTGfrMl+Qhs5wjCAo8+uwz+NxXvor++vaHi5Z6TUvcunYV3/mrb2M0DTCehTiYFNg/mom14pomYDpmh9ce/a7bcV/5l2wP0eby9s0buLt7C35Q4cqVSwLL7fUhNoc9dDttzYUXPOgXmdpE1G2QITKKl4rbFvyoI20GbUD53nS6XYkh9w+PcPfuXRyORhJAuiSgbm8AzlzKPpMJKd0OQvZTa+vMNoPWCYY86JCWDWl8YnPttNQjjczRLcmKWCjkUwTFTNFiT17u4cqj24jqveZDfyM+gD9wLgFTEVDZPlp+itwfKmncZvUskYBz+gQ7FlGzOTPh6IQXSVGX5ewBzDGeTnRqC72ubPL4u2ymT+e5KAm6ABW5KTOlrmVCSR1qaxFc3O0DTGh3xTGUwkPC351lyBOCio+A84JUpAbk9m0Oqh2y52jxXVzAbVZIUnkSv8xxg49dG77yFhtGB5R8M6qrTuTg6xAqpNVMEvJ0hn/3x//WKJCKVK2nBASzW3NUl8VJURHcyktEsIzM4dBM2IPIwms9xh4RGINaIVtb4y1GP2oAZZ7gKuCdJQRpXrduA27ehwMuhXOTWlTe6DKBwt2/VYeMRzJ1pFWYBEwbRdDGXdBmLEFZA6arMDlewPulbJ/g0AQS+3xZ1RuarhKS1reUetcpM1eA3x0s3H2/nwrzowRMHVRqoHQHnGaF2XxeTVqYn59lnOAAk9ey6603AdOdwxaATBq2AZjsmxEwFR7Nc5KrMPX+sY8XIU8Z48WDcYpWPkWnG+C5L/4anv2Vz6HT//kEGk9Gh3jpb76DH//wKg5nnPvuYPdwjpyuOPVsNFsipiOINbYWx10k8wzT6RSHh4eYT8eIQmDnwiYuXdzCkH7Q7Qjrw6FmTW/fvKVqmmI+vvaTycRmOrm/UFVPa712R3aabg+YTEZ6Peep2WvyAEmGqd3ti12jUQLZpg6/jmmYIHfqhV9z6IcyA+H8uSn2eQCzlhLbJSxe2PawyDBWmTMExRyDsMATF9p49umL6PTOj03e+QTMMgXyfbSCErnXRYG49uQ0JxhKowlA3MunqZ2W6ViRVla9TZM5JrOpTm9VScMBBkpTWWsV6Swx2zxWYfQuNcCkCtVS0UlLasPwqRwLRG3QTDhLK4xnc8wJmvzdVgvz2UynR4XDRr5oC0qt9TUqDAh6tfuPEx3ZhmC0px0C3Il96ZNqwJnKiF02fFmC2XSEf/tv/lCpBxxxoZI25gqrLcWMWjU3HwIm/XGrrMSw21MkGBdKHFvSO5+bA0yd9OuepsJ59UKYlF2Vbr2ZngQMZx7qWMWvAI2AsOkB6kxwVizQtFGLMzYhlzZons7dnGZpm7D6u8oDXVKy7AUTMDl6pGDcxt9zgOlA936AiWppbn4/QDztUPGglOzDAqYDLFedG8gvPVYJgPerMBd0bgMwdV3UX59Gybrq9P4VptHi2oSZE8mZ5br1QeCwx2zvxmmAyQQh9nR5kCs4OlEHHVuWkAe/CpQA1A1DVNkcXjHBYL2LF77yVTzx7HMfmNn6Wdc5VaQ3372G/++bL2L/kNDRw+tv30Lix4ro43NnwHsUxXW8nq1TihBzBkcnc/UIKZZ55NIOBoOOHMAo2EvTHHfu3MH169cxHk3VO+Qa1ogcqwe+fnLoMTMImV7XZieHR7saAeH6pzsQR+i4D5C2tdG6lgAzinv6nI5kFmRN4aD5z+r+6XBWj3XxPci4nyrgnu8J48KshRSW9GFL0PVLPLkV4vlnL2K4PriHYTrr9fyo/v1cAmaZz+AVe2pYFwEBk4HQpla0eSLGyxjNSQ49qanZWcY3usCcb3qeafQkz2k2bBw+D3rWQyyRzFPRu6wy3UCuVZYEMZ6mjKrk5myUZaDKkLw/+wWa6yyBo8lYvT/y9F7o1+YAJj7qeCUuBEC7TmnlwlawdK1ilUePs0KjZ2Y9Y8gNTwPGRYacw8gyRigxnYzwh//yf0IY+Opfko7l5zK0posegY/GzUQOAjL7VfMUHcrSBxb31a57Gm6DdZSs73L66mBeN2Jykor0QStMhahQSEDIrzMM3YYusKJAysINl5sm+9FN55369Xe/x/uUU5GCSmj+wMPP3AK0eX8ETfrqsh/mURxmlO/y77rKsT4YnFJZLhZsDZjHHlNjNTcB46OoMJtjQc1NxoHmgwKmo2TvrTBr8+3FWMh7o2TZIuA7rQMgKxWOO7XbAo9jr1fDSL1ZYUYt5pHymeUoPG7OrjdNey9eB9wRWugQQJIx/GqKzZ11fO6r/wiXP/FJBB+wHd79NnJWmT/+wav4yWu3sbdX4s6owK1JhsQ5/Wj+1Gw2Je5i5TebKFlofdBXpmWvE8jDmuEJfI3opnf1nXfx9tvvYO/gCPN5osN6FFk4fJoxxShEGNVmH2wDeUBEQWIUYNBvo9vviGGyA3NHdCy1IDRH6A4GAlqOmMzTVG5CrEQZhq0gw8rul9Q4xVQ8rLOhzFYJzWOSwgxZpFZuFYjKRF62Hb/C4+sevvDsBWxtr4H7y3m4nUvALNIxvGIfrbCF0u9RK7pUKlbm0iPJdG15Ton2jGMkEtPY4qSTf1py7ii2cFf2P9X7JOhlmM8zne44OsITHIGMN6OiaOlGc/QWaO5E4FE/rLIqlmMo3IjZN2AodZ2QKV6/5dnMEys9ioEud4BufX8CiZyK3Xq4WHQnacnMcjJrGpSnaT4emhuzP8ITNiXcNHz+H//FP5eMfGPQ17wZfW2t8qqp1dB6Qw4wsxn9bgP0u10M1tbQ7lh/wpSK/kL0I9pT8T21yKL+d+fEcxIYnLUAHGCuAqzDKApQ+BgcmErIWvfbFgDFmlKHAgNI3tjDVEVGYKR7UjJXBS4DB9ebs3gGuaTcDzCbaSL2fI6PkJCBcLeTXoPTXhf3/Q+7wnTjQadVmI4SP62H6X6vSckerzCPR7K9V0qWBIE7ABIg+HgdYDbFV7zu3NdNwKReoKgV53mLhx8lgkvtqc4ZzT9aTAUBuG+0/RxbFzfwwm//F3jk8ad+rjFTPLzduX0br/34Kn76s128dXOCmzMe+rmLmCqenrg2XtJClecaGRt0Y/S6keYZ1/oRht22+pTsa/7sjat46+q7uHN3TwYD7H3y4B53+tjY3BbotulI1ukgkCNZJYZrwLGPToS19b4EjAxC13gOD/Y+xToeEvX5IzN+SQpM0jlms0TqXKXucQSlNMDkwTwOaCVqfrMCTP5fcDyOTB3bUDkiL0ObacVeicudEl/45CYuXdqUofx5uJ1LwKRhgZfvwY99FOEAOWmXetejkbDAkspSSko0GmLVo/M6VHwNe1tU0tEwQHE2VNjSpJ2UbI7ZNNVoiS6QhCIgxkgt0+G50cWtCu0qN79YVm0e08+twT7PM2QV/SAp5+YwMr9vyeV6XJocK7ATQTJwJq7L95XJIzkl4ak2e4IxQZTiF24aApDSaJGEP0P3n9DD5UsXJEr6b//gDzA62pPMm5J8B5gcQzAANNs7VeN0FKnHLhiUPVxfQ7drfQr+r5GS+m/yBNgETBNkLEVJDwWYOiE0eoN15eh6ivwniQtEs/GL49Wlo/Mc6Og1YqaCKCC2cc1ChYBplLqZSJhgisHhHmYSOBi17G76/KzKsv7hkwDzLJDkr54XwHSvrUvbcRXpsod5MmA+qOiHDAY3dceqhKEDzDpIuVYCLyjZOu/U7r+Ftt8Ge93s6+ctmpWbVR5nC5uASbfUIh2h3ymx88gOPvsb/xAXHyVgfrgjJasgMJtOcPXNd3D1zX386Kd3cSfxUUQDPRce6FkRk45m9ciZ0bV+B6hIY+ZY68W4tLOGduDhxjtX8fobb+LNq+9ilhZo+REGw010ButoUQXb7iPudBc2mN1OpDYQA+jbQQvdToxum8wcJwBq/2r5p0dS61KlSxP20STRXpYknLtkm6rO8qUIUbPj3Be4z3gCS4p+uP9yRI6czoxLkId1FhfUcfhsoKUIqgxb/hyfe2qIy5e30Ol98NaEHwYAn0vATGf7aGV78KIIiIfI6NFYh8LyTRRnTsacx1d5wtaFgfNqlJOOASRDUknNMs0ko9mBqssck+lcpyqNm8wJnlZhuj2emzKvjV6Voe2XCOioQsedFitMgnGu/phcMsoWkpQjIxaZU5ACZu+zVaDbStGNPF3AFOiQWpXajRs8c+oI9hSt8AHWVnSs6kgTz5MpKvYp4xDPPPUkBoMefv+f/BPcuX1d5uukRyiAEYVMzT3nUOsepuv5MbSalRlP9evr6wJMbk4ERJ10P0TAFHDUzizaEOv3R7OR3BBdf8ttgo0RAwc4BFIdBGqamr0UVcfyxcyY04skmaGqGQJXYSoGzAswr//OaYC5/P5J5gR2nTUB8L1+/vOoMFfp4ma/9qwK88MFzFLsQBMwSRW6MHM3PuVeU3vcTdHPCmByyEXMAS8c64F6zL0ls1BRjHeE9UEgwPzMr39VgPlRJGYc7e/jzdffxY9euYndLEYR97QPcZSDHym+Y5ACFRIcgyEV2+/QYo6GBDGK+RSvv/oT/OjVVxB3huhubGFtfQvt3hrCzgBhm6wbDQioEocO0pqRpKWmlPm5IgI5Gcd/s/eYFpOUYNnsOVk2OvrQ8J19S34tRTpFPlLa1/7XVaTBEu6FVMmqd1r3MBmvOOXYjG9ipm7cQo+SAyqVixl6GOOXr/Tw+OO0yVv/MPDtA7/PcwmY88ld+NUIYaeLpGKOZVsbV14Vcu+hB6MMusO2elYsNETWeZzPMrCkCRD354P9RL1KCnbyvB7pIJgmOfLc0gMODo7E3TtzclIeBLJO6KPvcxiXPq50z2D1YgGx6s1QoSbFLj/6EhWlGRv5TASwHkWnww3fLjadANmzpIKTYdJlJhs8Uq08gbNvqqquKDCdJZjNJihpptzK8Y9+93dkjvBf/+N/jBvXrwqA1aeoewNONOLRBisINS7Dh8jKi9UqQYd9zAGp3NqAnRe5QIe92kWAtFW56hMG5pjEOdIFddfoZelwUY8mNClBfl8zeprDXALRAjDry1wULE/argh1FWij3+nm9HjC1cZaj91QAcyxkmw6FzNAAJVYa2Fba7FQaQOom5XlElRWx16Ox0g9KGCeVXWeZgrgNFaniX64xbnX01V1TUA8y0uWgKkqXs4vVu2xsrDxJQpRrLd0WoXpFKpNIVHz8/v1s9UqCAMUZFUagh/18OrCb/lcjnvo2ooOEHCG2rJ4UPrWw7RxIXvcoRdJKc0KrcgOsdYLcPnxK3juS7+NnctPfiRikyxNcPfmHXz/e6/i3cMSsyIWwOWkLzM7OPJyZqfBxxzrgwg9AmY3QlDmuH71Kg739rGxuYVpVSIjWxV1EHcGak/RtMVnOESvq71NokMSYC2O0ZlbmF41WgYykkvcC9mvCkk91qYxNpimQwkpcAI5jqaZ0QHpX6BtIe8FK1VT4vNaSqgHYTwYD5R+oL2ThWuXGb/lHNV8BD/Zwycvxnj22SsYrq9rz/5Fv51LwJyNbsPHRC4TZbiut5+bH09GfMM5Z8nxEIp7pM2i47/HYVq6aFhqCcVjXMwUnSjhvAZMjXU4AFWmJXAwoklCKjUsNxAO8/ImakNhrGa/pdapKA5St86YnEkEPEW3JCBKU0+VLKnflNVQ7MELeeH6OqXpmVQZWuy/1ZZ2BDRLGTFakqbN7K3O5mMEIYUtKX7nd34bvW4b//S/+a9w9a03EAW+0lSkNlQEmIKxTNXGypPem+xHsu+azgXMMkzmnBVFAvX/bhE0AdP1N3na5GJRkPNKgLTbxJ2ZwGkrzsigAAAgAElEQVRVDlWt7iba1SkinRCHPdgVwHRD9vxZ0a/1Xeh58sCR0/KQKfLsvSR6/vwRbdB/BwDTvfb8eNZYx2Kshwe++jVygMn3zv3+yYDJw9JScXlM2VxT3PcDTAFxYAdA52/srrsHA0w6y9BH63TAVLlTFhi0A7QqGhgAW6wwv2QV5kd1m45HuPbmVfzkZ9dxez9BUVkublFa1JbtJwXCIMeF7QE6foYyT9CaJ5gcHiCfZej0e0ik4IktwWSeIS3oGNRF1G6j5fvodHoahxP40mKzZBgEnb9IiLFPygM7DygmnuL8Oq33yLTRAi/iKAlNJFh8cP9kCpSSSnix8CDds2kCAaYJ7vjHSgqHWszFrI1j2OdkaDUhtJjBy+bwi0M8cynCk49tYX1zC+E58JU9f4DJaJzRLQR+jlbYBaKhglQpEOGxlH3D8XSOu/tH2B+NLDaLEngZCpvTPgGH8TlqVqvMIuho5kCVqkY5CkrdKzn/HNGKKknhBVSY2iAw+2zsb8f0ifXqwWOPpzZGVpVSqBJYQl2anihR9lcZvkFwzrIcSVUh9W1+jBs/zdQNMDkIXKrHKCVsWkjVqxlTGrSnOaZTNuBHICudzEb4B//gN3Hl8gX8i//un+GVH/9Ii4SG8DH7FLKEs/6rEh04XtJicx8yYiBgkpYlFdTptheD49y8aO2nfqabw6xz9JwyWMGz9fD7PeKdRrBzswJdAKQ21eN2e7qPRq9SrjMrILr8OzSgFxRapaD5VPruLgGTphNLwGSFuVTBcoMgzWTmcsvREvt8+T37e3UF6+YcGu4+Z1aPp5g6HPu9U3buB6kwV0dimhXegwLmquhHoeQfAWCSinSiF3sflhW0vURN83kHmPW4EIVBKxVmHLQxn07Qixj4PsbawMcjj1/GZ774VWw98vhHhZf6u/t3buLtN9/C669fw9G4RBQNlY/LOXC+H51OKMDc2uoB2QSHu3fYHwKVwWErQNBmydZBGYYYHU1w++5dAedwfROdbk+FwNbWjuXzSjZO8SCpLcsHFTtSmEiHoGm9RxM+stig/oIg6QCT/U0LPGD1yUKAhWUAn/95lSwIeb3xjEKhZcLRkjrD02ai52ZcUM4RVZnSSx7bDnBlp4dHLl9Bu/uL38c8d4BpHrJ3NdNIF3+6/MzF3fnwSd8BmBQl7h6MBJgHhxOMpuz30XiYIyAcyKdkweac5M1azxOJigRPWp4iv0ilTsYzTKapvB+pHFOclIQiLfjk7EnzeZXoVJoR6MJplYhJgxBsSAvpNEcKlEYExEOqXE1FO6XHJWcpFUFkEV7a4Gsqkx63qoDZ+zRzHgHmZJaph+m36DK0i89//lfxS5/+FP7Nv/6X+MH3X1Ri9qDXkULO4sHsxkVCKpWPh9VjFIbWM63pt3YcqYdE8BSNwp+tKVnb4K1EM2EQ+xU2yuMqw+NgaPl6q2C56D/Wwo3mv5PK1vtSgwwBc3GfDeB0FQ9pJc3GOo9R0ntlJoWhALQeCl9Eq+nwYuBogGmV1WmAudxRPxwqdvm+nLx389Ck1/a4A93ihx0l23z8zX5sc6zlpL/gKkz1jRtOP6wiRJvXVPfpFaY9sNMo2ebfXD1QiZGpWwxupISA6QLM3Xt6/L1ZBUxWZFz/hTn96OKkloCjU54o2WQ2xbATosonWB/4uPDYI3juC1/B9kcMmEWW4s6Na3jlBz/AzesH8PwhMnSQZszJZaJKgOFaDFQzzI72MD3aR1ACvaiLQdRXyH0aezhKEhwcHAg0aVk3HK7LwYe3tbU1ASZbF7LoKHK1KoyE5egNWSLLDlbUHRkoOvmw4vQCtPsDTLnfTFMcTclqpUjrvclrUXEfIQ7bihPkXkOmjJMCs6TEtKhwY29fe4RYhHwGP5tJKdsPKnSDDM9e6eORrTaeeeYZ9IfDDyVm7eSV9XDfPXeAWWQzFMmuPBA5EsITGasElUv0L2RfiqCZlJgkCd6g5Hr/AHv7R6o223HPEsyZLyd1pMVlUVat4GRG2hAUGeJMhWvGKJ4M48lcNEWq+UoiLNVh1icR5cGZxxosI4++sS0LkC7pxmOB0prZrIOceXUSDObMqKNYgUhKnpjUhgCO7svmJStrKz6WHJjTB3eeYzxNlT9Hu7f93dt49lPP4IXnP4P/6z/8e/zw5e8rIaVHejWyIXO3iWoDpPjHAaZPNeKyh9SJI3S7XXRizsIFAv1mD9Od+DWXJ39e2ckf6wU1K55VwFylbs0cwnqgDijdR1HmrP4bPUtDa3OekZ8uT6511aHHRp9YVuP6vJ7tk5+uew1cr/M0wFyZw1w5DDRdfZqHhFXKeQGEzZnREywAPwjAbALkKvA/CGDyd5qASTMCvqqOldBLXlfhx1WypGRJ3yzdqFbB8yTAPFZZEzB5wKnB2RSidpg7DsKrPUx7VLS2NKE1mZp7AZOiHwLTWjeSgGZjGGD7yiV88oUvf+SAyUc9Gx/g6muv4K2fvom9XbqS9eBHA7SoH/ByPPrYRVy/9jMc7t9G1/cV/N72O+gHA4SdDm5NRnj37i1MRmN0Om0Me2ZxSdW9Mm4jU7ezj9kUTMmAhIxbEUqrIdaMM6ucS2VYtM/REB9H07nEP+NJgrGKhlpJG7URUlEbxtpHKVYsqN6fJxgnM0zmBWZ0Ehuu2Tgd99gq1ThJN6yw3vExDHNcWgMurbXx1JOPYW1j7ec65vMwkHnuADNLxkB+iCCOkRYhorCjyk/bJi3q6I5B0CQlUAHXb+/ixp27uHV7H5MZDYljGzshHpWkQdjjY6+H1VQoO6qA4al1PhzHSkhRTGdMOE8xo7GAk90yLaO0uUpZ3UlqYBQt1WA0e/aRCUipUqMijTy+AbW5k8iYADZnyQ3eepcWv6UqiJQyXYoYuZNWmCY5xpNMJ755xmw/4O7uTezsbOOF538J3/ja/4vXX3sFETP/apk36Re3qTrAouiHZwyOxHAzdLNtVOpyoREwNTpTV5hhbVywqDAXhxRSOccVpE3xSRMwm5WjoznpsOSA51ileQKNyR91JgfOaYZN5gq5bJ34Oup5KCiYTWoem+v+7UMCpgutXoBjQ9XbBMzTPj+Lrl28L6es3rMqzELVwum3s3qIrDBdta22Rg2eTbvA9wOYq9fdPYcMz0w41F/26XRTO00tDkGugj0JMKl+bQIm+90KvF1UmBFZqDRBm+sOCbY2YjzyxGN4+vkvYvPiow+zZ36gv8N94ODODfzkpRdx6/o+ZllXVp9Bt4Nuv4vuMMKbb/wYk/EhttaGWGsPwAnuCG2UXoh3j/Zw8+5tzW7vbG9ird+T3oHreIPKUybb1DPTGk2uD0O8Lph1WZYRipJe2qY0Yv+UVn2jWSIDFqYx0SWNh3Xuq3Q0Y9QhI71MgMi0lRTpnNXnxFzReF9hGxXBN+rZAZ2H7wAKi+jHLQwiH4Mww6euDLDdbuHS1obmY3/R+5jnDjDT+RFa1RhB1EGS0Z+1i4IUJ6sJlv4s9+jPSJcJxudULYl29g+mOimlCTCdzqQypSEBqUeZAKQEqhKBT3Up+3htCYWUJoBAFw0ruyltoQoTBpE6yUqmeviKtVHEakmALOTiE/nsRVIUxPulOTGpW150rMgs7osnLtGwzgCBPTi6aDg7PKrnygA557SyFiZzA2825ilw4gZx5+4tAeRzn3oG//mvvoV333kL3Q6VsIV5yWrzWW44bs6SiybyLH3e5WRy/osmBu0orme4zOiA1K1R2I2EDJ4cmQi/om5rAqZLemlWj81Nkz0R18fk991830kVmwC1HpG0eK8SZUrzBtKvPGAYYLYobhDBZK+jEltIQgmclxUk17XGkKxsvXcWUxWhk2suKdmzQPC9/PtZgNkE/JN26iYle9K/PyhgaiNtAKbZpzWYiYesMJuAuXow0v3X3rB67+tRJlPmLu0gm49j8TmBsTqhwtRCWgKmT1VAwdADoBNVWB8G2FGF+aVfCMDk88mSKW6+9QZe/9Fr2N1NlWYS9nqyjJvMj3D7zjVd0+uDITqtGO2gD68McchUEdKfWap1POj31P6p+HXoY21olnNae5pnphKWc5RQn9ECotvGpNG4hf+XFUazGfaOJor0YvwWAXSSZDL5YPHA/U++16w2FWJEgxT2MM2lqcv0o80ttAfryOo0Juk56sQmUrJRmaLNjMziEJe6ER7ZXMPlx7YRd36xfWXPHWAm032E/hxe2NOIBo1+5cTDPZP9L/q6hqHm60ifBhFrPOvP8BrhON5kWkk0Q7UrN83D0QR37+5if2+kmUuqvximykibQX9NqjOexnih0NSAPUTl0SWkSnnFmLDGKzP1DoNWhrbHHiYrxgS+byBKo3Sp1TxWoVTEFuiG7KaSFmbQNNktq4oUGq0N3lS+lIuTUuY4KF2L6IPLC5x9hdu7t5HliWiNb3/7r3Hr5rsY9tuid1llsnLVxsVeqfNjZQ+y1TJ3Dm5QFEMpOJv2W21EzP8sS/Q7pK9ZHRtgEqgIvtqI6VrEk2TdL5Ibi4wZLFuUH6k6lhqXAgMKdGlbyNO+HJnIolsqirvdE2flKE0+fHHLbHzZ8yANRMN5AiXnMM1GkAccfrQDgirN+iZ/Xs3pKsdKHx8EME2atBxvOQkQV7+3Gnt2Gog+KGC65+AODO4jn9/9QPEswNRBwrEZDcC0CsReJwd0rqp3EV86iMgC6HRK1qmkV8HSPa5VwHQpJc3Dzv0Ak7I6B7ykh5cVJvtztj9wPXGcYtgLJPrZuXIZz77wJWzsPHLSGeMj+R77k6+89F288dN3AX+IsL+mIuBgcoC8mKPTIVCGTHrAIB7AK0Jcv30X6PUR97vocWYjT5DOJtqH2FqRSp4xXPRaRqC5cO4Z3A/5tpatGFnl1y2emc2gM4AiSXE0mWM8T6SUpfEKiZpWGKLdGUid224zDzNA2GbP2ZgoaUC4jzFPt9OD3+lgyn1FNn9sNeXwihRVOkU5HaE1PcAQUzy+3sdTlzfx9NMXLWv4F/h27gBzPtlFK5/ADzoIelsc7cWNu3s4Gk3N1zAIwEiabr/NNqNmHLWgGqZmEqGzZQgg8YH9o1SBqeNRius37uL6zV0AMdY3aC3lybm/3xmob8mw6fF4gtmUs5GkSkkFNgy46wqM1aa8Z2WQznMWOwIEzhRBqxKAUqLkFbmqT6pVaS9lsiJrzpM3ZpQOKQ0WSkxTEcgraLrSxXzz7r4q6hu3b8gT8saNd/HT11/D2qCDLiN8aIos0RE3DwMJUXA0FKNtFg8YpGwk7jCvXDsNBhI1MflAJ38OH5NSlrWfVWms6OkwYq5K9f3bLqtnz488zNhoSmA2e6SCmYDSCPzl31ztbTqhEhehYopoRagRBANG0UG0BswnmkN1ALXY/AWay3edn5N2kpWsDOP5GnDjWFaW+t0V1x8CvaOCbXxmxaigVtM2K2L1a1Z6lwvAqMU79vM8YFgF3ASF1Z7kEvBtdlU93dJ6sGcCYoPaXt2HnF/pafuTnJaOPV77ycVzrU39m8rVJrugn3UjP/Ub1KTd+e+aL25YMTrv29XXZJGS03iwsu135ve8BjyyTHKFl20b7fHYziBodJjAU05x+cIQg401/NIXfhPr2xd/Ybbmssixe+MqfvDid3FwlKEzvIBJWlo/MJlrDa4Nhui3Oyh5WB/PNeu4/sjjArg0mYipYhpSxMBs9oWLDBsbG2KipIHT+EgsY3RGGI7nOQ7GmeY2OWd+OJlIr0FhIWfYWXy0abG3vYNLj1zBYG2g/ZRFB/ueFIZlKLQ+pwcHKNIMg15foHcwHePa7l3MWqU+H83Hom6L6RytZI6tXh9XNobYijxc6Af47DPbeO7pHWxtso/5izuPef4Ac3xH8vAyD+F1NnB3OsM7t25jdMQBdc4JMdy5LeEKbZo2NvuIaFocx4jjltwtNIjAliFnEH0O2Bqacn+9cxd49fV38PY7NzCeZjIwZi4d+3ptRuNwEZICTlJ5z47HU81Z8uIRd18bidvGQqEm554MLNlDIXCyAiVossJkHqGcvAg5GiS2RJSwVqTyHkVR8ZSneTUzdacYiX61B5NEHo/Xb9zAYH2Ag9EBXnv1FXQiNuML9AIGeHGjdbZ+pWLOVI2x1cCeRA2YrmpzAMmPpHTd16xEKQJym56UiF4sqblutW+t2/ylQq3Dt/U7tQJ2Qc8SnBsb8jHQrCtE/m0DTEi16/pdfK2omC6LkWZfj1Gtskpz3qN1TFdNuTaFJHycRcOa7yTAdM9t8dhq+nkBVCuA6UzK3b874DwLMJsgeT/AbAJrE7xO2/nPAtRFwu8DQMdJNLkLKV6EBKwoZh8UMPk+O7tF+zvHDxH3A0wBO6V/TcBUwHggn2gFHcSxDtpXLqxhY3sTz33+yxhu7jzAs/75/ch8eoQbb7+Bm9dvYvcwxf6kUH4lqVCumXYnkkx+ejRCOh6r8hsXHsJOH72YKvwCfjFXUtHGsCvwImtkqSMES/Y9ma1ZYvdwhINRiqQMMU5ogTfDPMvghx0Mt7awtXMJvbVNmRQw4ouHZx3aOevJPqXGyUrtN3JSKoFOEGFjOJC13vX9u3jr5ju4tn8Ho3ymmXNVn0WFoCyx3R3g0voaLq8P0Q9SfOKRGJ99egeXL24hUBvpF/N27gBzOrqNdHKA+awE4g3szzO8ce0GDg/n8AIb4CUnr1w5ypxD8uoBBp22ZgxZUbXptSiFF2NobAiXHH8rBOYZcOtuhqvv3sKd3UOZILDK0KLrdDQIzIuXjXVVT5kJiKicZWC11ZV1v4sAQiqCYp4WbdposUDHHtK2rPwKRDQ5YDoJqUNF4FTylI0FZOxvpBIjUZTEPhMjewjO/NtJaknqh9Mx7ty9i+HGEEeTI7z04nfRa3c0D7rOx6uZTif8oZqwdgKQ1NxGBxZ9TZK/8oa0DUx2fXXFydeAoCmAZc9LpgGmKuYmtzBJd9ReDVoObFihNRWw2vDLZXWpn1vZKAnQNJl2/a2FopJOJKwwy2kNmP9/e1faG9d1np+73zsbhyNqtSzbkiV4SWOpbptuaJAC/UdBf0OLokWQL4X7uUCC/gB/LPIHWnRx0jiA7VgbLVKc4cyducvcrXjec86dS4oyCcmJqSADCGPSw+HM8J7znPd9n0UtMAOIPFR0gYfVZZe9a0gt1MYeAavjvrKditK0oY8A1SmAKereTpVn2KbtgUr+LicTWrpbxvMA9VRAPGXfMaSis2xPJ7ai9d9rM3PcyExUObo5qB2vLvm1MSwwxJQNMewlAVNXmBI7YFnohSHsKsHlyQCXrl3Bux/+KQZbk7O87d/aY/g3jmf7ePTFF9h9MsOqIBeDzHjVLWHxnC2px3yqHKxsH3FpoTcYYtAPhI3vMA3Ep0l7X3JueWBlgtIqJfeC4x3KcFzZI7PSQW/7NdQcP3EEo3XsyVo7iVEhkGRq39HryaQ0Ma+TfAzXqRF5Lnq+J3vOKKItX4MHe4/w+eOHsAYh1hadzxzRhAeNDb+xMA56mPQj+Bxh1UtcGBR4/+YObly/LHv3eb29coBJlx8bOcrCQ+OPsKxc/PzTX2Pv6Qyu15cLgYbBrB4t10aSLoVSTZd+apF818dwuIWd7R2MBgQTGpgz74D9Ww+2H4nRwTzJsIhTfLW3hzxfo+Ag3fdF28h7EnPKnJVjIG1CxoaJuToH6mzzqWm42izJVFNiFan6OCCXUxlq+FUOq6KLh5JEKLhlpcmZpoUiz9sqkGHSiu7PFACVoLLMUqzSJdI8w3A8wjxe4Gc/+3eMt4Zy8UY0HBD2LTdmEbCoPpsxBzDeq9qYQHSNBEgNmnQM4tcEUJlR6EqgC5h8n2rGx5mWyickEPKerVj5PmePepbJGaZda5CV0GdjrWcsBAzYKSN1VphCPApY3SsGMYGnLDLRqCl3pQ0gihRFA6QBGmEBdgBVtaaV+NrcTIV5BKi+AcDsAuzR7NCTW7LHq8iTgPM4meY3XWGeVF3yd/J6Ua/lOW3lthVrjDOOWg0KEGg/YNOO/SYqTDX7d2ETIOoaQ+oS6wQ7WxGu3biOd/7we+iPts/dvlzkKfYeP8TB3hS128eTaYxFkoh3NA8XaxIWFzHqvIDthrCDvgBd4ELM1PsEJYa/s+NFm8OiEL4DLe5qy4MbUI7Sh+tFKO0QSekiTmvMl0sskpWw8CWtiTahVYVL115TAes6vIHrv11r1Ro74wiBRdmcJ3PUfhDJ4/dnU+we7qFwG9TkQESB8CFC24UPG33HQZ9FDfdkK0NgHeLWayO8cf0qgvD8Jpe8UoDJDT9b7iEKPNSVi8bbQuEC//HJLh4+2odlsz/vKId9mgXXFQpKDOgpWjB1JJeNnAPr7dEFjBlxEzZiKRf2B3D9UPr83Gw58F4mKWazmSSX08pKaRtDMNmDuksCmNWw7WNjTcCk/IO5mjzd0i1IBPg0WldVhoC2QzCkwxDJPjWCiv6OShbBSlT6wpxfSgI2g6FJxFEAIoxdgoUOSy6aNZJkgenhVNqrl65eEiD8+OOPJb6HLZKAYKYBsxYmsQriEF96nvAL5SNrxOLGr5YXsrLr03l3Or3EAKapFuS1SEuMjiHc/DRwCrmGzkeuaPXE6Uj6rxo4NfmGb1lawUes9TabL+ebNGhg63jTklX/vywIlnQt2RB7DFAaD9tnK8ujlWYXMAWojktkviHANDuzqTAVKGwA87SW7ItWmKdWoFp2cxbk+LoK87lVcuu40CGcnaBNNe3YjW60a1CgNLfHb2aG+WxLVpuJi1mIL6AxHg5lhrk1cPHmnTu4/d0P0RtsneVt/1Yfw1nmfLqHxcEMQX+C+7v72JvOMJ0vxPCEoe9lvhYCBrXjFXXUAlguemGAfuTBdWi/qVqny3iFxmGnLQTcSPbHVVYIZ2OxKgSUF0khJi/MznSCHra2JxhuTxD2ekiyrGVPizzEVl0ByQjOEwy8RlKb+kGIUa8nh3TGhXHuOk9jTJM5HBrq9yNh35NXEVoOIsuVQznJTJ5XwK0OcW0S4MbrVxCE9Kg9n7dXCjDJtFotnkg+XEa2jr+FtWfjv36+i/v391BbPiyHFwVb/Ww50FKOsgOl9ZKEj4zxWaziaPtWo+8zS9KXpHEKgZk0zh48Uz1o/C0/k6yQxguhf7OFGngqAUExLskgI9WahsM11jQZqCk3UaBJpq6kwemKjibt0st3LXhNgwHddkhi4aCeRBlWu/TApb6Q+jSdmC6JDkUh7NOWdNPQgWiK3b2Hwly79fYdjC9M8G8/+akYJFTZGuNeDzbLbbb9yL7l7E9XmWIHScDW1aPMkUy0F+eqrDrJr9PVrrRFae7QGrEfa6dq0Oua0vCxxgt2M/vUekrRfyoZgALMo3Y2wsZtGqkwhXTkqxmmAUMDmJTPmFsXMA3R52gr9qhcgoeeI7fjEpmXBEzJSu0SZYSTYsxxj1aYxytLU309Dyzl8KQJWC+8vZwBME8CyvY9te3kYy1U/YJ4tZmK0fz9u59HV260IfzwEWcDTGOy3s4wWzcoHe/n+LKGd8ZjWHWCYc/G2++9j7e/cw9hf/jCH9tv8geTxRSLg304/gBfPt7H7v4BDqaHslbIeWjIPOc+YLEr5oqJC1mxNDzhCEdF2XFZMX+XpDwe2n05zK+yWuQo7J4lKUOiK+mqeUGEsN+DH0VC9uGaJNdBAu3JnZDRDQlUalQkz8+9g/IQG0JG2uorORoPgux4JUUKJ3Alt5jdIZKvCOyB5cAji56pKOUanl/Dq+e4uh3i5luvC1Cf19urBZjVGkm8j8F4iDK30XgDzEvgF7/6Cl8+3BfJBUETDk9TdLGgJ+JaJYew4uPQOq8llTxLS6lQHCtDUysHCz6OgEnC0Hg8wWDAYTrp2oVomyjiJC3aI2iKA46FJM8kA1OIOCWZq5yD8t5SuZg5NYG2ElJrSzmpqFixkdxT5GDHngAqRuLi8EOA5+yTxBaShdTFVUlcz2Zjqmpe9FPk5RK37twWwCTI/+gf/0kAyG0sDKgn5QyTG5cwK9UMlM1ZwxaVdqfMSZUTEV+fYcNKToHorJTjDyvOLrCyNdudTR2fZfJ9SkVr5CzSolYVJT8XSX5pW7IGSDZm6eqgYwCT6SmVsvYSGQyNKEiSZ0uWHsBaeC9aM/WZmc9LKTE3M872sRowDSgYX1yzYF+W9GMA04DEy7RkTwLO0yrI0/7/WUk/zwPNje3isxWgfN66VasCCY6aVJj1cGSG3h4mzgqYel3x+ra176xcW1xdZGQHSJIEl3e24dQpekGFOx/cxa3370rI8nm8rdMl4oMnEj/42YPHmM6XWCwpnyJJzkYloyC1Zulapi7sSliqBDhzkKJrjx/09J4Euac8DU4k0jta24lTDw/A2rWLh2mRgYgdSIPBsId1yeQmpW0W1bTuTtFly7Fq+A01mK7MMsnGJ2DnJQ3lK0gomFz0al8jnYf+2ux6kfORliVcv0FoJbi0HeLO7VvKIu+c3l4pwKyKDPHhVxhPtpHnQO2rluwvv1jg8y95YSVYrirU1Cs5gQh0+8ORmteJlZ2PmqSgdSNZl0WZwWoSJOkCSZaKGFcFM/PCsBD4PkLHw4CzSwpyXRs920LP44kqQBjSZYTEas7MWNWyomTuZS1aSRKKmJpC4oGpdhRqGquoGutFrGQfbNGKKboGF0k0V9UmWyzsZgpDVGaROmGlilFUc1y8soXv/+CvceX6CA8eLPDDH/6tnPguT3ZQrFJ5L+KyS5G4yCt4sSqtoqQWaMCUtmxnhmmMCrqAaYDTmLGzTX0cMM3GaLbQtrLopJqoxzBlnoC6mWGadaLSRfQMRs9xSRrgwlXmBJTZ0EuXv+VZluxJgGkIQQY4pY7pVJgym9FG8gbgFHRvAN+YNLQAcgrp5yTANM/3IrKSFsjPmAZyngCz+zma12WqypZ09gKAyT+BHAr1xkyBfhcwsyTBpYsT2NUKvfuklygAAAjbSURBVLDBO3fv4ea7d+FH57OSKbIV0vk+iqLGJ59+jmVWyGFcMn65r+SleORyNMS1PZ/PEcex8AvoHUvtOD+TvKgxixOUjS0mKwkNCDJahnKuWSv/6EYZlziuj4bxgi7nnD68KIQXeLInEj5ZVYr7qJAByexX8je2YCkXYauYZEWaFwjLn2lHIfkHqeoW0LKyLqVCltxMSuMYblExiox2eQUmAxd37tzGaPv8zZbNunulALNcJ0hXB/CDEEFvjKT2qOPFQUILvBi7ezNMZwkOV2xVFsipMyRLlK2AXl/0lI4dSswW47YIQmW5xHI5x8FsitlijjTLBJBcDqcdHz3aQFlAUNOGqxTAHIU+xsMQw4hQlyHk3MALtAMG8y85YmD1BPFgVJuwdvmvqIkiy5WtE6afezLb7FYg6sCobfNoXi4amFpOymN9+tp9zDasiwsXPfzBh+/jzbfegB8B9+/P8Pd/9w/Y393D9avXYBWVnOg4kyRgMiS2rEvxseX75IIToGwdO1RwNC9+Vh88OUpFLItmQ/5RVSa/zzBalVLQVnCdilJOpp3g5241IY4sNDDgVnCk+th4l5Ihy4MDT9P8WbbXjA6zrFTIthLQq+qFQNm6JMnh4OhRdUMrUt+npVi3VWhmmAZcSavfANzmsNNWS514Mnncsd9ncjo3C677es4+w3zRA7ccAjS4dg8K7cHkOabu3d/XrQy7zyHP22nJnjjjbF0TtUVhp9NgOi1HDiTt4eTYC3vODJOHLZmhcxjOapZ2kzKgp2WjKx2jdZbh8s4YvkVTkhXe+6M/wc337p1bGzbuc3VyiAdfPsTnj56gbBxJDskzjmpIGGTQvANmviarWDph/EeCHccXNGGfL1aI0wzrmrnAjCXsoXZ9GRXxYM/qjjwJ8hyMCYasU3IzdKQeOQee70tHh6lJdcMWnmrNSjIJ/7YsLsSkhYRAJdvjvXSsXLZwVVQZv8cdQkiNlM+xtcykJOq6nQaBnWJnFOHW7dsYbG2dqi9+0fXwsj/3SgFmkcVYZ3N4YQQvHGJZWkjgYVXR7g6I00IG2dQmzlcZ0vUah8tUxP6lsqqAJUSASDxo6ZcaerbMCTnrTIocqyTBYbxAHK/EpMB3A+m5k206YGB04EmFyUBWz8owjhr0de6kEH2EOKIWbC2tR3JhSRAiONNOT7FbJZOT7caULN2NU0r73xowA2pfhMNrYbVayqmSm0KyXOG16zt48/YEV29cxmDUFz7Nk/0FfvyjH+Pxg8e4cuEy7JJNGOXqQ+AVIlS1lrBtMf0jsUcuWmNxpfw8jUk8L2yVR3IyYFoNZ6AbucgGaBQL1njJGsnJ1wPmpr1rrO8ImARAyoBYQSjAVLM7A5jd2We3spRKXDvVtJWZbs22X1cbMoqAgW6df1uA2QW3l13cBoi+bgZqrAi/7ne9CoBJ4KZ8ygAmKXUETGbY8pq5OBnBqVew7Rzf/d6f461378Kl1+k5vBEwq9UUX3z2azzem6Ggvpx+2Q3XIrtQTF5phKNACUmyWmFvbw+PH+1iOouFgEhnMlbZveFEiDx+bwAvGMJhvqUfyXvnIXcxXagYQfHi5vVPvTRJsby34PqeHFCrmi095drFs7QBTKuillx1qYT5T2dSjnTo/uPY6IXcbznSYZeP5D8+h84KpvmIJKMw3SnHhVEPb7x1C/3R6PeA+bLXJUv6Ko95pIFLqzonwKKskFo+Umk5KA0l/6W8Z7JH1WC6WEokDZ0sGLBK/eaa4qbGRWB72BkM1Swg8uGEtlSs9GmlIQEfv5wvZZDe5IWYqQ8CBxETQOgZW64wcXPJ2mNVxvEiB+RMDmcLWDxmXQbc8pSv53NtjqKqOtOMbF7VHmE1RomKqpCU9kry68imdSg4ThSQVaUIse/98Xdw8842vD7bk8oBZpVU+OifP8Jnv/oMg6CPyA5kmiMzQ0pRxAOyQMEWCTM99eySwMibnA4JmFqPyAVgKielx1QVqUpe4XPmz1SY8gO6/Soylk5L0wCmzDFpcC+fy1GfVnEG0hUjDwb8LPj5thUmDe4tWz6vkqfeDqnGzC3VZ67IXgKEx4CydbGRGeombeXbAMyz6DBfdv20B4Rj1eZZAPN4BdhtbZ+XClO9DjbQVYXZAqYXoVhn2NkeoM7n8LwS9/7ir/Dmux9I+/E83qp1iiJ+ik//75eYLXKUtidVJvtBrC4p2U7iBPF8gSePHqAsSGak208hNp6jrQmi4VhMCHKO+/kztifVJQmJKg5NjUKCoK9yLY3kjOvOU5m5jQRAqUQnTjT52RIUJbSB3SarxqQXSriErGtZ68wDZsWpgh3IpOWnTDczEhvlWtePZ4XJZ3U9C5FbYjLs4+rrN9AbDM5tzNcrU2E2ZYZmvYDNv4Tbk9PTYVGi8iIsa1aY9ECshWwjrDDaozIb2lIAmqyAxbLA4SzF9GCOZZwJ26yOMwGf4dYIve0BeqMhnEj5aFIaGcfA4fQQi+kU9TpFxDmmz75/jahO0c9nGNi12NcJo6zUFYvNapZaQfU1c+MkkNkLxaBYzN3po0pqOOdxzLzUP6/mdEoqkSwXsumTXcagZ54GSXaZjEf4wd/8GWiHyQxYMs1JmmNB9S8f/Sv+5z//W1i8F/vbUp2qcGWaxtPdQ+VfNmTongKYbbtYMkMVYLZOQBowuYhMS1bAScK8FQgZIx0DSl3AFKKODtjeVDEKwAxgruKFPF8LmOIdq1o6ZVlIa9m0ZLukn7MAJl+rw6LkWwTMWh+IngdoL7uhH59hms/I3P+uAyZdvzhju7A1xDrZR9Sz8OFffh9vvPPBubVgI2Dmi3384n8/QZIzrtDBWjIrlRdykuQ4+OopDvafykGADFkCHw8AJPIwcGKVlOIHCysQqRylJQ1NRpjEJKYtPixW2A25HpZ2KmukspRZJgMihOHDA62yY7Fs1a1yXNWZcq0SXkEXLjXjFGIXk58smp+QOFjDa1h11mIOb9vKzlHkZqxiHVcIknRiozxle2uIi1euIuyf3yDp/wfzFIKU2jOgCAAAAABJRU5ErkJggg==)"
      ],
      "metadata": {
        "id": "uWLaLh4P5Dw4"
      }
    },
    {
      "cell_type": "code",
      "execution_count": 84,
      "metadata": {
        "id": "YTZ3uWiy12_0"
      },
      "outputs": [],
      "source": [
        "%pip install -qU langchain-pinecone langchain-google-genai  google-generativeai"
      ]
    },
    {
      "cell_type": "code",
      "source": [
        "from google.colab import userdata\n",
        "from pinecone import Pinecone, ServerlessSpec\n",
        "\n",
        "\n",
        "pinecone_api_key = userdata.get('PINECONE_API_KEY')\n",
        "pc = Pinecone(api_key=pinecone_api_key)"
      ],
      "metadata": {
        "id": "oCXrnV8f34T2"
      },
      "execution_count": 85,
      "outputs": []
    },
    {
      "cell_type": "code",
      "source": [
        "import time\n",
        "index_name = \"piaic-rag-project-2\"  # all lowercase and hyphens only\n",
        "\n",
        "pc.create_index(\n",
        "    name=index_name,\n",
        "    dimension=768,\n",
        "    metric=\"cosine\",\n",
        "    spec=ServerlessSpec(cloud=\"aws\", region=\"us-east-1\"),\n",
        ")\n",
        "\n",
        "index = pc.Index(index_name)\n"
      ],
      "metadata": {
        "id": "b6z9MbYH4pyP"
      },
      "execution_count": 87,
      "outputs": []
    },
    {
      "cell_type": "code",
      "source": [
        "from langchain_google_genai import GoogleGenerativeAIEmbeddings\n",
        "import os\n",
        "\n",
        "os.environ['GOOGLE_API_KEY'] = userdata.get('GOOGLE_API_KEY')\n",
        "\n",
        "embeddings = GoogleGenerativeAIEmbeddings(model='models/text-embedding-004')"
      ],
      "metadata": {
        "id": "TyxX_YdN9Qsz"
      },
      "execution_count": 88,
      "outputs": []
    },
    {
      "cell_type": "code",
      "source": [
        "import google.generativeai as genai\n",
        "\n",
        "api_key = userdata.get(\"GOOGLE_API_KEY\")\n",
        "if not api_key:\n",
        "    raise ValueError(\"No valid API Key found in userdata.\")\n",
        "\n",
        "# Use the API key explicitly with genai.configure()\n",
        "genai.configure(api_key=api_key)\n",
        "\n",
        "# Now you can call list_models\n",
        "available_models = genai.list_models()\n",
        "for m in available_models:\n",
        "    print(m.name, m.supported_generation_methods)\n"
      ],
      "metadata": {
        "colab": {
          "base_uri": "https://localhost:8080/",
          "height": 642
        },
        "id": "3KToG1EUAoym",
        "outputId": "41025d59-fc7b-4ace-d42d-c924da8d623d"
      },
      "execution_count": 89,
      "outputs": [
        {
          "output_type": "stream",
          "name": "stdout",
          "text": [
            "models/chat-bison-001 ['generateMessage', 'countMessageTokens']\n",
            "models/text-bison-001 ['generateText', 'countTextTokens', 'createTunedTextModel']\n",
            "models/embedding-gecko-001 ['embedText', 'countTextTokens']\n",
            "models/gemini-1.0-pro-latest ['generateContent', 'countTokens']\n",
            "models/gemini-1.0-pro ['generateContent', 'countTokens']\n",
            "models/gemini-pro ['generateContent', 'countTokens']\n",
            "models/gemini-1.0-pro-001 ['generateContent', 'countTokens', 'createTunedModel']\n",
            "models/gemini-1.0-pro-vision-latest ['generateContent', 'countTokens']\n",
            "models/gemini-pro-vision ['generateContent', 'countTokens']\n",
            "models/gemini-1.5-pro-latest ['generateContent', 'countTokens']\n",
            "models/gemini-1.5-pro-001 ['generateContent', 'countTokens', 'createCachedContent']\n",
            "models/gemini-1.5-pro-002 ['generateContent', 'countTokens', 'createCachedContent']\n",
            "models/gemini-1.5-pro ['generateContent', 'countTokens']\n",
            "models/gemini-1.5-pro-exp-0801 ['generateContent', 'countTokens']\n",
            "models/gemini-1.5-pro-exp-0827 ['generateContent', 'countTokens']\n",
            "models/gemini-1.5-flash-latest ['generateContent', 'countTokens']\n",
            "models/gemini-1.5-flash-001 ['generateContent', 'countTokens', 'createCachedContent']\n",
            "models/gemini-1.5-flash-001-tuning ['generateContent', 'countTokens', 'createTunedModel']\n",
            "models/gemini-1.5-flash ['generateContent', 'countTokens']\n",
            "models/gemini-1.5-flash-exp-0827 ['generateContent', 'countTokens']\n",
            "models/gemini-1.5-flash-002 ['generateContent', 'countTokens', 'createCachedContent']\n",
            "models/gemini-1.5-flash-8b ['createCachedContent', 'generateContent', 'countTokens']\n",
            "models/gemini-1.5-flash-8b-001 ['createCachedContent', 'generateContent', 'countTokens']\n",
            "models/gemini-1.5-flash-8b-latest ['createCachedContent', 'generateContent', 'countTokens']\n",
            "models/gemini-1.5-flash-8b-exp-0827 ['generateContent', 'countTokens']\n",
            "models/gemini-1.5-flash-8b-exp-0924 ['generateContent', 'countTokens']\n",
            "models/gemini-2.0-flash-exp ['generateContent', 'countTokens', 'bidiGenerateContent']\n",
            "models/gemini-exp-1206 ['generateContent', 'countTokens']\n",
            "models/gemini-exp-1121 ['generateContent', 'countTokens']\n",
            "models/gemini-exp-1114 ['generateContent', 'countTokens']\n",
            "models/gemini-2.0-flash-thinking-exp ['generateContent', 'countTokens']\n",
            "models/gemini-2.0-flash-thinking-exp-1219 ['generateContent', 'countTokens']\n",
            "models/learnlm-1.5-pro-experimental ['generateContent', 'countTokens']\n",
            "models/embedding-001 ['embedContent']\n",
            "models/text-embedding-004 ['embedContent']\n",
            "models/aqa ['generateAnswer']\n"
          ]
        }
      ]
    },
    {
      "cell_type": "code",
      "source": [
        "vector = embeddings.embed_query(\"Hello RAG\")"
      ],
      "metadata": {
        "id": "yZiz-SnY_Bhk"
      },
      "execution_count": 90,
      "outputs": []
    },
    {
      "cell_type": "code",
      "source": [
        "vector[:5]"
      ],
      "metadata": {
        "colab": {
          "base_uri": "https://localhost:8080/"
        },
        "id": "AL9pTlidBo-Z",
        "outputId": "ab561301-b1ff-4a0d-c828-d7a8e7d0959d"
      },
      "execution_count": 91,
      "outputs": [
        {
          "output_type": "execute_result",
          "data": {
            "text/plain": [
              "[-0.0033660035114735365,\n",
              " -0.02857319451868534,\n",
              " -0.045181941241025925,\n",
              " -0.029038600623607635,\n",
              " -0.022096384316682816]"
            ]
          },
          "metadata": {},
          "execution_count": 91
        }
      ]
    },
    {
      "cell_type": "code",
      "source": [
        "from langchain_pinecone import PineconeVectorStore\n",
        "\n",
        "vector_store = PineconeVectorStore(\n",
        "    index=index,\n",
        "    embedding=embeddings,\n",
        ")"
      ],
      "metadata": {
        "id": "J71984mzDipy"
      },
      "execution_count": 92,
      "outputs": []
    },
    {
      "cell_type": "code",
      "source": [
        "from uuid import uuid4\n",
        "\n",
        "from langchain_core.documents import Document\n",
        "\n",
        "document_1 = Document(\n",
        "    page_content=\"I had chocalate chip pancakes and scrambled eggs for breakfast this morning.\",\n",
        "    metadata={\"source\": \"tweet\"},\n",
        ")"
      ],
      "metadata": {
        "id": "zy6_5tevChO5"
      },
      "execution_count": 93,
      "outputs": []
    },
    {
      "cell_type": "code",
      "source": [
        "document_1"
      ],
      "metadata": {
        "colab": {
          "base_uri": "https://localhost:8080/"
        },
        "id": "WABtkhviCjXV",
        "outputId": "356eb4f6-edc9-4e31-a961-0da2ba4ebf12"
      },
      "execution_count": 94,
      "outputs": [
        {
          "output_type": "execute_result",
          "data": {
            "text/plain": [
              "Document(metadata={'source': 'tweet'}, page_content='I had chocalate chip pancakes and scrambled eggs for breakfast this morning.')"
            ]
          },
          "metadata": {},
          "execution_count": 94
        }
      ]
    },
    {
      "cell_type": "code",
      "source": [
        "from uuid import uuid4\n",
        "\n",
        "from langchain_core.documents import Document\n",
        "\n",
        "document_1 = Document(\n",
        "    page_content=\"I had chocalate chip pancakes and scrambled eggs for breakfast this morning.\",\n",
        "    metadata={\"source\": \"tweet\"},\n",
        ")\n",
        "\n",
        "document_2 = Document(\n",
        "    page_content=\"The weather forecast for tomorrow is cloudy and overcast, with a high of 62 degrees.\",\n",
        "    metadata={\"source\": \"news\"},\n",
        ")\n",
        "\n",
        "document_3 = Document(\n",
        "    page_content=\"Building an exciting new project with LangChain - come check it out!\",\n",
        "    metadata={\"source\": \"tweet\"},\n",
        ")\n",
        "\n",
        "document_4 = Document(\n",
        "    page_content=\"Robbers broke into the city bank and stole $1 million in cash.\",\n",
        "    metadata={\"source\": \"news\"},\n",
        ")\n",
        "\n",
        "document_5 = Document(\n",
        "    page_content=\"Wow! That was an amazing movie. I can't wait to see it again.\",\n",
        "    metadata={\"source\": \"tweet\"},\n",
        ")\n",
        "\n",
        "document_6 = Document(\n",
        "    page_content=\"Is the new iPhone worth the price? Read this review to find out.\",\n",
        "    metadata={\"source\": \"website\"},\n",
        ")\n",
        "\n",
        "document_7 = Document(\n",
        "    page_content=\"The top 10 soccer players in the world right now.\",\n",
        "    metadata={\"source\": \"website\"},\n",
        ")\n",
        "\n",
        "document_8 = Document(\n",
        "    page_content=\"LangGraph is the best framework for building stateful, agentic applications!\",\n",
        "    metadata={\"source\": \"tweet\"},\n",
        ")\n",
        "\n",
        "document_9 = Document(\n",
        "    page_content=\"The stock market is down 500 points today due to fears of a recession.\",\n",
        "    metadata={\"source\": \"news\"},\n",
        ")\n",
        "\n",
        "document_10 = Document(\n",
        "    page_content=\"I have a bad feeling I am going to get deleted :(\",\n",
        "    metadata={\"source\": \"tweet\"},\n",
        ")\n",
        "\n",
        "documents = [\n",
        "    document_1,\n",
        "    document_2,\n",
        "    document_3,\n",
        "    document_4,\n",
        "    document_5,\n",
        "    document_6,\n",
        "    document_7,\n",
        "    document_8,\n",
        "    document_9,\n",
        "    document_10,\n",
        "]"
      ],
      "metadata": {
        "id": "ujJKw9UrCybu"
      },
      "execution_count": 95,
      "outputs": []
    },
    {
      "cell_type": "code",
      "source": [
        "len(documents)"
      ],
      "metadata": {
        "colab": {
          "base_uri": "https://localhost:8080/"
        },
        "id": "Glq1x-rfC9T8",
        "outputId": "1d635958-bf8e-44b7-a874-5013c592602b"
      },
      "execution_count": 14,
      "outputs": [
        {
          "output_type": "execute_result",
          "data": {
            "text/plain": [
              "10"
            ]
          },
          "metadata": {},
          "execution_count": 14
        }
      ]
    },
    {
      "cell_type": "code",
      "source": [
        "uuids = [str(uuid4()) for _ in range(len(documents))]"
      ],
      "metadata": {
        "id": "vWyUzRzcDAGn"
      },
      "execution_count": 15,
      "outputs": []
    },
    {
      "cell_type": "code",
      "source": [
        "from uuid import uuid4\n",
        "uuid4()"
      ],
      "metadata": {
        "colab": {
          "base_uri": "https://localhost:8080/"
        },
        "id": "2vjIIIwwDO0A",
        "outputId": "776e0d6a-5bc5-47ce-d1e1-7c8042386f54"
      },
      "execution_count": 16,
      "outputs": [
        {
          "output_type": "execute_result",
          "data": {
            "text/plain": [
              "UUID('1c969fa2-d499-42d3-9565-ad522aa99efe')"
            ]
          },
          "metadata": {},
          "execution_count": 16
        }
      ]
    },
    {
      "cell_type": "code",
      "source": [
        "vector_store.add_documents(documents=documents, ids=uuids)"
      ],
      "metadata": {
        "colab": {
          "base_uri": "https://localhost:8080/"
        },
        "id": "JqWpsIGgDaCH",
        "outputId": "7bddd728-f1ab-4e02-9691-9f2dd1896c8e"
      },
      "execution_count": 17,
      "outputs": [
        {
          "output_type": "execute_result",
          "data": {
            "text/plain": [
              "['7b80f674-7c1c-4e43-860d-a4210760c618',\n",
              " 'c2ea31da-05a7-4836-8cf2-6822fcca25da',\n",
              " '4e22f0ed-a2ab-47e7-b80d-7de35d75ab9e',\n",
              " '731322cf-33d1-4b31-9bb1-13e717cd0cd7',\n",
              " '24850b73-d1fa-4c3e-bbdd-efca221d4e45',\n",
              " '6336a5eb-bc4c-4c42-bd5d-7079acf208b4',\n",
              " 'c09675ae-1d7a-4a1d-93ec-9be06c222216',\n",
              " '97b639cb-6688-422c-98c9-a172235a63db',\n",
              " '4e07439d-bfc5-4572-9628-5b5a4e4e7818',\n",
              " '0ea0defd-c7db-43bc-90f4-cde8c924214f']"
            ]
          },
          "metadata": {},
          "execution_count": 17
        }
      ]
    },
    {
      "cell_type": "code",
      "source": [
        "results = vector_store.similarity_search(\n",
        "    \"LangChain provides abstractions to make working with LLMs easy\",\n",
        "    k=2,\n",
        "    filter={\"source\": \"tweet\"},\n",
        ")\n",
        "for res in results:\n",
        "    print(f\"* {res.page_content} [{res.metadata}]\")"
      ],
      "metadata": {
        "id": "1YSfoXhEEYKF"
      },
      "execution_count": 96,
      "outputs": []
    },
    {
      "cell_type": "code",
      "source": [
        "results = vector_store.similarity_search_with_score(\n",
        "    \"Will it be hot tomorrow?\", k=1, filter={\"source\": \"news\"}\n",
        ")\n",
        "for res, score in results:\n",
        "    print(f\"* [SIM={score:3f}] {res.page_content} [{res.metadata}]\")"
      ],
      "metadata": {
        "id": "s6uZpJzYEi0H"
      },
      "execution_count": 97,
      "outputs": []
    },
    {
      "cell_type": "code",
      "source": [
        "from langchain_google_genai import ChatGoogleGenerativeAI\n",
        "\n",
        "llm = ChatGoogleGenerativeAI(\n",
        "    model=\"gemini-1.5-flash\",\n",
        "    temperature=0,\n",
        "    max_tokens=None,\n",
        "    timeout=None,\n",
        "    max_retries=2,\n",
        "    # other params...\n",
        ")"
      ],
      "metadata": {
        "id": "w7Mp8X4apK3_"
      },
      "execution_count": 98,
      "outputs": []
    },
    {
      "cell_type": "code",
      "source": [
        "def vector_search(query:str):\n",
        "  # vector search\n",
        "  vector_results = vector_store.similarity_search(query, k=1, filter={\"source\": \"news\"})\n",
        "  # pass to model vector result + User Query\n",
        "  final_answer = llm.invoke(f'Answer This Query {query} based on this context {vector_results}')\n",
        "  return final_answer\n"
      ],
      "metadata": {
        "id": "LOBIFVQ4nEiO"
      },
      "execution_count": 99,
      "outputs": []
    },
    {
      "cell_type": "code",
      "source": [
        "result = vector_search(\"Greet me i'm Abdullah?\")\n",
        "#"
      ],
      "metadata": {
        "id": "42wWDBz_qWKA"
      },
      "execution_count": 100,
      "outputs": []
    },
    {
      "cell_type": "code",
      "source": [
        "result.content"
      ],
      "metadata": {
        "colab": {
          "base_uri": "https://localhost:8080/",
          "height": 36
        },
        "id": "I89uMMeOqevd",
        "outputId": "9cd9faee-9eb6-424c-b655-593db68afd10"
      },
      "execution_count": 101,
      "outputs": [
        {
          "output_type": "execute_result",
          "data": {
            "text/plain": [
              "'Hello Abdullah!'"
            ],
            "application/vnd.google.colaboratory.intrinsic+json": {
              "type": "string"
            }
          },
          "metadata": {},
          "execution_count": 101
        }
      ]
    },
    {
      "cell_type": "code",
      "source": [
        "result = vector_search('What is my name?')"
      ],
      "metadata": {
        "id": "FRWmKsPSq6m3"
      },
      "execution_count": 102,
      "outputs": []
    },
    {
      "cell_type": "code",
      "source": [
        "result.content"
      ],
      "metadata": {
        "colab": {
          "base_uri": "https://localhost:8080/",
          "height": 53
        },
        "id": "uXeAgDNIrASG",
        "outputId": "941c693b-052d-49bd-e79d-bf14ec678f74"
      },
      "execution_count": 103,
      "outputs": [
        {
          "output_type": "execute_result",
          "data": {
            "text/plain": [
              "'I cannot answer the question \"What is my name?\" based on the provided context, which is an empty set [].  There is no information about your name.'"
            ],
            "application/vnd.google.colaboratory.intrinsic+json": {
              "type": "string"
            }
          },
          "metadata": {},
          "execution_count": 103
        }
      ]
    },
    {
      "cell_type": "markdown",
      "source": [
        "## NOw We Use Chroma DB"
      ],
      "metadata": {
        "id": "ZYzJyq1y-Ke6"
      }
    },
    {
      "cell_type": "code",
      "source": [
        "!pip install -Uq langchain-chroma"
      ],
      "metadata": {
        "id": "RlpuJK62_s7Y"
      },
      "execution_count": 104,
      "outputs": []
    },
    {
      "cell_type": "code",
      "source": [
        "import getpass\n",
        "import os"
      ],
      "metadata": {
        "id": "8ZzIt7F7_4FU"
      },
      "execution_count": 105,
      "outputs": []
    },
    {
      "cell_type": "code",
      "source": [
        "from langchain_chroma import Chroma\n",
        "# from langchain_openai import OpenAIEmbeddings\n",
        "\n",
        "vectorstore = Chroma.from_documents(\n",
        "    documents,\n",
        "    embedding=embeddings)"
      ],
      "metadata": {
        "id": "O6V9K0tK-QDo"
      },
      "execution_count": 106,
      "outputs": []
    },
    {
      "cell_type": "code",
      "source": [
        "list(dir(vectorstore))"
      ],
      "metadata": {
        "colab": {
          "base_uri": "https://localhost:8080/"
        },
        "id": "2LrX0NGx_5jC",
        "outputId": "2ea0a7b6-92fe-49d3-a2df-e5b9ba5f4881"
      },
      "execution_count": 107,
      "outputs": [
        {
          "output_type": "execute_result",
          "data": {
            "text/plain": [
              "['_Chroma__ensure_collection',\n",
              " '_Chroma__query_collection',\n",
              " '_LANGCHAIN_DEFAULT_COLLECTION_NAME',\n",
              " '__abstractmethods__',\n",
              " '__annotations__',\n",
              " '__class__',\n",
              " '__delattr__',\n",
              " '__dict__',\n",
              " '__dir__',\n",
              " '__doc__',\n",
              " '__eq__',\n",
              " '__format__',\n",
              " '__ge__',\n",
              " '__getattribute__',\n",
              " '__gt__',\n",
              " '__hash__',\n",
              " '__init__',\n",
              " '__init_subclass__',\n",
              " '__le__',\n",
              " '__lt__',\n",
              " '__module__',\n",
              " '__ne__',\n",
              " '__new__',\n",
              " '__reduce__',\n",
              " '__reduce_ex__',\n",
              " '__repr__',\n",
              " '__setattr__',\n",
              " '__sizeof__',\n",
              " '__slots__',\n",
              " '__str__',\n",
              " '__subclasshook__',\n",
              " '__weakref__',\n",
              " '_abc_impl',\n",
              " '_asimilarity_search_with_relevance_scores',\n",
              " '_chroma_collection',\n",
              " '_client',\n",
              " '_client_settings',\n",
              " '_collection',\n",
              " '_collection_metadata',\n",
              " '_collection_name',\n",
              " '_cosine_relevance_score_fn',\n",
              " '_embedding_function',\n",
              " '_euclidean_relevance_score_fn',\n",
              " '_get_retriever_tags',\n",
              " '_max_inner_product_relevance_score_fn',\n",
              " '_persist_directory',\n",
              " '_select_relevance_score_fn',\n",
              " '_similarity_search_with_relevance_scores',\n",
              " 'aadd_documents',\n",
              " 'aadd_texts',\n",
              " 'add_documents',\n",
              " 'add_images',\n",
              " 'add_texts',\n",
              " 'adelete',\n",
              " 'afrom_documents',\n",
              " 'afrom_texts',\n",
              " 'aget_by_ids',\n",
              " 'amax_marginal_relevance_search',\n",
              " 'amax_marginal_relevance_search_by_vector',\n",
              " 'as_retriever',\n",
              " 'asearch',\n",
              " 'asimilarity_search',\n",
              " 'asimilarity_search_by_vector',\n",
              " 'asimilarity_search_with_relevance_scores',\n",
              " 'asimilarity_search_with_score',\n",
              " 'delete',\n",
              " 'delete_collection',\n",
              " 'embeddings',\n",
              " 'encode_image',\n",
              " 'from_documents',\n",
              " 'from_texts',\n",
              " 'get',\n",
              " 'get_by_ids',\n",
              " 'max_marginal_relevance_search',\n",
              " 'max_marginal_relevance_search_by_vector',\n",
              " 'override_relevance_score_fn',\n",
              " 'reset_collection',\n",
              " 'search',\n",
              " 'similarity_search',\n",
              " 'similarity_search_by_image',\n",
              " 'similarity_search_by_image_with_relevance_score',\n",
              " 'similarity_search_by_vector',\n",
              " 'similarity_search_by_vector_with_relevance_scores',\n",
              " 'similarity_search_with_relevance_scores',\n",
              " 'similarity_search_with_score',\n",
              " 'similarity_search_with_vectors',\n",
              " 'update_document',\n",
              " 'update_documents']"
            ]
          },
          "metadata": {},
          "execution_count": 107
        }
      ]
    },
    {
      "cell_type": "code",
      "source": [
        "vectorstore"
      ],
      "metadata": {
        "colab": {
          "base_uri": "https://localhost:8080/"
        },
        "id": "k_95Jdo2AHv7",
        "outputId": "8ef8c2ca-3c7e-436e-b8f3-7ed18913bbb8"
      },
      "execution_count": 108,
      "outputs": [
        {
          "output_type": "execute_result",
          "data": {
            "text/plain": [
              "<langchain_chroma.vectorstores.Chroma at 0x7ce434bdf5b0>"
            ]
          },
          "metadata": {},
          "execution_count": 108
        }
      ]
    },
    {
      "cell_type": "code",
      "source": [
        "vectorstore.similarity_search(\"chocolate\")"
      ],
      "metadata": {
        "colab": {
          "base_uri": "https://localhost:8080/"
        },
        "id": "bfj6LOt9AKZD",
        "outputId": "715205df-96cd-4c50-8545-856eb2b19d40"
      },
      "execution_count": 109,
      "outputs": [
        {
          "output_type": "execute_result",
          "data": {
            "text/plain": [
              "[Document(id='645834cd-e3d3-4ceb-a1ad-023fd3f2188b', metadata={'source': 'tweet'}, page_content='I had chocalate chip pancakes and scrambled eggs for breakfast this morning.'),\n",
              " Document(id='a35785f8-275f-40a3-ba8a-a3d34fc8de17', metadata={'source': 'tweet'}, page_content=\"Wow! That was an amazing movie. I can't wait to see it again.\"),\n",
              " Document(id='ecbe3648-2e63-42cc-a569-7263373efcf5', metadata={'source': 'tweet'}, page_content='Building an exciting new project with LangChain - come check it out!'),\n",
              " Document(id='a5d30d5c-bfcb-49ce-b156-2c6693806afd', metadata={'source': 'news'}, page_content='The stock market is down 500 points today due to fears of a recession.')]"
            ]
          },
          "metadata": {},
          "execution_count": 109
        }
      ]
    },
    {
      "cell_type": "code",
      "source": [
        "await vectorstore.asimilarity_search(\"movie\")"
      ],
      "metadata": {
        "colab": {
          "base_uri": "https://localhost:8080/"
        },
        "id": "guPo7jHNAXCz",
        "outputId": "f34250bf-0b51-4fa4-9912-37b3f235c79e"
      },
      "execution_count": 30,
      "outputs": [
        {
          "data": {
            "text/plain": [
              "[Document(id='d172b753-4715-4745-9588-777265461994', metadata={'source': 'tweet', 'text': \"Wow! That was an amazing movie. I can't wait to see it again.\"}, page_content=\"Wow! That was an amazing movie. I can't wait to see it again.\"),\n",
              " Document(id='5529c15d-e225-4ac4-9063-7ccf54c41788', metadata={'source': 'news', 'text': 'The stock market is down 500 points today due to fears of a recession.'}, page_content='The stock market is down 500 points today due to fears of a recession.'),\n",
              " Document(id='4428a424-64f9-45c8-9549-c4839f8822a9', metadata={'source': 'tweet', 'text': 'Building an exciting new project with LangChain - come check it out!'}, page_content='Building an exciting new project with LangChain - come check it out!'),\n",
              " Document(id='62eb78bd-2cf3-4c59-81ed-ec0029ae5c12', metadata={'source': 'news', 'text': 'Robbers broke into the city bank and stole $1 million in cash.'}, page_content='Robbers broke into the city bank and stole $1 million in cash.')]"
            ]
          },
          "execution_count": 30,
          "metadata": {},
          "output_type": "execute_result"
        }
      ]
    },
    {
      "cell_type": "code",
      "source": [
        "# Note that providers implement different scores; Chroma here\n",
        "# returns a distance metric that should vary inversely with\n",
        "# similarity.\n",
        "\n",
        "vectorstore.similarity_search_with_score(\"chocolate\")"
      ],
      "metadata": {
        "colab": {
          "base_uri": "https://localhost:8080/"
        },
        "id": "tIY96YH4AiEP",
        "outputId": "5a5092aa-e0ce-40eb-8886-ddb75ca79fc1"
      },
      "execution_count": 110,
      "outputs": [
        {
          "output_type": "execute_result",
          "data": {
            "text/plain": [
              "[(Document(id='645834cd-e3d3-4ceb-a1ad-023fd3f2188b', metadata={'source': 'tweet'}, page_content='I had chocalate chip pancakes and scrambled eggs for breakfast this morning.'),\n",
              "  1.0935707092285156),\n",
              " (Document(id='a35785f8-275f-40a3-ba8a-a3d34fc8de17', metadata={'source': 'tweet'}, page_content=\"Wow! That was an amazing movie. I can't wait to see it again.\"),\n",
              "  1.1966055631637573),\n",
              " (Document(id='ecbe3648-2e63-42cc-a569-7263373efcf5', metadata={'source': 'tweet'}, page_content='Building an exciting new project with LangChain - come check it out!'),\n",
              "  1.2126556634902954),\n",
              " (Document(id='a5d30d5c-bfcb-49ce-b156-2c6693806afd', metadata={'source': 'news'}, page_content='The stock market is down 500 points today due to fears of a recession.'),\n",
              "  1.2140178680419922)]"
            ]
          },
          "metadata": {},
          "execution_count": 110
        }
      ]
    },
    {
      "cell_type": "code",
      "source": [
        "embedding = embeddings.embed_query(\"Chocolate\")# convert cat into vector\n",
        "\n",
        "vectorstore.similarity_search_by_vector(embedding)"
      ],
      "metadata": {
        "colab": {
          "base_uri": "https://localhost:8080/"
        },
        "id": "O-R_xNwgAuMs",
        "outputId": "e0d87dcc-894b-4211-d5fb-52a0b830eeb0"
      },
      "execution_count": 111,
      "outputs": [
        {
          "output_type": "execute_result",
          "data": {
            "text/plain": [
              "[Document(id='645834cd-e3d3-4ceb-a1ad-023fd3f2188b', metadata={'source': 'tweet'}, page_content='I had chocalate chip pancakes and scrambled eggs for breakfast this morning.'),\n",
              " Document(id='a35785f8-275f-40a3-ba8a-a3d34fc8de17', metadata={'source': 'tweet'}, page_content=\"Wow! That was an amazing movie. I can't wait to see it again.\"),\n",
              " Document(id='bf70af7c-6475-4413-a727-2bbc61befe06', metadata={'source': 'tweet'}, page_content='I have a bad feeling I am going to get deleted :('),\n",
              " Document(id='a5d30d5c-bfcb-49ce-b156-2c6693806afd', metadata={'source': 'news'}, page_content='The stock market is down 500 points today due to fears of a recession.')]"
            ]
          },
          "metadata": {},
          "execution_count": 111
        }
      ]
    },
    {
      "cell_type": "markdown",
      "source": [
        "# Retrievers"
      ],
      "metadata": {
        "id": "6GKz_9zsA1yu"
      }
    },
    {
      "cell_type": "code",
      "source": [
        "from langchain_core.documents import Document\n",
        "from langchain_core.runnables import RunnableLambda\n",
        "\n",
        "retriever = RunnableLambda(vectorstore.similarity_search).bind(k=1)  # select top result\n",
        "\n",
        "retriever.batch([\"chip\"])"
      ],
      "metadata": {
        "colab": {
          "base_uri": "https://localhost:8080/"
        },
        "id": "VQV2AGAgA1Kh",
        "outputId": "2e8cd3f2-ab79-4199-a278-2b1a52d29f19"
      },
      "execution_count": 112,
      "outputs": [
        {
          "output_type": "execute_result",
          "data": {
            "text/plain": [
              "[[Document(id='645834cd-e3d3-4ceb-a1ad-023fd3f2188b', metadata={'source': 'tweet'}, page_content='I had chocalate chip pancakes and scrambled eggs for breakfast this morning.')]]"
            ]
          },
          "metadata": {},
          "execution_count": 112
        }
      ]
    },
    {
      "cell_type": "code",
      "source": [
        "from langchain_google_genai import ChatGoogleGenerativeAI\n",
        "from google.colab import userdata\n",
        "\n",
        "\n",
        "\n",
        "llm = ChatGoogleGenerativeAI(model=\"gemini-1.5-flash\",\n",
        "                             api_key = userdata.get('GOOGLE_API_KEY')\n",
        ")"
      ],
      "metadata": {
        "id": "Y8FQFAuMBK6O"
      },
      "execution_count": 114,
      "outputs": []
    },
    {
      "cell_type": "code",
      "source": [
        "from langchain_core.prompts import ChatPromptTemplate\n",
        "from langchain_core.runnables import RunnablePassthrough\n",
        "\n",
        "message = \"\"\"\n",
        "Answer this question using the provided context only.\n",
        "\n",
        "{question}\n",
        "\n",
        "Context:\n",
        "{context}\n",
        "\"\"\""
      ],
      "metadata": {
        "id": "Ax_IQkuLBTrq"
      },
      "execution_count": 115,
      "outputs": []
    },
    {
      "cell_type": "code",
      "source": [
        "prompt = ChatPromptTemplate.from_messages([(\"human\", message)])"
      ],
      "metadata": {
        "id": "oELcZ4YUBZLO"
      },
      "execution_count": 116,
      "outputs": []
    },
    {
      "cell_type": "markdown",
      "source": [
        "# RAG"
      ],
      "metadata": {
        "id": "2fjfz2H5Bdjy"
      }
    },
    {
      "cell_type": "code",
      "source": [
        "rag_chain = {\"context\": retriever, \"question\": RunnablePassthrough()} | prompt | llm\n"
      ],
      "metadata": {
        "id": "6bDGGhyyBdMH"
      },
      "execution_count": 117,
      "outputs": []
    },
    {
      "cell_type": "code",
      "source": [
        "response = rag_chain.invoke(\"tell about cow?\")\n",
        "\n",
        "print(response.content)"
      ],
      "metadata": {
        "colab": {
          "base_uri": "https://localhost:8080/"
        },
        "id": "2klX3traBog5",
        "outputId": "ec5c80b3-ca02-419b-9fc8-a8a1f4cdcad9"
      },
      "execution_count": 118,
      "outputs": [
        {
          "output_type": "stream",
          "name": "stdout",
          "text": [
            "The provided text does not contain any information about cows.\n"
          ]
        }
      ]
    },
    {
      "cell_type": "markdown",
      "source": [
        "# Now use google gemini embedding model for retriver\n",
        "https://python.langchain.com/api_reference/google_genai/embeddings/langchain_google_genai.embeddings.GoogleGenerativeAIEmbeddings.html#langchain_google_genai.embeddings.GoogleGenerativeAIEmbeddings"
      ],
      "metadata": {
        "id": "PzJMYdCTBv_X"
      }
    },
    {
      "cell_type": "code",
      "source": [
        "!pip install -Uq facenet-pytorch"
      ],
      "metadata": {
        "colab": {
          "base_uri": "https://localhost:8080/"
        },
        "id": "4S5v0zZQBxYj",
        "outputId": "85d6a943-8a8a-4629-9f7d-c4f2d7327b1d"
      },
      "execution_count": 1,
      "outputs": [
        {
          "output_type": "stream",
          "name": "stdout",
          "text": [
            "\u001b[2K   \u001b[90m━━━━━━━━━━━━━━━━━━━━━━━━━━━━━━━━━━━━━━━━\u001b[0m \u001b[32m1.9/1.9 MB\u001b[0m \u001b[31m22.2 MB/s\u001b[0m eta \u001b[36m0:00:00\u001b[0m\n",
            "\u001b[2K   \u001b[90m━━━━━━━━━━━━━━━━━━━━━━━━━━━━━━━━━━━━━━━━\u001b[0m \u001b[32m4.5/4.5 MB\u001b[0m \u001b[31m37.9 MB/s\u001b[0m eta \u001b[36m0:00:00\u001b[0m\n",
            "\u001b[2K   \u001b[90m━━━━━━━━━━━━━━━━━━━━━━━━━━━━━━━━━━━━━━━━\u001b[0m \u001b[32m755.5/755.5 MB\u001b[0m \u001b[31m2.7 MB/s\u001b[0m eta \u001b[36m0:00:00\u001b[0m\n",
            "\u001b[2K   \u001b[90m━━━━━━━━━━━━━━━━━━━━━━━━━━━━━━━━━━━━━━━━\u001b[0m \u001b[32m410.6/410.6 MB\u001b[0m \u001b[31m4.1 MB/s\u001b[0m eta \u001b[36m0:00:00\u001b[0m\n",
            "\u001b[2K   \u001b[90m━━━━━━━━━━━━━━━━━━━━━━━━━━━━━━━━━━━━━━━━\u001b[0m \u001b[32m14.1/14.1 MB\u001b[0m \u001b[31m84.6 MB/s\u001b[0m eta \u001b[36m0:00:00\u001b[0m\n",
            "\u001b[2K   \u001b[90m━━━━━━━━━━━━━━━━━━━━━━━━━━━━━━━━━━━━━━━━\u001b[0m \u001b[32m23.7/23.7 MB\u001b[0m \u001b[31m70.2 MB/s\u001b[0m eta \u001b[36m0:00:00\u001b[0m\n",
            "\u001b[2K   \u001b[90m━━━━━━━━━━━━━━━━━━━━━━━━━━━━━━━━━━━━━━━━\u001b[0m \u001b[32m823.6/823.6 kB\u001b[0m \u001b[31m36.0 MB/s\u001b[0m eta \u001b[36m0:00:00\u001b[0m\n",
            "\u001b[2K   \u001b[90m━━━━━━━━━━━━━━━━━━━━━━━━━━━━━━━━━━━━━━━━\u001b[0m \u001b[32m731.7/731.7 MB\u001b[0m \u001b[31m1.9 MB/s\u001b[0m eta \u001b[36m0:00:00\u001b[0m\n",
            "\u001b[2K   \u001b[90m━━━━━━━━━━━━━━━━━━━━━━━━━━━━━━━━━━━━━━━━\u001b[0m \u001b[32m121.6/121.6 MB\u001b[0m \u001b[31m7.7 MB/s\u001b[0m eta \u001b[36m0:00:00\u001b[0m\n",
            "\u001b[2K   \u001b[90m━━━━━━━━━━━━━━━━━━━━━━━━━━━━━━━━━━━━━━━━\u001b[0m \u001b[32m56.5/56.5 MB\u001b[0m \u001b[31m10.9 MB/s\u001b[0m eta \u001b[36m0:00:00\u001b[0m\n",
            "\u001b[2K   \u001b[90m━━━━━━━━━━━━━━━━━━━━━━━━━━━━━━━━━━━━━━━━\u001b[0m \u001b[32m124.2/124.2 MB\u001b[0m \u001b[31m8.3 MB/s\u001b[0m eta \u001b[36m0:00:00\u001b[0m\n",
            "\u001b[2K   \u001b[90m━━━━━━━━━━━━━━━━━━━━━━━━━━━━━━━━━━━━━━━━\u001b[0m \u001b[32m196.0/196.0 MB\u001b[0m \u001b[31m6.1 MB/s\u001b[0m eta \u001b[36m0:00:00\u001b[0m\n",
            "\u001b[2K   \u001b[90m━━━━━━━━━━━━━━━━━━━━━━━━━━━━━━━━━━━━━━━━\u001b[0m \u001b[32m166.0/166.0 MB\u001b[0m \u001b[31m7.0 MB/s\u001b[0m eta \u001b[36m0:00:00\u001b[0m\n",
            "\u001b[2K   \u001b[90m━━━━━━━━━━━━━━━━━━━━━━━━━━━━━━━━━━━━━━━━\u001b[0m \u001b[32m99.1/99.1 kB\u001b[0m \u001b[31m4.3 MB/s\u001b[0m eta \u001b[36m0:00:00\u001b[0m\n",
            "\u001b[2K   \u001b[90m━━━━━━━━━━━━━━━━━━━━━━━━━━━━━━━━━━━━━━━━\u001b[0m \u001b[32m167.9/167.9 MB\u001b[0m \u001b[31m6.6 MB/s\u001b[0m eta \u001b[36m0:00:00\u001b[0m\n",
            "\u001b[2K   \u001b[90m━━━━━━━━━━━━━━━━━━━━━━━━━━━━━━━━━━━━━━━━\u001b[0m \u001b[32m6.9/6.9 MB\u001b[0m \u001b[31m59.0 MB/s\u001b[0m eta \u001b[36m0:00:00\u001b[0m\n",
            "\u001b[?25h\u001b[31mERROR: pip's dependency resolver does not currently take into account all the packages that are installed. This behaviour is the source of the following dependency conflicts.\n",
            "torchaudio 2.5.1+cu121 requires torch==2.5.1, but you have torch 2.2.2 which is incompatible.\u001b[0m\u001b[31m\n",
            "\u001b[0m"
          ]
        }
      ]
    },
    {
      "cell_type": "code",
      "source": [
        "!pip install -Uq pillow"
      ],
      "metadata": {
        "colab": {
          "base_uri": "https://localhost:8080/"
        },
        "id": "uwyfuoWvB6-R",
        "outputId": "f8eed7de-6a57-4c3a-d747-61a1cf981459"
      },
      "execution_count": 2,
      "outputs": [
        {
          "output_type": "stream",
          "name": "stdout",
          "text": [
            "\u001b[?25l   \u001b[90m━━━━━━━━━━━━━━━━━━━━━━━━━━━━━━━━━━━━━━━━\u001b[0m \u001b[32m0.0/4.5 MB\u001b[0m \u001b[31m?\u001b[0m eta \u001b[36m-:--:--\u001b[0m\r\u001b[2K   \u001b[91m━\u001b[0m\u001b[90m╺\u001b[0m\u001b[90m━━━━━━━━━━━━━━━━━━━━━━━━━━━━━━━━━━━━━━\u001b[0m \u001b[32m0.2/4.5 MB\u001b[0m \u001b[31m4.3 MB/s\u001b[0m eta \u001b[36m0:00:02\u001b[0m\r\u001b[2K   \u001b[91m━━━━━━━━\u001b[0m\u001b[91m╸\u001b[0m\u001b[90m━━━━━━━━━━━━━━━━━━━━━━━━━━━━━━━\u001b[0m \u001b[32m1.0/4.5 MB\u001b[0m \u001b[31m14.0 MB/s\u001b[0m eta \u001b[36m0:00:01\u001b[0m\r\u001b[2K   \u001b[91m━━━━━━━━━━━━━━━━━━━━━━━━━━━━━━━━━━━━━━━\u001b[0m\u001b[91m╸\u001b[0m \u001b[32m4.5/4.5 MB\u001b[0m \u001b[31m41.2 MB/s\u001b[0m eta \u001b[36m0:00:01\u001b[0m\r\u001b[2K   \u001b[91m━━━━━━━━━━━━━━━━━━━━━━━━━━━━━━━━━━━━━━━\u001b[0m\u001b[91m╸\u001b[0m \u001b[32m4.5/4.5 MB\u001b[0m \u001b[31m41.2 MB/s\u001b[0m eta \u001b[36m0:00:01\u001b[0m\r\u001b[2K   \u001b[90m━━━━━━━━━━━━━━━━━━━━━━━━━━━━━━━━━━━━━━━━\u001b[0m \u001b[32m4.5/4.5 MB\u001b[0m \u001b[31m29.3 MB/s\u001b[0m eta \u001b[36m0:00:00\u001b[0m\n",
            "\u001b[?25h\u001b[31mERROR: pip's dependency resolver does not currently take into account all the packages that are installed. This behaviour is the source of the following dependency conflicts.\n",
            "facenet-pytorch 2.6.0 requires Pillow<10.3.0,>=10.2.0, but you have pillow 11.1.0 which is incompatible.\u001b[0m\u001b[31m\n",
            "\u001b[0m"
          ]
        }
      ]
    },
    {
      "cell_type": "code",
      "source": [
        "import torch\n",
        "import torch.nn as nn\n",
        "import torchvision.models as models\n",
        "\n",
        "import torchvision.transforms as transforms\n",
        "from PIL import Image"
      ],
      "metadata": {
        "id": "q7_FvpL9B9ju"
      },
      "execution_count": 3,
      "outputs": []
    },
    {
      "cell_type": "code",
      "source": [
        "from facenet_pytorch import MTCNN, InceptionResnetV1\n",
        "\n",
        "model = InceptionResnetV1(pretrained='vggface2').eval()\n",
        "model"
      ],
      "metadata": {
        "colab": {
          "base_uri": "https://localhost:8080/",
          "height": 1000,
          "referenced_widgets": [
            "a9c8f79c71c84fc0923dadb4844fa5b4",
            "d8ef7bf50a7344ae9cca6fc0e6fd269a",
            "89f25d0db4c34dd3a456c56fbf27357c",
            "3ca01d9c012644e1a16a61bfb9c00683",
            "0a801f011f1e4b91a842879b3a019571",
            "535a8c015383495b87f4168fa4eef701",
            "d278a6d0876241918f6f652d4dbccf1c",
            "24e29112051843f2b5e86fade47da10f",
            "a581852a54544290ba33b2a96332f672",
            "642e6414d4c344dc808c900c6ec36199",
            "8d419bb2c24f4964ba90725eed6d7b79"
          ]
        },
        "id": "E6uuRNfvCAUn",
        "outputId": "1bb85501-376c-41b6-bc31-4f092db5f5ea"
      },
      "execution_count": 4,
      "outputs": [
        {
          "output_type": "display_data",
          "data": {
            "text/plain": [
              "  0%|          | 0.00/107M [00:00<?, ?B/s]"
            ],
            "application/vnd.jupyter.widget-view+json": {
              "version_major": 2,
              "version_minor": 0,
              "model_id": "a9c8f79c71c84fc0923dadb4844fa5b4"
            }
          },
          "metadata": {}
        },
        {
          "output_type": "execute_result",
          "data": {
            "text/plain": [
              "InceptionResnetV1(\n",
              "  (conv2d_1a): BasicConv2d(\n",
              "    (conv): Conv2d(3, 32, kernel_size=(3, 3), stride=(2, 2), bias=False)\n",
              "    (bn): BatchNorm2d(32, eps=0.001, momentum=0.1, affine=True, track_running_stats=True)\n",
              "    (relu): ReLU()\n",
              "  )\n",
              "  (conv2d_2a): BasicConv2d(\n",
              "    (conv): Conv2d(32, 32, kernel_size=(3, 3), stride=(1, 1), bias=False)\n",
              "    (bn): BatchNorm2d(32, eps=0.001, momentum=0.1, affine=True, track_running_stats=True)\n",
              "    (relu): ReLU()\n",
              "  )\n",
              "  (conv2d_2b): BasicConv2d(\n",
              "    (conv): Conv2d(32, 64, kernel_size=(3, 3), stride=(1, 1), padding=(1, 1), bias=False)\n",
              "    (bn): BatchNorm2d(64, eps=0.001, momentum=0.1, affine=True, track_running_stats=True)\n",
              "    (relu): ReLU()\n",
              "  )\n",
              "  (maxpool_3a): MaxPool2d(kernel_size=3, stride=2, padding=0, dilation=1, ceil_mode=False)\n",
              "  (conv2d_3b): BasicConv2d(\n",
              "    (conv): Conv2d(64, 80, kernel_size=(1, 1), stride=(1, 1), bias=False)\n",
              "    (bn): BatchNorm2d(80, eps=0.001, momentum=0.1, affine=True, track_running_stats=True)\n",
              "    (relu): ReLU()\n",
              "  )\n",
              "  (conv2d_4a): BasicConv2d(\n",
              "    (conv): Conv2d(80, 192, kernel_size=(3, 3), stride=(1, 1), bias=False)\n",
              "    (bn): BatchNorm2d(192, eps=0.001, momentum=0.1, affine=True, track_running_stats=True)\n",
              "    (relu): ReLU()\n",
              "  )\n",
              "  (conv2d_4b): BasicConv2d(\n",
              "    (conv): Conv2d(192, 256, kernel_size=(3, 3), stride=(2, 2), bias=False)\n",
              "    (bn): BatchNorm2d(256, eps=0.001, momentum=0.1, affine=True, track_running_stats=True)\n",
              "    (relu): ReLU()\n",
              "  )\n",
              "  (repeat_1): Sequential(\n",
              "    (0): Block35(\n",
              "      (branch0): BasicConv2d(\n",
              "        (conv): Conv2d(256, 32, kernel_size=(1, 1), stride=(1, 1), bias=False)\n",
              "        (bn): BatchNorm2d(32, eps=0.001, momentum=0.1, affine=True, track_running_stats=True)\n",
              "        (relu): ReLU()\n",
              "      )\n",
              "      (branch1): Sequential(\n",
              "        (0): BasicConv2d(\n",
              "          (conv): Conv2d(256, 32, kernel_size=(1, 1), stride=(1, 1), bias=False)\n",
              "          (bn): BatchNorm2d(32, eps=0.001, momentum=0.1, affine=True, track_running_stats=True)\n",
              "          (relu): ReLU()\n",
              "        )\n",
              "        (1): BasicConv2d(\n",
              "          (conv): Conv2d(32, 32, kernel_size=(3, 3), stride=(1, 1), padding=(1, 1), bias=False)\n",
              "          (bn): BatchNorm2d(32, eps=0.001, momentum=0.1, affine=True, track_running_stats=True)\n",
              "          (relu): ReLU()\n",
              "        )\n",
              "      )\n",
              "      (branch2): Sequential(\n",
              "        (0): BasicConv2d(\n",
              "          (conv): Conv2d(256, 32, kernel_size=(1, 1), stride=(1, 1), bias=False)\n",
              "          (bn): BatchNorm2d(32, eps=0.001, momentum=0.1, affine=True, track_running_stats=True)\n",
              "          (relu): ReLU()\n",
              "        )\n",
              "        (1): BasicConv2d(\n",
              "          (conv): Conv2d(32, 32, kernel_size=(3, 3), stride=(1, 1), padding=(1, 1), bias=False)\n",
              "          (bn): BatchNorm2d(32, eps=0.001, momentum=0.1, affine=True, track_running_stats=True)\n",
              "          (relu): ReLU()\n",
              "        )\n",
              "        (2): BasicConv2d(\n",
              "          (conv): Conv2d(32, 32, kernel_size=(3, 3), stride=(1, 1), padding=(1, 1), bias=False)\n",
              "          (bn): BatchNorm2d(32, eps=0.001, momentum=0.1, affine=True, track_running_stats=True)\n",
              "          (relu): ReLU()\n",
              "        )\n",
              "      )\n",
              "      (conv2d): Conv2d(96, 256, kernel_size=(1, 1), stride=(1, 1))\n",
              "      (relu): ReLU()\n",
              "    )\n",
              "    (1): Block35(\n",
              "      (branch0): BasicConv2d(\n",
              "        (conv): Conv2d(256, 32, kernel_size=(1, 1), stride=(1, 1), bias=False)\n",
              "        (bn): BatchNorm2d(32, eps=0.001, momentum=0.1, affine=True, track_running_stats=True)\n",
              "        (relu): ReLU()\n",
              "      )\n",
              "      (branch1): Sequential(\n",
              "        (0): BasicConv2d(\n",
              "          (conv): Conv2d(256, 32, kernel_size=(1, 1), stride=(1, 1), bias=False)\n",
              "          (bn): BatchNorm2d(32, eps=0.001, momentum=0.1, affine=True, track_running_stats=True)\n",
              "          (relu): ReLU()\n",
              "        )\n",
              "        (1): BasicConv2d(\n",
              "          (conv): Conv2d(32, 32, kernel_size=(3, 3), stride=(1, 1), padding=(1, 1), bias=False)\n",
              "          (bn): BatchNorm2d(32, eps=0.001, momentum=0.1, affine=True, track_running_stats=True)\n",
              "          (relu): ReLU()\n",
              "        )\n",
              "      )\n",
              "      (branch2): Sequential(\n",
              "        (0): BasicConv2d(\n",
              "          (conv): Conv2d(256, 32, kernel_size=(1, 1), stride=(1, 1), bias=False)\n",
              "          (bn): BatchNorm2d(32, eps=0.001, momentum=0.1, affine=True, track_running_stats=True)\n",
              "          (relu): ReLU()\n",
              "        )\n",
              "        (1): BasicConv2d(\n",
              "          (conv): Conv2d(32, 32, kernel_size=(3, 3), stride=(1, 1), padding=(1, 1), bias=False)\n",
              "          (bn): BatchNorm2d(32, eps=0.001, momentum=0.1, affine=True, track_running_stats=True)\n",
              "          (relu): ReLU()\n",
              "        )\n",
              "        (2): BasicConv2d(\n",
              "          (conv): Conv2d(32, 32, kernel_size=(3, 3), stride=(1, 1), padding=(1, 1), bias=False)\n",
              "          (bn): BatchNorm2d(32, eps=0.001, momentum=0.1, affine=True, track_running_stats=True)\n",
              "          (relu): ReLU()\n",
              "        )\n",
              "      )\n",
              "      (conv2d): Conv2d(96, 256, kernel_size=(1, 1), stride=(1, 1))\n",
              "      (relu): ReLU()\n",
              "    )\n",
              "    (2): Block35(\n",
              "      (branch0): BasicConv2d(\n",
              "        (conv): Conv2d(256, 32, kernel_size=(1, 1), stride=(1, 1), bias=False)\n",
              "        (bn): BatchNorm2d(32, eps=0.001, momentum=0.1, affine=True, track_running_stats=True)\n",
              "        (relu): ReLU()\n",
              "      )\n",
              "      (branch1): Sequential(\n",
              "        (0): BasicConv2d(\n",
              "          (conv): Conv2d(256, 32, kernel_size=(1, 1), stride=(1, 1), bias=False)\n",
              "          (bn): BatchNorm2d(32, eps=0.001, momentum=0.1, affine=True, track_running_stats=True)\n",
              "          (relu): ReLU()\n",
              "        )\n",
              "        (1): BasicConv2d(\n",
              "          (conv): Conv2d(32, 32, kernel_size=(3, 3), stride=(1, 1), padding=(1, 1), bias=False)\n",
              "          (bn): BatchNorm2d(32, eps=0.001, momentum=0.1, affine=True, track_running_stats=True)\n",
              "          (relu): ReLU()\n",
              "        )\n",
              "      )\n",
              "      (branch2): Sequential(\n",
              "        (0): BasicConv2d(\n",
              "          (conv): Conv2d(256, 32, kernel_size=(1, 1), stride=(1, 1), bias=False)\n",
              "          (bn): BatchNorm2d(32, eps=0.001, momentum=0.1, affine=True, track_running_stats=True)\n",
              "          (relu): ReLU()\n",
              "        )\n",
              "        (1): BasicConv2d(\n",
              "          (conv): Conv2d(32, 32, kernel_size=(3, 3), stride=(1, 1), padding=(1, 1), bias=False)\n",
              "          (bn): BatchNorm2d(32, eps=0.001, momentum=0.1, affine=True, track_running_stats=True)\n",
              "          (relu): ReLU()\n",
              "        )\n",
              "        (2): BasicConv2d(\n",
              "          (conv): Conv2d(32, 32, kernel_size=(3, 3), stride=(1, 1), padding=(1, 1), bias=False)\n",
              "          (bn): BatchNorm2d(32, eps=0.001, momentum=0.1, affine=True, track_running_stats=True)\n",
              "          (relu): ReLU()\n",
              "        )\n",
              "      )\n",
              "      (conv2d): Conv2d(96, 256, kernel_size=(1, 1), stride=(1, 1))\n",
              "      (relu): ReLU()\n",
              "    )\n",
              "    (3): Block35(\n",
              "      (branch0): BasicConv2d(\n",
              "        (conv): Conv2d(256, 32, kernel_size=(1, 1), stride=(1, 1), bias=False)\n",
              "        (bn): BatchNorm2d(32, eps=0.001, momentum=0.1, affine=True, track_running_stats=True)\n",
              "        (relu): ReLU()\n",
              "      )\n",
              "      (branch1): Sequential(\n",
              "        (0): BasicConv2d(\n",
              "          (conv): Conv2d(256, 32, kernel_size=(1, 1), stride=(1, 1), bias=False)\n",
              "          (bn): BatchNorm2d(32, eps=0.001, momentum=0.1, affine=True, track_running_stats=True)\n",
              "          (relu): ReLU()\n",
              "        )\n",
              "        (1): BasicConv2d(\n",
              "          (conv): Conv2d(32, 32, kernel_size=(3, 3), stride=(1, 1), padding=(1, 1), bias=False)\n",
              "          (bn): BatchNorm2d(32, eps=0.001, momentum=0.1, affine=True, track_running_stats=True)\n",
              "          (relu): ReLU()\n",
              "        )\n",
              "      )\n",
              "      (branch2): Sequential(\n",
              "        (0): BasicConv2d(\n",
              "          (conv): Conv2d(256, 32, kernel_size=(1, 1), stride=(1, 1), bias=False)\n",
              "          (bn): BatchNorm2d(32, eps=0.001, momentum=0.1, affine=True, track_running_stats=True)\n",
              "          (relu): ReLU()\n",
              "        )\n",
              "        (1): BasicConv2d(\n",
              "          (conv): Conv2d(32, 32, kernel_size=(3, 3), stride=(1, 1), padding=(1, 1), bias=False)\n",
              "          (bn): BatchNorm2d(32, eps=0.001, momentum=0.1, affine=True, track_running_stats=True)\n",
              "          (relu): ReLU()\n",
              "        )\n",
              "        (2): BasicConv2d(\n",
              "          (conv): Conv2d(32, 32, kernel_size=(3, 3), stride=(1, 1), padding=(1, 1), bias=False)\n",
              "          (bn): BatchNorm2d(32, eps=0.001, momentum=0.1, affine=True, track_running_stats=True)\n",
              "          (relu): ReLU()\n",
              "        )\n",
              "      )\n",
              "      (conv2d): Conv2d(96, 256, kernel_size=(1, 1), stride=(1, 1))\n",
              "      (relu): ReLU()\n",
              "    )\n",
              "    (4): Block35(\n",
              "      (branch0): BasicConv2d(\n",
              "        (conv): Conv2d(256, 32, kernel_size=(1, 1), stride=(1, 1), bias=False)\n",
              "        (bn): BatchNorm2d(32, eps=0.001, momentum=0.1, affine=True, track_running_stats=True)\n",
              "        (relu): ReLU()\n",
              "      )\n",
              "      (branch1): Sequential(\n",
              "        (0): BasicConv2d(\n",
              "          (conv): Conv2d(256, 32, kernel_size=(1, 1), stride=(1, 1), bias=False)\n",
              "          (bn): BatchNorm2d(32, eps=0.001, momentum=0.1, affine=True, track_running_stats=True)\n",
              "          (relu): ReLU()\n",
              "        )\n",
              "        (1): BasicConv2d(\n",
              "          (conv): Conv2d(32, 32, kernel_size=(3, 3), stride=(1, 1), padding=(1, 1), bias=False)\n",
              "          (bn): BatchNorm2d(32, eps=0.001, momentum=0.1, affine=True, track_running_stats=True)\n",
              "          (relu): ReLU()\n",
              "        )\n",
              "      )\n",
              "      (branch2): Sequential(\n",
              "        (0): BasicConv2d(\n",
              "          (conv): Conv2d(256, 32, kernel_size=(1, 1), stride=(1, 1), bias=False)\n",
              "          (bn): BatchNorm2d(32, eps=0.001, momentum=0.1, affine=True, track_running_stats=True)\n",
              "          (relu): ReLU()\n",
              "        )\n",
              "        (1): BasicConv2d(\n",
              "          (conv): Conv2d(32, 32, kernel_size=(3, 3), stride=(1, 1), padding=(1, 1), bias=False)\n",
              "          (bn): BatchNorm2d(32, eps=0.001, momentum=0.1, affine=True, track_running_stats=True)\n",
              "          (relu): ReLU()\n",
              "        )\n",
              "        (2): BasicConv2d(\n",
              "          (conv): Conv2d(32, 32, kernel_size=(3, 3), stride=(1, 1), padding=(1, 1), bias=False)\n",
              "          (bn): BatchNorm2d(32, eps=0.001, momentum=0.1, affine=True, track_running_stats=True)\n",
              "          (relu): ReLU()\n",
              "        )\n",
              "      )\n",
              "      (conv2d): Conv2d(96, 256, kernel_size=(1, 1), stride=(1, 1))\n",
              "      (relu): ReLU()\n",
              "    )\n",
              "  )\n",
              "  (mixed_6a): Mixed_6a(\n",
              "    (branch0): BasicConv2d(\n",
              "      (conv): Conv2d(256, 384, kernel_size=(3, 3), stride=(2, 2), bias=False)\n",
              "      (bn): BatchNorm2d(384, eps=0.001, momentum=0.1, affine=True, track_running_stats=True)\n",
              "      (relu): ReLU()\n",
              "    )\n",
              "    (branch1): Sequential(\n",
              "      (0): BasicConv2d(\n",
              "        (conv): Conv2d(256, 192, kernel_size=(1, 1), stride=(1, 1), bias=False)\n",
              "        (bn): BatchNorm2d(192, eps=0.001, momentum=0.1, affine=True, track_running_stats=True)\n",
              "        (relu): ReLU()\n",
              "      )\n",
              "      (1): BasicConv2d(\n",
              "        (conv): Conv2d(192, 192, kernel_size=(3, 3), stride=(1, 1), padding=(1, 1), bias=False)\n",
              "        (bn): BatchNorm2d(192, eps=0.001, momentum=0.1, affine=True, track_running_stats=True)\n",
              "        (relu): ReLU()\n",
              "      )\n",
              "      (2): BasicConv2d(\n",
              "        (conv): Conv2d(192, 256, kernel_size=(3, 3), stride=(2, 2), bias=False)\n",
              "        (bn): BatchNorm2d(256, eps=0.001, momentum=0.1, affine=True, track_running_stats=True)\n",
              "        (relu): ReLU()\n",
              "      )\n",
              "    )\n",
              "    (branch2): MaxPool2d(kernel_size=3, stride=2, padding=0, dilation=1, ceil_mode=False)\n",
              "  )\n",
              "  (repeat_2): Sequential(\n",
              "    (0): Block17(\n",
              "      (branch0): BasicConv2d(\n",
              "        (conv): Conv2d(896, 128, kernel_size=(1, 1), stride=(1, 1), bias=False)\n",
              "        (bn): BatchNorm2d(128, eps=0.001, momentum=0.1, affine=True, track_running_stats=True)\n",
              "        (relu): ReLU()\n",
              "      )\n",
              "      (branch1): Sequential(\n",
              "        (0): BasicConv2d(\n",
              "          (conv): Conv2d(896, 128, kernel_size=(1, 1), stride=(1, 1), bias=False)\n",
              "          (bn): BatchNorm2d(128, eps=0.001, momentum=0.1, affine=True, track_running_stats=True)\n",
              "          (relu): ReLU()\n",
              "        )\n",
              "        (1): BasicConv2d(\n",
              "          (conv): Conv2d(128, 128, kernel_size=(1, 7), stride=(1, 1), padding=(0, 3), bias=False)\n",
              "          (bn): BatchNorm2d(128, eps=0.001, momentum=0.1, affine=True, track_running_stats=True)\n",
              "          (relu): ReLU()\n",
              "        )\n",
              "        (2): BasicConv2d(\n",
              "          (conv): Conv2d(128, 128, kernel_size=(7, 1), stride=(1, 1), padding=(3, 0), bias=False)\n",
              "          (bn): BatchNorm2d(128, eps=0.001, momentum=0.1, affine=True, track_running_stats=True)\n",
              "          (relu): ReLU()\n",
              "        )\n",
              "      )\n",
              "      (conv2d): Conv2d(256, 896, kernel_size=(1, 1), stride=(1, 1))\n",
              "      (relu): ReLU()\n",
              "    )\n",
              "    (1): Block17(\n",
              "      (branch0): BasicConv2d(\n",
              "        (conv): Conv2d(896, 128, kernel_size=(1, 1), stride=(1, 1), bias=False)\n",
              "        (bn): BatchNorm2d(128, eps=0.001, momentum=0.1, affine=True, track_running_stats=True)\n",
              "        (relu): ReLU()\n",
              "      )\n",
              "      (branch1): Sequential(\n",
              "        (0): BasicConv2d(\n",
              "          (conv): Conv2d(896, 128, kernel_size=(1, 1), stride=(1, 1), bias=False)\n",
              "          (bn): BatchNorm2d(128, eps=0.001, momentum=0.1, affine=True, track_running_stats=True)\n",
              "          (relu): ReLU()\n",
              "        )\n",
              "        (1): BasicConv2d(\n",
              "          (conv): Conv2d(128, 128, kernel_size=(1, 7), stride=(1, 1), padding=(0, 3), bias=False)\n",
              "          (bn): BatchNorm2d(128, eps=0.001, momentum=0.1, affine=True, track_running_stats=True)\n",
              "          (relu): ReLU()\n",
              "        )\n",
              "        (2): BasicConv2d(\n",
              "          (conv): Conv2d(128, 128, kernel_size=(7, 1), stride=(1, 1), padding=(3, 0), bias=False)\n",
              "          (bn): BatchNorm2d(128, eps=0.001, momentum=0.1, affine=True, track_running_stats=True)\n",
              "          (relu): ReLU()\n",
              "        )\n",
              "      )\n",
              "      (conv2d): Conv2d(256, 896, kernel_size=(1, 1), stride=(1, 1))\n",
              "      (relu): ReLU()\n",
              "    )\n",
              "    (2): Block17(\n",
              "      (branch0): BasicConv2d(\n",
              "        (conv): Conv2d(896, 128, kernel_size=(1, 1), stride=(1, 1), bias=False)\n",
              "        (bn): BatchNorm2d(128, eps=0.001, momentum=0.1, affine=True, track_running_stats=True)\n",
              "        (relu): ReLU()\n",
              "      )\n",
              "      (branch1): Sequential(\n",
              "        (0): BasicConv2d(\n",
              "          (conv): Conv2d(896, 128, kernel_size=(1, 1), stride=(1, 1), bias=False)\n",
              "          (bn): BatchNorm2d(128, eps=0.001, momentum=0.1, affine=True, track_running_stats=True)\n",
              "          (relu): ReLU()\n",
              "        )\n",
              "        (1): BasicConv2d(\n",
              "          (conv): Conv2d(128, 128, kernel_size=(1, 7), stride=(1, 1), padding=(0, 3), bias=False)\n",
              "          (bn): BatchNorm2d(128, eps=0.001, momentum=0.1, affine=True, track_running_stats=True)\n",
              "          (relu): ReLU()\n",
              "        )\n",
              "        (2): BasicConv2d(\n",
              "          (conv): Conv2d(128, 128, kernel_size=(7, 1), stride=(1, 1), padding=(3, 0), bias=False)\n",
              "          (bn): BatchNorm2d(128, eps=0.001, momentum=0.1, affine=True, track_running_stats=True)\n",
              "          (relu): ReLU()\n",
              "        )\n",
              "      )\n",
              "      (conv2d): Conv2d(256, 896, kernel_size=(1, 1), stride=(1, 1))\n",
              "      (relu): ReLU()\n",
              "    )\n",
              "    (3): Block17(\n",
              "      (branch0): BasicConv2d(\n",
              "        (conv): Conv2d(896, 128, kernel_size=(1, 1), stride=(1, 1), bias=False)\n",
              "        (bn): BatchNorm2d(128, eps=0.001, momentum=0.1, affine=True, track_running_stats=True)\n",
              "        (relu): ReLU()\n",
              "      )\n",
              "      (branch1): Sequential(\n",
              "        (0): BasicConv2d(\n",
              "          (conv): Conv2d(896, 128, kernel_size=(1, 1), stride=(1, 1), bias=False)\n",
              "          (bn): BatchNorm2d(128, eps=0.001, momentum=0.1, affine=True, track_running_stats=True)\n",
              "          (relu): ReLU()\n",
              "        )\n",
              "        (1): BasicConv2d(\n",
              "          (conv): Conv2d(128, 128, kernel_size=(1, 7), stride=(1, 1), padding=(0, 3), bias=False)\n",
              "          (bn): BatchNorm2d(128, eps=0.001, momentum=0.1, affine=True, track_running_stats=True)\n",
              "          (relu): ReLU()\n",
              "        )\n",
              "        (2): BasicConv2d(\n",
              "          (conv): Conv2d(128, 128, kernel_size=(7, 1), stride=(1, 1), padding=(3, 0), bias=False)\n",
              "          (bn): BatchNorm2d(128, eps=0.001, momentum=0.1, affine=True, track_running_stats=True)\n",
              "          (relu): ReLU()\n",
              "        )\n",
              "      )\n",
              "      (conv2d): Conv2d(256, 896, kernel_size=(1, 1), stride=(1, 1))\n",
              "      (relu): ReLU()\n",
              "    )\n",
              "    (4): Block17(\n",
              "      (branch0): BasicConv2d(\n",
              "        (conv): Conv2d(896, 128, kernel_size=(1, 1), stride=(1, 1), bias=False)\n",
              "        (bn): BatchNorm2d(128, eps=0.001, momentum=0.1, affine=True, track_running_stats=True)\n",
              "        (relu): ReLU()\n",
              "      )\n",
              "      (branch1): Sequential(\n",
              "        (0): BasicConv2d(\n",
              "          (conv): Conv2d(896, 128, kernel_size=(1, 1), stride=(1, 1), bias=False)\n",
              "          (bn): BatchNorm2d(128, eps=0.001, momentum=0.1, affine=True, track_running_stats=True)\n",
              "          (relu): ReLU()\n",
              "        )\n",
              "        (1): BasicConv2d(\n",
              "          (conv): Conv2d(128, 128, kernel_size=(1, 7), stride=(1, 1), padding=(0, 3), bias=False)\n",
              "          (bn): BatchNorm2d(128, eps=0.001, momentum=0.1, affine=True, track_running_stats=True)\n",
              "          (relu): ReLU()\n",
              "        )\n",
              "        (2): BasicConv2d(\n",
              "          (conv): Conv2d(128, 128, kernel_size=(7, 1), stride=(1, 1), padding=(3, 0), bias=False)\n",
              "          (bn): BatchNorm2d(128, eps=0.001, momentum=0.1, affine=True, track_running_stats=True)\n",
              "          (relu): ReLU()\n",
              "        )\n",
              "      )\n",
              "      (conv2d): Conv2d(256, 896, kernel_size=(1, 1), stride=(1, 1))\n",
              "      (relu): ReLU()\n",
              "    )\n",
              "    (5): Block17(\n",
              "      (branch0): BasicConv2d(\n",
              "        (conv): Conv2d(896, 128, kernel_size=(1, 1), stride=(1, 1), bias=False)\n",
              "        (bn): BatchNorm2d(128, eps=0.001, momentum=0.1, affine=True, track_running_stats=True)\n",
              "        (relu): ReLU()\n",
              "      )\n",
              "      (branch1): Sequential(\n",
              "        (0): BasicConv2d(\n",
              "          (conv): Conv2d(896, 128, kernel_size=(1, 1), stride=(1, 1), bias=False)\n",
              "          (bn): BatchNorm2d(128, eps=0.001, momentum=0.1, affine=True, track_running_stats=True)\n",
              "          (relu): ReLU()\n",
              "        )\n",
              "        (1): BasicConv2d(\n",
              "          (conv): Conv2d(128, 128, kernel_size=(1, 7), stride=(1, 1), padding=(0, 3), bias=False)\n",
              "          (bn): BatchNorm2d(128, eps=0.001, momentum=0.1, affine=True, track_running_stats=True)\n",
              "          (relu): ReLU()\n",
              "        )\n",
              "        (2): BasicConv2d(\n",
              "          (conv): Conv2d(128, 128, kernel_size=(7, 1), stride=(1, 1), padding=(3, 0), bias=False)\n",
              "          (bn): BatchNorm2d(128, eps=0.001, momentum=0.1, affine=True, track_running_stats=True)\n",
              "          (relu): ReLU()\n",
              "        )\n",
              "      )\n",
              "      (conv2d): Conv2d(256, 896, kernel_size=(1, 1), stride=(1, 1))\n",
              "      (relu): ReLU()\n",
              "    )\n",
              "    (6): Block17(\n",
              "      (branch0): BasicConv2d(\n",
              "        (conv): Conv2d(896, 128, kernel_size=(1, 1), stride=(1, 1), bias=False)\n",
              "        (bn): BatchNorm2d(128, eps=0.001, momentum=0.1, affine=True, track_running_stats=True)\n",
              "        (relu): ReLU()\n",
              "      )\n",
              "      (branch1): Sequential(\n",
              "        (0): BasicConv2d(\n",
              "          (conv): Conv2d(896, 128, kernel_size=(1, 1), stride=(1, 1), bias=False)\n",
              "          (bn): BatchNorm2d(128, eps=0.001, momentum=0.1, affine=True, track_running_stats=True)\n",
              "          (relu): ReLU()\n",
              "        )\n",
              "        (1): BasicConv2d(\n",
              "          (conv): Conv2d(128, 128, kernel_size=(1, 7), stride=(1, 1), padding=(0, 3), bias=False)\n",
              "          (bn): BatchNorm2d(128, eps=0.001, momentum=0.1, affine=True, track_running_stats=True)\n",
              "          (relu): ReLU()\n",
              "        )\n",
              "        (2): BasicConv2d(\n",
              "          (conv): Conv2d(128, 128, kernel_size=(7, 1), stride=(1, 1), padding=(3, 0), bias=False)\n",
              "          (bn): BatchNorm2d(128, eps=0.001, momentum=0.1, affine=True, track_running_stats=True)\n",
              "          (relu): ReLU()\n",
              "        )\n",
              "      )\n",
              "      (conv2d): Conv2d(256, 896, kernel_size=(1, 1), stride=(1, 1))\n",
              "      (relu): ReLU()\n",
              "    )\n",
              "    (7): Block17(\n",
              "      (branch0): BasicConv2d(\n",
              "        (conv): Conv2d(896, 128, kernel_size=(1, 1), stride=(1, 1), bias=False)\n",
              "        (bn): BatchNorm2d(128, eps=0.001, momentum=0.1, affine=True, track_running_stats=True)\n",
              "        (relu): ReLU()\n",
              "      )\n",
              "      (branch1): Sequential(\n",
              "        (0): BasicConv2d(\n",
              "          (conv): Conv2d(896, 128, kernel_size=(1, 1), stride=(1, 1), bias=False)\n",
              "          (bn): BatchNorm2d(128, eps=0.001, momentum=0.1, affine=True, track_running_stats=True)\n",
              "          (relu): ReLU()\n",
              "        )\n",
              "        (1): BasicConv2d(\n",
              "          (conv): Conv2d(128, 128, kernel_size=(1, 7), stride=(1, 1), padding=(0, 3), bias=False)\n",
              "          (bn): BatchNorm2d(128, eps=0.001, momentum=0.1, affine=True, track_running_stats=True)\n",
              "          (relu): ReLU()\n",
              "        )\n",
              "        (2): BasicConv2d(\n",
              "          (conv): Conv2d(128, 128, kernel_size=(7, 1), stride=(1, 1), padding=(3, 0), bias=False)\n",
              "          (bn): BatchNorm2d(128, eps=0.001, momentum=0.1, affine=True, track_running_stats=True)\n",
              "          (relu): ReLU()\n",
              "        )\n",
              "      )\n",
              "      (conv2d): Conv2d(256, 896, kernel_size=(1, 1), stride=(1, 1))\n",
              "      (relu): ReLU()\n",
              "    )\n",
              "    (8): Block17(\n",
              "      (branch0): BasicConv2d(\n",
              "        (conv): Conv2d(896, 128, kernel_size=(1, 1), stride=(1, 1), bias=False)\n",
              "        (bn): BatchNorm2d(128, eps=0.001, momentum=0.1, affine=True, track_running_stats=True)\n",
              "        (relu): ReLU()\n",
              "      )\n",
              "      (branch1): Sequential(\n",
              "        (0): BasicConv2d(\n",
              "          (conv): Conv2d(896, 128, kernel_size=(1, 1), stride=(1, 1), bias=False)\n",
              "          (bn): BatchNorm2d(128, eps=0.001, momentum=0.1, affine=True, track_running_stats=True)\n",
              "          (relu): ReLU()\n",
              "        )\n",
              "        (1): BasicConv2d(\n",
              "          (conv): Conv2d(128, 128, kernel_size=(1, 7), stride=(1, 1), padding=(0, 3), bias=False)\n",
              "          (bn): BatchNorm2d(128, eps=0.001, momentum=0.1, affine=True, track_running_stats=True)\n",
              "          (relu): ReLU()\n",
              "        )\n",
              "        (2): BasicConv2d(\n",
              "          (conv): Conv2d(128, 128, kernel_size=(7, 1), stride=(1, 1), padding=(3, 0), bias=False)\n",
              "          (bn): BatchNorm2d(128, eps=0.001, momentum=0.1, affine=True, track_running_stats=True)\n",
              "          (relu): ReLU()\n",
              "        )\n",
              "      )\n",
              "      (conv2d): Conv2d(256, 896, kernel_size=(1, 1), stride=(1, 1))\n",
              "      (relu): ReLU()\n",
              "    )\n",
              "    (9): Block17(\n",
              "      (branch0): BasicConv2d(\n",
              "        (conv): Conv2d(896, 128, kernel_size=(1, 1), stride=(1, 1), bias=False)\n",
              "        (bn): BatchNorm2d(128, eps=0.001, momentum=0.1, affine=True, track_running_stats=True)\n",
              "        (relu): ReLU()\n",
              "      )\n",
              "      (branch1): Sequential(\n",
              "        (0): BasicConv2d(\n",
              "          (conv): Conv2d(896, 128, kernel_size=(1, 1), stride=(1, 1), bias=False)\n",
              "          (bn): BatchNorm2d(128, eps=0.001, momentum=0.1, affine=True, track_running_stats=True)\n",
              "          (relu): ReLU()\n",
              "        )\n",
              "        (1): BasicConv2d(\n",
              "          (conv): Conv2d(128, 128, kernel_size=(1, 7), stride=(1, 1), padding=(0, 3), bias=False)\n",
              "          (bn): BatchNorm2d(128, eps=0.001, momentum=0.1, affine=True, track_running_stats=True)\n",
              "          (relu): ReLU()\n",
              "        )\n",
              "        (2): BasicConv2d(\n",
              "          (conv): Conv2d(128, 128, kernel_size=(7, 1), stride=(1, 1), padding=(3, 0), bias=False)\n",
              "          (bn): BatchNorm2d(128, eps=0.001, momentum=0.1, affine=True, track_running_stats=True)\n",
              "          (relu): ReLU()\n",
              "        )\n",
              "      )\n",
              "      (conv2d): Conv2d(256, 896, kernel_size=(1, 1), stride=(1, 1))\n",
              "      (relu): ReLU()\n",
              "    )\n",
              "  )\n",
              "  (mixed_7a): Mixed_7a(\n",
              "    (branch0): Sequential(\n",
              "      (0): BasicConv2d(\n",
              "        (conv): Conv2d(896, 256, kernel_size=(1, 1), stride=(1, 1), bias=False)\n",
              "        (bn): BatchNorm2d(256, eps=0.001, momentum=0.1, affine=True, track_running_stats=True)\n",
              "        (relu): ReLU()\n",
              "      )\n",
              "      (1): BasicConv2d(\n",
              "        (conv): Conv2d(256, 384, kernel_size=(3, 3), stride=(2, 2), bias=False)\n",
              "        (bn): BatchNorm2d(384, eps=0.001, momentum=0.1, affine=True, track_running_stats=True)\n",
              "        (relu): ReLU()\n",
              "      )\n",
              "    )\n",
              "    (branch1): Sequential(\n",
              "      (0): BasicConv2d(\n",
              "        (conv): Conv2d(896, 256, kernel_size=(1, 1), stride=(1, 1), bias=False)\n",
              "        (bn): BatchNorm2d(256, eps=0.001, momentum=0.1, affine=True, track_running_stats=True)\n",
              "        (relu): ReLU()\n",
              "      )\n",
              "      (1): BasicConv2d(\n",
              "        (conv): Conv2d(256, 256, kernel_size=(3, 3), stride=(2, 2), bias=False)\n",
              "        (bn): BatchNorm2d(256, eps=0.001, momentum=0.1, affine=True, track_running_stats=True)\n",
              "        (relu): ReLU()\n",
              "      )\n",
              "    )\n",
              "    (branch2): Sequential(\n",
              "      (0): BasicConv2d(\n",
              "        (conv): Conv2d(896, 256, kernel_size=(1, 1), stride=(1, 1), bias=False)\n",
              "        (bn): BatchNorm2d(256, eps=0.001, momentum=0.1, affine=True, track_running_stats=True)\n",
              "        (relu): ReLU()\n",
              "      )\n",
              "      (1): BasicConv2d(\n",
              "        (conv): Conv2d(256, 256, kernel_size=(3, 3), stride=(1, 1), padding=(1, 1), bias=False)\n",
              "        (bn): BatchNorm2d(256, eps=0.001, momentum=0.1, affine=True, track_running_stats=True)\n",
              "        (relu): ReLU()\n",
              "      )\n",
              "      (2): BasicConv2d(\n",
              "        (conv): Conv2d(256, 256, kernel_size=(3, 3), stride=(2, 2), bias=False)\n",
              "        (bn): BatchNorm2d(256, eps=0.001, momentum=0.1, affine=True, track_running_stats=True)\n",
              "        (relu): ReLU()\n",
              "      )\n",
              "    )\n",
              "    (branch3): MaxPool2d(kernel_size=3, stride=2, padding=0, dilation=1, ceil_mode=False)\n",
              "  )\n",
              "  (repeat_3): Sequential(\n",
              "    (0): Block8(\n",
              "      (branch0): BasicConv2d(\n",
              "        (conv): Conv2d(1792, 192, kernel_size=(1, 1), stride=(1, 1), bias=False)\n",
              "        (bn): BatchNorm2d(192, eps=0.001, momentum=0.1, affine=True, track_running_stats=True)\n",
              "        (relu): ReLU()\n",
              "      )\n",
              "      (branch1): Sequential(\n",
              "        (0): BasicConv2d(\n",
              "          (conv): Conv2d(1792, 192, kernel_size=(1, 1), stride=(1, 1), bias=False)\n",
              "          (bn): BatchNorm2d(192, eps=0.001, momentum=0.1, affine=True, track_running_stats=True)\n",
              "          (relu): ReLU()\n",
              "        )\n",
              "        (1): BasicConv2d(\n",
              "          (conv): Conv2d(192, 192, kernel_size=(1, 3), stride=(1, 1), padding=(0, 1), bias=False)\n",
              "          (bn): BatchNorm2d(192, eps=0.001, momentum=0.1, affine=True, track_running_stats=True)\n",
              "          (relu): ReLU()\n",
              "        )\n",
              "        (2): BasicConv2d(\n",
              "          (conv): Conv2d(192, 192, kernel_size=(3, 1), stride=(1, 1), padding=(1, 0), bias=False)\n",
              "          (bn): BatchNorm2d(192, eps=0.001, momentum=0.1, affine=True, track_running_stats=True)\n",
              "          (relu): ReLU()\n",
              "        )\n",
              "      )\n",
              "      (conv2d): Conv2d(384, 1792, kernel_size=(1, 1), stride=(1, 1))\n",
              "      (relu): ReLU()\n",
              "    )\n",
              "    (1): Block8(\n",
              "      (branch0): BasicConv2d(\n",
              "        (conv): Conv2d(1792, 192, kernel_size=(1, 1), stride=(1, 1), bias=False)\n",
              "        (bn): BatchNorm2d(192, eps=0.001, momentum=0.1, affine=True, track_running_stats=True)\n",
              "        (relu): ReLU()\n",
              "      )\n",
              "      (branch1): Sequential(\n",
              "        (0): BasicConv2d(\n",
              "          (conv): Conv2d(1792, 192, kernel_size=(1, 1), stride=(1, 1), bias=False)\n",
              "          (bn): BatchNorm2d(192, eps=0.001, momentum=0.1, affine=True, track_running_stats=True)\n",
              "          (relu): ReLU()\n",
              "        )\n",
              "        (1): BasicConv2d(\n",
              "          (conv): Conv2d(192, 192, kernel_size=(1, 3), stride=(1, 1), padding=(0, 1), bias=False)\n",
              "          (bn): BatchNorm2d(192, eps=0.001, momentum=0.1, affine=True, track_running_stats=True)\n",
              "          (relu): ReLU()\n",
              "        )\n",
              "        (2): BasicConv2d(\n",
              "          (conv): Conv2d(192, 192, kernel_size=(3, 1), stride=(1, 1), padding=(1, 0), bias=False)\n",
              "          (bn): BatchNorm2d(192, eps=0.001, momentum=0.1, affine=True, track_running_stats=True)\n",
              "          (relu): ReLU()\n",
              "        )\n",
              "      )\n",
              "      (conv2d): Conv2d(384, 1792, kernel_size=(1, 1), stride=(1, 1))\n",
              "      (relu): ReLU()\n",
              "    )\n",
              "    (2): Block8(\n",
              "      (branch0): BasicConv2d(\n",
              "        (conv): Conv2d(1792, 192, kernel_size=(1, 1), stride=(1, 1), bias=False)\n",
              "        (bn): BatchNorm2d(192, eps=0.001, momentum=0.1, affine=True, track_running_stats=True)\n",
              "        (relu): ReLU()\n",
              "      )\n",
              "      (branch1): Sequential(\n",
              "        (0): BasicConv2d(\n",
              "          (conv): Conv2d(1792, 192, kernel_size=(1, 1), stride=(1, 1), bias=False)\n",
              "          (bn): BatchNorm2d(192, eps=0.001, momentum=0.1, affine=True, track_running_stats=True)\n",
              "          (relu): ReLU()\n",
              "        )\n",
              "        (1): BasicConv2d(\n",
              "          (conv): Conv2d(192, 192, kernel_size=(1, 3), stride=(1, 1), padding=(0, 1), bias=False)\n",
              "          (bn): BatchNorm2d(192, eps=0.001, momentum=0.1, affine=True, track_running_stats=True)\n",
              "          (relu): ReLU()\n",
              "        )\n",
              "        (2): BasicConv2d(\n",
              "          (conv): Conv2d(192, 192, kernel_size=(3, 1), stride=(1, 1), padding=(1, 0), bias=False)\n",
              "          (bn): BatchNorm2d(192, eps=0.001, momentum=0.1, affine=True, track_running_stats=True)\n",
              "          (relu): ReLU()\n",
              "        )\n",
              "      )\n",
              "      (conv2d): Conv2d(384, 1792, kernel_size=(1, 1), stride=(1, 1))\n",
              "      (relu): ReLU()\n",
              "    )\n",
              "    (3): Block8(\n",
              "      (branch0): BasicConv2d(\n",
              "        (conv): Conv2d(1792, 192, kernel_size=(1, 1), stride=(1, 1), bias=False)\n",
              "        (bn): BatchNorm2d(192, eps=0.001, momentum=0.1, affine=True, track_running_stats=True)\n",
              "        (relu): ReLU()\n",
              "      )\n",
              "      (branch1): Sequential(\n",
              "        (0): BasicConv2d(\n",
              "          (conv): Conv2d(1792, 192, kernel_size=(1, 1), stride=(1, 1), bias=False)\n",
              "          (bn): BatchNorm2d(192, eps=0.001, momentum=0.1, affine=True, track_running_stats=True)\n",
              "          (relu): ReLU()\n",
              "        )\n",
              "        (1): BasicConv2d(\n",
              "          (conv): Conv2d(192, 192, kernel_size=(1, 3), stride=(1, 1), padding=(0, 1), bias=False)\n",
              "          (bn): BatchNorm2d(192, eps=0.001, momentum=0.1, affine=True, track_running_stats=True)\n",
              "          (relu): ReLU()\n",
              "        )\n",
              "        (2): BasicConv2d(\n",
              "          (conv): Conv2d(192, 192, kernel_size=(3, 1), stride=(1, 1), padding=(1, 0), bias=False)\n",
              "          (bn): BatchNorm2d(192, eps=0.001, momentum=0.1, affine=True, track_running_stats=True)\n",
              "          (relu): ReLU()\n",
              "        )\n",
              "      )\n",
              "      (conv2d): Conv2d(384, 1792, kernel_size=(1, 1), stride=(1, 1))\n",
              "      (relu): ReLU()\n",
              "    )\n",
              "    (4): Block8(\n",
              "      (branch0): BasicConv2d(\n",
              "        (conv): Conv2d(1792, 192, kernel_size=(1, 1), stride=(1, 1), bias=False)\n",
              "        (bn): BatchNorm2d(192, eps=0.001, momentum=0.1, affine=True, track_running_stats=True)\n",
              "        (relu): ReLU()\n",
              "      )\n",
              "      (branch1): Sequential(\n",
              "        (0): BasicConv2d(\n",
              "          (conv): Conv2d(1792, 192, kernel_size=(1, 1), stride=(1, 1), bias=False)\n",
              "          (bn): BatchNorm2d(192, eps=0.001, momentum=0.1, affine=True, track_running_stats=True)\n",
              "          (relu): ReLU()\n",
              "        )\n",
              "        (1): BasicConv2d(\n",
              "          (conv): Conv2d(192, 192, kernel_size=(1, 3), stride=(1, 1), padding=(0, 1), bias=False)\n",
              "          (bn): BatchNorm2d(192, eps=0.001, momentum=0.1, affine=True, track_running_stats=True)\n",
              "          (relu): ReLU()\n",
              "        )\n",
              "        (2): BasicConv2d(\n",
              "          (conv): Conv2d(192, 192, kernel_size=(3, 1), stride=(1, 1), padding=(1, 0), bias=False)\n",
              "          (bn): BatchNorm2d(192, eps=0.001, momentum=0.1, affine=True, track_running_stats=True)\n",
              "          (relu): ReLU()\n",
              "        )\n",
              "      )\n",
              "      (conv2d): Conv2d(384, 1792, kernel_size=(1, 1), stride=(1, 1))\n",
              "      (relu): ReLU()\n",
              "    )\n",
              "  )\n",
              "  (block8): Block8(\n",
              "    (branch0): BasicConv2d(\n",
              "      (conv): Conv2d(1792, 192, kernel_size=(1, 1), stride=(1, 1), bias=False)\n",
              "      (bn): BatchNorm2d(192, eps=0.001, momentum=0.1, affine=True, track_running_stats=True)\n",
              "      (relu): ReLU()\n",
              "    )\n",
              "    (branch1): Sequential(\n",
              "      (0): BasicConv2d(\n",
              "        (conv): Conv2d(1792, 192, kernel_size=(1, 1), stride=(1, 1), bias=False)\n",
              "        (bn): BatchNorm2d(192, eps=0.001, momentum=0.1, affine=True, track_running_stats=True)\n",
              "        (relu): ReLU()\n",
              "      )\n",
              "      (1): BasicConv2d(\n",
              "        (conv): Conv2d(192, 192, kernel_size=(1, 3), stride=(1, 1), padding=(0, 1), bias=False)\n",
              "        (bn): BatchNorm2d(192, eps=0.001, momentum=0.1, affine=True, track_running_stats=True)\n",
              "        (relu): ReLU()\n",
              "      )\n",
              "      (2): BasicConv2d(\n",
              "        (conv): Conv2d(192, 192, kernel_size=(3, 1), stride=(1, 1), padding=(1, 0), bias=False)\n",
              "        (bn): BatchNorm2d(192, eps=0.001, momentum=0.1, affine=True, track_running_stats=True)\n",
              "        (relu): ReLU()\n",
              "      )\n",
              "    )\n",
              "    (conv2d): Conv2d(384, 1792, kernel_size=(1, 1), stride=(1, 1))\n",
              "  )\n",
              "  (avgpool_1a): AdaptiveAvgPool2d(output_size=1)\n",
              "  (dropout): Dropout(p=0.6, inplace=False)\n",
              "  (last_linear): Linear(in_features=1792, out_features=512, bias=False)\n",
              "  (last_bn): BatchNorm1d(512, eps=0.001, momentum=0.1, affine=True, track_running_stats=True)\n",
              "  (logits): Linear(in_features=512, out_features=8631, bias=True)\n",
              ")"
            ]
          },
          "metadata": {},
          "execution_count": 4
        }
      ]
    },
    {
      "cell_type": "code",
      "source": [
        "# Preprocessing function to transform the image into a tensor\n",
        "def preprocess_image(image_path):\n",
        "    image = Image.open(image_path).convert('RGB')\n",
        "    preprocess = transforms.Compose([\n",
        "        transforms.Resize((224, 224)),\n",
        "        transforms.ToTensor(),\n",
        "        transforms.Normalize(mean=[0.485, 0.456, 0.406], std=[0.229, 0.224, 0.225]),\n",
        "    ])\n",
        "    return preprocess(image).unsqueeze(0)\n",
        "\n",
        "# Function to create image embeddings\n",
        "def create_image_embedding(image_path):\n",
        "    try:\n",
        "        input_tensor = preprocess_image(image_path)\n",
        "        with torch.no_grad():\n",
        "            embeddings = model(input_tensor)# ebedding important line\n",
        "        return embeddings.squeeze().numpy()\n",
        "    except Exception as e:\n",
        "        print(\"Error:\", e)\n",
        "        return None"
      ],
      "metadata": {
        "id": "Fj2L1SJ5CHib"
      },
      "execution_count": 5,
      "outputs": []
    },
    {
      "cell_type": "code",
      "source": [
        "!mkdir images"
      ],
      "metadata": {
        "id": "ojtJtQPPDcld"
      },
      "execution_count": 6,
      "outputs": []
    },
    {
      "cell_type": "code",
      "source": [
        "# prompt: create python function where we provide image url and imag_name then it save in images folder\n",
        "\n",
        "import requests\n",
        "import os\n",
        "\n",
        "def save_image_from_url(image_url, image_name):\n",
        "  \"\"\"\n",
        "  Downloads an image from a URL and saves it to the 'images' folder.\n",
        "\n",
        "  Args:\n",
        "    image_url: The URL of the image to download.\n",
        "    image_name: The name of the file to save the image as.\n",
        "  \"\"\"\n",
        "  try:\n",
        "    if not os.path.exists(\"images\"):\n",
        "      os.makedirs(\"images\")\n",
        "\n",
        "    image_path = os.path.join(\"images\", image_name)\n",
        "\n",
        "    response = requests.get(image_url, stream=True)\n",
        "    response.raise_for_status()  # Raise an exception for bad status codes\n",
        "\n",
        "    with open(image_path, 'wb') as file:\n",
        "      for chunk in response.iter_content(chunk_size=8192):\n",
        "        file.write(chunk)\n",
        "\n",
        "    print(f\"Image saved to: {image_path}\")\n",
        "  except requests.exceptions.RequestException as e:\n",
        "    print(f\"Error downloading image: {e}\")\n",
        "  except Exception as e:\n",
        "    print(f\"An error occurred: {e}\")\n"
      ],
      "metadata": {
        "id": "6JDFp3fQDd3K"
      },
      "execution_count": 7,
      "outputs": []
    },
    {
      "cell_type": "code",
      "source": [
        "# Example usage\n",
        "image_path = \"./images/a2.jpg\"\n",
        "q2 = create_image_embedding(image_path)\n",
        "\n",
        "# 'embedding' now contains a dense vector representation of the image\n",
        "print(\"Image Embedding Shape:\", q2.shape)\n",
        "print(\"Image Embedding:\", q2)"
      ],
      "metadata": {
        "colab": {
          "base_uri": "https://localhost:8080/"
        },
        "id": "t8ARut3GDix-",
        "outputId": "9d11f29c-fc03-4ea7-8106-62054484289b"
      },
      "execution_count": 8,
      "outputs": [
        {
          "output_type": "stream",
          "name": "stdout",
          "text": [
            "Image Embedding Shape: (512,)\n",
            "Image Embedding: [-3.96144278e-02 -6.29611139e-04 -3.23139317e-02  7.42852762e-02\n",
            " -4.04314138e-02  2.32907999e-02  6.29734388e-03  3.41908336e-02\n",
            "  1.28629357e-02 -9.68633592e-02 -2.26308685e-02  5.19554839e-02\n",
            "  5.05318604e-02  2.70151105e-02 -7.44931120e-03 -8.18063468e-02\n",
            " -1.09668383e-02  7.78055042e-02  4.41039476e-04 -2.18602866e-02\n",
            " -7.74376327e-03 -1.90062001e-02  3.41277570e-02  2.73474604e-02\n",
            "  7.68685564e-02 -4.13833698e-03  2.36151405e-02  4.64841537e-02\n",
            "  2.54580788e-02  3.83891258e-03  2.80001201e-02  1.64792908e-03\n",
            " -6.30987212e-02 -2.25403961e-02 -2.78096236e-02  7.45090917e-02\n",
            " -7.96897933e-02  4.88153845e-02 -7.42103681e-02  3.84138431e-03\n",
            "  2.92612836e-02 -3.55984457e-02 -2.07909290e-02 -8.26876760e-02\n",
            "  7.88201857e-03 -2.65833680e-02 -3.21499817e-02  2.81397160e-02\n",
            " -7.79032474e-03 -5.62197343e-02  1.38547756e-02 -6.21309329e-04\n",
            "  7.72540793e-02  6.95306510e-02 -3.10184713e-02  1.79098565e-02\n",
            " -4.83225696e-02  1.16739526e-01  2.72726677e-02 -1.08386073e-02\n",
            " -1.21145719e-03  1.85014273e-03  4.33855355e-02  4.48732823e-02\n",
            "  3.81533876e-02  4.24279571e-02 -4.14085798e-02 -3.48190381e-03\n",
            " -2.81171966e-02  2.49793865e-02 -5.21041229e-02  4.54253852e-02\n",
            "  2.79085012e-03 -3.25039290e-02  9.13454294e-02 -8.07558075e-02\n",
            " -5.33297472e-02 -1.63129102e-02 -1.89765841e-02 -1.28899096e-02\n",
            "  1.65456086e-02  1.34671656e-02  6.98001683e-02 -4.85905856e-02\n",
            " -6.65688654e-03  2.30384395e-02  2.70835608e-02 -3.78291719e-02\n",
            "  2.30140705e-02  4.50640954e-02  7.49854520e-02  1.17275156e-01\n",
            "  1.44147323e-02 -1.67122912e-02  4.44864482e-02  1.48067586e-02\n",
            "  5.96906915e-02 -4.72442508e-02 -5.17702959e-02  3.81624512e-02\n",
            " -2.65538204e-03 -7.03097284e-02  1.88219734e-02 -2.07954040e-03\n",
            " -2.35399120e-02  4.64614481e-02  2.37137508e-02  8.02491531e-02\n",
            " -1.93713512e-02  7.92659745e-02  2.17555743e-02  7.68534839e-02\n",
            " -2.29086401e-03  2.35891528e-02 -8.68210685e-04 -7.78847113e-02\n",
            " -6.27535954e-02  2.46941317e-02 -1.45493671e-01  4.64653736e-03\n",
            " -5.14415130e-02  6.17742576e-02 -9.30953957e-03 -3.62893902e-02\n",
            " -3.94790061e-02 -2.49565374e-02 -9.30595025e-03  2.82952543e-02\n",
            " -5.43309301e-02 -6.32837936e-02 -4.47029760e-03 -1.62702557e-02\n",
            "  5.56118637e-02  1.21947210e-02 -1.10647576e-02  8.91840607e-02\n",
            "  6.73595518e-02  4.02034372e-02 -6.05651885e-02  5.31039573e-03\n",
            " -6.08042115e-03 -2.24403222e-03  3.20491344e-02  8.11784491e-02\n",
            "  1.98066351e-03  6.09323476e-03 -3.12007926e-02  4.00128551e-02\n",
            "  1.20141581e-02 -3.09798941e-02 -8.34783539e-03 -2.06560269e-03\n",
            " -5.77169955e-02  1.87726319e-02  6.63738549e-02 -2.45641451e-02\n",
            "  2.02444587e-02  6.90707564e-03 -2.73219589e-02  7.58286938e-02\n",
            "  4.23332714e-02  5.83346374e-02  6.49979413e-02  3.12091652e-02\n",
            " -1.83725879e-02  1.47739146e-02 -6.93281367e-02 -7.42183328e-02\n",
            " -4.49112915e-02  3.40585709e-02 -4.71804962e-02  1.83940865e-03\n",
            "  3.83835137e-02 -4.17887187e-03 -5.35532925e-03  6.27731020e-03\n",
            "  1.82382725e-02 -2.16580089e-02 -1.20613612e-01  1.97293255e-02\n",
            " -3.73280011e-02  1.13466335e-02 -3.47210504e-02  1.66641716e-02\n",
            " -1.26742860e-02  6.59987051e-03  2.83533782e-02 -2.87613999e-02\n",
            "  3.06288842e-02 -3.46964155e-03  1.74833031e-03 -3.11873779e-02\n",
            "  1.70884989e-02 -6.42492771e-02 -6.07201830e-02  3.77596915e-02\n",
            " -1.65962838e-02 -2.02459563e-02  1.77157228e-03 -4.75455038e-02\n",
            "  4.02362160e-02  2.47557107e-02 -5.64717352e-02  3.65614966e-02\n",
            "  6.88956007e-02 -7.09417686e-02 -3.17360424e-02 -4.21590321e-02\n",
            "  3.01564150e-02 -6.44690683e-03  2.54310444e-02  7.72847980e-03\n",
            " -6.04487909e-03  2.74086520e-02 -9.97862592e-03  1.65889915e-02\n",
            " -1.85991693e-02  7.63685256e-02 -1.67489871e-02 -4.37840484e-02\n",
            " -2.18740702e-02 -1.12969782e-02 -7.83243701e-02 -4.23563682e-02\n",
            "  9.01567191e-03  4.61554937e-02  1.64579451e-02  7.31906071e-02\n",
            " -5.93271814e-02 -6.37258962e-02  7.31556723e-03  4.34455872e-02\n",
            "  1.30549157e-02 -5.95950074e-02 -5.23775676e-03  8.69850963e-02\n",
            " -5.76898381e-02  5.15162796e-02 -4.39227894e-02 -3.63953374e-02\n",
            " -1.23641782e-01 -2.64277821e-03 -3.72812934e-02  3.38741615e-02\n",
            "  7.65038654e-02  5.11001535e-02  6.43591657e-02 -1.82036143e-02\n",
            " -3.15297768e-03  4.52744216e-02 -3.79326195e-02 -7.76496623e-03\n",
            " -8.76604393e-03  6.23003989e-02  7.97935277e-02  2.76936311e-02\n",
            "  7.06451666e-03 -3.55472043e-02 -7.67097762e-03  7.57690519e-02\n",
            "  4.22357880e-02  1.28542911e-02 -1.10978121e-02 -4.19658162e-02\n",
            " -7.21089216e-03 -8.37902576e-02 -6.04524352e-02  3.50741819e-02\n",
            " -3.57100554e-02  4.12043184e-02 -4.68839593e-02 -4.06902544e-02\n",
            " -8.17079283e-03  3.53509374e-02  1.06589735e-01 -3.39596979e-02\n",
            "  1.78724714e-02 -8.15991387e-02  2.68004686e-02  2.45004892e-02\n",
            " -1.26138534e-02 -4.62684222e-02 -1.12243108e-01 -5.77033684e-02\n",
            " -6.03868663e-02  3.34345773e-02 -4.03858162e-02  5.04876524e-02\n",
            " -5.85815497e-02 -3.89629938e-02  4.65713590e-02 -3.49692591e-02\n",
            "  7.26720691e-02 -5.60208298e-02 -1.20657254e-02 -4.29472625e-02\n",
            "  7.25296661e-02  1.90083645e-02 -3.38307694e-02  3.39421593e-02\n",
            "  5.80000021e-02  2.53423979e-03  9.16333497e-02  1.07149985e-02\n",
            "  7.72247165e-02 -8.92199762e-03 -3.45789716e-02 -1.78117789e-02\n",
            "  5.38774356e-02 -2.93450933e-02 -6.23099972e-03  7.76799172e-02\n",
            "  5.72892912e-02  9.03639719e-02  6.67413697e-02  4.66946214e-02\n",
            "  2.24977508e-02 -3.10534406e-02 -4.84726578e-02  2.42308527e-02\n",
            "  4.52554077e-02 -7.47711360e-02 -1.74177811e-02  5.13005257e-02\n",
            "  4.41571698e-02 -3.86582054e-02  2.10704822e-02 -2.97523886e-02\n",
            "  1.76903363e-02  1.50471472e-03  1.12264790e-02  4.78852587e-03\n",
            "  5.08275889e-02 -2.96294386e-03  1.56079680e-02  2.18498195e-03\n",
            "  9.85092483e-03  5.60277924e-02  1.87824797e-02 -2.16085427e-02\n",
            "  1.23488959e-02 -4.15711999e-02  1.54532669e-02 -5.75377792e-02\n",
            "  8.87212902e-02 -3.72827277e-02  3.86483893e-02  1.30373180e-01\n",
            "  1.78318247e-02 -1.61398258e-02  7.44325574e-04 -5.18040638e-03\n",
            " -1.74267013e-02 -1.63583457e-02 -4.11667377e-02  9.23324078e-02\n",
            "  3.41054685e-02 -6.86230324e-03  7.69667625e-02  5.14887944e-02\n",
            "  2.32511945e-02  2.86040455e-02 -8.15863535e-03  1.48656825e-02\n",
            " -7.49552273e-05 -1.28866658e-02  8.07741843e-03 -1.86858755e-02\n",
            "  1.36685707e-02 -7.93651640e-02  2.90936213e-02 -2.99232751e-02\n",
            "  7.55284801e-02  6.05908446e-02  1.63297299e-02  3.86650413e-02\n",
            "  2.61091609e-02  2.36435812e-02 -7.93774873e-02 -2.04176325e-02\n",
            " -8.49682651e-03  7.26469234e-02  5.56631684e-02 -7.89347477e-03\n",
            " -1.10415393e-03 -8.08726326e-02 -6.56967014e-02 -2.33646054e-02\n",
            "  3.25240828e-02  9.03143361e-03  3.31946940e-04 -1.08824000e-02\n",
            "  2.46671177e-02 -3.72173823e-02 -4.29882631e-02 -1.69396624e-02\n",
            "  1.94484703e-02  4.84128036e-02 -9.86043923e-03  7.21079707e-02\n",
            " -3.56610641e-02  5.25855906e-02 -1.96147300e-02 -4.10192907e-02\n",
            " -3.96597013e-02  1.15580680e-02  3.44841294e-02  2.15445776e-02\n",
            "  3.38102840e-02  5.87017722e-02 -7.40663335e-03  5.99620342e-02\n",
            "  1.05915274e-02 -6.64367061e-03  8.28011427e-03 -6.42766058e-02\n",
            " -1.31317237e-02  2.20987927e-02 -5.80721386e-02 -8.36651400e-02\n",
            "  2.37058587e-02  2.65664551e-02 -4.72468324e-02  4.02749293e-02\n",
            "  8.04341491e-03 -5.12858629e-02  1.95043702e-02 -2.89244037e-02\n",
            "  3.30990367e-02 -9.00235176e-02 -4.36119139e-02  1.28525952e-02\n",
            "  5.02156280e-02 -5.05702049e-02 -2.68442538e-02  1.21095893e-03\n",
            " -3.93423662e-02 -3.77055258e-02  2.06061844e-02 -1.02722019e-01\n",
            "  3.42901275e-02  2.69085858e-02  3.29046771e-02  3.49928550e-02\n",
            " -3.74748595e-02  1.20776724e-02 -4.88884114e-02  4.59293462e-02\n",
            " -9.35989432e-03  8.69480744e-02 -8.57043080e-03 -7.20245466e-02\n",
            " -2.61080768e-02 -3.69795859e-02  8.38573370e-03  4.90276329e-02\n",
            "  3.15491371e-02  8.80027132e-04  1.01489045e-01 -4.37142812e-02\n",
            " -5.31288758e-02  4.15667221e-02 -2.97792740e-02 -3.35585140e-02\n",
            "  7.78293982e-02  6.66379556e-02 -2.21266337e-02 -3.76663953e-02\n",
            "  1.04636205e-02  3.48544940e-02 -3.17589156e-02 -5.65827265e-02\n",
            "  4.27955994e-03 -2.90710572e-02 -2.94776191e-03  1.18855443e-02\n",
            " -9.03283060e-03  5.68483435e-02  6.33134767e-02 -3.68654318e-02\n",
            "  4.77935635e-02 -4.69355807e-02 -1.30095184e-02  2.16288306e-02\n",
            " -2.25553345e-02 -3.23940404e-02  1.68353529e-03 -1.03854788e-02\n",
            " -1.46341696e-02  1.24848839e-02 -4.33063805e-02  3.97074707e-02\n",
            " -1.36994105e-02  3.98963597e-03  7.24729747e-02 -1.49368271e-02\n",
            " -8.41168240e-02  3.23026925e-02  2.03399472e-02  3.13770920e-02\n",
            " -3.47871110e-02 -4.65127975e-02  1.06369266e-02 -5.49311265e-02\n",
            "  1.86092164e-02 -3.10125388e-03  4.63133901e-02 -2.23639933e-03\n",
            "  5.43164462e-02 -2.17531342e-04  3.39796990e-02 -2.37574130e-02]\n"
          ]
        }
      ]
    },
    {
      "cell_type": "code",
      "source": [
        "image_path = \"./images/h2.jpg\"\n",
        "cat2 = create_image_embedding(image_path)\n",
        "\n",
        "# 'embedding' now contains a dense vector representation of the image\n",
        "print(\"Image Embedding Shape:\", cat2.shape)\n",
        "print(\"Image Embedding:\", cat2)\n"
      ],
      "metadata": {
        "id": "LnJ8jDc9EUcd",
        "outputId": "dc9f3aa6-b8c9-4b80-98a5-df69d6909eeb",
        "colab": {
          "base_uri": "https://localhost:8080/"
        }
      },
      "execution_count": 9,
      "outputs": [
        {
          "output_type": "stream",
          "name": "stdout",
          "text": [
            "Image Embedding Shape: (512,)\n",
            "Image Embedding: [ 1.13814566e-02 -7.28985667e-02 -5.71957342e-02  6.58370703e-02\n",
            " -1.01623312e-02  2.01909337e-02 -3.05143520e-02  4.81270887e-02\n",
            " -2.39332579e-02  3.57636884e-02 -2.73178499e-02  8.51163715e-02\n",
            " -6.01468682e-02 -9.99861024e-03  4.68154531e-03  3.12321959e-03\n",
            "  4.31235582e-02  1.54663976e-02  2.78118718e-02 -3.18639949e-02\n",
            "  2.82261148e-02  5.76810166e-02  3.15115191e-02  4.66569252e-02\n",
            " -1.40658934e-02  2.68797521e-02  3.81291583e-02  5.22073992e-02\n",
            " -5.70526812e-04  3.67090292e-02 -4.31959629e-02 -5.35456799e-02\n",
            "  5.03084101e-02 -3.16450819e-02  8.54852144e-03  6.20165095e-03\n",
            " -5.01859225e-02  1.25031127e-02  1.52727813e-02 -4.37847758e-03\n",
            "  3.03024575e-02 -1.94665481e-04  1.46541419e-02 -4.69945893e-02\n",
            " -4.81768809e-02  5.23975194e-02 -5.81657747e-03 -9.55133233e-03\n",
            " -4.90938909e-02  4.21601832e-02  4.52677421e-02  5.99188581e-02\n",
            "  2.70609241e-02 -1.70305371e-02 -6.94023669e-02 -1.74068508e-03\n",
            "  2.24639457e-02  8.21097791e-02  3.58989872e-02  2.55799312e-02\n",
            " -5.54192252e-02  5.66699207e-02 -3.28327939e-02 -3.07359155e-02\n",
            " -2.53015421e-02  8.09024945e-02  5.81517704e-02 -4.25169282e-02\n",
            "  6.24658801e-02  1.60504004e-03  2.80576069e-02  1.84036605e-02\n",
            "  4.63699400e-02  4.03664187e-02 -3.67067419e-02  7.28786066e-02\n",
            " -3.07275746e-02 -4.11676988e-02 -4.36652787e-02  9.02838483e-02\n",
            "  4.01066579e-02 -2.02522706e-02  4.87866737e-02  4.60772626e-02\n",
            "  4.05372754e-02 -1.62059721e-02  4.67661954e-02  3.17839310e-02\n",
            " -6.97431713e-02 -1.74232144e-02 -5.32297269e-02 -6.92908186e-04\n",
            "  4.10872735e-02  1.63093582e-02  2.79956218e-02 -1.00246556e-02\n",
            " -2.50001084e-02 -1.98930129e-02 -4.91294451e-02  4.01948020e-02\n",
            "  1.34932026e-02  7.64057692e-03  3.12261190e-02  5.16926162e-02\n",
            "  5.85508905e-02 -1.47187780e-03  3.80275659e-02 -7.61934510e-03\n",
            "  4.82118204e-02 -5.12099601e-02  4.19300282e-04 -1.24824503e-02\n",
            " -1.03586197e-01 -9.07144621e-02 -5.57015929e-03 -8.00029561e-02\n",
            "  3.14221084e-02 -1.39706722e-02  1.93063600e-03  2.51265727e-02\n",
            " -1.90167148e-02  1.19174579e-02 -6.56426325e-02 -5.34453429e-02\n",
            " -2.95234714e-02 -2.65054815e-02 -1.16919298e-02  3.94464023e-02\n",
            " -8.47903918e-03 -4.38528694e-02 -3.82952057e-02  6.00490812e-03\n",
            "  2.60625277e-02 -4.61521633e-02 -1.09660931e-01  2.55781412e-02\n",
            " -2.68991534e-02  6.00040220e-02  6.27657324e-02  8.22538510e-02\n",
            "  3.86146866e-02  2.36138254e-02  7.21191689e-02  4.74557728e-02\n",
            "  2.60716621e-02 -3.45993862e-02 -9.12223756e-02 -2.35972777e-02\n",
            "  1.73130203e-02  5.65259159e-03  3.80684249e-02 -1.88519415e-02\n",
            " -2.13357876e-03  4.15002182e-02 -7.86429085e-03 -6.52467906e-02\n",
            "  2.96075810e-02  4.88425829e-02 -7.27525875e-02 -1.22047998e-02\n",
            "  5.63703701e-02  1.33658778e-02 -3.19560766e-02  7.87416995e-02\n",
            "  1.01887837e-01  6.08781129e-02 -2.48833951e-02 -6.52882978e-02\n",
            " -3.57849486e-02  4.81081232e-02 -2.27979328e-02  1.13996202e-02\n",
            " -5.19977771e-02 -6.22855090e-02  1.06907114e-02 -7.72173097e-03\n",
            "  5.73933050e-02 -5.27971573e-02 -8.12845398e-03 -9.56238806e-03\n",
            " -8.13521296e-02 -4.14010435e-02 -8.50261003e-03  3.00592128e-02\n",
            " -4.33978103e-02 -1.33509310e-02 -3.31583526e-03 -4.41646669e-03\n",
            " -3.10590342e-02  1.42801867e-03  7.06330836e-02  1.10660177e-02\n",
            "  5.39367050e-02 -5.24343625e-02  6.76005185e-02  8.28143302e-03\n",
            "  3.79310362e-02  5.20439595e-02 -5.67439124e-02  8.76678824e-02\n",
            "  9.57200397e-03  1.05632044e-01 -2.02784762e-02 -5.78201786e-02\n",
            "  9.97507945e-03  6.68555647e-02 -2.32699085e-02 -1.38047209e-03\n",
            " -4.68526594e-02  2.73724385e-02  4.00128067e-02  1.89761166e-02\n",
            " -5.14292270e-02  2.22259369e-02 -4.90308106e-02 -1.71710774e-02\n",
            " -5.76245449e-02  3.01563498e-02 -4.61496562e-02  3.18867750e-02\n",
            " -3.96985300e-02 -4.83090356e-02 -7.24699069e-03 -6.36349469e-02\n",
            " -1.95402931e-02 -1.91302337e-02 -3.56372334e-02 -2.09509525e-02\n",
            "  1.01789804e-02  3.46915610e-02  6.93119392e-02 -6.48128521e-03\n",
            " -2.81647108e-02 -7.56756738e-02 -2.02955473e-02 -2.66609974e-02\n",
            "  6.08257838e-02  1.29814190e-03 -9.61359143e-02 -2.71404311e-02\n",
            "  3.81411090e-02 -1.62390899e-02  6.86159134e-02  4.89166230e-02\n",
            "  5.68090379e-02  1.08091481e-01 -1.53858988e-02  1.02749676e-01\n",
            " -1.79440472e-02 -3.41044515e-02 -6.99040852e-03  2.88189631e-02\n",
            "  2.38660481e-02  5.34614287e-02  3.65672149e-02  8.69035441e-03\n",
            "  9.73064825e-03  7.55371340e-03  5.10550514e-02  5.95460497e-02\n",
            "  3.42472717e-02 -2.19197739e-02  1.44541217e-02 -2.67220829e-02\n",
            " -5.53648993e-02 -9.61941187e-05  3.76395546e-02  2.72355676e-02\n",
            "  2.24522385e-03  4.63167727e-02 -5.11662625e-02 -2.51889564e-02\n",
            " -1.26007898e-03  1.28400456e-02  2.35211439e-02 -2.67174449e-02\n",
            " -6.69402480e-02 -3.38344201e-02 -5.15195169e-02 -3.83121185e-02\n",
            "  1.70639884e-02 -6.59363251e-03 -7.16966242e-02 -1.10874087e-01\n",
            " -6.65431991e-02 -2.47349031e-02 -1.08841620e-02  1.31152738e-02\n",
            " -2.56321356e-02 -4.03143130e-02  2.68426593e-02 -5.83889224e-02\n",
            "  5.33809066e-02 -5.36377840e-02 -5.32412417e-02 -6.27610832e-02\n",
            "  1.16964625e-02  1.83291063e-02 -2.41154339e-03  2.62130052e-02\n",
            "  9.31640938e-02 -8.42001066e-02  7.30384514e-02  2.26035481e-03\n",
            " -2.97875376e-03 -6.57935813e-02 -3.54107320e-02 -2.80305874e-02\n",
            "  1.31351063e-02 -8.13151747e-02  4.79242429e-02  1.06953541e-02\n",
            " -3.99951153e-02 -1.10902097e-02 -4.37710807e-03  3.37976776e-02\n",
            " -4.08086553e-02  2.35877261e-02  4.77521755e-02 -1.71713158e-02\n",
            "  4.74900194e-02  4.59550507e-03 -8.44965037e-03  3.37847369e-03\n",
            " -1.82233863e-02  3.15209478e-02  1.93222817e-02 -4.25687209e-02\n",
            "  5.70207238e-02  3.61479819e-02  3.63512263e-02 -2.07112748e-02\n",
            " -4.30456214e-02  5.82750924e-02  6.22235686e-02  6.04078919e-03\n",
            " -2.60109617e-03 -2.64259819e-02 -6.39977455e-02 -8.66682641e-03\n",
            "  8.40365887e-02  9.85031202e-03  3.90073881e-02 -4.16309796e-02\n",
            " -3.10035329e-02 -7.41663650e-02 -7.49335438e-03  5.78493960e-02\n",
            "  2.68173963e-02  1.90113373e-02  7.13582337e-03  2.54109432e-03\n",
            " -6.29040524e-02  9.26325284e-03 -4.28111516e-02  3.61586399e-02\n",
            "  2.64327638e-02  5.42824157e-02 -7.04003498e-02  4.23820503e-02\n",
            " -1.25093171e-02  1.07021250e-01 -7.44301267e-03 -7.63471518e-03\n",
            " -2.52501722e-02  1.82093196e-02  3.61402854e-02  1.81029495e-02\n",
            " -3.05923186e-02 -3.62362228e-02 -3.37264277e-02  4.61705960e-03\n",
            "  1.35795120e-02  1.66686866e-02  5.20993024e-02  2.65852045e-02\n",
            " -6.91284612e-02  1.73410550e-02 -2.51562372e-02  2.21375488e-02\n",
            " -1.92501545e-02  5.66115156e-02 -5.89300729e-02  6.35302365e-02\n",
            "  7.20291138e-02 -2.59456597e-02  6.14018105e-02 -5.85229583e-02\n",
            " -1.88776366e-02 -8.32792651e-03  1.97438858e-02  4.26975600e-02\n",
            " -3.56277898e-02 -9.35776904e-02  1.38173066e-02  1.17018772e-03\n",
            "  1.88377146e-02 -1.86961908e-02  4.69449125e-02  4.95561101e-02\n",
            " -6.50204765e-03  1.98317729e-02  2.00794963e-03  4.96904366e-03\n",
            " -6.66152835e-02 -5.73557941e-03  6.54610023e-02 -6.62066638e-02\n",
            " -3.57993413e-03 -3.74680310e-02 -6.64204825e-03 -8.99725482e-02\n",
            "  8.09858516e-02  4.21622694e-02 -7.21881315e-02 -2.22060028e-02\n",
            "  3.57508510e-02  1.98616292e-02 -3.38334143e-02 -3.30065265e-02\n",
            "  8.19904432e-02  9.67539102e-03 -7.20819877e-03  1.03848372e-02\n",
            " -3.55396047e-02 -6.37622178e-02  9.95409023e-03  3.04202642e-02\n",
            "  5.62343411e-02 -8.86347294e-02  2.93646865e-02  2.57931948e-02\n",
            "  2.59310361e-02  5.16341673e-03 -6.58882484e-02 -3.95134911e-02\n",
            "  1.31637305e-02  5.36219478e-02  2.59553175e-02 -5.12575135e-02\n",
            " -8.19138587e-02  1.15156593e-02 -4.88816947e-03  5.31050861e-02\n",
            " -2.34708376e-02  4.95763533e-02 -5.07541839e-03  3.36713605e-02\n",
            " -7.50282109e-02 -3.96000370e-02  7.53743865e-04  5.12500554e-02\n",
            "  7.74232373e-02 -1.47102093e-02 -1.14517771e-02 -4.14903723e-02\n",
            "  5.46401665e-02  5.44792973e-02  2.95605250e-02  7.71323740e-02\n",
            " -2.25855205e-02 -1.07106548e-02  1.68111920e-03 -3.72441821e-02\n",
            "  8.60813186e-02 -1.32884188e-02 -9.10350010e-02 -2.81498544e-02\n",
            "  1.75906327e-02 -5.36739491e-02  2.74667572e-02  2.29576603e-02\n",
            "  9.08842087e-02 -5.30463159e-02 -7.25215077e-02  3.41087617e-02\n",
            "  9.05182585e-02 -8.84212181e-03  1.35780266e-02  3.79231013e-02\n",
            "  3.03534903e-02 -8.43937788e-03  2.52534002e-02 -2.53297109e-02\n",
            "  6.15033023e-02  3.04687433e-02 -1.01085499e-01 -1.89864321e-03\n",
            "  3.05908918e-03 -2.58611292e-02 -2.90146680e-03 -2.51220353e-02\n",
            "  1.49983214e-02  2.29992885e-02  8.18774402e-02 -8.14727787e-03\n",
            "  6.65764585e-02 -3.96089703e-02 -4.03146856e-02 -2.39463374e-02\n",
            " -2.21076887e-02  7.49988332e-02 -6.29731826e-03  6.26537427e-02\n",
            "  1.77701302e-02 -2.10657399e-02  4.93371449e-02  6.94809407e-02\n",
            " -3.32388803e-02  8.83596167e-02  3.94230615e-03 -1.01340048e-01]\n"
          ]
        }
      ]
    },
    {
      "cell_type": "code",
      "source": [
        "a1 = create_image_embedding(\"./images/a1.jpg\")\n",
        "a2 = create_image_embedding(\"./images/a2.jpg\")\n",
        "h1 = create_image_embedding(\"./images/h1.jpg\")\n",
        "h2 = create_image_embedding(\"./images/h2.jpg\")\n",
        "m1 = create_image_embedding(\"./images/m1.jpg\")\n",
        "m2 = create_image_embedding(\"./images/m2.jpg\")"
      ],
      "metadata": {
        "id": "2V7Cmi4v1DsW"
      },
      "execution_count": 10,
      "outputs": []
    },
    {
      "cell_type": "code",
      "source": [
        "!pip install -Uq milvus-lite pymilvus"
      ],
      "metadata": {
        "colab": {
          "base_uri": "https://localhost:8080/"
        },
        "id": "XUxi1pP23J4u",
        "outputId": "3daaeec7-6594-4bfb-8b58-b1a8ccd300e4"
      },
      "execution_count": 11,
      "outputs": [
        {
          "output_type": "stream",
          "name": "stdout",
          "text": [
            "\u001b[2K   \u001b[90m━━━━━━━━━━━━━━━━━━━━━━━━━━━━━━━━━━━━━━━━\u001b[0m \u001b[32m45.2/45.2 MB\u001b[0m \u001b[31m9.2 MB/s\u001b[0m eta \u001b[36m0:00:00\u001b[0m\n",
            "\u001b[2K   \u001b[90m━━━━━━━━━━━━━━━━━━━━━━━━━━━━━━━━━━━━━━━━\u001b[0m \u001b[32m229.9/229.9 kB\u001b[0m \u001b[31m13.2 MB/s\u001b[0m eta \u001b[36m0:00:00\u001b[0m\n",
            "\u001b[2K   \u001b[90m━━━━━━━━━━━━━━━━━━━━━━━━━━━━━━━━━━━━━━━━\u001b[0m \u001b[32m5.9/5.9 MB\u001b[0m \u001b[31m55.2 MB/s\u001b[0m eta \u001b[36m0:00:00\u001b[0m\n",
            "\u001b[2K   \u001b[90m━━━━━━━━━━━━━━━━━━━━━━━━━━━━━━━━━━━━━━━━\u001b[0m \u001b[32m53.6/53.6 kB\u001b[0m \u001b[31m3.5 MB/s\u001b[0m eta \u001b[36m0:00:00\u001b[0m\n",
            "\u001b[?25h"
          ]
        }
      ]
    },
    {
      "cell_type": "code",
      "source": [
        "from pymilvus import MilvusClient\n",
        "client = MilvusClient(\"./milvus_demo.db\")"
      ],
      "metadata": {
        "id": "T0oRd2BQ3dZT"
      },
      "execution_count": 12,
      "outputs": []
    },
    {
      "cell_type": "code",
      "source": [
        "from pymilvus import MilvusClient\n",
        "import numpy as np\n",
        "\n",
        "client = MilvusClient(\"./milvus_demo.db\")\n",
        "client.create_collection(\n",
        "    collection_name=\"images\",\n",
        "    dimension=512  # The vectors we will use in this demo has 384 dimensions\n",
        ")"
      ],
      "metadata": {
        "id": "tGqxqaY83jDP"
      },
      "execution_count": 13,
      "outputs": []
    },
    {
      "cell_type": "code",
      "source": [
        "data = [\n",
        "    {\"id\": 1,\n",
        "     \"person_name\": \"Abdullah\",\n",
        "     \"vector\":a1},\n",
        "    {\"id\": 2,\n",
        "     \"person_name\": \"Abdullah\",\n",
        "     \"vector\":a2},\n",
        "    {\"id\": 3,\n",
        "     \"person_name\": \"Hameed\",\n",
        "     \"vector\": h1},\n",
        "    {\"id\": 4,\n",
        "     \"person_name\": \"Hameed\",\n",
        "     \"vector\": h2},\n",
        "    {\"id\": 5,\n",
        "     \"person_name\": \"Aseem Khan\",\n",
        "     \"vector\":m1},\n",
        "    {\"id\": 6,\n",
        "     \"person_name\": \"Aseem Khan\",\n",
        "     \"vector\": m2}\n",
        "]"
      ],
      "metadata": {
        "id": "gREk-23d3tes"
      },
      "execution_count": 14,
      "outputs": []
    },
    {
      "cell_type": "code",
      "source": [
        "res = client.insert(\n",
        "    collection_name=\"images\",\n",
        "    data=data\n",
        ")"
      ],
      "metadata": {
        "id": "y8q7ukP36Oq7"
      },
      "execution_count": 15,
      "outputs": []
    },
    {
      "cell_type": "code",
      "source": [
        "res = client.search(\n",
        "    collection_name=\"images\",\n",
        "    data=[m1],\n",
        "    limit=1,\n",
        "    output_fields=[\"id\", \"person_name\"],\n",
        ")\n",
        "print(res)\n"
      ],
      "metadata": {
        "colab": {
          "base_uri": "https://localhost:8080/"
        },
        "id": "T66BIE2-6W7g",
        "outputId": "01936995-cdd9-4d14-d0f4-d2699b2f14bf"
      },
      "execution_count": 16,
      "outputs": [
        {
          "output_type": "stream",
          "name": "stdout",
          "text": [
            "data: [\"[{'id': 5, 'distance': 1.0, 'entity': {'person_name': 'Aseem Khan', 'id': 5}}]\"] \n"
          ]
        }
      ]
    },
    {
      "cell_type": "code",
      "source": [
        "a3 = create_image_embedding('./images/a3.jpg')\n",
        "a3"
      ],
      "metadata": {
        "colab": {
          "base_uri": "https://localhost:8080/"
        },
        "id": "Fa_kfaUy9Rlb",
        "outputId": "4db161e5-f21f-48b7-ea3b-a1a2385d6bb7"
      },
      "execution_count": 19,
      "outputs": [
        {
          "output_type": "execute_result",
          "data": {
            "text/plain": [
              "array([ 2.97870785e-02,  9.87742748e-03, -5.34784868e-02,  1.05098285e-01,\n",
              "        4.50614803e-02,  7.42977811e-03, -3.06975935e-02,  1.23910919e-01,\n",
              "       -1.33453067e-02, -3.24687846e-02, -1.39784697e-03,  4.12045196e-02,\n",
              "        5.97762736e-03,  7.70019973e-03,  2.92334650e-02, -8.18400830e-02,\n",
              "       -3.24272811e-02,  1.14411511e-01, -1.73321925e-02,  2.43304018e-02,\n",
              "       -6.03615791e-02,  6.62357509e-02,  2.09483076e-02, -5.54759391e-02,\n",
              "        2.83378754e-02, -5.15483320e-03,  4.70330603e-02,  1.99977923e-02,\n",
              "        4.78630699e-02,  3.24610155e-03,  3.48461531e-02, -7.89483078e-03,\n",
              "       -2.08498500e-02,  1.28581682e-02,  2.66305692e-02, -1.50371147e-02,\n",
              "       -4.59063090e-02,  1.84161179e-02, -4.19828258e-02,  1.10845733e-02,\n",
              "        1.57244727e-02,  1.00553874e-02,  1.90027654e-02, -5.21527342e-02,\n",
              "       -2.03619525e-02, -3.06354165e-02, -5.17996438e-02,  1.37794800e-02,\n",
              "       -7.17916712e-02, -4.55956683e-02, -1.40792392e-02, -4.22603451e-02,\n",
              "        1.17106892e-01,  6.00643605e-02, -6.43882230e-02,  7.19772838e-03,\n",
              "       -5.69900386e-02,  6.64316267e-02, -4.18121964e-02, -6.06356375e-02,\n",
              "       -1.28060719e-02,  3.27300243e-02, -2.26789303e-02,  2.80156881e-02,\n",
              "       -3.74785624e-03, -3.14197056e-02, -2.22760607e-02, -4.22651172e-02,\n",
              "        6.18228093e-02, -2.55306587e-02, -2.61195563e-02,  1.83297396e-02,\n",
              "       -8.47183168e-02, -7.46746883e-02,  7.71605298e-02, -7.47616515e-02,\n",
              "       -1.21822124e-02, -6.28304407e-02,  8.22915882e-03, -3.50495055e-02,\n",
              "        5.11336401e-02,  5.21375909e-02,  2.39463039e-02, -8.02790150e-02,\n",
              "       -1.39372498e-02,  9.44360793e-02,  1.77193340e-03, -3.87006365e-02,\n",
              "       -2.71198805e-02,  1.23644937e-02,  4.96976562e-02,  3.06118745e-02,\n",
              "        3.60802487e-02, -9.75357816e-02,  3.59265767e-02,  5.69291301e-02,\n",
              "        5.69974408e-02, -3.26656029e-02, -8.98730382e-02,  3.02393753e-02,\n",
              "       -5.58798723e-02,  4.31482494e-02,  7.12334588e-02,  4.63966504e-02,\n",
              "       -4.02461784e-03,  7.90124541e-05, -1.80191745e-03,  3.52785364e-02,\n",
              "        9.15365573e-03,  4.27427739e-02,  4.87074442e-02,  4.89688739e-02,\n",
              "       -2.32423171e-02, -3.02573070e-02,  9.01683979e-03, -1.52250575e-02,\n",
              "       -6.76526688e-04,  9.08801407e-02, -1.13411233e-01,  1.61844641e-02,\n",
              "       -6.55708537e-02,  7.24970177e-02, -5.59746695e-04, -2.63469554e-02,\n",
              "       -5.36509492e-02, -1.24387881e-02,  1.66593306e-02, -7.30372295e-02,\n",
              "       -6.90956861e-02, -4.96912077e-02,  4.19841730e-04, -9.65610519e-03,\n",
              "        8.20449293e-02, -3.10648680e-02,  1.35637773e-02,  4.23221923e-02,\n",
              "        4.16782871e-02, -2.04548519e-02,  2.18691062e-02,  4.57313620e-02,\n",
              "       -1.58274677e-02,  2.69774217e-02, -2.99927182e-02,  8.81495997e-02,\n",
              "        4.42837784e-03,  5.13811968e-02, -5.15033491e-02,  3.23712043e-02,\n",
              "        7.93634169e-03, -4.24985252e-02,  2.16953196e-02, -1.25803789e-02,\n",
              "       -7.99839720e-02,  2.14979537e-02,  7.95699432e-02, -1.89160015e-02,\n",
              "       -3.50056449e-03,  3.46880481e-02, -2.90865134e-02,  4.15643007e-02,\n",
              "        7.46430084e-03,  7.51678646e-02,  4.59241867e-02,  2.67468281e-02,\n",
              "       -1.51401721e-02,  7.28224069e-02, -1.20975591e-01, -3.78196910e-02,\n",
              "       -4.99068238e-02,  8.68235752e-02, -6.99721202e-02,  1.27798636e-02,\n",
              "        1.11024212e-02,  4.91596162e-02,  3.96922082e-02,  1.89869888e-02,\n",
              "       -1.73861962e-02, -1.04533760e-02, -1.12876430e-01,  4.88383919e-02,\n",
              "       -3.27003822e-02,  5.86973084e-03, -9.29959957e-03,  1.38965650e-02,\n",
              "        8.14964995e-02, -7.74127245e-03,  5.69164157e-02, -2.46974751e-02,\n",
              "        1.20097220e-01,  2.67878603e-02,  2.71150693e-02,  1.78485569e-02,\n",
              "        3.64823230e-02, -4.97780517e-02, -1.98973087e-03,  6.88235089e-02,\n",
              "       -4.45122011e-02, -1.94136575e-02,  4.58581932e-02, -3.60598750e-02,\n",
              "        7.33480975e-02, -3.22440192e-02,  9.21847206e-03, -3.31118181e-02,\n",
              "        5.63501865e-02,  1.53198829e-02, -1.88067406e-02,  1.75255444e-02,\n",
              "        3.01676756e-03,  4.82722148e-02, -3.76838073e-02, -3.26076709e-02,\n",
              "        3.69246933e-03, -5.37157338e-03, -1.97437331e-02,  4.18494195e-02,\n",
              "        2.22941022e-03,  3.10968440e-02, -6.55201003e-02, -5.55926859e-02,\n",
              "       -4.00507711e-02,  7.52674183e-04, -2.77017038e-02,  5.04835658e-02,\n",
              "        2.29459144e-02,  4.39711288e-02,  7.30141327e-02,  6.04806561e-03,\n",
              "       -1.05714193e-02, -4.47067954e-02,  1.41546717e-02,  4.82334234e-02,\n",
              "        6.66983947e-02, -9.07610208e-02, -4.90245521e-02,  6.21993616e-02,\n",
              "       -5.38103171e-02,  5.26757017e-02,  3.02881394e-02,  1.73015092e-02,\n",
              "       -1.33314878e-01, -3.75306495e-02, -5.30701913e-02,  3.81830963e-03,\n",
              "        3.76065262e-02,  4.94184792e-02,  6.16602749e-02, -5.02281189e-02,\n",
              "       -2.12025177e-02,  9.78292599e-02, -2.37826053e-02,  2.19824370e-02,\n",
              "        3.78480703e-02,  4.29810844e-02,  7.48598874e-02,  8.56741052e-03,\n",
              "        2.58377548e-02,  1.48072010e-02, -2.22019497e-02,  3.17317690e-03,\n",
              "        4.09045704e-02,  2.31417045e-02,  2.24969592e-02, -7.17276111e-02,\n",
              "       -1.80799440e-02, -6.89775273e-02, -5.29910550e-02,  4.35311049e-02,\n",
              "       -5.09474128e-02, -2.46993657e-02, -5.79489246e-02,  8.75889603e-03,\n",
              "        3.79904844e-02, -1.40531128e-02,  6.12873174e-02,  1.66970044e-02,\n",
              "        6.79046893e-03, -8.36812332e-02,  4.67468947e-02,  6.81538209e-02,\n",
              "       -2.09351368e-02,  2.34621130e-02, -9.89832878e-02, -2.38893162e-02,\n",
              "       -7.17769414e-02,  1.34975277e-02,  4.54957075e-02,  7.05833361e-02,\n",
              "       -2.74174660e-02,  1.21354088e-02, -3.15393917e-02, -8.45475569e-02,\n",
              "        5.94145656e-02,  3.77294756e-02,  3.72127770e-03, -4.51525636e-02,\n",
              "       -1.02860313e-02, -1.28722461e-02, -3.34751755e-02,  9.56649613e-03,\n",
              "        1.27693629e-02,  1.12706292e-02,  3.22817564e-02,  1.87605992e-02,\n",
              "        4.84420322e-02, -3.64474989e-02, -1.14106862e-02, -2.41389871e-03,\n",
              "       -5.74715845e-02,  9.82890930e-03, -2.48107556e-02,  1.16432585e-01,\n",
              "        4.53562401e-02,  1.05884641e-01,  9.77142006e-02,  8.22420344e-02,\n",
              "        3.67074795e-02, -6.39223168e-03,  6.85796235e-03, -1.86844799e-03,\n",
              "        7.84901306e-02, -6.32552132e-02,  2.18640603e-02,  6.77734539e-02,\n",
              "        1.15650855e-02, -1.77846141e-02, -6.65691728e-03, -5.69790555e-03,\n",
              "       -2.15401626e-04, -1.48654114e-02,  1.59232933e-02,  1.81092378e-02,\n",
              "        1.22810416e-02,  2.45164223e-02, -2.30776859e-05,  8.11573192e-02,\n",
              "        6.31869631e-03,  4.68037054e-02, -6.02192245e-03, -3.34271528e-02,\n",
              "        4.41050939e-02, -1.56359263e-02,  6.43061614e-03,  8.17900989e-03,\n",
              "        4.67843600e-02, -4.54496704e-02,  2.32709385e-02,  1.01681650e-01,\n",
              "        4.46811272e-03, -2.27337088e-02, -7.44031221e-02,  2.74476614e-02,\n",
              "        5.81617886e-03, -1.27754621e-02,  2.03855578e-02,  4.06052768e-02,\n",
              "        3.21005695e-02, -2.63556857e-02,  4.62346151e-02,  1.88000482e-02,\n",
              "        3.69334891e-02,  6.38937904e-03, -1.58535428e-02,  3.08291949e-02,\n",
              "       -1.10198064e-02,  1.69007070e-02, -4.14212756e-02,  2.31823958e-02,\n",
              "        7.73713291e-02, -1.86387897e-02,  6.94738189e-03, -5.22781573e-02,\n",
              "        5.30079231e-02, -4.22118790e-03, -5.74036911e-02,  6.37333468e-02,\n",
              "       -1.34294527e-02,  4.91071343e-02,  5.76953031e-03, -5.45546599e-02,\n",
              "       -1.68758780e-02,  2.91483179e-02,  5.81763647e-02, -3.61969285e-02,\n",
              "        3.14951353e-02, -7.70419911e-02, -5.81635535e-03, -2.11131275e-02,\n",
              "        5.93112297e-02, -2.68209763e-02, -1.13258278e-02,  3.52082588e-02,\n",
              "       -2.92013423e-03, -1.24387378e-02, -2.56384350e-02,  1.27727306e-02,\n",
              "        1.55344717e-02,  1.10425316e-01,  2.30074413e-02,  3.71441692e-02,\n",
              "       -3.32227424e-02,  2.56388485e-02, -1.20036257e-02, -1.22886477e-02,\n",
              "        1.12781236e-02,  1.76700782e-02, -6.25703782e-02, -2.07224675e-02,\n",
              "        3.53154689e-02, -7.10244244e-03,  1.96382087e-02,  3.15043554e-02,\n",
              "        1.19451329e-03, -6.93769306e-02, -4.76599159e-03, -4.01830636e-02,\n",
              "        2.06032954e-02, -2.42591351e-02,  5.39786322e-03, -1.01498276e-01,\n",
              "        7.84228444e-02,  2.18812097e-02, -2.17770785e-02,  6.88790306e-02,\n",
              "       -1.07456492e-02, -4.15493809e-02,  5.39451931e-03, -2.50761751e-02,\n",
              "        2.91812676e-03, -7.36376196e-02, -5.71114495e-02,  1.92181226e-02,\n",
              "       -5.95869962e-03, -5.75815924e-02,  1.57624856e-02, -2.65595391e-02,\n",
              "       -3.35735083e-02, -1.07904762e-01, -4.20497358e-02, -6.34172037e-02,\n",
              "       -2.26580184e-02, -3.31563619e-03, -4.09730934e-02,  5.00680283e-02,\n",
              "       -4.84053493e-02,  5.55307046e-03, -3.42803709e-02,  5.04525285e-03,\n",
              "       -5.79211162e-03,  1.33019825e-03, -1.52832468e-03, -3.03878393e-02,\n",
              "       -2.98781302e-02, -1.54191395e-02,  4.63609807e-02,  2.55847163e-02,\n",
              "        1.63161419e-02,  5.35050966e-03,  5.47132939e-02, -2.52793245e-02,\n",
              "        3.50922830e-02,  1.00158766e-01, -1.36687588e-02,  7.33923051e-04,\n",
              "        1.78828109e-02,  6.98012039e-02,  4.28138077e-02, -8.40534642e-02,\n",
              "        2.54126359e-02,  5.04893251e-02, -1.18373446e-02, -2.71225888e-02,\n",
              "       -2.56755669e-02, -5.09180203e-02, -9.94943175e-03,  1.98798217e-02,\n",
              "       -2.96208393e-02,  1.20990612e-02,  4.07314412e-02, -7.98968878e-03,\n",
              "       -4.98845242e-04, -2.62213638e-03,  4.59610065e-03, -1.39845113e-04,\n",
              "       -6.14190893e-03, -4.65429686e-02, -1.29499165e-02, -4.55907360e-03,\n",
              "       -3.12444344e-02, -1.71249485e-04, -1.08405445e-02, -1.98076665e-02,\n",
              "       -2.81664487e-02, -1.72022134e-02,  6.60648718e-02, -6.73203617e-02,\n",
              "        4.09786450e-03, -7.67026842e-03, -1.31870238e-02,  4.00998741e-02,\n",
              "        1.57955736e-02, -4.18892913e-02, -1.85312647e-02, -6.67292774e-02,\n",
              "       -4.18229820e-03,  7.71410065e-03,  1.81187280e-02,  1.36048552e-02,\n",
              "        5.27691916e-02, -3.98705825e-02, -4.33577597e-03, -3.26773897e-02],\n",
              "      dtype=float32)"
            ]
          },
          "metadata": {},
          "execution_count": 19
        }
      ]
    },
    {
      "cell_type": "code",
      "source": [
        "res = client.search(\n",
        "    collection_name=\"images\",\n",
        "    data=[a3],\n",
        "    limit=2,\n",
        "    output_fields=[\"id\", \"person_name\"],\n",
        ")\n",
        "print(res)\n",
        ""
      ],
      "metadata": {
        "colab": {
          "base_uri": "https://localhost:8080/"
        },
        "id": "EEBgduv597f8",
        "outputId": "ef68ae5c-239f-44b3-c3d2-70797b2d9112"
      },
      "execution_count": 21,
      "outputs": [
        {
          "output_type": "stream",
          "name": "stdout",
          "text": [
            "data: [\"[{'id': 2, 'distance': 0.622202455997467, 'entity': {'person_name': 'Abdullah', 'id': 2}}, {'id': 1, 'distance': 0.2795482277870178, 'entity': {'person_name': 'Abdullah', 'id': 1}}]\"] \n"
          ]
        }
      ]
    }
  ]
}